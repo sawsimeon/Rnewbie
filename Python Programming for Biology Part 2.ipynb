{
 "cells": [
  {
   "cell_type": "code",
   "execution_count": 1,
   "metadata": {
    "collapsed": true
   },
   "outputs": [],
   "source": [
    "import os"
   ]
  },
  {
   "cell_type": "code",
   "execution_count": 2,
   "metadata": {
    "collapsed": true
   },
   "outputs": [],
   "source": [
    "def removeFiles(directory, suffix):\n",
    "    dirfiles = os.listdir(directory)\n",
    "    \n",
    "    for dirfile in dirfiles:\n",
    "        fullfile = os.path.join(directory, dirfile)\n",
    "        \n",
    "        if os.path.isdir(fullfile):\n",
    "            # fullfile is a directory, so recurse into that\n",
    "            removeFiles(fullfile, suffix)\n",
    "        elif dirfile.endswith(suffix):\n",
    "            # fullfile is a normal file, and with correct suffix\n",
    "            os.remove(fullfile)"
   ]
  },
  {
   "cell_type": "code",
   "execution_count": 76,
   "metadata": {
    "collapsed": false
   },
   "outputs": [],
   "source": [
    "class Molecule:\n",
    "    def __init__(self, name):\n",
    "        if not name:\n",
    "            raise Exception('name must be set to something')\n",
    "        self.name = name\n",
    "    def getName(self):\n",
    "        return self.name\n",
    "    def getCapitalisedName(self):\n",
    "        name = self.getName()\n",
    "        return name.capitalize()\n",
    "class Protein(Molecule):\n",
    "    \n",
    "    \n",
    "    \n",
    "    def __init__(self, name, sequence):\n",
    "        Molecule.__init__(self, name)\n",
    "        self.aminoAcids= []\n",
    "        \n",
    "        for code in sequence:\n",
    "            aminoAcid = AminoAcid(code)\n",
    "            self.aminoAcids.append(aminoAcid)\n",
    "            \n",
    "    def getAminoAcids(self):\n",
    "        return self.aminoAcids\n",
    "    def getSequence(self):\n",
    "        return [aminoAcid.code for aminoAcid in self.aminoAcids]\n",
    "    def getMass(self):\n",
    "        mass = 18.02 # N-terminus H and C-terminus OH\n",
    "        aminoAcids = self.getAminoAcids()\n",
    "        for aminoAcid in aminoAcids:\n",
    "            mass += aminoAcid.getMass()\n",
    "        return mass\n",
    "    \n",
    "    def getDescriptors(self):\n",
    "        result = []\n",
    "        aminoAcids = self.getSequence()\n",
    "        for i in aminoAcids:\n",
    "            descriptors = massDict[i]\n",
    "            result.append(descriptors)\n",
    "        return result\n",
    "    \n",
    "class  AminoAcid:\n",
    "    massDict = { \"A\": [0.07, -1.73, 0.09], \"R\": [2.88, 2.57, -3.44], \"N\": [3.22, 1.45, 0.84], \"D\": [3.64, 1.13, 2.36],\n",
    "            \"C\": [0.71, -0.97, 4.13], \"Q\": [2.18, 0.53, -1.14], \"E\": [3.08, 0.39, -0.07], \"G\": [2.23, -5.36, 0.30],\n",
    "            \"H\": [2.41, 1.71, 1.11], \"I\": [-4.44, -1.68, -1.03], \"L\": [-4.19, -1.03, -0.98], \"K\": [2.84, 1.41, -3.14],\n",
    "            \"M\": [-2.49, -0.27, -0.41], \"F\": [-4.92, 1.30, 0.45], \"P\": [-1.22, 0.88, 2.23], \"S\": [1.96, -1.63, 0.57],\n",
    "            \"T\": [0.92, -2.09, -1.40], \"W\": [-4.75, 3.65, 0.85], \"Y\": [-1.39, 2.32, 0.01], \"V\": [-2.69, -2.53, -1.29]}\n",
    "    acceptableCodes = set(massDict.keys())\n",
    "    def __init__(self, code):\n",
    "        if code not in self.acceptableCodes:\n",
    "            text = 'code = \"%s\", must be in list %s'\n",
    "            raise Exception(text % (code, sorted(self.acceptableCodes)))\n",
    "        self.code = code\n",
    "        \n",
    "    def getMass(self):\n",
    "        return self.massDict[self.code]\n",
    "    \n",
    "    def getDescriptors(self):\n",
    "        return self.massDict[self.code]\n",
    "        \n",
    "    \n",
    "    \n",
    "    \n"
   ]
  },
  {
   "cell_type": "code",
   "execution_count": 77,
   "metadata": {
    "collapsed": false
   },
   "outputs": [
    {
     "name": "stdout",
     "output_type": "stream",
     "text": [
      "protein attributes\n",
      "protein name =  Fictitious\n",
      "protein amino acids = [<__main__.AminoAcid object at 0x104636400>, <__main__.AminoAcid object at 0x104636518>, <__main__.AminoAcid object at 0x104636550>, <__main__.AminoAcid object at 0x104636588>, <__main__.AminoAcid object at 0x1046365f8>, <__main__.AminoAcid object at 0x1046365c0>, <__main__.AminoAcid object at 0x104636630>]\n"
     ]
    }
   ],
   "source": [
    "myProtein = Protein(\"Fictitious\", 'MPKAILV')\n",
    "print('protein attributes')\n",
    "print('protein name = ', myProtein.name)\n",
    "print('protein amino acids =', myProtein.aminoAcids)"
   ]
  },
  {
   "cell_type": "code",
   "execution_count": 78,
   "metadata": {
    "collapsed": false
   },
   "outputs": [
    {
     "name": "stdout",
     "output_type": "stream",
     "text": [
      "protein function calls\n",
      "protein name = Fictitious\n",
      "protein amino acids = [<__main__.AminoAcid object at 0x104636400>, <__main__.AminoAcid object at 0x104636518>, <__main__.AminoAcid object at 0x104636550>, <__main__.AminoAcid object at 0x104636588>, <__main__.AminoAcid object at 0x1046365f8>, <__main__.AminoAcid object at 0x1046365c0>, <__main__.AminoAcid object at 0x104636630>]\n",
      "protein sequence = ['M', 'P', 'K', 'A', 'I', 'L', 'V']\n",
      "protein mass =  <bound method Protein.getMass of <__main__.Protein object at 0x104636358>>\n",
      "protein descriptors =  [[-2.49, -0.27, -0.41], [-1.22, 0.88, 2.23], [2.84, 1.41, -3.14], [0.07, -1.73, 0.09], [-4.44, -1.68, -1.03], [-4.19, -1.03, -0.98], [-2.69, -2.53, -1.29]]\n"
     ]
    }
   ],
   "source": [
    "print('protein function calls')\n",
    "print('protein name =', myProtein.getName())\n",
    "print('protein amino acids =', myProtein.getAminoAcids())\n",
    "print('protein sequence =', myProtein.getSequence())\n",
    "print('protein mass = ', myProtein.getMass)\n",
    "print('protein descriptors = ', myProtein.getDescriptors())"
   ]
  },
  {
   "cell_type": "code",
   "execution_count": 8,
   "metadata": {
    "collapsed": false
   },
   "outputs": [
    {
     "data": {
      "text/plain": [
       "6084.02"
      ]
     },
     "execution_count": 8,
     "metadata": {},
     "output_type": "execute_result"
    }
   ],
   "source": [
    "myProtein.getMass()"
   ]
  },
  {
   "cell_type": "code",
   "execution_count": 70,
   "metadata": {
    "collapsed": true
   },
   "outputs": [],
   "source": [
    "massDict = { \"A\": [0.07, -1.73, 0.09], \"R\": [2.88, 2.57, -3.44], \"N\": [3.22, 1.45, 0.84], \"D\": [3.64, 1.13, 2.36],\n",
    "            \"C\": [0.71, -0.97, 4.13], \"Q\": [2.18, 0.53, -1.14], \"E\": [3.08, 0.39, -0.07], \"G\": [2.23, -5.36, 0.30],\n",
    "            \"H\": [2.41, 1.71, 1.11], \"I\": [-4.44, -1.68, -1.03], \"L\": [-4.19, -1.03, -0.98], \"K\": [2.84, 1.41, -3.14],\n",
    "            \"M\": [-2.49, -0.27, -0.41], \"F\": [-4.92, 1.30, 0.45], \"P\": [-1.22, 0.88, 2.23], \"S\": [1.96, -1.63, 0.57],\n",
    "            \"T\": [0.92, -2.09, -1.40], \"W\": [-4.75, 3.65, 0.85], \"Y\": [-1.39, 2.32, 0.01], \"V\": [-2.69, -2.53, -1.29]}"
   ]
  },
  {
   "cell_type": "code",
   "execution_count": 71,
   "metadata": {
    "collapsed": false
   },
   "outputs": [],
   "source": [
    "good = []\n",
    "amino = \"AAAACCHHPY\"\n",
    "amino_list = [c for c in amino]\n",
    "for i in amino_list:\n",
    "    result = massDict[i]\n",
    "    good.append(result)\n"
   ]
  },
  {
   "cell_type": "code",
   "execution_count": 72,
   "metadata": {
    "collapsed": false
   },
   "outputs": [
    {
     "data": {
      "text/plain": [
       "[[0.07, -1.73, 0.09],\n",
       " [0.07, -1.73, 0.09],\n",
       " [0.07, -1.73, 0.09],\n",
       " [0.07, -1.73, 0.09],\n",
       " [0.71, -0.97, 4.13],\n",
       " [0.71, -0.97, 4.13],\n",
       " [2.41, 1.71, 1.11],\n",
       " [2.41, 1.71, 1.11],\n",
       " [-1.22, 0.88, 2.23],\n",
       " [-1.39, 2.32, 0.01]]"
      ]
     },
     "execution_count": 72,
     "metadata": {},
     "output_type": "execute_result"
    }
   ],
   "source": [
    "good"
   ]
  },
  {
   "cell_type": "code",
   "execution_count": 79,
   "metadata": {
    "collapsed": false
   },
   "outputs": [
    {
     "data": {
      "text/plain": [
       "[[-2.49, -0.27, -0.41],\n",
       " [-1.22, 0.88, 2.23],\n",
       " [2.84, 1.41, -3.14],\n",
       " [0.07, -1.73, 0.09],\n",
       " [-4.44, -1.68, -1.03],\n",
       " [-4.19, -1.03, -0.98],\n",
       " [-2.69, -2.53, -1.29]]"
      ]
     },
     "execution_count": 79,
     "metadata": {},
     "output_type": "execute_result"
    }
   ],
   "source": [
    "myProtein.getDescriptors()"
   ]
  },
  {
   "cell_type": "markdown",
   "metadata": {},
   "source": [
    "## Page 129 of 821"
   ]
  },
  {
   "cell_type": "code",
   "execution_count": null,
   "metadata": {
    "collapsed": true
   },
   "outputs": [],
   "source": []
  }
 ],
 "metadata": {
  "kernelspec": {
   "display_name": "Python 3",
   "language": "python",
   "name": "python3"
  },
  "language_info": {
   "codemirror_mode": {
    "name": "ipython",
    "version": 3
   },
   "file_extension": ".py",
   "mimetype": "text/x-python",
   "name": "python",
   "nbconvert_exporter": "python",
   "pygments_lexer": "ipython3",
   "version": "3.5.1"
  }
 },
 "nbformat": 4,
 "nbformat_minor": 0
}
