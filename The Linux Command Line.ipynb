{
 "cells": [
  {
   "cell_type": "code",
   "execution_count": 1,
   "metadata": {
    "collapsed": false
   },
   "outputs": [
    {
     "name": "stdout",
     "output_type": "stream",
     "text": [
      "Fri May 27 12:17:44 ICT 2016\r\n"
     ]
    }
   ],
   "source": [
    "date"
   ]
  },
  {
   "cell_type": "code",
   "execution_count": 2,
   "metadata": {
    "collapsed": false
   },
   "outputs": [
    {
     "name": "stdout",
     "output_type": "stream",
     "text": [
      "      May 2016\r\n",
      "Su Mo Tu We Th Fr Sa\r\n",
      " 1  2  3  4  5  6  7\r\n",
      " 8  9 10 11 12 13 14\r\n",
      "15 16 17 18 19 20 21\r\n",
      "22 23 24 25 26 27 28\r\n",
      "29 30 31\r\n",
      "\r\n"
     ]
    }
   ],
   "source": [
    "cal"
   ]
  },
  {
   "cell_type": "code",
   "execution_count": 3,
   "metadata": {
    "collapsed": false
   },
   "outputs": [
    {
     "name": "stdout",
     "output_type": "stream",
     "text": [
      "Filesystem    512-blocks       Used Available Capacity   iused     ifree %iused  Mounted on\r\n",
      "/dev/disk0s2  1951845952 1049658896 901675056    54% 131271360 112709382   54%   /\r\n",
      "devfs                365        365         0   100%       632         0  100%   /dev\r\n",
      "map -hosts             0          0         0   100%         0         0  100%   /net\r\n",
      "map auto_home          0          0         0   100%         0         0  100%   /home\r\n",
      "/dev/disk1s1    15605888    8880944   6724944    57%         0         0  100%   /Volumes/ZEROWORK\r\n"
     ]
    }
   ],
   "source": [
    "df"
   ]
  },
  {
   "cell_type": "code",
   "execution_count": 4,
   "metadata": {
    "collapsed": false
   },
   "outputs": [
    {
     "name": "stdout",
     "output_type": "stream",
     "text": [
      "/Users/saw/Downloads\r\n"
     ]
    }
   ],
   "source": [
    "pwd"
   ]
  },
  {
   "cell_type": "code",
   "execution_count": 5,
   "metadata": {
    "collapsed": false
   },
   "outputs": [
    {
     "name": "stdout",
     "output_type": "stream",
     "text": [
      "20news-bydate.tar\r\n",
      "9788132217794-c1.pdf\r\n",
      "AChE.txt\r\n",
      "AChE_descriptors.csv\r\n",
      "AChE_descriptors.csv.log\r\n",
      "AChE_smiles.sdf\r\n",
      "Anaconda3-4.0.0-MacOSX-x86_64.pkg\r\n",
      "Bash Pocket Reference, 2nd Edition.pdf\r\n",
      "Bike-Sharing-Dataset\r\n",
      "Bioinformatics with Python Cookbook.pdf\r\n",
      "Building Dynamic Web 2.0 Websites with Ruby on Rails.pdf\r\n",
      "Building Machine Learning Systems with Python, 2nd Edition.pdf\r\n",
      "Calculating_CTD_Descriptors.R\r\n",
      "Ch2-Curcumin-preprint.pdf\r\n",
      "Computer Science Programming Basics in Ruby.pdf\r\n",
      "Computer-Aided Drug Design of Bioactive Natural Products.pdf\r\n",
      "Data Wrangling with Python.pdf\r\n",
      "DockerToolbox-1.11.1.pkg\r\n",
      "Example Exercise with Iris Data Set.ipynb\r\n",
      "Extending proteochemometric modeling for unraveling the sorption behavior of compound-soil interaction.pdf\r\n",
      "High Performance Python.pdf\r\n",
      "Introduction to PySpark.ipynb\r\n",
      "Learning Ruby.pdf\r\n",
      "License_exp_2017-08-26.cxl\r\n",
      "MacPorts-2.3.3\r\n",
      "MacPorts-2.3.3.tar.bz2\r\n",
      "MacPorts-2.3.4-10.11-ElCapitan.pkg\r\n",
      "Machine learning with spark.ipynb\r\n",
      "Mastering Machine Learning with scikit-learn.ipynb\r\n",
      "Mastering Machine Learning with scikit-learn.pdf\r\n",
      "Mastering Pandas.pdf\r\n",
      "Merged PDF (Nantasenamat).pdf\r\n",
      "Oligomerization-SAW.xlsx\r\n",
      "Oligomerization.fasta\r\n",
      "PaDEL-Descriptor\r\n",
      "PaDEL-Descriptor.zip\r\n",
      "Python 3 Object-Oriented Programming, 2nd Edition.pdf\r\n",
      "Python 3 Text Processing with NLTK 3 Cookbook.pdf\r\n",
      "Python 3 for Absolute Beginners.pdf\r\n",
      "Python Cookbook.ipynb\r\n",
      "Python Data Visualization, 2nd edition.pdf\r\n",
      "Python Data Visualization.ipynb\r\n",
      "QSAR-in-R.ipynb\r\n",
      "RRDKit-master\r\n",
      "RStudio for R Statistical Computing Cookbook.pdf\r\n",
      "Ruby Best Practices.pdf\r\n",
      "Ruby Cookbook, 2nd Edition.pdf\r\n",
      "Ruby Cookbook.pdf\r\n",
      "Ruby Pocket Reference, 2nd Edition.pdf\r\n",
      "Ruby Wizardry.ipynb\r\n",
      "Ruby Wizardry.pdf\r\n",
      "Ruby and MongoDB Web Development.pdf\r\n",
      "Scala Data Analysis Cookbook.pdf\r\n",
      "Smiles_Jupyter.sdf\r\n",
      "Smiles_Jupyter.smi\r\n",
      "Spark for Python Developers.pdf\r\n",
      "Standardizer.xml\r\n",
      "StudentData.csv\r\n",
      "The Book of Ruby.pdf\r\n",
      "The Linux Command Line (A complete Introduction).ipynb\r\n",
      "The Linux Command Line.pdf\r\n",
      "The Ruby Programming Language.pdf\r\n",
      "Think Python.ipynb\r\n",
      "Think Python.pdf\r\n",
      "Think Stats, 2nd Edition.pdf\r\n",
      "Unraveling the origin of splice switching activity of hemoglobin beta-globin gene modulators via QSAR modeling.pdf\r\n",
      "WWWusage.csv\r\n",
      "Web Scraping with Python-2.pdf\r\n",
      "Web Scraping with Python.pdf\r\n",
      "attachment.pdf\r\n",
      "bash_profile\r\n",
      "cline2007.pdf\r\n",
      "cmake-3.5.2-Darwin-x86_64.dmg\r\n",
      "conda-rdkit\r\n",
      "corrected\r\n",
      "daily_show.tsv\r\n",
      "data\r\n",
      "data.xlsx\r\n",
      "descriptors_output_file.csv\r\n",
      "fingerprint\r\n",
      "fingerprint_3.5.2.tar\r\n",
      "hdac.R\r\n",
      "iQSAR-2.html\r\n",
      "iQSAR-2.ipynb\r\n",
      "iQSAR-Copy1.ipynb\r\n",
      "iQSAR.html\r\n",
      "iQSAR.ipynb\r\n",
      "iQSAR.tex\r\n",
      "iQSAR_files\r\n",
      "incubator-toree\r\n",
      "iris.xls\r\n",
      "jcc23708.pdf\r\n",
      "jdk-8u91-macosx-x64.dmg\r\n",
      "jupyter-nodejs-1.1.0.tar\r\n",
      "jupyter-scala_2.11.6-0.2.0-SNAPSHOT\r\n",
      "jupyter-scala_2.11.6-0.2.0-SNAPSHOT.tar.xz\r\n",
      "kddcup.data.corrected\r\n",
      "kddcup.data_10_percent_corrected\r\n",
      "lfw\r\n",
      "lfw-a.tar\r\n",
      "mactex-20150613.pkg\r\n",
      "ml-100k\r\n",
      "ml-100k.zip\r\n",
      "mnist\r\n",
      "node-v4.4.5-2.pkg\r\n",
      "node-v4.4.5.pkg\r\n",
      "npm-debug.log\r\n",
      "oligomerizations_CTD.csv\r\n",
      "osx-64_nodejs-4.4.0-0\r\n",
      "osx-64_nodejs-4.4.0-0.tar.bz2\r\n",
      "output-2.pdf\r\n",
      "output-3.pdf\r\n",
      "output.pdf\r\n",
      "package\r\n",
      "pandoc-1.17.0.2-osx.pkg\r\n",
      "peerj-1979-2-rebuttal-1.docx\r\n",
      "peerj-1979.pdf\r\n",
      "peerj-preprints-922.pdf\r\n",
      "peerj-review-1979-1-1.pdf\r\n",
      "peerj-reviewing-10436-v0.pdf\r\n",
      "protein1.fasta\r\n",
      "proteochemometric-modeling-human.pdf\r\n",
      "rcdk\r\n",
      "rcdk_3.3.2.tar\r\n",
      "scala-2.11.8.tar\r\n",
      "scikit-learn Cookbook.pdf\r\n",
      "smsspamcollection\r\n",
      "spark-1.4.1-bin-hadoop2.6\r\n",
      "spark-1.4.1-bin-hadoop2.6.tar\r\n",
      "spark-kernel-master\r\n",
      "train.tsv\r\n",
      "whatever.csv\r\n",
      "whatever.csv.log\r\n"
     ]
    }
   ],
   "source": [
    "ls"
   ]
  },
  {
   "cell_type": "code",
   "execution_count": 6,
   "metadata": {
    "collapsed": false
   },
   "outputs": [
    {
     "name": "stdout",
     "output_type": "stream",
     "text": []
    }
   ],
   "source": [
    "cd /usr/bin"
   ]
  },
  {
   "cell_type": "code",
   "execution_count": 7,
   "metadata": {
    "collapsed": false
   },
   "outputs": [
    {
     "name": "stdout",
     "output_type": "stream",
     "text": [
      "/usr/bin\r\n"
     ]
    }
   ],
   "source": [
    "pwd"
   ]
  },
  {
   "cell_type": "code",
   "execution_count": 8,
   "metadata": {
    "collapsed": false
   },
   "outputs": [
    {
     "name": "stdout",
     "output_type": "stream",
     "text": [
      "2to3\t\t\t\tmemory_pressure\r\n",
      "2to3-\t\t\t\tmesg\r\n",
      "2to3-2.7\t\t\tmib2c\r\n",
      "2to32.6\t\t\t\tmib2c-update\r\n",
      "BuildStrings\t\t\tmig\r\n",
      "CpMac\t\t\t\tmkbom\r\n",
      "DeRez\t\t\t\tmkdep\r\n",
      "GetFileInfo\t\t\tmkfifo\r\n",
      "MergePef\t\t\tmklocale\r\n",
      "MvMac\t\t\t\tmktemp\r\n",
      "ResMerger\t\t\tmmroff\r\n",
      "Rez\t\t\t\tmnthome\r\n",
      "RezDet\t\t\t\tmoo-outdated\r\n",
      "RezWack\t\t\t\tmoo-outdated5.18\r\n",
      "SetFile\t\t\t\tmoose-outdated\r\n",
      "SplitForks\t\t\tmoose-outdated5.16\r\n",
      "UnRezWack\t\t\tmoose-outdated5.18\r\n",
      "a2p\t\t\t\tmore\r\n",
      "a2p5.16\t\t\t\tmsgs\r\n",
      "a2p5.18\t\t\t\tnano\r\n",
      "addftinfo\t\t\tnasm\r\n",
      "afconvert\t\t\tnative2ascii\r\n",
      "afhash\t\t\t\tnbdst\r\n",
      "afida\t\t\t\tnc\r\n",
      "afinfo\t\t\t\tncal\r\n",
      "afmtodit\t\t\tncctl\r\n",
      "afplay\t\t\t\tncdestroy\r\n",
      "afscexpand\t\t\tncinit\r\n",
      "agentxtrap\t\t\tnclist\r\n",
      "agvtool\t\t\t\tncurses5.4-config\r\n",
      "alias\t\t\t\tndisasm\r\n",
      "applesingle\t\t\tneqn\r\n",
      "appletviewer\t\t\tnet-server\r\n",
      "apply\t\t\t\tnet-server5.16\r\n",
      "apr-1-config\t\t\tnet-server5.18\r\n",
      "apropos\t\t\t\tnet-snmp-cert\r\n",
      "apt\t\t\t\tnet-snmp-config\r\n",
      "apu-1-config\t\t\tnet-snmp-create-v3-user\r\n",
      "ar\t\t\t\tnettop\r\n",
      "arch\t\t\t\tnewaliases\r\n",
      "as\t\t\t\tnewgrp\r\n",
      "asa\t\t\t\tnewproc.d\r\n",
      "asctl\t\t\t\tnfsstat\r\n",
      "assetutil\t\t\tnice\r\n",
      "at\t\t\t\tnl\r\n",
      "atos\t\t\t\tnm\r\n",
      "atq\t\t\t\tnmedit\r\n",
      "atrm\t\t\t\tnohup\r\n",
      "atsutil\t\t\t\tnotifyutil\r\n",
      "automator\t\t\tnroff\r\n",
      "auval\t\t\t\tnscurl\r\n",
      "auvaltool\t\t\tnslookup\r\n",
      "avbdiagnose\t\t\tnsupdate\r\n",
      "avbutil\t\t\t\tntp-keygen\r\n",
      "avconvert\t\t\tntpq\r\n",
      "avmetareadwrite\t\t\tod\r\n",
      "awk\t\t\t\todutil\r\n",
      "banner\t\t\t\topen\r\n",
      "base64\t\t\t\topendiff\r\n",
      "basename\t\t\topensnoop\r\n",
      "bashbug\t\t\t\topenssl\r\n",
      "batch\t\t\t\torbd\r\n",
      "bc\t\t\t\tosacompile\r\n",
      "bg\t\t\t\tosadecompile\r\n",
      "biff\t\t\t\tosalang\r\n",
      "binhex\t\t\t\tosascript\r\n",
      "binhex.pl\t\t\tostraceutil\r\n",
      "binhex5.18.pl\t\t\totool\r\n",
      "bison\t\t\t\tpack200\r\n",
      "bitesize.d\t\t\tpackage-stash-conflicts\r\n",
      "brctl\t\t\t\tpackage-stash-conflicts5.16\r\n",
      "bsdtar\t\t\t\tpackage-stash-conflicts5.18\r\n",
      "bspatch\t\t\t\tpagesize\r\n",
      "btmmdiagnose\t\t\tpagestuff\r\n",
      "bunzip2\t\t\t\tpar.pl\r\n",
      "bzcat\t\t\t\tpar5.16.pl\r\n",
      "bzcmp\t\t\t\tpar5.18.pl\r\n",
      "bzdiff\t\t\t\tparl\r\n",
      "bzegrep\t\t\t\tparl5.16\r\n",
      "bzfgrep\t\t\t\tparl5.18\r\n",
      "bzgrep\t\t\t\tparldyn\r\n",
      "bzip2\t\t\t\tparldyn5.16\r\n",
      "bzip2recover\t\t\tparldyn5.18\r\n",
      "bzless\t\t\t\tpasswd\r\n",
      "bzmore\t\t\t\tpaste\r\n",
      "c++\t\t\t\tpatch\r\n",
      "c++filt\t\t\t\tpathchk\r\n",
      "c2ph\t\t\t\tpathopens.d\r\n",
      "c2ph5.16\t\t\tpbcopy\r\n",
      "c2ph5.18\t\t\tpbpaste\r\n",
      "c89\t\t\t\tpcap-config\r\n",
      "c99\t\t\t\tpcsctest\r\n",
      "c_rehash\t\t\tperl\r\n",
      "caffeinate\t\t\tperl5.16\r\n",
      "cal\t\t\t\tperl5.18\r\n",
      "calendar\t\t\tperlbug\r\n",
      "cancel\t\t\t\tperlbug5.16\r\n",
      "cap_mkdb\t\t\tperlbug5.18\r\n",
      "captoinfo\t\t\tperldoc\r\n",
      "cc\t\t\t\tperldoc5.16\r\n",
      "cd\t\t\t\tperldoc5.18\r\n",
      "certtool\t\t\tperlivp\r\n",
      "checknr\t\t\t\tperlivp5.16\r\n",
      "chflags\t\t\t\tperlivp5.18\r\n",
      "chfn\t\t\t\tperlthanks\r\n",
      "chgrp\t\t\t\tperlthanks5.16\r\n",
      "chpass\t\t\t\tperlthanks5.18\r\n",
      "chsh\t\t\t\tpfbtops\r\n",
      "cksum\t\t\t\tpgrep\r\n",
      "clang\t\t\t\tphar\r\n",
      "clang++\t\t\t\tphar.phar\r\n",
      "clear\t\t\t\tphp\r\n",
      "cmp\t\t\t\tphp-config\r\n",
      "cmpdylib\t\t\tphpize\r\n",
      "codesign\t\t\tpic\r\n",
      "codesign_allocate\t\tpic2graph\r\n",
      "col\t\t\t\tpico\r\n",
      "colcrt\t\t\t\tpiconv\r\n",
      "colldef\t\t\t\tpiconv5.16\r\n",
      "colrm\t\t\t\tpiconv5.18\r\n",
      "column\t\t\t\tpidpersec.d\r\n",
      "comm\t\t\t\tpkgbuild\r\n",
      "command\t\t\t\tpkill\r\n",
      "compress\t\t\tpl\r\n",
      "config_data\t\t\tpl2pm\r\n",
      "config_data5.16\t\t\tpl2pm5.16\r\n",
      "config_data5.18\t\t\tpl2pm5.18\r\n",
      "corelist\t\t\tplockstat\r\n",
      "corelist5.16\t\t\tpluginkit\r\n",
      "corelist5.18\t\t\tplutil\r\n",
      "cpan\t\t\t\tpmset\r\n",
      "cpan2dist\t\t\tpod2html\r\n",
      "cpan2dist5.16\t\t\tpod2html5.16\r\n",
      "cpan2dist5.18\t\t\tpod2html5.18\r\n",
      "cpan5.16\t\t\tpod2latex\r\n",
      "cpan5.18\t\t\tpod2latex5.16\r\n",
      "cpanp\t\t\t\tpod2latex5.18\r\n",
      "cpanp-run-perl\t\t\tpod2man\r\n",
      "cpanp-run-perl5.16\t\tpod2man5.16\r\n",
      "cpanp-run-perl5.18\t\tpod2man5.18\r\n",
      "cpanp5.16\t\t\tpod2readme\r\n",
      "cpanp5.18\t\t\tpod2readme5.16\r\n",
      "cpio\t\t\t\tpod2readme5.18\r\n",
      "cpp\t\t\t\tpod2text\r\n",
      "cpu_profiler.d\t\t\tpod2text5.16\r\n",
      "cpuwalk.d\t\t\tpod2text5.18\r\n",
      "crc32\t\t\t\tpod2usage\r\n",
      "crc325.16\t\t\tpod2usage5.16\r\n",
      "crc325.18\t\t\tpod2usage5.18\r\n",
      "creatbyproc.d\t\t\tpodchecker\r\n",
      "crlrefresh\t\t\tpodchecker5.16\r\n",
      "crontab\t\t\t\tpodchecker5.18\r\n",
      "csdiagnose\t\t\tpodselect\r\n",
      "csgather\t\t\tpodselect5.16\r\n",
      "csplit\t\t\t\tpodselect5.18\r\n",
      "csreq\t\t\t\tpolicytool\r\n",
      "csrutil\t\t\t\tpost-grohtml\r\n",
      "ctags\t\t\t\tpower_report.sh\r\n",
      "ctf_insert\t\t\tpowermetrics\r\n",
      "cu\t\t\t\tpp\r\n",
      "cups-config\t\t\tpp5.16\r\n",
      "cupstestdsc\t\t\tpp5.18\r\n",
      "cupstestppd\t\t\tppdc\r\n",
      "curl\t\t\t\tppdhtml\r\n",
      "curl-config\t\t\tppdi\r\n",
      "cut\t\t\t\tppdmerge\r\n",
      "cvaffinity\t\t\tppdpo\r\n",
      "cvcp\t\t\t\tpr\r\n",
      "cvmkdir\t\t\t\tpre-grohtml\r\n",
      "cvmkfile\t\t\tpriclass.d\r\n",
      "dappprof\t\t\tpridist.d\r\n",
      "dapptrace\t\t\tprintenv\r\n",
      "darwinup\t\t\tprintf\r\n",
      "db_archive\t\t\tprocsystime\r\n",
      "db_checkpoint\t\t\tproductbuild\r\n",
      "db_codegen\t\t\tproductsign\r\n",
      "db_deadlock\t\t\tprofiles\r\n",
      "db_dump\t\t\t\tprove\r\n",
      "db_hotbackup\t\t\tprove5.16\r\n",
      "db_load\t\t\t\tprove5.18\r\n",
      "db_printlog\t\t\tpsed\r\n",
      "db_recover\t\t\tpsed5.16\r\n",
      "db_stat\t\t\t\tpsed5.18\r\n",
      "db_upgrade\t\t\tpstopdf\r\n",
      "db_verify\t\t\tpstruct\r\n",
      "dbicadmin\t\t\tpstruct5.16\r\n",
      "dbicadmin5.16\t\t\tpstruct5.18\r\n",
      "dbicadmin5.18\t\t\tptar\r\n",
      "dbilogstrip\t\t\tptar5.16\r\n",
      "dbilogstrip5.16\t\t\tptar5.18\r\n",
      "dbilogstrip5.18\t\t\tptardiff\r\n",
      "dbiprof\t\t\t\tptardiff5.16\r\n",
      "dbiprof5.16\t\t\tptardiff5.18\r\n",
      "dbiprof5.18\t\t\tptargrep\r\n",
      "dbiproxy\t\t\tptargrep5.16\r\n",
      "dbiproxy5.16\t\t\tptargrep5.18\r\n",
      "dbiproxy5.18\t\t\tpubsub\r\n",
      "dc\t\t\t\tpwhich\r\n",
      "debinhex.pl\t\t\tpwhich5.16\r\n",
      "debinhex5.18.pl\t\t\tpwhich5.18\r\n",
      "defaults\t\t\tpwpolicy\r\n",
      "desdp\t\t\t\tpydoc\r\n",
      "diff\t\t\t\tpydoc2.6\r\n",
      "diff3\t\t\t\tpydoc2.7\r\n",
      "diffstat\t\t\tpython\r\n",
      "dig\t\t\t\tpython-config\r\n",
      "dirname\t\t\t\tpython2.6\r\n",
      "diskhits\t\t\tpython2.6-config\r\n",
      "dispqlen.d\t\t\tpython2.7\r\n",
      "ditto\t\t\t\tpython2.7-config\r\n",
      "dns-sd\t\t\t\tpythonw\r\n",
      "drutil\t\t\t\tpythonw2.6\r\n",
      "dscacheutil\t\t\tpythonw2.7\r\n",
      "dscl\t\t\t\tqc2movie\r\n",
      "dserr\t\t\t\tqlmanage\r\n",
      "dsexport\t\t\tqtdefaults\r\n",
      "dsimport\t\t\tqtmodernizer\r\n",
      "dsmemberutil\t\t\tquota\r\n",
      "dsymutil\t\t\trails\r\n",
      "dtruss\t\t\t\trake\r\n",
      "du\t\t\t\tranlib\r\n",
      "dwarfdump\t\t\trdoc\r\n",
      "easy_install\t\t\tread\r\n",
      "easy_install-2.6\t\treadlink\r\n",
      "easy_install-2.7\t\trebase\r\n",
      "efax\t\t\t\tredo_prebinding\r\n",
      "efix\t\t\t\trefer\r\n",
      "egrep\t\t\t\trenice\r\n",
      "emacs\t\t\t\treset\r\n",
      "emacs-undumped\t\t\tresolveLinks\r\n",
      "emacsclient\t\t\trev\r\n",
      "enc2xs\t\t\t\tri\r\n",
      "enc2xs5.16\t\t\trlogin\r\n",
      "enc2xs5.18\t\t\trmic\r\n",
      "encode_keychange\t\trmid\r\n",
      "env\t\t\t\trmiregistry\r\n",
      "eqn\t\t\t\trpcgen\r\n",
      "eqn2graph\t\t\trs\r\n",
      "erb\t\t\t\trsh\r\n",
      "errinfo\t\t\t\trsync\r\n",
      "etags\t\t\t\truby\r\n",
      "ex\t\t\t\trunocc.d\r\n",
      "execsnoop\t\t\truptime\r\n",
      "expand\t\t\t\trview\r\n",
      "expect\t\t\t\trvim\r\n",
      "extcheck\t\t\trwbypid.d\r\n",
      "eyapp\t\t\t\trwbytype.d\r\n",
      "eyapp5.16\t\t\trwho\r\n",
      "eyapp5.18\t\t\trwsnoop\r\n",
      "false\t\t\t\ts2p\r\n",
      "fax\t\t\t\ts2p5.16\r\n",
      "fc\t\t\t\ts2p5.18\r\n",
      "fddist\t\t\t\tsample\r\n",
      "fdesetup\t\t\tsampleproc\r\n",
      "fg\t\t\t\tsandbox-exec\r\n",
      "fgrep\t\t\t\tsar\r\n",
      "file\t\t\t\tsay\r\n",
      "filebyproc.d\t\t\tsc_usage\r\n",
      "filtercalltree\t\t\tscandeps.pl\r\n",
      "find\t\t\t\tscandeps5.16.pl\r\n",
      "find2perl\t\t\tscandeps5.18.pl\r\n",
      "find2perl5.16\t\t\tschemagen\r\n",
      "find2perl5.18\t\t\tscp\r\n",
      "findrule\t\t\tscreen\r\n",
      "findrule5.16\t\t\tscript\r\n",
      "findrule5.18\t\t\tsdef\r\n",
      "finger\t\t\t\tsdiff\r\n",
      "fixproc\t\t\t\tsdp\r\n",
      "flex\t\t\t\tsdx\r\n",
      "flex++\t\t\t\tsecurity\r\n",
      "fmt\t\t\t\tsed\r\n",
      "fold\t\t\t\tseeksize.d\r\n",
      "fontrestore\t\t\tsegedit\r\n",
      "footprint\t\t\tseq\r\n",
      "format-sql\t\t\tserialver\r\n",
      "format-sql5.16\t\t\tservertool\r\n",
      "format-sql5.18\t\t\tsetregion\r\n",
      "from\t\t\t\tsetuids.d\r\n",
      "fs_usage\t\t\tsfltool\r\n",
      "ftp\t\t\t\tsftp\r\n",
      "funzip\t\t\t\tshar\r\n",
      "fuser\t\t\t\tshasum\r\n",
      "fwkdp\t\t\t\tshasum5.16\r\n",
      "fwkpfv\t\t\t\tshasum5.18\r\n",
      "g++\t\t\t\tshlock\r\n",
      "gatherheaderdoc\t\t\tshowmount\r\n",
      "gcc\t\t\t\tsigdist.d\r\n",
      "gcov\t\t\t\tsips\r\n",
      "gdiffmk\t\t\t\tsize\r\n",
      "gem\t\t\t\tslogin\r\n",
      "gen_bridge_metadata\t\tsmbutil\r\n",
      "gencat\t\t\t\tsmtpd.py\r\n",
      "genstrings\t\t\tsmtpd2.6.py\r\n",
      "getconf\t\t\t\tsmtpd2.7.py\r\n",
      "getopt\t\t\t\tsnfsdefrag\r\n",
      "getopts\t\t\t\tsnmp-bridge-mib\r\n",
      "git\t\t\t\tsnmpbulkget\r\n",
      "git-cvsserver\t\t\tsnmpbulkwalk\r\n",
      "git-receive-pack\t\tsnmpconf\r\n",
      "git-shell\t\t\tsnmpdelta\r\n",
      "git-upload-archive\t\tsnmpdf\r\n",
      "git-upload-pack\t\t\tsnmpget\r\n",
      "gm4\t\t\t\tsnmpgetnext\r\n",
      "gnuattach\t\t\tsnmpinform\r\n",
      "gnuclient\t\t\tsnmpnetstat\r\n",
      "gnudoit\t\t\t\tsnmpset\r\n",
      "gnumake\t\t\t\tsnmpstatus\r\n",
      "gnuserv\t\t\t\tsnmptable\r\n",
      "gperf\t\t\t\tsnmptest\r\n",
      "grap2graph\t\t\tsnmptranslate\r\n",
      "grep\t\t\t\tsnmptrap\r\n",
      "grn\t\t\t\tsnmpusm\r\n",
      "grodvi\t\t\t\tsnmpvacm\r\n",
      "groff\t\t\t\tsnmpwalk\r\n",
      "groffer\t\t\t\tsntp\r\n",
      "grog\t\t\t\tsoelim\r\n",
      "grolbp\t\t\t\tsort\r\n",
      "grolj4\t\t\t\tspfd\r\n",
      "grops\t\t\t\tspfd5.16\r\n",
      "grotty\t\t\t\tspfd5.18\r\n",
      "groups\t\t\t\tspfquery\r\n",
      "gunzip\t\t\t\tspfquery5.16\r\n",
      "gzcat\t\t\t\tspfquery5.18\r\n",
      "gzexe\t\t\t\tsplain\r\n",
      "gzip\t\t\t\tsplain5.16\r\n",
      "h2ph\t\t\t\tsplain5.18\r\n",
      "h2ph5.16\t\t\tsplit\r\n",
      "h2ph5.18\t\t\tsqlite3\r\n",
      "h2xs\t\t\t\tsrm\r\n",
      "h2xs5.16\t\t\tssh\r\n",
      "h2xs5.18\t\t\tssh-add\r\n",
      "hash\t\t\t\tssh-agent\r\n",
      "hdid\t\t\t\tssh-keygen\r\n",
      "hdiutil\t\t\t\tssh-keyscan\r\n",
      "hdxml2manxml\t\t\tstat\r\n",
      "head\t\t\t\tstringdups\r\n",
      "headerdoc2html\t\t\tstringdups32\r\n",
      "heap\t\t\t\tstrings\r\n",
      "heap32\t\t\t\tstrip\r\n",
      "hexdump\t\t\t\tstty.pl\r\n",
      "hiutil\t\t\t\tstty5.16.pl\r\n",
      "host\t\t\t\tstty5.18.pl\r\n",
      "hostinfo\t\t\tsu\r\n",
      "hotspot.d\t\t\tsudo\r\n",
      "hpftodit\t\t\tsum\r\n",
      "htmltree\t\t\tsvn\r\n",
      "htmltree5.16\t\t\tsvnadmin\r\n",
      "htmltree5.18\t\t\tsvndumpfilter\r\n",
      "httpdstat.d\t\t\tsvnlook\r\n",
      "ibtool\t\t\t\tsvnserve\r\n",
      "iconutil\t\t\tsvnsync\r\n",
      "iconv\t\t\t\tsvnversion\r\n",
      "ictool\t\t\t\tsw_vers\r\n",
      "id\t\t\t\tswift\r\n",
      "idle\t\t\t\tswiftc\r\n",
      "idle2.6\t\t\t\tsymbols\r\n",
      "idle2.7\t\t\t\tsymbolscache\r\n",
      "idlj\t\t\t\tsyscallbypid.d\r\n",
      "imptrace\t\t\tsyscallbyproc.d\r\n",
      "indent\t\t\t\tsyscallbysysc.d\r\n",
      "indxbib\t\t\t\tsysdiagnose\r\n",
      "info\t\t\t\tsyslog\r\n",
      "infocmp\t\t\t\ttab2space\r\n",
      "infokey\t\t\t\ttabs\r\n",
      "infotocap\t\t\ttail\r\n",
      "install\t\t\t\ttalk\r\n",
      "install-info\t\t\ttar\r\n",
      "install_name_tool\t\ttaskinfo\r\n",
      "instmodsh\t\t\ttbl\r\n",
      "instmodsh5.16\t\t\ttccutil\r\n",
      "instmodsh5.18\t\t\ttclsh\r\n",
      "instruments\t\t\ttclsh8.4\r\n",
      "iofile.d\t\t\ttclsh8.5\r\n",
      "iofileb.d\t\t\ttee\r\n",
      "iopattern\t\t\ttelnet\r\n",
      "iopending\t\t\ttestrb\r\n",
      "iosnoop\t\t\t\ttexi2dvi\r\n",
      "iotop\t\t\t\ttexi2pdf\r\n",
      "ip2cc\t\t\t\ttexindex\r\n",
      "ip2cc5.16\t\t\ttextutil\r\n",
      "ip2cc5.18\t\t\ttfmtodit\r\n",
      "ipcount\t\t\t\ttftp\r\n",
      "ipcount5.16\t\t\tthermal\r\n",
      "ipcount5.18\t\t\ttic\r\n",
      "ipcrm\t\t\t\ttidy\r\n",
      "ipcs\t\t\t\ttiff2icns\r\n",
      "ipmitool\t\t\ttiffutil\r\n",
      "ippfind\t\t\t\ttime\r\n",
      "ipptool\t\t\t\ttimer_analyser.d\r\n",
      "iprofiler\t\t\ttimerfires\r\n",
      "iptab\t\t\t\ttkcon\r\n",
      "iptab5.16\t\t\ttkmib\r\n",
      "iptab5.18\t\t\ttkpp\r\n",
      "irb\t\t\t\ttkpp5.16\r\n",
      "jar\t\t\t\ttkpp5.18\r\n",
      "jarsigner\t\t\ttmdiagnose\r\n",
      "java\t\t\t\ttmutil\r\n",
      "javac\t\t\t\ttnameserv\r\n",
      "javadoc\t\t\t\ttoe\r\n",
      "javah\t\t\t\ttop\r\n",
      "javap\t\t\t\ttops\r\n",
      "javaws\t\t\t\ttopsyscall\r\n",
      "jcmd\t\t\t\ttopsysproc\r\n",
      "jconsole\t\t\ttouch\r\n",
      "jdb\t\t\t\ttput\r\n",
      "jdeps\t\t\t\ttr\r\n",
      "jhat\t\t\t\ttrace\r\n",
      "jinfo\t\t\t\ttraptoemail\r\n",
      "jjs\t\t\t\ttreereg\r\n",
      "jmap\t\t\t\ttreereg5.16\r\n",
      "jmc\t\t\t\ttreereg5.18\r\n",
      "jobs\t\t\t\ttrimforce\r\n",
      "join\t\t\t\ttroff\r\n",
      "jot\t\t\t\ttrue\r\n",
      "jps\t\t\t\ttset\r\n",
      "jrunscript\t\t\ttsort\r\n",
      "jsadebugd\t\t\ttty\r\n",
      "json_pp\t\t\t\ttype\r\n",
      "json_pp5.16\t\t\tul\r\n",
      "json_pp5.18\t\t\tulimit\r\n",
      "jstack\t\t\t\tumask\r\n",
      "jstat\t\t\t\tunalias\r\n",
      "jstatd\t\t\t\tuname\r\n",
      "jvisualvm\t\t\tuncompress\r\n",
      "kcc\t\t\t\tunexpand\r\n",
      "kdestroy\t\t\tunifdef\r\n",
      "kextutil\t\t\tunifdefall\r\n",
      "keytool\t\t\t\tuniq\r\n",
      "kgetcred\t\t\tunits\r\n",
      "kill.d\t\t\t\tunpack200\r\n",
      "killall\t\t\t\tunvis\r\n",
      "kinit\t\t\t\tunzip\r\n",
      "klist\t\t\t\tunzipsfx\r\n",
      "kpasswd\t\t\t\tupdate_dyld_shared_cache\r\n",
      "krb5-config\t\t\tuptime\r\n",
      "kswitch\t\t\t\tusers\r\n",
      "lam\t\t\t\tuucp\r\n",
      "last\t\t\t\tuudecode\r\n",
      "lastcomm\t\t\tuuencode\r\n",
      "lastwords\t\t\tuuidgen\r\n",
      "latency\t\t\t\tuulog\r\n",
      "layerutil\t\t\tuuname\r\n",
      "ld\t\t\t\tuupick\r\n",
      "ldapadd\t\t\t\tuustat\r\n",
      "ldapcompare\t\t\tuuto\r\n",
      "ldapdelete\t\t\tuux\r\n",
      "ldapexop\t\t\tvi\r\n",
      "ldapmodify\t\t\tview\r\n",
      "ldapmodrdn\t\t\tvim\r\n",
      "ldappasswd\t\t\tvimdiff\r\n",
      "ldapsearch\t\t\tvimtutor\r\n",
      "ldapurl\t\t\t\tvis\r\n",
      "ldapwhoami\t\t\tvm_stat\r\n",
      "leaks\t\t\t\tvmmap\r\n",
      "leaks32\t\t\t\tvmmap32\r\n",
      "leave\t\t\t\tw\r\n",
      "less\t\t\t\twait\r\n",
      "lessecho\t\t\twall\r\n",
      "lex\t\t\t\twc\r\n",
      "libnetcfg\t\t\twdutil\r\n",
      "libnetcfg5.16\t\t\tweblatency.d\r\n",
      "libnetcfg5.18\t\t\twhat\r\n",
      "libtool\t\t\t\twhatis\r\n",
      "lipo\t\t\t\twhereis\r\n",
      "lkbib\t\t\t\twhich\r\n",
      "lldb\t\t\t\twho\r\n",
      "llvm-g++\t\t\twhoami\r\n",
      "llvm-gcc\t\t\twhois\r\n",
      "loads.d\t\t\t\twish\r\n",
      "locale\t\t\t\twish8.4\r\n",
      "localedef\t\t\twish8.5\r\n",
      "locate\t\t\t\twrite\r\n",
      "lockstat\t\t\twsgen\r\n",
      "logger\t\t\t\twsimport\r\n",
      "login\t\t\t\txar\r\n",
      "logname\t\t\t\txargs\r\n",
      "look\t\t\t\txattr\r\n",
      "lookbib\t\t\t\txattr-2.6\r\n",
      "lorder\t\t\t\txattr-2.7\r\n",
      "lp\t\t\t\txcode-select\r\n",
      "lpoptions\t\t\txcodebuild\r\n",
      "lpq\t\t\t\txcrun\r\n",
      "lpr\t\t\t\txed\r\n",
      "lprm\t\t\t\txgettext.pl\r\n",
      "lpstat\t\t\t\txgettext5.16.pl\r\n",
      "lsappinfo\t\t\txgettext5.18.pl\r\n",
      "lsbom\t\t\t\txip\r\n",
      "lskq\t\t\t\txjc\r\n",
      "lsm\t\t\t\txml2-config\r\n",
      "lsmp\t\t\t\txml2man\r\n",
      "lsvfs\t\t\t\txmlcatalog\r\n",
      "lwp-download\t\t\txmllint\r\n",
      "lwp-download5.16\t\txpath\r\n",
      "lwp-download5.18\t\txpath5.16\r\n",
      "lwp-dump\t\t\txpath5.18\r\n",
      "lwp-dump5.16\t\t\txslt-config\r\n",
      "lwp-dump5.18\t\t\txsltproc\r\n",
      "lwp-mirror\t\t\txsubpp\r\n",
      "lwp-mirror5.16\t\t\txsubpp5.16\r\n",
      "lwp-mirror5.18\t\t\txsubpp5.18\r\n",
      "lwp-request\t\t\txxd\r\n",
      "lwp-request5.16\t\t\tyacc\r\n",
      "lwp-request5.18\t\t\tyes\r\n",
      "m4\t\t\t\typcat\r\n",
      "macbinary\t\t\typmatch\r\n",
      "macerror\t\t\typwhich\r\n",
      "macerror5.16\t\t\tzcat\r\n",
      "macerror5.18\t\t\tzcmp\r\n",
      "machine\t\t\t\tzdiff\r\n",
      "mail\t\t\t\tzegrep\r\n",
      "mailq\t\t\t\tzfgrep\r\n",
      "mailx\t\t\t\tzforce\r\n",
      "make\t\t\t\tzgrep\r\n",
      "makeinfo\t\t\tzip\r\n",
      "malloc_history\t\t\tzipcloak\r\n",
      "malloc_history32\t\tzipdetails\r\n",
      "man\t\t\t\tzipdetails5.16\r\n",
      "manpath\t\t\t\tzipdetails5.18\r\n",
      "mcxquery\t\t\tzipgrep\r\n",
      "mcxrefresh\t\t\tzipinfo\r\n",
      "mddiagnose\t\t\tzipnote\r\n",
      "mdfind\t\t\t\tzipsplit\r\n",
      "mdimport\t\t\tzless\r\n",
      "mdimport32\t\t\tzmore\r\n",
      "mdls\t\t\t\tznew\r\n",
      "mdutil\t\t\t\tzprint\r\n"
     ]
    }
   ],
   "source": [
    "ls"
   ]
  },
  {
   "cell_type": "code",
   "execution_count": 9,
   "metadata": {
    "collapsed": false
   },
   "outputs": [
    {
     "name": "stdout",
     "output_type": "stream",
     "text": []
    }
   ],
   "source": [
    "cd /usr/bin"
   ]
  },
  {
   "cell_type": "code",
   "execution_count": 10,
   "metadata": {
    "collapsed": false
   },
   "outputs": [
    {
     "name": "stdout",
     "output_type": "stream",
     "text": [
      "/usr/bin\r\n"
     ]
    }
   ],
   "source": [
    "pwd"
   ]
  },
  {
   "cell_type": "code",
   "execution_count": 11,
   "metadata": {
    "collapsed": false
   },
   "outputs": [
    {
     "name": "stdout",
     "output_type": "stream",
     "text": []
    }
   ],
   "source": [
    "cd /usr"
   ]
  },
  {
   "cell_type": "code",
   "execution_count": 12,
   "metadata": {
    "collapsed": false
   },
   "outputs": [
    {
     "name": "stdout",
     "output_type": "stream",
     "text": [
      "/usr\r\n"
     ]
    }
   ],
   "source": [
    "pwd"
   ]
  },
  {
   "cell_type": "code",
   "execution_count": 13,
   "metadata": {
    "collapsed": false
   },
   "outputs": [
    {
     "name": "stdout",
     "output_type": "stream",
     "text": []
    }
   ],
   "source": [
    "cd .."
   ]
  },
  {
   "cell_type": "code",
   "execution_count": 14,
   "metadata": {
    "collapsed": false
   },
   "outputs": [
    {
     "name": "stdout",
     "output_type": "stream",
     "text": [
      "/\r\n"
     ]
    }
   ],
   "source": [
    "pwd"
   ]
  },
  {
   "cell_type": "code",
   "execution_count": 15,
   "metadata": {
    "collapsed": false
   },
   "outputs": [
    {
     "name": "stdout",
     "output_type": "stream",
     "text": []
    }
   ],
   "source": [
    "cd /usr/bin"
   ]
  },
  {
   "cell_type": "code",
   "execution_count": 16,
   "metadata": {
    "collapsed": false
   },
   "outputs": [
    {
     "name": "stdout",
     "output_type": "stream",
     "text": [
      "/usr/bin\r\n"
     ]
    }
   ],
   "source": [
    "pwd"
   ]
  },
  {
   "cell_type": "code",
   "execution_count": 17,
   "metadata": {
    "collapsed": false
   },
   "outputs": [
    {
     "name": "stdout",
     "output_type": "stream",
     "text": [
      "bash: cd: ./bin: No such file or directory\r\n"
     ]
    }
   ],
   "source": [
    "cd ./bin"
   ]
  },
  {
   "cell_type": "code",
   "execution_count": null,
   "metadata": {
    "collapsed": false
   },
   "outputs": [],
   "source": [
    "ls"
   ]
  },
  {
   "cell_type": "code",
   "execution_count": null,
   "metadata": {
    "collapsed": false
   },
   "outputs": [],
   "source": [
    "ls /usr"
   ]
  },
  {
   "cell_type": "code",
   "execution_count": null,
   "metadata": {
    "collapsed": false
   },
   "outputs": [],
   "source": [
    "ls ~ /usr"
   ]
  },
  {
   "cell_type": "code",
   "execution_count": null,
   "metadata": {
    "collapsed": false
   },
   "outputs": [],
   "source": [
    "ls -l"
   ]
  },
  {
   "cell_type": "code",
   "execution_count": null,
   "metadata": {
    "collapsed": false
   },
   "outputs": [],
   "source": [
    "ls -lt"
   ]
  },
  {
   "cell_type": "code",
   "execution_count": null,
   "metadata": {
    "collapsed": false
   },
   "outputs": [],
   "source": [
    "ls -lt --reverse"
   ]
  },
  {
   "cell_type": "code",
   "execution_count": null,
   "metadata": {
    "collapsed": true
   },
   "outputs": [],
   "source": [
    "less /etc/passwd"
   ]
  },
  {
   "cell_type": "code",
   "execution_count": 18,
   "metadata": {
    "collapsed": false
   },
   "outputs": [
    {
     "name": "stdout",
     "output_type": "stream",
     "text": [
      "/usr/bin\r\n"
     ]
    }
   ],
   "source": [
    "pwd"
   ]
  },
  {
   "cell_type": "code",
   "execution_count": 19,
   "metadata": {
    "collapsed": false
   },
   "outputs": [
    {
     "name": "stdout",
     "output_type": "stream",
     "text": []
    }
   ],
   "source": [
    "cd /Users/saw/Downloads"
   ]
  },
  {
   "cell_type": "code",
   "execution_count": 20,
   "metadata": {
    "collapsed": false
   },
   "outputs": [
    {
     "name": "stdout",
     "output_type": "stream",
     "text": [
      "/Users/saw/Downloads\r\n"
     ]
    }
   ],
   "source": [
    "pwd"
   ]
  },
  {
   "cell_type": "code",
   "execution_count": 21,
   "metadata": {
    "collapsed": false
   },
   "outputs": [
    {
     "name": "stdout",
     "output_type": "stream",
     "text": []
    }
   ],
   "source": [
    "mkdir playground"
   ]
  },
  {
   "cell_type": "code",
   "execution_count": 22,
   "metadata": {
    "collapsed": false
   },
   "outputs": [
    {
     "name": "stdout",
     "output_type": "stream",
     "text": []
    }
   ],
   "source": [
    "cd playground"
   ]
  },
  {
   "cell_type": "code",
   "execution_count": 23,
   "metadata": {
    "collapsed": false
   },
   "outputs": [
    {
     "name": "stdout",
     "output_type": "stream",
     "text": []
    }
   ],
   "source": [
    "mkdir dir1 dir2"
   ]
  },
  {
   "cell_type": "code",
   "execution_count": 28,
   "metadata": {
    "collapsed": false
   },
   "outputs": [
    {
     "name": "stdout",
     "output_type": "stream",
     "text": []
    }
   ],
   "source": [
    "cp /etc/passwd ."
   ]
  },
  {
   "cell_type": "code",
   "execution_count": 29,
   "metadata": {
    "collapsed": false
   },
   "outputs": [
    {
     "name": "stdout",
     "output_type": "stream",
     "text": [
      "total 16\r\n",
      "drwxr-xr-x  2 saw  staff    68 May 27 12:19 dir1\r\n",
      "drwxr-xr-x  2 saw  staff    68 May 27 12:19 dir2\r\n",
      "-rw-r--r--  1 saw  staff  5925 May 27 12:20 passwd\r\n"
     ]
    }
   ],
   "source": [
    "ls -l"
   ]
  },
  {
   "cell_type": "code",
   "execution_count": 30,
   "metadata": {
    "collapsed": false
   },
   "outputs": [
    {
     "name": "stdout",
     "output_type": "stream",
     "text": [
      "/etc/passwd -> ./passwd\r\n"
     ]
    }
   ],
   "source": [
    "cp -v /etc/passwd ."
   ]
  },
  {
   "cell_type": "code",
   "execution_count": 4,
   "metadata": {
    "collapsed": false
   },
   "outputs": [
    {
     "name": "stdout",
     "output_type": "stream",
     "text": [
      "/Users/saw/Downloads\r\n"
     ]
    }
   ],
   "source": [
    "pwd"
   ]
  },
  {
   "cell_type": "code",
   "execution_count": 5,
   "metadata": {
    "collapsed": false
   },
   "outputs": [
    {
     "name": "stdout",
     "output_type": "stream",
     "text": []
    }
   ],
   "source": [
    "cd playground"
   ]
  },
  {
   "cell_type": "code",
   "execution_count": 6,
   "metadata": {
    "collapsed": false
   },
   "outputs": [
    {
     "name": "stdout",
     "output_type": "stream",
     "text": [
      "/Users/saw/Downloads/playground\r\n"
     ]
    }
   ],
   "source": [
    "pwd"
   ]
  },
  {
   "cell_type": "code",
   "execution_count": 7,
   "metadata": {
    "collapsed": false
   },
   "outputs": [
    {
     "name": "stdout",
     "output_type": "stream",
     "text": [
      "dir1\tdir2\tpasswd\r\n"
     ]
    }
   ],
   "source": [
    "ls "
   ]
  },
  {
   "cell_type": "code",
   "execution_count": 8,
   "metadata": {
    "collapsed": false
   },
   "outputs": [
    {
     "name": "stdout",
     "output_type": "stream",
     "text": []
    }
   ],
   "source": [
    "mv passwd fun"
   ]
  },
  {
   "cell_type": "code",
   "execution_count": 9,
   "metadata": {
    "collapsed": false
   },
   "outputs": [
    {
     "name": "stdout",
     "output_type": "stream",
     "text": []
    }
   ],
   "source": [
    "mv fun dir1"
   ]
  },
  {
   "cell_type": "code",
   "execution_count": 10,
   "metadata": {
    "collapsed": false
   },
   "outputs": [
    {
     "name": "stdout",
     "output_type": "stream",
     "text": []
    }
   ],
   "source": [
    "mv dir1/fun dir2"
   ]
  },
  {
   "cell_type": "code",
   "execution_count": 12,
   "metadata": {
    "collapsed": false
   },
   "outputs": [
    {
     "name": "stdout",
     "output_type": "stream",
     "text": []
    }
   ],
   "source": [
    "mv dir2/fun ."
   ]
  },
  {
   "cell_type": "code",
   "execution_count": 13,
   "metadata": {
    "collapsed": false
   },
   "outputs": [
    {
     "name": "stdout",
     "output_type": "stream",
     "text": []
    }
   ],
   "source": [
    "mv fun dir1"
   ]
  },
  {
   "cell_type": "code",
   "execution_count": 14,
   "metadata": {
    "collapsed": false
   },
   "outputs": [
    {
     "name": "stdout",
     "output_type": "stream",
     "text": []
    }
   ],
   "source": [
    "mv dir1 dir2"
   ]
  },
  {
   "cell_type": "code",
   "execution_count": 15,
   "metadata": {
    "collapsed": false
   },
   "outputs": [
    {
     "name": "stdout",
     "output_type": "stream",
     "text": [
      "total 0\r\n",
      "drwxr-xr-x  3 saw  staff  102 May 27 12:23 dir1\r\n"
     ]
    }
   ],
   "source": [
    "ls -l dir2"
   ]
  },
  {
   "cell_type": "code",
   "execution_count": 16,
   "metadata": {
    "collapsed": false
   },
   "outputs": [
    {
     "name": "stdout",
     "output_type": "stream",
     "text": [
      "total 0\r\n",
      "drwxr-xr-x  3 saw  staff  102 May 27 12:22 fun\r\n"
     ]
    }
   ],
   "source": [
    "ls -l dir2/dir1"
   ]
  },
  {
   "cell_type": "code",
   "execution_count": 17,
   "metadata": {
    "collapsed": false
   },
   "outputs": [
    {
     "name": "stdout",
     "output_type": "stream",
     "text": []
    }
   ],
   "source": [
    "mv dir2/dir1 ."
   ]
  },
  {
   "cell_type": "code",
   "execution_count": 18,
   "metadata": {
    "collapsed": false
   },
   "outputs": [
    {
     "name": "stdout",
     "output_type": "stream",
     "text": []
    }
   ],
   "source": [
    "mv dir1/fun ."
   ]
  },
  {
   "cell_type": "code",
   "execution_count": 19,
   "metadata": {
    "collapsed": false
   },
   "outputs": [
    {
     "name": "stdout",
     "output_type": "stream",
     "text": [
      "ln: fun: Is a directory\r\n"
     ]
    }
   ],
   "source": [
    "ln fun fun-hard"
   ]
  },
  {
   "cell_type": "code",
   "execution_count": 20,
   "metadata": {
    "collapsed": false
   },
   "outputs": [
    {
     "name": "stdout",
     "output_type": "stream",
     "text": [
      "ln: fun: Is a directory\r\n"
     ]
    }
   ],
   "source": [
    "ln fun dir1/fun-hard"
   ]
  },
  {
   "cell_type": "code",
   "execution_count": 21,
   "metadata": {
    "collapsed": false
   },
   "outputs": [
    {
     "name": "stdout",
     "output_type": "stream",
     "text": [
      "ln: fun: Is a directory\r\n"
     ]
    }
   ],
   "source": [
    "ln fun dir2/fun-hard"
   ]
  },
  {
   "cell_type": "code",
   "execution_count": 23,
   "metadata": {
    "collapsed": false
   },
   "outputs": [
    {
     "name": "stdout",
     "output_type": "stream",
     "text": [
      "total 0\r\n",
      "drwxr-xr-x  2 saw  staff   68 May 27 12:24 dir1\r\n",
      "drwxr-xr-x  2 saw  staff   68 May 27 12:24 dir2\r\n",
      "drwxr-xr-x  3 saw  staff  102 May 27 12:22 fun\r\n"
     ]
    }
   ],
   "source": [
    "ls -l"
   ]
  },
  {
   "cell_type": "code",
   "execution_count": 24,
   "metadata": {
    "collapsed": false
   },
   "outputs": [
    {
     "name": "stdout",
     "output_type": "stream",
     "text": [
      "total 0\r\n",
      "7778966 drwxr-xr-x  2 saw  staff   68 May 27 12:24 dir1\r\n",
      "7778967 drwxr-xr-x  2 saw  staff   68 May 27 12:24 dir2\r\n",
      "7779017 drwxr-xr-x  3 saw  staff  102 May 27 12:22 fun\r\n"
     ]
    }
   ],
   "source": [
    "ls -li"
   ]
  },
  {
   "cell_type": "code",
   "execution_count": 25,
   "metadata": {
    "collapsed": false
   },
   "outputs": [
    {
     "name": "stdout",
     "output_type": "stream",
     "text": []
    }
   ],
   "source": [
    "ln -s fun fun-sym"
   ]
  },
  {
   "cell_type": "code",
   "execution_count": 26,
   "metadata": {
    "collapsed": false
   },
   "outputs": [
    {
     "name": "stdout",
     "output_type": "stream",
     "text": []
    }
   ],
   "source": [
    "ln -s ../fun dir1/fun-sym"
   ]
  },
  {
   "cell_type": "code",
   "execution_count": 27,
   "metadata": {
    "collapsed": false
   },
   "outputs": [
    {
     "name": "stdout",
     "output_type": "stream",
     "text": []
    }
   ],
   "source": [
    "ln -s ../fun dir2/fun-sym"
   ]
  },
  {
   "cell_type": "code",
   "execution_count": 28,
   "metadata": {
    "collapsed": false
   },
   "outputs": [
    {
     "name": "stdout",
     "output_type": "stream",
     "text": [
      "total 8\r\n",
      "lrwxr-xr-x  1 saw  staff  6 May 27 12:25 fun-sym -> ../fun\r\n"
     ]
    }
   ],
   "source": [
    "ls -l dir1"
   ]
  },
  {
   "cell_type": "code",
   "execution_count": 29,
   "metadata": {
    "collapsed": false
   },
   "outputs": [
    {
     "name": "stdout",
     "output_type": "stream",
     "text": [
      "/Users/saw/Downloads/playground\r\n"
     ]
    }
   ],
   "source": [
    "pwd"
   ]
  },
  {
   "cell_type": "code",
   "execution_count": 30,
   "metadata": {
    "collapsed": false
   },
   "outputs": [
    {
     "name": "stdout",
     "output_type": "stream",
     "text": []
    }
   ],
   "source": [
    "ln -s /Users/saw/Downloads/playground/fun dir1/fun-sym"
   ]
  },
  {
   "cell_type": "code",
   "execution_count": 31,
   "metadata": {
    "collapsed": false
   },
   "outputs": [
    {
     "name": "stdout",
     "output_type": "stream",
     "text": []
    }
   ],
   "source": [
    "ln -s dir1 dir2-sym"
   ]
  },
  {
   "cell_type": "code",
   "execution_count": 32,
   "metadata": {
    "collapsed": false
   },
   "outputs": [
    {
     "name": "stdout",
     "output_type": "stream",
     "text": [
      "total 16\r\n",
      "drwxr-xr-x  3 saw  staff  102 May 27 12:25 dir1\r\n",
      "drwxr-xr-x  3 saw  staff  102 May 27 12:25 dir2\r\n",
      "lrwxr-xr-x  1 saw  staff    4 May 27 12:28 dir2-sym -> dir1\r\n",
      "drwxr-xr-x  4 saw  staff  136 May 27 12:28 fun\r\n",
      "lrwxr-xr-x  1 saw  staff    3 May 27 12:25 fun-sym -> fun\r\n"
     ]
    }
   ],
   "source": [
    "ls -l"
   ]
  },
  {
   "cell_type": "code",
   "execution_count": 33,
   "metadata": {
    "collapsed": false
   },
   "outputs": [
    {
     "name": "stdout",
     "output_type": "stream",
     "text": [
      "dir1\t\tdir2\t\tdir2-sym\tfun\t\tfun-sym\r\n"
     ]
    }
   ],
   "source": [
    "ls"
   ]
  },
  {
   "cell_type": "code",
   "execution_count": 34,
   "metadata": {
    "collapsed": false
   },
   "outputs": [
    {
     "name": "stdout",
     "output_type": "stream",
     "text": [
      "rm: fun: is a directory\r\n"
     ]
    }
   ],
   "source": [
    "rm -i fun"
   ]
  },
  {
   "cell_type": "code",
   "execution_count": 35,
   "metadata": {
    "collapsed": false
   },
   "outputs": [
    {
     "name": "stdout",
     "output_type": "stream",
     "text": [
      "rm: fun: is a directory\r\n"
     ]
    }
   ],
   "source": [
    "rm fun"
   ]
  },
  {
   "cell_type": "code",
   "execution_count": 36,
   "metadata": {
    "collapsed": false
   },
   "outputs": [
    {
     "name": "stdout",
     "output_type": "stream",
     "text": [
      "fun-sym is a directory\r\n"
     ]
    }
   ],
   "source": [
    "less fun-sym"
   ]
  },
  {
   "cell_type": "code",
   "execution_count": 37,
   "metadata": {
    "collapsed": false
   },
   "outputs": [
    {
     "name": "stdout",
     "output_type": "stream",
     "text": [
      "rm: dir1-sym: No such file or directory\r\n"
     ]
    }
   ],
   "source": [
    "rm fun-sym dir1-sym"
   ]
  },
  {
   "cell_type": "code",
   "execution_count": 38,
   "metadata": {
    "collapsed": false
   },
   "outputs": [
    {
     "name": "stdout",
     "output_type": "stream",
     "text": []
    }
   ],
   "source": [
    "cd "
   ]
  },
  {
   "cell_type": "code",
   "execution_count": 39,
   "metadata": {
    "collapsed": false
   },
   "outputs": [
    {
     "name": "stdout",
     "output_type": "stream",
     "text": [
      "/Users/saw\r\n"
     ]
    }
   ],
   "source": [
    "pwd"
   ]
  },
  {
   "cell_type": "code",
   "execution_count": 40,
   "metadata": {
    "collapsed": false
   },
   "outputs": [
    {
     "name": "stdout",
     "output_type": "stream",
     "text": []
    }
   ],
   "source": [
    "cd Downloads\n"
   ]
  },
  {
   "cell_type": "code",
   "execution_count": 41,
   "metadata": {
    "collapsed": false
   },
   "outputs": [
    {
     "name": "stdout",
     "output_type": "stream",
     "text": [
      "20news-bydate.tar\r\n",
      "9788132217794-c1.pdf\r\n",
      "AChE.txt\r\n",
      "AChE_descriptors.csv\r\n",
      "AChE_descriptors.csv.log\r\n",
      "AChE_smiles.sdf\r\n",
      "Anaconda3-4.0.0-MacOSX-x86_64.pkg\r\n",
      "Bash Pocket Reference, 2nd Edition.pdf\r\n",
      "Bike-Sharing-Dataset\r\n",
      "Bioinformatics with Python Cookbook.pdf\r\n",
      "Building Dynamic Web 2.0 Websites with Ruby on Rails.pdf\r\n",
      "Building Machine Learning Systems with Python, 2nd Edition.pdf\r\n",
      "Calculating_CTD_Descriptors.R\r\n",
      "Ch2-Curcumin-preprint.pdf\r\n",
      "Computer Science Programming Basics in Ruby.pdf\r\n",
      "Computer-Aided Drug Design of Bioactive Natural Products.pdf\r\n",
      "Data Wrangling with Python.pdf\r\n",
      "DockerToolbox-1.11.1.pkg\r\n",
      "Example Exercise with Iris Data Set.ipynb\r\n",
      "Extending proteochemometric modeling for unraveling the sorption behavior of compound-soil interaction.pdf\r\n",
      "High Performance Python.pdf\r\n",
      "Introduction to PySpark.ipynb\r\n",
      "Learning Ruby.pdf\r\n",
      "License_exp_2017-08-26.cxl\r\n",
      "MacPorts-2.3.3\r\n",
      "MacPorts-2.3.3.tar.bz2\r\n",
      "MacPorts-2.3.4-10.11-ElCapitan.pkg\r\n",
      "Machine learning with spark.ipynb\r\n",
      "Mastering Machine Learning with scikit-learn.ipynb\r\n",
      "Mastering Machine Learning with scikit-learn.pdf\r\n",
      "Mastering Pandas.pdf\r\n",
      "Merged PDF (Nantasenamat).pdf\r\n",
      "Oligomerization-SAW.xlsx\r\n",
      "Oligomerization.fasta\r\n",
      "PaDEL-Descriptor\r\n",
      "PaDEL-Descriptor.zip\r\n",
      "Python 3 Object-Oriented Programming, 2nd Edition.pdf\r\n",
      "Python 3 Text Processing with NLTK 3 Cookbook.pdf\r\n",
      "Python 3 for Absolute Beginners.pdf\r\n",
      "Python Cookbook.ipynb\r\n",
      "Python Data Visualization, 2nd edition.pdf\r\n",
      "Python Data Visualization.ipynb\r\n",
      "QSAR-in-R.ipynb\r\n",
      "RRDKit-master\r\n",
      "RStudio for R Statistical Computing Cookbook.pdf\r\n",
      "Ruby Best Practices.pdf\r\n",
      "Ruby Cookbook, 2nd Edition.pdf\r\n",
      "Ruby Cookbook.pdf\r\n",
      "Ruby Pocket Reference, 2nd Edition.pdf\r\n",
      "Ruby Wizardry.ipynb\r\n",
      "Ruby Wizardry.pdf\r\n",
      "Ruby and MongoDB Web Development.pdf\r\n",
      "Scala Data Analysis Cookbook.pdf\r\n",
      "Smiles_Jupyter.sdf\r\n",
      "Smiles_Jupyter.smi\r\n",
      "Spark for Python Developers.pdf\r\n",
      "Standardizer.xml\r\n",
      "StudentData.csv\r\n",
      "The Book of Ruby.pdf\r\n",
      "The Linux Command Line (A complete Introduction).ipynb\r\n",
      "The Linux Command Line.pdf\r\n",
      "The Ruby Programming Language.pdf\r\n",
      "Think Python.ipynb\r\n",
      "Think Python.pdf\r\n",
      "Think Stats, 2nd Edition.pdf\r\n",
      "Unraveling the origin of splice switching activity of hemoglobin beta-globin gene modulators via QSAR modeling.pdf\r\n",
      "WWWusage.csv\r\n",
      "Web Scraping with Python-2.pdf\r\n",
      "Web Scraping with Python.pdf\r\n",
      "attachment.pdf\r\n",
      "bash_profile\r\n",
      "cline2007.pdf\r\n",
      "cmake-3.5.2-Darwin-x86_64.dmg\r\n",
      "conda-rdkit\r\n",
      "corrected\r\n",
      "daily_show.tsv\r\n",
      "data\r\n",
      "data.xlsx\r\n",
      "descriptors_output_file.csv\r\n",
      "fingerprint\r\n",
      "fingerprint_3.5.2.tar\r\n",
      "hdac.R\r\n",
      "iQSAR-2.html\r\n",
      "iQSAR-2.ipynb\r\n",
      "iQSAR-Copy1.ipynb\r\n",
      "iQSAR.html\r\n",
      "iQSAR.ipynb\r\n",
      "iQSAR.tex\r\n",
      "iQSAR_files\r\n",
      "incubator-toree\r\n",
      "iris.xls\r\n",
      "jcc23708.pdf\r\n",
      "jdk-8u91-macosx-x64.dmg\r\n",
      "jupyter-nodejs-1.1.0.tar\r\n",
      "jupyter-scala_2.11.6-0.2.0-SNAPSHOT\r\n",
      "jupyter-scala_2.11.6-0.2.0-SNAPSHOT.tar.xz\r\n",
      "kddcup.data.corrected\r\n",
      "kddcup.data_10_percent_corrected\r\n",
      "lfw\r\n",
      "lfw-a.tar\r\n",
      "mactex-20150613.pkg\r\n",
      "ml-100k\r\n",
      "ml-100k.zip\r\n",
      "mnist\r\n",
      "node-v4.4.5-2.pkg\r\n",
      "node-v4.4.5.pkg\r\n",
      "npm-debug.log\r\n",
      "oligomerizations_CTD.csv\r\n",
      "osx-64_nodejs-4.4.0-0\r\n",
      "osx-64_nodejs-4.4.0-0.tar.bz2\r\n",
      "output-2.pdf\r\n",
      "output-3.pdf\r\n",
      "output.pdf\r\n",
      "package\r\n",
      "pandoc-1.17.0.2-osx.pkg\r\n",
      "peerj-1979-2-rebuttal-1.docx\r\n",
      "peerj-1979.pdf\r\n",
      "peerj-preprints-922.pdf\r\n",
      "peerj-review-1979-1-1.pdf\r\n",
      "peerj-reviewing-10436-v0.pdf\r\n",
      "playground\r\n",
      "protein1.fasta\r\n",
      "proteochemometric-modeling-human.pdf\r\n",
      "rcdk\r\n",
      "rcdk_3.3.2.tar\r\n",
      "scala-2.11.8.tar\r\n",
      "scikit-learn Cookbook.pdf\r\n",
      "smsspamcollection\r\n",
      "spark-1.4.1-bin-hadoop2.6\r\n",
      "spark-1.4.1-bin-hadoop2.6.tar\r\n",
      "spark-kernel-master\r\n",
      "train.tsv\r\n",
      "whatever.csv\r\n",
      "whatever.csv.log\r\n"
     ]
    }
   ],
   "source": [
    "ls"
   ]
  },
  {
   "cell_type": "code",
   "execution_count": 42,
   "metadata": {
    "collapsed": false
   },
   "outputs": [
    {
     "name": "stdout",
     "output_type": "stream",
     "text": []
    }
   ],
   "source": [
    "rm -r playground"
   ]
  },
  {
   "cell_type": "code",
   "execution_count": 43,
   "metadata": {
    "collapsed": false
   },
   "outputs": [
    {
     "name": "stdout",
     "output_type": "stream",
     "text": [
      "type is a shell builtin\r\n"
     ]
    }
   ],
   "source": [
    "type type"
   ]
  },
  {
   "cell_type": "code",
   "execution_count": 44,
   "metadata": {
    "collapsed": false
   },
   "outputs": [
    {
     "name": "stdout",
     "output_type": "stream",
     "text": [
      "ls is hashed (/bin/ls)\r\n"
     ]
    }
   ],
   "source": [
    "type ls"
   ]
  },
  {
   "cell_type": "code",
   "execution_count": 45,
   "metadata": {
    "collapsed": false
   },
   "outputs": [
    {
     "name": "stdout",
     "output_type": "stream",
     "text": [
      "cp is /bin/cp\r\n"
     ]
    }
   ],
   "source": [
    "type cp"
   ]
  },
  {
   "cell_type": "code",
   "execution_count": 46,
   "metadata": {
    "collapsed": false
   },
   "outputs": [
    {
     "name": "stdout",
     "output_type": "stream",
     "text": [
      "/bin/ls\r\n"
     ]
    }
   ],
   "source": [
    "which ls"
   ]
  },
  {
   "cell_type": "code",
   "execution_count": 47,
   "metadata": {
    "collapsed": false
   },
   "outputs": [
    {
     "name": "stdout",
     "output_type": "stream",
     "text": [
      "/usr/bin/cd\r\n"
     ]
    }
   ],
   "source": [
    "which cd"
   ]
  },
  {
   "cell_type": "code",
   "execution_count": 48,
   "metadata": {
    "collapsed": false
   },
   "outputs": [
    {
     "name": "stdout",
     "output_type": "stream",
     "text": [
      "cd: cd [-L|-P] [dir]\r\n",
      "    Change the current directory to DIR.  The variable $HOME is the\r\n",
      "    default DIR.  The variable CDPATH defines the search path for\r\n",
      "    the directory containing DIR.  Alternative directory names in CDPATH\r\n",
      "    are separated by a colon (:).  A null directory name is the same as\r\n",
      "    the current directory, i.e. `.'.  If DIR begins with a slash (/),\r\n",
      "    then CDPATH is not used.  If the directory is not found, and the\r\n",
      "    shell option `cdable_vars' is set, then try the word as a variable\r\n",
      "    name.  If that variable has a value, then cd to the value of that\r\n",
      "    variable.  The -P option says to use the physical directory structure\r\n",
      "    instead of following symbolic links; the -L option forces symbolic links\r\n",
      "    to be followed.\r\n"
     ]
    }
   ],
   "source": [
    "help cd"
   ]
  },
  {
   "cell_type": "code",
   "execution_count": 49,
   "metadata": {
    "collapsed": false
   },
   "outputs": [
    {
     "name": "stdout",
     "output_type": "stream",
     "text": [
      "mkdir: illegal option -- -\r\n",
      "usage: mkdir [-pv] [-m mode] directory ...\r\n"
     ]
    }
   ],
   "source": [
    "mkdir --help"
   ]
  },
  {
   "cell_type": "code",
   "execution_count": 50,
   "metadata": {
    "collapsed": false
   },
   "outputs": [
    {
     "name": "stdout",
     "output_type": "stream",
     "text": [
      "\r\n",
      "LS(1)                     BSD General Commands Manual                    LS(1)\r\n",
      "\r\n",
      "N\bNA\bAM\bME\bE\r\n",
      "     l\bls\bs -- list directory contents\r\n",
      "\r\n",
      "S\bSY\bYN\bNO\bOP\bPS\bSI\bIS\bS\r\n",
      "     l\bls\bs [-\b-A\bAB\bBC\bCF\bFG\bGH\bHL\bLO\bOP\bPR\bRS\bST\bTU\bUW\bW@\b@a\bab\bbc\bcd\bde\bef\bfg\bgh\bhi\bik\bkl\blm\bmn\bno\bop\bpq\bqr\brs\bst\btu\buw\bwx\bx1\b1] [_\bf_\bi_\bl_\be _\b._\b._\b.]\r\n",
      "\r\n",
      "D\bDE\bES\bSC\bCR\bRI\bIP\bPT\bTI\bIO\bON\bN\r\n",
      "     For each operand that names a _\bf_\bi_\bl_\be of a type other than directory, l\bls\bs\r\n",
      "     displays its name as well as any requested, associated information.  For\r\n",
      "     each operand that names a _\bf_\bi_\bl_\be of type directory, l\bls\bs displays the names\r\n",
      "     of files contained within that directory, as well as any requested, asso-\r\n",
      "     ciated information.\r\n",
      "\r\n",
      "     If no operands are given, the contents of the current directory are dis-\r\n",
      "     played.  If more than one operand is given, non-directory operands are\r\n",
      "     displayed first; directory and non-directory operands are sorted sepa-\r\n",
      "     rately and in lexicographical order.\r\n",
      "\r\n",
      "     The following options are available:\r\n",
      "\r\n",
      "     -\b-@\b@      Display extended attribute keys and sizes in long (-\b-l\bl) output.\r\n",
      "\r\n",
      "     -\b-1\b1      (The numeric digit ``one''.)  Force output to be one entry per\r\n",
      "             line.  This is the default when output is not to a terminal.\r\n",
      "\r\n",
      "     -\b-A\bA      List all entries except for _\b. and _\b._\b..  Always set for the super-\r\n",
      "             user.\r\n",
      "\r\n",
      "     -\b-a\ba      Include directory entries whose names begin with a dot (_\b.).\r\n",
      "\r\n",
      "     -\b-B\bB      Force printing of non-printable characters (as defined by\r\n",
      "             ctype(3) and current locale settings) in file names as \\_\bx_\bx_\bx,\r\n",
      "             where _\bx_\bx_\bx is the numeric value of the character in octal.\r\n",
      "\r\n",
      "     -\b-b\bb      As -\b-B\bB, but use C escape codes whenever possible.\r\n",
      "\r\n",
      "     -\b-C\bC      Force multi-column output; this is the default when output is to\r\n",
      "             a terminal.\r\n",
      "\r\n",
      "     -\b-c\bc      Use time when file status was last changed for sorting (-\b-t\bt) or\r\n",
      "             long printing (-\b-l\bl).\r\n",
      "\r\n",
      "     -\b-d\bd      Directories are listed as plain files (not searched recursively).\r\n",
      "\r\n",
      "     -\b-e\be      Print the Access Control List (ACL) associated with the file, if\r\n",
      "             present, in long (-\b-l\bl) output.\r\n",
      "\r\n",
      "     -\b-F\bF      Display a slash (`/') immediately after each pathname that is a\r\n",
      "             directory, an asterisk (`*') after each that is executable, an at\r\n",
      "             sign (`@') after each symbolic link, an equals sign (`=') after\r\n",
      "             each socket, a percent sign (`%') after each whiteout, and a ver-\r\n",
      "             tical bar (`|') after each that is a FIFO.\r\n",
      "\r\n",
      "     -\b-f\bf      Output is not sorted.  This option turns on the -\b-a\ba option.\r\n",
      "\r\n",
      "     -\b-G\bG      Enable colorized output.  This option is equivalent to defining\r\n",
      "             CLICOLOR in the environment.  (See below.)\r\n",
      "\r\n",
      "     -\b-g\bg      This option is only available for compatibility with POSIX; it is\r\n",
      "             used to display the group name in the long (-\b-l\bl) format output\r\n",
      "             (the owner name is suppressed).\r\n",
      "\r\n",
      "     -\b-H\bH      Symbolic links on the command line are followed.  This option is\r\n",
      "             assumed if none of the -\b-F\bF, -\b-d\bd, or -\b-l\bl options are specified.\r\n",
      "\r\n",
      "     -\b-h\bh      When used with the -\b-l\bl option, use unit suffixes: Byte, Kilobyte,\r\n",
      "             Megabyte, Gigabyte, Terabyte and Petabyte in order to reduce the\r\n",
      "             number of digits to three or less using base 2 for sizes.\r\n",
      "\r\n",
      "     -\b-i\bi      For each file, print the file's file serial number (inode num-\r\n",
      "             ber).\r\n",
      "\r\n",
      "     -\b-k\bk      If the -\b-s\bs option is specified, print the file size allocation in\r\n",
      "             kilobytes, not blocks.  This option overrides the environment\r\n",
      "             variable BLOCKSIZE.\r\n",
      "\r\n",
      "     -\b-L\bL      Follow all symbolic links to final target and list the file or\r\n",
      "             directory the link references rather than the link itself.  This\r\n",
      "             option cancels the -\b-P\bP option.\r\n",
      "\r\n",
      "     -\b-l\bl      (The lowercase letter ``ell''.)  List in long format.  (See\r\n",
      "             below.)  If the output is to a terminal, a total sum for all the\r\n",
      "             file sizes is output on a line before the long listing.\r\n",
      "\r\n",
      "     -\b-m\bm      Stream output format; list files across the page, separated by\r\n",
      "             commas.\r\n",
      "\r\n",
      "     -\b-n\bn      Display user and group IDs numerically, rather than converting to\r\n",
      "             a user or group name in a long (-\b-l\bl) output.  This option turns on\r\n",
      "             the -\b-l\bl option.\r\n",
      "\r\n",
      "     -\b-O\bO      Include the file flags in a long (-\b-l\bl) output.\r\n",
      "\r\n",
      "     -\b-o\bo      List in long format, but omit the group id.\r\n",
      "\r\n",
      "     -\b-P\bP      If argument is a symbolic link, list the link itself rather than\r\n",
      "             the object the link references.  This option cancels the -\b-H\bH and\r\n",
      "             -\b-L\bL options.\r\n",
      "\r\n",
      "     -\b-p\bp      Write a slash (`/') after each filename if that file is a direc-\r\n",
      "             tory.\r\n",
      "\r\n",
      "     -\b-q\bq      Force printing of non-graphic characters in file names as the\r\n",
      "             character `?'; this is the default when output is to a terminal.\r\n",
      "\r\n",
      "     -\b-R\bR      Recursively list subdirectories encountered.\r\n",
      "\r\n",
      "     -\b-r\br      Reverse the order of the sort to get reverse lexicographical\r\n",
      "             order or the oldest entries first (or largest files last, if com-\r\n",
      "             bined with sort by size\r\n",
      "\r\n",
      "     -\b-S\bS      Sort files by size\r\n",
      "\r\n",
      "     -\b-s\bs      Display the number of file system blocks actually used by each\r\n",
      "             file, in units of 512 bytes, where partial units are rounded up\r\n",
      "             to the next integer value.  If the output is to a terminal, a\r\n",
      "             total sum for all the file sizes is output on a line before the\r\n",
      "             listing.  The environment variable BLOCKSIZE overrides the unit\r\n",
      "             size of 512 bytes.\r\n",
      "\r\n",
      "     -\b-T\bT      When used with the -\b-l\bl (lowercase letter ``ell'') option, display\r\n",
      "             complete time information for the file, including month, day,\r\n",
      "             hour, minute, second, and year.\r\n",
      "\r\n",
      "     -\b-t\bt      Sort by time modified (most recently modified first) before sort-\r\n",
      "             ing the operands by lexicographical order.\r\n",
      "\r\n",
      "     -\b-u\bu      Use time of last access, instead of last modification of the file\r\n",
      "             for sorting (-\b-t\bt) or long printing (-\b-l\bl).\r\n",
      "\r\n",
      "     -\b-U\bU      Use time of file creation, instead of last modification for sort-\r\n",
      "             ing (-\b-t\bt) or long output (-\b-l\bl).\r\n",
      "\r\n",
      "     -\b-v\bv      Force unedited printing of non-graphic characters; this is the\r\n",
      "             default when output is not to a terminal.\r\n",
      "\r\n",
      "     -\b-W\bW      Display whiteouts when scanning directories.  (-\b-S\bS) flag).\r\n",
      "\r\n",
      "     -\b-w\bw      Force raw printing of non-printable characters.  This is the\r\n",
      "             default when output is not to a terminal.\r\n",
      "\r\n",
      "     -\b-x\bx      The same as -\b-C\bC, except that the multi-column output is produced\r\n",
      "             with entries sorted across, rather than down, the columns.\r\n",
      "\r\n",
      "     The -\b-1\b1, -\b-C\bC, -\b-x\bx, and -\b-l\bl options all override each other; the last one\r\n",
      "     specified determines the format used.\r\n",
      "\r\n",
      "     The -\b-c\bc and -\b-u\bu options override each other; the last one specified deter-\r\n",
      "     mines the file time used.\r\n",
      "\r\n",
      "     The -\b-B\bB, -\b-b\bb, -\b-w\bw, and -\b-q\bq options all override each other; the last one\r\n",
      "     specified determines the format used for non-printable characters.\r\n",
      "\r\n",
      "     The -\b-H\bH, -\b-L\bL and -\b-P\bP options all override each other (either partially or\r\n",
      "     fully); they are applied in the order specified.\r\n",
      "\r\n",
      "     By default, l\bls\bs lists one entry per line to standard output; the excep-\r\n",
      "     tions are to terminals or when the -\b-C\bC or -\b-x\bx options are specified.\r\n",
      "\r\n",
      "     File information is displayed with one or more <blank>s separating the\r\n",
      "     information associated with the -\b-i\bi, -\b-s\bs, and -\b-l\bl options.\r\n",
      "\r\n",
      "   T\bTh\bhe\be L\bLo\bon\bng\bg F\bFo\bor\brm\bma\bat\bt\r\n",
      "     If the -\b-l\bl option is given, the following information is displayed for\r\n",
      "     each file: file mode, number of links, owner name, group name, number of\r\n",
      "     bytes in the file, abbreviated month, day-of-month file was last modi-\r\n",
      "     fied, hour file last modified, minute file last modified, and the path-\r\n",
      "     name.  In addition, for each directory whose contents are displayed, the\r\n",
      "     total number of 512-byte blocks used by the files in the directory is\r\n",
      "     displayed on a line by itself, immediately before the information for the\r\n",
      "     files in the directory.  If the file or directory has extended\r\n",
      "     attributes, the permissions field printed by the -\b-l\bl option is followed by\r\n",
      "     a '@' character.  Otherwise, if the file or directory has extended secu-\r\n",
      "     rity information (such as an access control list), the permissions field\r\n",
      "     printed by the -\b-l\bl option is followed by a '+' character.\r\n",
      "\r\n",
      "     If the modification time of the file is more than 6 months in the past or\r\n",
      "     future, then the year of the last modification is displayed in place of\r\n",
      "     the hour and minute fields.\r\n",
      "\r\n",
      "     If the owner or group names are not a known user or group name, or the -\b-n\bn\r\n",
      "     option is given, the numeric ID's are displayed.\r\n",
      "\r\n",
      "     If the file is a character special or block special file, the major and\r\n",
      "     minor device numbers for the file are displayed in the size field.  If\r\n",
      "     the file is a symbolic link, the pathname of the linked-to file is pre-\r\n",
      "     ceded by ``->''.\r\n",
      "\r\n",
      "     The file mode printed under the -\b-l\bl option consists of the entry type,\r\n",
      "     owner permissions, and group permissions.  The entry type character\r\n",
      "     describes the type of file, as follows:\r\n",
      "\r\n",
      "           b\bb     Block special file.\r\n",
      "           c\bc     Character special file.\r\n",
      "           d\bd     Directory.\r\n",
      "           l\bl     Symbolic link.\r\n",
      "           s\bs     Socket link.\r\n",
      "           p\bp     FIFO.\r\n",
      "           -\b-     Regular file.\r\n",
      "\r\n",
      "     The next three fields are three characters each: owner permissions, group\r\n",
      "     permissions, and other permissions.  Each field has three character posi-\r\n",
      "     tions:\r\n",
      "\r\n",
      "           1.   If r\br, the file is readable; if -\b-, it is not readable.\r\n",
      "\r\n",
      "           2.   If w\bw, the file is writable; if -\b-, it is not writable.\r",
      "\r\n",
      "\r\n",
      "           3.   The first of the following that applies:\r\n",
      "\r\n",
      "                      S\bS     If in the owner permissions, the file is not exe-\r\n",
      "                            cutable and set-user-ID mode is set.  If in the\r\n",
      "                            group permissions, the file is not executable and\r\n",
      "                            set-group-ID mode is set.\r\n",
      "\r\n",
      "                      s\bs     If in the owner permissions, the file is exe-\r\n",
      "                            cutable and set-user-ID mode is set.  If in the\r\n",
      "                            group permissions, the file is executable and set-\r\n",
      "                            group-ID mode is set.\r\n",
      "\r\n",
      "                      x\bx     The file is executable or the directory is search-\r\n",
      "                            able.\r\n",
      "\r\n",
      "                      -\b-     The file is neither readable, writable, exe-\r\n",
      "                            cutable, nor set-user-ID nor set-group-ID mode,\r\n",
      "                            nor sticky.  (See below.)\r\n",
      "\r\n",
      "                These next two apply only to the third character in the last\r\n",
      "                group (other permissions).\r\n",
      "\r\n",
      "                      T\bT     The sticky bit is set (mode 1000), but not execute\r\n",
      "                            or search permission.  (See chmod(1) or\r\n",
      "                            sticky(8).)\r\n",
      "\r\n",
      "                      t\bt     The sticky bit is set (mode 1000), and is search-\r\n",
      "                            able or executable.  (See chmod(1) or sticky(8).)\r\n",
      "\r\n",
      "E\bEX\bXA\bAM\bMP\bPL\bLE\bES\bS\r\n",
      "     The following is how to do an l\bls\bs listing sorted by increasing size\r\n",
      "\r\n",
      "           ls -lrS\r\n",
      "\r\n",
      "D\bDI\bIA\bAG\bGN\bNO\bOS\bST\bTI\bIC\bCS\bS\r\n",
      "     The l\bls\bs utility exits 0 on success, and >0 if an error occurs.\r\n",
      "\r\n",
      "E\bEN\bNV\bVI\bIR\bRO\bON\bNM\bME\bEN\bNT\bT\r\n",
      "     The following environment variables affect the execution of l\bls\bs:\r\n",
      "\r\n",
      "     BLOCKSIZE       If the environment variable BLOCKSIZE is set, the block\r\n",
      "                     counts (see -\b-s\bs) will be displayed in units of that size\r\n",
      "                     block.\r\n",
      "\r\n",
      "     CLICOLOR        Use ANSI color sequences to distinguish file types.  See\r\n",
      "                     LSCOLORS below.  In addition to the file types mentioned\r\n",
      "                     in the -\b-F\bF option some extra attributes (setuid bit set,\r\n",
      "                     etc.) are also displayed.  The colorization is dependent\r\n",
      "                     on a terminal type with the proper termcap(5) capabili-\r\n",
      "                     ties.  The default ``cons25'' console has the proper\r\n",
      "                     capabilities, but to display the colors in an xterm(1),\r\n",
      "                     for example, the TERM variable must be set to\r\n",
      "                     ``xterm-color''.  Other terminal types may require simi-\r\n",
      "                     lar adjustments.  Colorization is silently disabled if\r\n",
      "                     the output isn't directed to a terminal unless the\r\n",
      "                     CLICOLOR_FORCE variable is defined.\r\n",
      "\r\n",
      "     CLICOLOR_FORCE  Color sequences are normally disabled if the output isn't\r\n",
      "                     directed to a terminal.  This can be overridden by set-\r\n",
      "                     ting this flag.  The TERM variable still needs to refer-\r\n",
      "                     ence a color capable terminal however otherwise it is not\r\n",
      "                     possible to determine which color sequences to use.\r\n",
      "\r\n",
      "     COLUMNS         If this variable contains a string representing a decimal\r\n",
      "                     integer, it is used as the column position width for dis-\r\n",
      "                     playing multiple-text-column output.  The l\bls\bs utility cal-\r\n",
      "                     culates how many pathname text columns to display based\r\n",
      "                     on the width provided.  (See -\b-C\bC and -\b-x\bx.)\r\n",
      "\r\n",
      "     LANG            The locale to use when determining the order of day and\r\n",
      "                     month in the long -\b-l\bl format output.  See environ(7) for\r\n",
      "                     more information.\r\n",
      "\r\n",
      "     LSCOLORS        The value of this variable describes what color to use\r\n",
      "                     for which attribute when colors are enabled with\r\n",
      "                     CLICOLOR.  This string is a concatenation of pairs of the\r\n",
      "                     format _\bf_\bb, where _\bf is the foreground color and _\bb is the\r\n",
      "                     background color.\r\n",
      "\r\n",
      "                     The color designators are as follows:\r\n",
      "\r\n",
      "                           a\ba     black\r\n",
      "                           b\bb     red\r\n",
      "                           c\bc     green\r\n",
      "                           d\bd     brown\r\n",
      "                           e\be     blue\r\n",
      "                           f\bf     magenta\r\n",
      "                           g\bg     cyan\r\n",
      "                           h\bh     light grey\r\n",
      "                           A\bA     bold black, usually shows up as dark grey\r\n",
      "                           B\bB     bold red\r\n",
      "                           C\bC     bold green\r\n",
      "                           D\bD     bold brown, usually shows up as yellow\r\n",
      "                           E\bE     bold blue\r\n",
      "                           F\bF     bold magenta\r\n",
      "                           G\bG     bold cyan\r\n",
      "                           H\bH     bold light grey; looks like bright white\r\n",
      "                           x\bx     default foreground or background\r\n",
      "\r\n",
      "                     Note that the above are standard ANSI colors.  The actual\r\n",
      "                     display may differ depending on the color capabilities of\r\n",
      "                     the terminal in use.\r\n",
      "\r\n",
      "                     The order of the attributes are as follows:\r\n",
      "\r\n",
      "                           1.   directory\r\n",
      "                           2.   symbolic link\r\n",
      "                           3.   socket\r\n",
      "                           4.   pipe\r\n",
      "                           5.   executable\r\n",
      "                           6.   block special\r\n",
      "                           7.   character special\r\n",
      "                           8.   executable with setuid bit set\r\n",
      "                           9.   executable with setgid bit set\r\n",
      "                           10.  directory writable to others, with sticky bit\r\n",
      "                           11.  directory writable to others, without sticky\r\n",
      "                                bit\r\n",
      "\r\n",
      "                     The default is \"exfxcxdxbxegedabagacad\", i.e. blue fore-\r\n",
      "                     ground and default background for regular directories,\r\n",
      "                     black foreground and red background for setuid executa-\r\n",
      "                     bles, etc.\r\n",
      "\r\n",
      "     LS_COLWIDTHS    If this variable is set, it is considered to be a colon-\r\n",
      "                     delimited list of minimum column widths.  Unreasonable\r\n",
      "                     and insufficient widths are ignored (thus zero signifies\r\n",
      "                     a dynamically sized column).  Not all columns have\r\n",
      "                     changeable widths.  The fields are, in order: inode,\r\n",
      "                     block count, number of links, user name, group name,\r\n",
      "                     flags, file size, file name.\r\n",
      "\r\n",
      "     TERM            The CLICOLOR functionality depends on a terminal type\r\n",
      "                     with color capabilities.\r\n",
      "\r\n",
      "     TZ              The timezone to use when displaying dates.  See\r\n",
      "                     environ(7) for more information.\r\n",
      "\r\n",
      "C\bCO\bOM\bMP\bPA\bAT\bTI\bIB\bBI\bIL\bLI\bIT\bTY\bY\r\n",
      "     The group field is now automatically included in the long listing for\r\n",
      "     files in order to be compatible with the IEEE Std 1003.2 (``POSIX.2'')\r\n",
      "     specification.\r\n",
      "\r\n",
      "L\bLE\bEG\bGA\bAC\bCY\bY D\bDE\bES\bSC\bCR\bRI\bIP\bPT\bTI\bIO\bON\bN\r\n",
      "     In legacy mode, the -\b-f\bf option does not turn on the -\b-a\ba option and the -\b-g\bg,\r\n",
      "     -\b-n\bn, and -\b-o\bo options do not turn on the -\b-l\bl option.\r\n",
      "\r\n",
      "     Also, the -\b-o\bo option causes the file flags to be included in a long (-l)\r\n",
      "     output; there is no -\b-O\bO option.\r\n",
      "\r\n",
      "     When -\b-H\bH is specified (and not overridden by -\b-L\bL or -\b-P\bP) and a file argument\r\n",
      "     is a symlink that resolves to a non-directory file, the output will\r\n",
      "     reflect the nature of the link, rather than that of the file.  In legacy\r\n",
      "     operation, the output will describe the file.\r\n",
      "\r\n",
      "     For more information about legacy mode, see compat(5).\r\n",
      "\r\n",
      "S\bSE\bEE\bE A\bAL\bLS\bSO\bO\r\n",
      "     chflags(1), chmod(1), sort(1), xterm(1), compat(5), termcap(5),\r\n",
      "     symlink(7), sticky(8)\r\n",
      "\r\n",
      "S\bST\bTA\bAN\bND\bDA\bAR\bRD\bDS\bS\r\n",
      "     The l\bls\bs utility conforms to IEEE Std 1003.1-2001 (``POSIX.1'').\r\n",
      "\r\n",
      "H\bHI\bIS\bST\bTO\bOR\bRY\bY\r\n",
      "     An l\bls\bs command appeared in Version 1 AT&T UNIX.\r\n",
      "\r\n",
      "B\bBU\bUG\bGS\bS\r\n",
      "     To maintain backward compatibility, the relationships between the many\r\n",
      "     options are quite complex.\r\n",
      "\r\n",
      "BSD                              May 19, 2002                              BSD\r\n"
     ]
    }
   ],
   "source": [
    "man ls"
   ]
  },
  {
   "cell_type": "code",
   "execution_count": 51,
   "metadata": {
    "collapsed": false
   },
   "outputs": [
    {
     "name": "stdout",
     "output_type": "stream",
     "text": [
      "\r\n",
      "PASSWD(5)                   BSD File Formats Manual                  PASSWD(5)\r\n",
      "\r\n",
      "N\bNA\bAM\bME\bE\r\n",
      "     p\bpa\bas\bss\bsw\bwd\bd, m\bma\bas\bst\bte\ber\br.\b.p\bpa\bas\bss\bsw\bwd\bd -- format of the password file\r\n",
      "\r\n",
      "D\bDE\bES\bSC\bCR\bRI\bIP\bPT\bTI\bIO\bON\bN\r\n",
      "     The /etc/passwd file is a legacy BSD 4.3 format file.  It is mostly\r\n",
      "     unused, but is updated by some utility programs.  Its format is similar\r\n",
      "     to the /etc/master.passwd file, except that it does not contain the\r\n",
      "     _\bc_\bl_\ba_\bs_\bs, _\bc_\bh_\ba_\bn_\bg_\be, and _\be_\bx_\bp_\bi_\br_\be fields described below.\r\n",
      "\r\n",
      "     The /etc/master.passwd file comprises newline separated records, one per\r\n",
      "     user.  Each line contains ten colon (``:'') separated fields.  These\r\n",
      "     fields are as follows:\r\n",
      "\r\n",
      "           name      User's login name.\r\n",
      "\r\n",
      "           password  User's _\be_\bn_\bc_\br_\by_\bp_\bt_\be_\bd password.\r\n",
      "\r\n",
      "           uid       User's id.\r\n",
      "\r\n",
      "           gid       User's login group id.\r\n",
      "\r\n",
      "           class     User's general classification (unused).\r\n",
      "\r\n",
      "           change    Password change time.\r\n",
      "\r\n",
      "           expire    Account expiration time.\r\n",
      "\r\n",
      "           gecos     User's full name.\r\n",
      "\r\n",
      "           home_dir  User's home directory.\r\n",
      "\r\n",
      "           shell     User's login shell.\r\n",
      "\r\n",
      "     The _\bn_\ba_\bm_\be field is the login used to access the computer account, and the\r\n",
      "     _\bu_\bi_\bd field is the number associated with it.  They should both be unique\r\n",
      "     across the system (and often across a group of systems) since they con-\r\n",
      "     trol file access.\r\n",
      "\r\n",
      "     While it is possible to have multiple entries with identical login names\r\n",
      "     and/or identical user id's, it is usually a mistake to do so.  Routines\r\n",
      "     that manipulate these files will often return only one of the multiple\r\n",
      "     entries, and that one by random selection.\r\n",
      "\r\n",
      "     The login name must never begin with a hyphen (``-''); also, it is\r\n",
      "     strongly suggested that neither upper-case characters or dots (``.'') be\r\n",
      "     part of the name, as this tends to confuse mailers.  No field may contain\r\n",
      "     a colon (``:'') as this has been used historically to separate the fields\r\n",
      "     in the user database.\r\n",
      "\r\n",
      "     The _\bp_\ba_\bs_\bs_\bw_\bo_\br_\bd field is the _\be_\bn_\bc_\br_\by_\bp_\bt_\be_\bd form of the password.  If the\r\n",
      "     _\bp_\ba_\bs_\bs_\bw_\bo_\br_\bd field is empty, no password will be required to gain access to\r\n",
      "     the machine.  This is almost invariably a mistake.  Because these files\r\n",
      "     contain the encrypted user passwords, they should not be readable by any-\r\n",
      "     one without appropriate privileges.\r\n",
      "\r\n",
      "     The _\bg_\br_\bo_\bu_\bp field is the group that the user will be placed in upon login.\r\n",
      "     Since this system supports multiple groups (see groups(1)) this field\r\n",
      "     currently has little special meaning.\r\n",
      "\r\n",
      "     The _\bc_\bl_\ba_\bs_\bs field is currently unused.\r\n",
      "\r\n",
      "     The _\bc_\bh_\ba_\bn_\bg_\be field is the number in seconds, GMT, from the epoch, until the\r\n",
      "     password for the account must be changed.  This field may be left empty\r\n",
      "     to turn off the password aging feature.\r\n",
      "\r\n",
      "     The _\be_\bx_\bp_\bi_\br_\be field is the number in seconds, GMT, from the epoch, until the\r\n",
      "     account expires.  This field may be left empty to turn off the account\r\n",
      "     aging feature.\r\n",
      "\r\n",
      "     The _\bg_\be_\bc_\bo_\bs field normally contains the user's full name.  Note that Mac OS\r\n",
      "     X differs from some other operating systems, where the _\bg_\be_\bc_\bo_\bs field may\r\n",
      "     contain other comma-separcted information about the user.\r\n",
      "\r\n",
      "     The _\bh_\bo_\bm_\be_\b__\bd_\bi_\br field is the user's home directory.  This is the full path\r\n",
      "     name where the user will be placed on login.\r\n",
      "\r\n",
      "     The _\bs_\bh_\be_\bl_\bl field is the command interpreter the user prefers.  If there is\r\n",
      "     nothing in the _\bs_\bh_\be_\bl_\bl field, the Bourne shell (_\b/_\bb_\bi_\bn_\b/_\bs_\bh) is assumed.\r\n",
      "\r\n",
      "I\bIN\bNT\bTE\bER\bRA\bAC\bCT\bTI\bIO\bON\bN W\bWI\bIT\bTH\bH D\bDI\bIR\bRE\bEC\bCT\bTO\bOR\bRY\bY S\bSE\bER\bRV\bVI\bIC\bCE\bES\bS\r\n",
      "     Processes generally find user records using one of the getpwent(3) family\r\n",
      "     of functions.  On Mac OS X, these functions interact with the\r\n",
      "     DirectoryService(8) daemon, which reads the /etc/master.passwd file as\r\n",
      "     well as searching other directory information services to find user\r\n",
      "     accounts.\r\n",
      "\r\n",
      "F\bFI\bIL\bLE\bES\bS\r\n",
      "     /etc/passwd\r\n",
      "     /etc/master.passwd\r\n",
      "\r\n",
      "S\bSE\bEE\bE A\bAL\bLS\bSO\bO\r\n",
      "     chpass(1), login(1), passwd(1), getpwent(3), netgroup(5),\r\n",
      "     DirectoryService(8), pwd_mkdb(8), vipw(8)\r\n",
      "\r\n",
      "H\bHI\bIS\bST\bTO\bOR\bRY\bY\r\n",
      "     A p\bpa\bas\bss\bsw\bwd\bd file format appeared in Version 6 AT&T UNIX.\r\n",
      "\r\n",
      "BSD                              July 18, 1995                             BSD\r\n"
     ]
    }
   ],
   "source": [
    "man 5 passwd"
   ]
  },
  {
   "cell_type": "code",
   "execution_count": 52,
   "metadata": {
    "collapsed": false
   },
   "outputs": [
    {
     "name": "stdout",
     "output_type": "stream",
     "text": [
      "floppy: nothing appropriate\r\n"
     ]
    }
   ],
   "source": [
    "apropos floppy"
   ]
  },
  {
   "cell_type": "code",
   "execution_count": 53,
   "metadata": {
    "collapsed": false
   },
   "outputs": [
    {
     "name": "stdout",
     "output_type": "stream",
     "text": [
      "builtin(1), !(1), %(1), .(1), :(1), @(1), {(1), }(1), alias(1), alloc(1), bg(1), bind(1), bindkey(1), break(1), breaksw(1), builtins(1), case(1), cd(1), chdir(1), command(1), complete(1), continue(1), default(1), dirs(1), do(1), done(1), echo(1), echotc(1), elif(1), else(1), end(1), endif(1), endsw(1), esac(1), eval(1), exec(1), exit(1), export(1), false(1), fc(1), fg(1), filetest(1), fi(1), for(1), foreach(1), getopts(1), glob(1), goto(1), hash(1), hashstat(1), history(1), hup(1), if(1), jobid(1), jobs(1), kill(1), limit(1), local(1), log(1), login(1), logout(1), ls-F(1), nice(1), nohup(1), notify(1), onintr(1), popd(1), printenv(1), pushd(1), pwd(1), read(1), readonly(1), rehash(1), repeat(1), return(1), sched(1), set(1), setenv(1), settc(1), setty(1), setvar(1), shift(1), source(1), stop(1), suspend(1), switch(1), telltc(1), test(1), then(1), time(1), times(1), trap(1), true(1), type(1), ulimit(1), umask(1), unalias(1), uncomplete(1), unhash(1), unlimit(1), unset(1), unsetenv(1), until(1), wait(1), where(1), which(1), while(1) - shell built-in commands\r\n",
      "ls(1)                    - list directory contents\r\n"
     ]
    }
   ],
   "source": [
    "whatis ls"
   ]
  },
  {
   "cell_type": "code",
   "execution_count": 54,
   "metadata": {
    "collapsed": false
   },
   "outputs": [
    {
     "name": "stdout",
     "output_type": "stream",
     "text": [
      "X11\t\tbin\t\tlibexec\t\tshare\r\n",
      "X11R6\t\tinclude\t\tlocal\t\tstandalone\r\n",
      "adic\t\tlib\t\tsbin\r\n",
      "/Users/saw/Downloads\r\n"
     ]
    }
   ],
   "source": [
    "cd /usr; ls; cd -"
   ]
  },
  {
   "cell_type": "code",
   "execution_count": 55,
   "metadata": {
    "collapsed": false
   },
   "outputs": [
    {
     "name": "stdout",
     "output_type": "stream",
     "text": [
      "test is a shell builtin\r\n"
     ]
    }
   ],
   "source": [
    "type test"
   ]
  },
  {
   "cell_type": "code",
   "execution_count": 56,
   "metadata": {
    "collapsed": false
   },
   "outputs": [
    {
     "name": "stdout",
     "output_type": "stream",
     "text": [
      "bash: type: foo: not found\r\n"
     ]
    }
   ],
   "source": [
    "type foo"
   ]
  },
  {
   "cell_type": "code",
   "execution_count": 58,
   "metadata": {
    "collapsed": false
   },
   "outputs": [
    {
     "name": "stdout",
     "output_type": "stream",
     "text": []
    }
   ],
   "source": [
    "alias foo='cd /usr; ls; cd -'"
   ]
  },
  {
   "cell_type": "code",
   "execution_count": 59,
   "metadata": {
    "collapsed": false
   },
   "outputs": [
    {
     "name": "stdout",
     "output_type": "stream",
     "text": [
      "X11\t\tbin\t\tlibexec\t\tshare\r\n",
      "X11R6\t\tinclude\t\tlocal\t\tstandalone\r\n",
      "adic\t\tlib\t\tsbin\r\n",
      "/Users/saw/Downloads\r\n"
     ]
    }
   ],
   "source": [
    "foo"
   ]
  },
  {
   "cell_type": "code",
   "execution_count": 60,
   "metadata": {
    "collapsed": false
   },
   "outputs": [
    {
     "name": "stdout",
     "output_type": "stream",
     "text": [
      "foo is aliased to `cd /usr; ls; cd -'\r\n"
     ]
    }
   ],
   "source": [
    "type foo"
   ]
  },
  {
   "cell_type": "code",
   "execution_count": 61,
   "metadata": {
    "collapsed": false
   },
   "outputs": [
    {
     "name": "stdout",
     "output_type": "stream",
     "text": []
    }
   ],
   "source": [
    "unalias foo"
   ]
  },
  {
   "cell_type": "code",
   "execution_count": 62,
   "metadata": {
    "collapsed": false
   },
   "outputs": [
    {
     "name": "stdout",
     "output_type": "stream",
     "text": [
      "bash: type: foo: not found\r\n"
     ]
    }
   ],
   "source": [
    "type foo"
   ]
  },
  {
   "cell_type": "code",
   "execution_count": 63,
   "metadata": {
    "collapsed": false
   },
   "outputs": [
    {
     "name": "stdout",
     "output_type": "stream",
     "text": [
      "ls is hashed (/bin/ls)\r\n"
     ]
    }
   ],
   "source": [
    "type ls"
   ]
  },
  {
   "cell_type": "code",
   "execution_count": 64,
   "metadata": {
    "collapsed": false
   },
   "outputs": [
    {
     "name": "stdout",
     "output_type": "stream",
     "text": []
    }
   ],
   "source": [
    "alias"
   ]
  },
  {
   "cell_type": "code",
   "execution_count": 1,
   "metadata": {
    "collapsed": false
   },
   "outputs": [
    {
     "name": "stdout",
     "output_type": "stream",
     "text": []
    }
   ],
   "source": [
    "ls -l /usr/bin > ls-output.txt"
   ]
  },
  {
   "cell_type": "code",
   "execution_count": 2,
   "metadata": {
    "collapsed": false
   },
   "outputs": [
    {
     "name": "stdout",
     "output_type": "stream",
     "text": [
      "-rw-r--r--  1 saw  staff  68377 May 27 12:39 ls-output.txt\r\n"
     ]
    }
   ],
   "source": [
    "ls -l ls-output.txt"
   ]
  },
  {
   "cell_type": "code",
   "execution_count": 1,
   "metadata": {
    "collapsed": false
   },
   "outputs": [
    {
     "name": "stdout",
     "output_type": "stream",
     "text": [
      "-rw-r--r--  1 saw  staff  68377 May 27 12:39 ls-output.txt\r\n"
     ]
    }
   ],
   "source": [
    "ls -l ls-output.txt"
   ]
  },
  {
   "cell_type": "code",
   "execution_count": 2,
   "metadata": {
    "collapsed": false
   },
   "outputs": [
    {
     "name": "stdout",
     "output_type": "stream",
     "text": [
      "bash: ls-output.txt: command not found\r\n"
     ]
    }
   ],
   "source": [
    "ls-output.txt"
   ]
  },
  {
   "cell_type": "code",
   "execution_count": 3,
   "metadata": {
    "collapsed": false
   },
   "outputs": [
    {
     "name": "stdout",
     "output_type": "stream",
     "text": []
    }
   ],
   "source": [
    "ls -l /usr/bin >> ls-output.txt"
   ]
  },
  {
   "cell_type": "code",
   "execution_count": 4,
   "metadata": {
    "collapsed": false
   },
   "outputs": [
    {
     "name": "stdout",
     "output_type": "stream",
     "text": []
    }
   ],
   "source": [
    "ls -l /usr/bin >> ls-output.txt"
   ]
  },
  {
   "cell_type": "code",
   "execution_count": 5,
   "metadata": {
    "collapsed": false
   },
   "outputs": [
    {
     "name": "stdout",
     "output_type": "stream",
     "text": []
    }
   ],
   "source": [
    "ls -l /usr/bin >> ls-output.txt"
   ]
  },
  {
   "cell_type": "code",
   "execution_count": 6,
   "metadata": {
    "collapsed": false
   },
   "outputs": [
    {
     "name": "stdout",
     "output_type": "stream",
     "text": []
    }
   ],
   "source": [
    "ls -l /usr/bin >> ls-output.txt"
   ]
  },
  {
   "cell_type": "code",
   "execution_count": 7,
   "metadata": {
    "collapsed": false
   },
   "outputs": [
    {
     "name": "stdout",
     "output_type": "stream",
     "text": [
      "-rw-r--r--  1 saw  staff  341885 May 27 12:43 ls-output.txt\r\n"
     ]
    }
   ],
   "source": [
    "ls -l ls-output.txt"
   ]
  },
  {
   "cell_type": "code",
   "execution_count": 8,
   "metadata": {
    "collapsed": false
   },
   "outputs": [
    {
     "name": "stdout",
     "output_type": "stream",
     "text": [
      "-rwxr-xr-x   1 root   wheel     48113 Aug  1  2015 zipdetails5.16\r\n",
      "-rwxr-xr-x   1 root   wheel     48113 Aug  1  2015 zipdetails5.18\r\n",
      "-rwxr-xr-x   1 root   wheel      1188 Aug  1  2015 zipgrep\r\n",
      "-rwxr-xr-x   1 root   wheel    166320 Dec  3 13:34 zipinfo\r\n",
      "-rwxr-xr-x   1 root   wheel     73136 Dec  3 13:33 zipnote\r\n",
      "-rwxr-xr-x   1 root   wheel     77376 Dec  3 13:33 zipsplit\r\n",
      "-rwxr-xr-x   2 root   wheel      2077 Oct 28  2015 zless\r\n",
      "-rwxr-xr-x   2 root   wheel      2077 Oct 28  2015 zmore\r\n",
      "-rwxr-xr-x   1 root   wheel      3376 Oct 28  2015 znew\r\n",
      "-rwxr-xr-x   1 root   wheel     74480 Jan 14 09:13 zprint\r\n"
     ]
    }
   ],
   "source": [
    "tail ls-output.txt"
   ]
  },
  {
   "cell_type": "code",
   "execution_count": 9,
   "metadata": {
    "collapsed": false
   },
   "outputs": [
    {
     "name": "stdout",
     "output_type": "stream",
     "text": [
      "total 102656\r\n",
      "-rwxr-xr-x   5 root   wheel       925 Oct 24  2015 2to3\r\n",
      "-rwxr-xr-x   5 root   wheel       925 Oct 24  2015 2to3-\r\n",
      "lrwxr-xr-x   1 root   wheel        74 Dec 18 18:22 2to3-2.7 -> ../../System/Library/Frameworks/Python.framework/Versions/2.7/bin/2to3-2.7\r\n",
      "lrwxr-xr-x   1 root   wheel        73 Dec 18 18:22 2to32.6 -> ../../System/Library/Frameworks/Python.framework/Versions/2.6/bin/2to32.6\r\n",
      "-rwxr-xr-x   1 root   wheel     18208 Jan 14 09:12 BuildStrings\r\n",
      "-rwxr-xr-x   1 root   wheel     18176 Jan 14 09:12 CpMac\r\n",
      "-rwxr-xr-x   1 root   wheel     18176 Jan 14 09:13 DeRez\r\n",
      "-rwxr-xr-x   1 root   wheel     18208 Jan 14 09:13 GetFileInfo\r\n",
      "-rwxr-xr-x   1 root   wheel     18176 Jan 14 09:10 MergePef\r\n"
     ]
    }
   ],
   "source": [
    "head ls-output.txt"
   ]
  },
  {
   "cell_type": "code",
   "execution_count": 10,
   "metadata": {
    "collapsed": false
   },
   "outputs": [
    {
     "name": "stdout",
     "output_type": "stream",
     "text": []
    }
   ],
   "source": [
    "ls -l /bin/usr 2> ls-error.txt"
   ]
  },
  {
   "cell_type": "code",
   "execution_count": 11,
   "metadata": {
    "collapsed": false
   },
   "outputs": [
    {
     "name": "stdout",
     "output_type": "stream",
     "text": []
    }
   ],
   "source": [
    "ls -l /bin/usr > ls-output.txt 2>&1"
   ]
  },
  {
   "cell_type": "code",
   "execution_count": 12,
   "metadata": {
    "collapsed": false
   },
   "outputs": [
    {
     "name": "stdout",
     "output_type": "stream",
     "text": []
    }
   ],
   "source": [
    "ls -l /bin/usr &> ls-output.txt"
   ]
  },
  {
   "cell_type": "code",
   "execution_count": 13,
   "metadata": {
    "collapsed": false
   },
   "outputs": [
    {
     "name": "stdout",
     "output_type": "stream",
     "text": []
    }
   ],
   "source": [
    "ls -l /bin/usr 2> /dev/null"
   ]
  },
  {
   "cell_type": "code",
   "execution_count": 14,
   "metadata": {
    "collapsed": false
   },
   "outputs": [
    {
     "name": "stdout",
     "output_type": "stream",
     "text": [
      "ls: /bin/usr: No such file or directory\r\n"
     ]
    }
   ],
   "source": [
    "cat ls-output.txt"
   ]
  },
  {
   "cell_type": "code",
   "execution_count": 15,
   "metadata": {
    "collapsed": false
   },
   "outputs": [
    {
     "name": "stdout",
     "output_type": "stream",
     "text": [
      "/Users/saw/Downloads\r\n"
     ]
    }
   ],
   "source": [
    "pwd"
   ]
  },
  {
   "cell_type": "code",
   "execution_count": 16,
   "metadata": {
    "collapsed": false
   },
   "outputs": [
    {
     "name": "stdout",
     "output_type": "stream",
     "text": [
      "\r\n"
     ]
    }
   ],
   "source": [
    "cat"
   ]
  },
  {
   "cell_type": "code",
   "execution_count": 17,
   "metadata": {
    "collapsed": false
   },
   "outputs": [
    {
     "name": "stdout",
     "output_type": "stream",
     "text": [
      "\r\n"
     ]
    }
   ],
   "source": [
    "cat\n",
    "The quick brown fox jumped over the lazy dog.\n",
    "The quick brown fox jumped over the lazy dog."
   ]
  },
  {
   "cell_type": "code",
   "execution_count": 18,
   "metadata": {
    "collapsed": false
   },
   "outputs": [
    {
     "name": "stdout",
     "output_type": "stream",
     "text": [
      "\r\n"
     ]
    }
   ],
   "source": [
    "cat > lazy_dog.txt\n",
    "The quick brown fox jumped over the lazy dog."
   ]
  },
  {
   "cell_type": "code",
   "execution_count": 20,
   "metadata": {
    "collapsed": false
   },
   "outputs": [
    {
     "name": "stdout",
     "output_type": "stream",
     "text": [
      "The quck brown fox jumped over the lazy dog."
     ]
    }
   ],
   "source": [
    "cat lazy_dog.txt"
   ]
  },
  {
   "cell_type": "markdown",
   "metadata": {},
   "source": [
    "## The Linux Command Line (page 87 of 482)"
   ]
  },
  {
   "cell_type": "code",
   "execution_count": null,
   "metadata": {
    "collapsed": true
   },
   "outputs": [],
   "source": []
  }
 ],
 "metadata": {
  "kernelspec": {
   "display_name": "Bash",
   "language": "bash",
   "name": "bash"
  },
  "language_info": {
   "codemirror_mode": "shell",
   "file_extension": ".sh",
   "mimetype": "text/x-sh",
   "name": "bash"
  }
 },
 "nbformat": 4,
 "nbformat_minor": 0
}
