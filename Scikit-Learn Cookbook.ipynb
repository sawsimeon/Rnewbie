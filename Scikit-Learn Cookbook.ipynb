{
 "cells": [
  {
   "cell_type": "code",
   "execution_count": 1,
   "metadata": {
    "collapsed": true
   },
   "outputs": [],
   "source": [
    "from sklearn import datasets\n",
    "import numpy as np"
   ]
  },
  {
   "cell_type": "code",
   "execution_count": 2,
   "metadata": {
    "collapsed": true
   },
   "outputs": [],
   "source": [
    "boston = datasets.load_boston()"
   ]
  },
  {
   "cell_type": "code",
   "execution_count": 3,
   "metadata": {
    "collapsed": false
   },
   "outputs": [
    {
     "name": "stdout",
     "output_type": "stream",
     "text": [
      "Boston House Prices dataset\n",
      "\n",
      "Notes\n",
      "------\n",
      "Data Set Characteristics:  \n",
      "\n",
      "    :Number of Instances: 506 \n",
      "\n",
      "    :Number of Attributes: 13 numeric/categorical predictive\n",
      "    \n",
      "    :Median Value (attribute 14) is usually the target\n",
      "\n",
      "    :Attribute Information (in order):\n",
      "        - CRIM     per capita crime rate by town\n",
      "        - ZN       proportion of residential land zoned for lots over 25,000 sq.ft.\n",
      "        - INDUS    proportion of non-retail business acres per town\n",
      "        - CHAS     Charles River dummy variable (= 1 if tract bounds river; 0 otherwise)\n",
      "        - NOX      nitric oxides concentration (parts per 10 million)\n",
      "        - RM       average number of rooms per dwelling\n",
      "        - AGE      proportion of owner-occupied units built prior to 1940\n",
      "        - DIS      weighted distances to five Boston employment centres\n",
      "        - RAD      index of accessibility to radial highways\n",
      "        - TAX      full-value property-tax rate per $10,000\n",
      "        - PTRATIO  pupil-teacher ratio by town\n",
      "        - B        1000(Bk - 0.63)^2 where Bk is the proportion of blacks by town\n",
      "        - LSTAT    % lower status of the population\n",
      "        - MEDV     Median value of owner-occupied homes in $1000's\n",
      "\n",
      "    :Missing Attribute Values: None\n",
      "\n",
      "    :Creator: Harrison, D. and Rubinfeld, D.L.\n",
      "\n",
      "This is a copy of UCI ML housing dataset.\n",
      "http://archive.ics.uci.edu/ml/datasets/Housing\n",
      "\n",
      "\n",
      "This dataset was taken from the StatLib library which is maintained at Carnegie Mellon University.\n",
      "\n",
      "The Boston house-price data of Harrison, D. and Rubinfeld, D.L. 'Hedonic\n",
      "prices and the demand for clean air', J. Environ. Economics & Management,\n",
      "vol.5, 81-102, 1978.   Used in Belsley, Kuh & Welsch, 'Regression diagnostics\n",
      "...', Wiley, 1980.   N.B. Various transformations are used in the table on\n",
      "pages 244-261 of the latter.\n",
      "\n",
      "The Boston house-price data has been used in many machine learning papers that address regression\n",
      "problems.   \n",
      "     \n",
      "**References**\n",
      "\n",
      "   - Belsley, Kuh & Welsch, 'Regression diagnostics: Identifying Influential Data and Sources of Collinearity', Wiley, 1980. 244-261.\n",
      "   - Quinlan,R. (1993). Combining Instance-Based and Model-Based Learning. In Proceedings on the Tenth International Conference of Machine Learning, 236-243, University of Massachusetts, Amherst. Morgan Kaufmann.\n",
      "   - many more! (see http://archive.ics.uci.edu/ml/datasets/Housing)\n",
      "\n"
     ]
    }
   ],
   "source": [
    "print(boston.DESCR)"
   ]
  },
  {
   "cell_type": "code",
   "execution_count": 4,
   "metadata": {
    "collapsed": false
   },
   "outputs": [],
   "source": [
    "X, y = boston.data, boston.target"
   ]
  },
  {
   "cell_type": "code",
   "execution_count": 5,
   "metadata": {
    "collapsed": true
   },
   "outputs": [],
   "source": [
    "datasets.make_*?"
   ]
  },
  {
   "cell_type": "code",
   "execution_count": 6,
   "metadata": {
    "collapsed": true
   },
   "outputs": [],
   "source": [
    "import sklearn.datasets as d"
   ]
  },
  {
   "cell_type": "code",
   "execution_count": 7,
   "metadata": {
    "collapsed": true
   },
   "outputs": [],
   "source": [
    "import numpy as np"
   ]
  },
  {
   "cell_type": "code",
   "execution_count": 8,
   "metadata": {
    "collapsed": true
   },
   "outputs": [],
   "source": [
    "reg_data = d.make_regression()"
   ]
  },
  {
   "cell_type": "code",
   "execution_count": 9,
   "metadata": {
    "collapsed": true
   },
   "outputs": [],
   "source": [
    "complex_reg_data = d.make_regression(1000, 10, 5, 2, 1.0)"
   ]
  },
  {
   "cell_type": "code",
   "execution_count": 10,
   "metadata": {
    "collapsed": false
   },
   "outputs": [
    {
     "data": {
      "text/plain": [
       "(1000, 10)"
      ]
     },
     "execution_count": 10,
     "metadata": {},
     "output_type": "execute_result"
    }
   ],
   "source": [
    "complex_reg_data[0].shape"
   ]
  },
  {
   "cell_type": "code",
   "execution_count": 11,
   "metadata": {
    "collapsed": true
   },
   "outputs": [],
   "source": [
    "classification_set = d.make_classification(weights =[0.1])"
   ]
  },
  {
   "cell_type": "code",
   "execution_count": 12,
   "metadata": {
    "collapsed": false
   },
   "outputs": [
    {
     "data": {
      "text/plain": [
       "array([10, 90])"
      ]
     },
     "execution_count": 12,
     "metadata": {},
     "output_type": "execute_result"
    }
   ],
   "source": [
    "np.bincount(classification_set[1])"
   ]
  },
  {
   "cell_type": "code",
   "execution_count": 13,
   "metadata": {
    "collapsed": false
   },
   "outputs": [],
   "source": [
    "blobs = d.make_blobs()"
   ]
  },
  {
   "cell_type": "code",
   "execution_count": 14,
   "metadata": {
    "collapsed": false
   },
   "outputs": [],
   "source": [
    "from sklearn import preprocessing"
   ]
  },
  {
   "cell_type": "code",
   "execution_count": 15,
   "metadata": {
    "collapsed": true
   },
   "outputs": [],
   "source": [
    "import numpy as np # we'll need it later"
   ]
  },
  {
   "cell_type": "code",
   "execution_count": 16,
   "metadata": {
    "collapsed": false
   },
   "outputs": [
    {
     "data": {
      "text/plain": [
       "array([  3.59376071,  11.36363636,  11.13677866])"
      ]
     },
     "execution_count": 16,
     "metadata": {},
     "output_type": "execute_result"
    }
   ],
   "source": [
    "X[:, :3].mean(axis = 0) # mean of the first 3 features"
   ]
  },
  {
   "cell_type": "code",
   "execution_count": 17,
   "metadata": {
    "collapsed": false
   },
   "outputs": [
    {
     "data": {
      "text/plain": [
       "array([  8.58828355,  23.29939569,   6.85357058])"
      ]
     },
     "execution_count": 17,
     "metadata": {},
     "output_type": "execute_result"
    }
   ],
   "source": [
    "X[:, :3].std(axis = 0)"
   ]
  },
  {
   "cell_type": "code",
   "execution_count": 18,
   "metadata": {
    "collapsed": true
   },
   "outputs": [],
   "source": [
    "X_2 = preprocessing.scale(X[:, :3])"
   ]
  },
  {
   "cell_type": "code",
   "execution_count": 19,
   "metadata": {
    "collapsed": false
   },
   "outputs": [
    {
     "data": {
      "text/plain": [
       "array([  6.34099712e-17,  -6.34319123e-16,  -2.68291099e-15])"
      ]
     },
     "execution_count": 19,
     "metadata": {},
     "output_type": "execute_result"
    }
   ],
   "source": [
    "X_2.mean(axis = 0)"
   ]
  },
  {
   "cell_type": "code",
   "execution_count": 20,
   "metadata": {
    "collapsed": false
   },
   "outputs": [
    {
     "data": {
      "text/plain": [
       "array([ 1.,  1.,  1.])"
      ]
     },
     "execution_count": 20,
     "metadata": {},
     "output_type": "execute_result"
    }
   ],
   "source": [
    "X_2.std(axis = 0)"
   ]
  },
  {
   "cell_type": "code",
   "execution_count": 21,
   "metadata": {
    "collapsed": true
   },
   "outputs": [],
   "source": [
    "my_scaler = preprocessing.StandardScaler()"
   ]
  },
  {
   "cell_type": "code",
   "execution_count": 22,
   "metadata": {
    "collapsed": false
   },
   "outputs": [
    {
     "data": {
      "text/plain": [
       "StandardScaler(copy=True, with_mean=True, with_std=True)"
      ]
     },
     "execution_count": 22,
     "metadata": {},
     "output_type": "execute_result"
    }
   ],
   "source": [
    "my_scaler.fit(X[:, :3])"
   ]
  },
  {
   "cell_type": "code",
   "execution_count": 23,
   "metadata": {
    "collapsed": false
   },
   "outputs": [
    {
     "data": {
      "text/plain": [
       "array([  6.34099712e-17,  -6.34319123e-16,  -2.68291099e-15])"
      ]
     },
     "execution_count": 23,
     "metadata": {},
     "output_type": "execute_result"
    }
   ],
   "source": [
    "my_scaler.transform(X[:, :3]).mean(axis = 0)"
   ]
  },
  {
   "cell_type": "code",
   "execution_count": 24,
   "metadata": {
    "collapsed": true
   },
   "outputs": [],
   "source": [
    "my_minmax_scaler = preprocessing.MinMaxScaler()"
   ]
  },
  {
   "cell_type": "code",
   "execution_count": 25,
   "metadata": {
    "collapsed": false
   },
   "outputs": [
    {
     "data": {
      "text/plain": [
       "MinMaxScaler(copy=True, feature_range=(0, 1))"
      ]
     },
     "execution_count": 25,
     "metadata": {},
     "output_type": "execute_result"
    }
   ],
   "source": [
    "my_minmax_scaler.fit(X[:, :3])"
   ]
  },
  {
   "cell_type": "code",
   "execution_count": 26,
   "metadata": {
    "collapsed": false
   },
   "outputs": [
    {
     "data": {
      "text/plain": [
       "array([ 1.,  1.,  1.])"
      ]
     },
     "execution_count": 26,
     "metadata": {},
     "output_type": "execute_result"
    }
   ],
   "source": [
    "my_minmax_scaler.transform(X[:, :3]).max(axis = 0)"
   ]
  },
  {
   "cell_type": "code",
   "execution_count": 27,
   "metadata": {
    "collapsed": true
   },
   "outputs": [],
   "source": [
    "my_odd_scaler = preprocessing.MinMaxScaler(feature_range = (-3.14, 3.14))"
   ]
  },
  {
   "cell_type": "code",
   "execution_count": 28,
   "metadata": {
    "collapsed": true
   },
   "outputs": [],
   "source": [
    "normalized_X = preprocessing.normalize(X[:, :3])"
   ]
  },
  {
   "cell_type": "code",
   "execution_count": 29,
   "metadata": {
    "collapsed": true
   },
   "outputs": [],
   "source": [
    "my_useless_scaler = preprocessing.StandardScaler(with_mean = False, with_std = False)"
   ]
  },
  {
   "cell_type": "code",
   "execution_count": 30,
   "metadata": {
    "collapsed": true
   },
   "outputs": [],
   "source": [
    "transformed_sd = my_useless_scaler.fit_transform(X[:, :3]).std(axis = 0)"
   ]
  },
  {
   "cell_type": "code",
   "execution_count": 31,
   "metadata": {
    "collapsed": false
   },
   "outputs": [],
   "source": [
    "original_sd = X[:, :3].std(axis =0)"
   ]
  },
  {
   "cell_type": "code",
   "execution_count": 32,
   "metadata": {
    "collapsed": false
   },
   "outputs": [
    {
     "data": {
      "text/plain": [
       "True"
      ]
     },
     "execution_count": 32,
     "metadata": {},
     "output_type": "execute_result"
    }
   ],
   "source": [
    "np.array_equal(transformed_sd, original_sd)"
   ]
  },
  {
   "cell_type": "code",
   "execution_count": 33,
   "metadata": {
    "collapsed": true
   },
   "outputs": [],
   "source": [
    "from sklearn import datasets"
   ]
  },
  {
   "cell_type": "code",
   "execution_count": 34,
   "metadata": {
    "collapsed": true
   },
   "outputs": [],
   "source": [
    "boston = datasets.load_boston()"
   ]
  },
  {
   "cell_type": "code",
   "execution_count": 35,
   "metadata": {
    "collapsed": true
   },
   "outputs": [],
   "source": [
    "import numpy as np"
   ]
  },
  {
   "cell_type": "code",
   "execution_count": 36,
   "metadata": {
    "collapsed": true
   },
   "outputs": [],
   "source": [
    "from sklearn import preprocessing"
   ]
  },
  {
   "cell_type": "code",
   "execution_count": 37,
   "metadata": {
    "collapsed": false
   },
   "outputs": [
    {
     "name": "stderr",
     "output_type": "stream",
     "text": [
      "//anaconda/lib/python3.5/site-packages/sklearn/utils/validation.py:386: DeprecationWarning: Passing 1d arrays as data is deprecated in 0.17 and willraise ValueError in 0.19. Reshape your data either using X.reshape(-1, 1) if your data has a single feature or X.reshape(1, -1) if it contains a single sample.\n",
      "  DeprecationWarning)\n"
     ]
    }
   ],
   "source": [
    "new_target = preprocessing.binarize(boston.target, threshold = boston.target.mean())"
   ]
  },
  {
   "cell_type": "code",
   "execution_count": 38,
   "metadata": {
    "collapsed": false
   },
   "outputs": [
    {
     "data": {
      "text/plain": [
       "array([[ 1.,  0.,  1.,  1.,  1.,  1.,  1.,  1.,  0.,  0.,  0.,  0.,  0.,\n",
       "         0.,  0.,  0.,  1.,  0.,  0.,  0.,  0.,  0.,  0.,  0.,  0.,  0.,\n",
       "         0.,  0.,  0.,  0.,  0.,  0.,  0.,  0.,  0.,  0.,  0.,  0.,  1.,\n",
       "         1.,  1.,  1.,  1.,  1.,  0.,  0.,  0.,  0.,  0.,  0.,  0.,  0.,\n",
       "         1.,  1.,  0.,  1.,  1.,  1.,  1.,  0.,  0.,  0.,  0.,  1.,  1.,\n",
       "         1.,  0.,  0.,  0.,  0.,  1.,  0.,  1.,  1.,  1.,  0.,  0.,  0.,\n",
       "         0.,  0.,  1.,  1.,  1.,  1.,  1.,  1.,  0.,  0.,  1.,  1.,  1.,\n",
       "         0.,  1.,  1.,  0.,  1.,  0.,  1.,  1.,  1.,  1.,  1.,  0.,  0.,\n",
       "         0.,  0.,  0.,  0.,  0.,  0.,  0.,  1.,  0.,  0.,  0.,  0.,  0.,\n",
       "         0.,  0.,  0.,  0.,  0.,  0.,  0.,  0.,  0.,  0.,  0.,  0.,  0.,\n",
       "         0.,  0.,  1.,  0.,  0.,  0.,  0.,  0.,  0.,  0.,  0.,  0.,  0.,\n",
       "         0.,  0.,  0.,  0.,  0.,  0.,  0.,  0.,  0.,  0.,  0.,  0.,  0.,\n",
       "         0.,  1.,  1.,  1.,  1.,  1.,  1.,  1.,  1.,  1.,  1.,  1.,  1.,\n",
       "         0.,  0.,  0.,  1.,  1.,  1.,  1.,  1.,  1.,  1.,  1.,  1.,  1.,\n",
       "         1.,  1.,  1.,  1.,  1.,  1.,  1.,  1.,  1.,  1.,  1.,  1.,  1.,\n",
       "         1.,  1.,  1.,  1.,  1.,  1.,  1.,  1.,  1.,  1.,  1.,  1.,  0.,\n",
       "         1.,  0.,  0.,  0.,  0.,  1.,  1.,  1.,  1.,  1.,  0.,  1.,  1.,\n",
       "         0.,  1.,  1.,  1.,  1.,  1.,  1.,  1.,  1.,  1.,  1.,  1.,  1.,\n",
       "         1.,  1.,  1.,  1.,  1.,  1.,  0.,  0.,  0.,  1.,  0.,  0.,  1.,\n",
       "         0.,  1.,  1.,  1.,  1.,  1.,  1.,  0.,  0.,  1.,  1.,  1.,  1.,\n",
       "         1.,  1.,  1.,  1.,  1.,  1.,  1.,  1.,  1.,  0.,  0.,  1.,  1.,\n",
       "         1.,  1.,  1.,  1.,  1.,  1.,  1.,  1.,  1.,  1.,  1.,  1.,  0.,\n",
       "         0.,  1.,  0.,  1.,  1.,  1.,  1.,  1.,  0.,  1.,  1.,  0.,  0.,\n",
       "         1.,  1.,  0.,  1.,  1.,  1.,  1.,  1.,  1.,  1.,  0.,  0.,  0.,\n",
       "         0.,  0.,  1.,  0.,  0.,  0.,  1.,  0.,  1.,  1.,  0.,  0.,  1.,\n",
       "         1.,  1.,  0.,  0.,  1.,  0.,  0.,  0.,  0.,  0.,  0.,  0.,  0.,\n",
       "         0.,  0.,  0.,  1.,  0.,  1.,  1.,  0.,  0.,  1.,  1.,  1.,  1.,\n",
       "         1.,  0.,  1.,  0.,  0.,  0.,  0.,  1.,  1.,  1.,  0.,  0.,  0.,\n",
       "         0.,  1.,  0.,  1.,  1.,  1.,  1.,  1.,  1.,  0.,  0.,  0.,  0.,\n",
       "         0.,  0.,  0.,  0.,  0.,  0.,  0.,  0.,  0.,  0.,  0.,  0.,  0.,\n",
       "         0.,  1.,  0.,  0.,  0.,  0.,  0.,  0.,  0.,  0.,  0.,  0.,  0.,\n",
       "         0.,  0.,  0.,  0.,  1.,  0.,  1.,  0.,  0.,  0.,  0.,  0.,  0.,\n",
       "         0.,  0.,  0.,  0.,  0.,  0.,  0.,  0.,  0.,  0.,  0.,  0.,  0.,\n",
       "         0.,  0.,  0.,  0.,  0.,  0.,  0.,  0.,  0.,  0.,  0.,  0.,  0.,\n",
       "         0.,  0.,  0.,  0.,  0.,  0.,  0.,  0.,  0.,  0.,  0.,  0.,  0.,\n",
       "         0.,  0.,  0.,  0.,  0.,  0.,  0.,  0.,  0.,  0.,  0.,  0.,  0.,\n",
       "         0.,  0.,  0.,  0.,  1.,  1.,  0.,  0.,  0.,  0.,  0.,  0.,  1.,\n",
       "         1.,  1.,  0.,  0.,  0.,  0.,  0.,  0.,  0.,  0.,  0.,  0.,  0.,\n",
       "         1.,  1.,  0.,  0.,  0.,  0.,  0.,  0.,  0.,  1.,  0.,  0.]])"
      ]
     },
     "execution_count": 38,
     "metadata": {},
     "output_type": "execute_result"
    }
   ],
   "source": [
    "new_target[:5]"
   ]
  },
  {
   "cell_type": "code",
   "execution_count": 39,
   "metadata": {
    "collapsed": false
   },
   "outputs": [
    {
     "data": {
      "text/plain": [
       "array([1, 0, 1, 1, 1])"
      ]
     },
     "execution_count": 39,
     "metadata": {},
     "output_type": "execute_result"
    }
   ],
   "source": [
    "(boston.target[:5] > boston.target.mean()).astype(int)"
   ]
  },
  {
   "cell_type": "code",
   "execution_count": 40,
   "metadata": {
    "collapsed": true
   },
   "outputs": [],
   "source": [
    "bin = preprocessing.Binarizer(boston.target.mean())"
   ]
  },
  {
   "cell_type": "code",
   "execution_count": 41,
   "metadata": {
    "collapsed": false
   },
   "outputs": [
    {
     "name": "stderr",
     "output_type": "stream",
     "text": [
      "//anaconda/lib/python3.5/site-packages/sklearn/utils/validation.py:386: DeprecationWarning: Passing 1d arrays as data is deprecated in 0.17 and willraise ValueError in 0.19. Reshape your data either using X.reshape(-1, 1) if your data has a single feature or X.reshape(1, -1) if it contains a single sample.\n",
      "  DeprecationWarning)\n",
      "//anaconda/lib/python3.5/site-packages/sklearn/utils/validation.py:386: DeprecationWarning: Passing 1d arrays as data is deprecated in 0.17 and willraise ValueError in 0.19. Reshape your data either using X.reshape(-1, 1) if your data has a single feature or X.reshape(1, -1) if it contains a single sample.\n",
      "  DeprecationWarning)\n"
     ]
    }
   ],
   "source": [
    "new_target = bin.fit_transform(boston.target)"
   ]
  },
  {
   "cell_type": "code",
   "execution_count": 42,
   "metadata": {
    "collapsed": false
   },
   "outputs": [
    {
     "data": {
      "text/plain": [
       "array([[ 1.,  0.,  1.,  1.,  1.,  1.,  1.,  1.,  0.,  0.,  0.,  0.,  0.,\n",
       "         0.,  0.,  0.,  1.,  0.,  0.,  0.,  0.,  0.,  0.,  0.,  0.,  0.,\n",
       "         0.,  0.,  0.,  0.,  0.,  0.,  0.,  0.,  0.,  0.,  0.,  0.,  1.,\n",
       "         1.,  1.,  1.,  1.,  1.,  0.,  0.,  0.,  0.,  0.,  0.,  0.,  0.,\n",
       "         1.,  1.,  0.,  1.,  1.,  1.,  1.,  0.,  0.,  0.,  0.,  1.,  1.,\n",
       "         1.,  0.,  0.,  0.,  0.,  1.,  0.,  1.,  1.,  1.,  0.,  0.,  0.,\n",
       "         0.,  0.,  1.,  1.,  1.,  1.,  1.,  1.,  0.,  0.,  1.,  1.,  1.,\n",
       "         0.,  1.,  1.,  0.,  1.,  0.,  1.,  1.,  1.,  1.,  1.,  0.,  0.,\n",
       "         0.,  0.,  0.,  0.,  0.,  0.,  0.,  1.,  0.,  0.,  0.,  0.,  0.,\n",
       "         0.,  0.,  0.,  0.,  0.,  0.,  0.,  0.,  0.,  0.,  0.,  0.,  0.,\n",
       "         0.,  0.,  1.,  0.,  0.,  0.,  0.,  0.,  0.,  0.,  0.,  0.,  0.,\n",
       "         0.,  0.,  0.,  0.,  0.,  0.,  0.,  0.,  0.,  0.,  0.,  0.,  0.,\n",
       "         0.,  1.,  1.,  1.,  1.,  1.,  1.,  1.,  1.,  1.,  1.,  1.,  1.,\n",
       "         0.,  0.,  0.,  1.,  1.,  1.,  1.,  1.,  1.,  1.,  1.,  1.,  1.,\n",
       "         1.,  1.,  1.,  1.,  1.,  1.,  1.,  1.,  1.,  1.,  1.,  1.,  1.,\n",
       "         1.,  1.,  1.,  1.,  1.,  1.,  1.,  1.,  1.,  1.,  1.,  1.,  0.,\n",
       "         1.,  0.,  0.,  0.,  0.,  1.,  1.,  1.,  1.,  1.,  0.,  1.,  1.,\n",
       "         0.,  1.,  1.,  1.,  1.,  1.,  1.,  1.,  1.,  1.,  1.,  1.,  1.,\n",
       "         1.,  1.,  1.,  1.,  1.,  1.,  0.,  0.,  0.,  1.,  0.,  0.,  1.,\n",
       "         0.,  1.,  1.,  1.,  1.,  1.,  1.,  0.,  0.,  1.,  1.,  1.,  1.,\n",
       "         1.,  1.,  1.,  1.,  1.,  1.,  1.,  1.,  1.,  0.,  0.,  1.,  1.,\n",
       "         1.,  1.,  1.,  1.,  1.,  1.,  1.,  1.,  1.,  1.,  1.,  1.,  0.,\n",
       "         0.,  1.,  0.,  1.,  1.,  1.,  1.,  1.,  0.,  1.,  1.,  0.,  0.,\n",
       "         1.,  1.,  0.,  1.,  1.,  1.,  1.,  1.,  1.,  1.,  0.,  0.,  0.,\n",
       "         0.,  0.,  1.,  0.,  0.,  0.,  1.,  0.,  1.,  1.,  0.,  0.,  1.,\n",
       "         1.,  1.,  0.,  0.,  1.,  0.,  0.,  0.,  0.,  0.,  0.,  0.,  0.,\n",
       "         0.,  0.,  0.,  1.,  0.,  1.,  1.,  0.,  0.,  1.,  1.,  1.,  1.,\n",
       "         1.,  0.,  1.,  0.,  0.,  0.,  0.,  1.,  1.,  1.,  0.,  0.,  0.,\n",
       "         0.,  1.,  0.,  1.,  1.,  1.,  1.,  1.,  1.,  0.,  0.,  0.,  0.,\n",
       "         0.,  0.,  0.,  0.,  0.,  0.,  0.,  0.,  0.,  0.,  0.,  0.,  0.,\n",
       "         0.,  1.,  0.,  0.,  0.,  0.,  0.,  0.,  0.,  0.,  0.,  0.,  0.,\n",
       "         0.,  0.,  0.,  0.,  1.,  0.,  1.,  0.,  0.,  0.,  0.,  0.,  0.,\n",
       "         0.,  0.,  0.,  0.,  0.,  0.,  0.,  0.,  0.,  0.,  0.,  0.,  0.,\n",
       "         0.,  0.,  0.,  0.,  0.,  0.,  0.,  0.,  0.,  0.,  0.,  0.,  0.,\n",
       "         0.,  0.,  0.,  0.,  0.,  0.,  0.,  0.,  0.,  0.,  0.,  0.,  0.,\n",
       "         0.,  0.,  0.,  0.,  0.,  0.,  0.,  0.,  0.,  0.,  0.,  0.,  0.,\n",
       "         0.,  0.,  0.,  0.,  1.,  1.,  0.,  0.,  0.,  0.,  0.,  0.,  1.,\n",
       "         1.,  1.,  0.,  0.,  0.,  0.,  0.,  0.,  0.,  0.,  0.,  0.,  0.,\n",
       "         1.,  1.,  0.,  0.,  0.,  0.,  0.,  0.,  0.,  1.,  0.,  0.]])"
      ]
     },
     "execution_count": 42,
     "metadata": {},
     "output_type": "execute_result"
    }
   ],
   "source": [
    "new_target[:5]"
   ]
  },
  {
   "cell_type": "code",
   "execution_count": 43,
   "metadata": {
    "collapsed": true
   },
   "outputs": [],
   "source": [
    "from scipy.sparse import coo"
   ]
  },
  {
   "cell_type": "code",
   "execution_count": 44,
   "metadata": {
    "collapsed": true
   },
   "outputs": [],
   "source": [
    "spar = coo.coo_matrix(np.random.binomial(1, .25, 100))"
   ]
  },
  {
   "cell_type": "code",
   "execution_count": 45,
   "metadata": {
    "collapsed": true
   },
   "outputs": [],
   "source": [
    "from sklearn import datasets"
   ]
  },
  {
   "cell_type": "code",
   "execution_count": 46,
   "metadata": {
    "collapsed": true
   },
   "outputs": [],
   "source": [
    "iris = datasets.load_iris()"
   ]
  },
  {
   "cell_type": "code",
   "execution_count": 47,
   "metadata": {
    "collapsed": true
   },
   "outputs": [],
   "source": [
    "X = iris.data"
   ]
  },
  {
   "cell_type": "code",
   "execution_count": 48,
   "metadata": {
    "collapsed": true
   },
   "outputs": [],
   "source": [
    "y = iris.target"
   ]
  },
  {
   "cell_type": "code",
   "execution_count": 49,
   "metadata": {
    "collapsed": true
   },
   "outputs": [],
   "source": [
    "import numpy as np"
   ]
  },
  {
   "cell_type": "code",
   "execution_count": 50,
   "metadata": {
    "collapsed": true
   },
   "outputs": [],
   "source": [
    "d = np.column_stack((X, y))"
   ]
  },
  {
   "cell_type": "code",
   "execution_count": 51,
   "metadata": {
    "collapsed": true
   },
   "outputs": [],
   "source": [
    "from sklearn import preprocessing\n",
    "text_encoder = preprocessing.OneHotEncoder()"
   ]
  },
  {
   "cell_type": "code",
   "execution_count": 52,
   "metadata": {
    "collapsed": false
   },
   "outputs": [
    {
     "data": {
      "text/plain": [
       "array([[ 1.,  0.,  0.],\n",
       "       [ 1.,  0.,  0.],\n",
       "       [ 1.,  0.,  0.],\n",
       "       [ 1.,  0.,  0.],\n",
       "       [ 1.,  0.,  0.]])"
      ]
     },
     "execution_count": 52,
     "metadata": {},
     "output_type": "execute_result"
    }
   ],
   "source": [
    "text_encoder.fit_transform(d[:, -1:]).toarray()[:5]"
   ]
  },
  {
   "cell_type": "code",
   "execution_count": 53,
   "metadata": {
    "collapsed": false
   },
   "outputs": [
    {
     "data": {
      "text/plain": [
       "array([[ 0.,  1.,  0.],\n",
       "       [ 0.,  1.,  0.],\n",
       "       [ 0.,  1.,  0.]])"
      ]
     },
     "execution_count": 53,
     "metadata": {},
     "output_type": "execute_result"
    }
   ],
   "source": [
    "text_encoder.transform(np.ones((3, 1))).toarray()"
   ]
  },
  {
   "cell_type": "code",
   "execution_count": 54,
   "metadata": {
    "collapsed": true
   },
   "outputs": [],
   "source": [
    "from sklearn.feature_extraction import DictVectorizer\n",
    "dv = DictVectorizer()"
   ]
  },
  {
   "cell_type": "code",
   "execution_count": 55,
   "metadata": {
    "collapsed": false
   },
   "outputs": [],
   "source": [
    "my_dict = [{'species': iris.target_names[i]} for i in y]"
   ]
  },
  {
   "cell_type": "code",
   "execution_count": 56,
   "metadata": {
    "collapsed": false
   },
   "outputs": [
    {
     "data": {
      "text/plain": [
       "array([[ 1.,  0.,  0.],\n",
       "       [ 1.,  0.,  0.],\n",
       "       [ 1.,  0.,  0.],\n",
       "       [ 1.,  0.,  0.],\n",
       "       [ 1.,  0.,  0.]])"
      ]
     },
     "execution_count": 56,
     "metadata": {},
     "output_type": "execute_result"
    }
   ],
   "source": [
    "dv.fit_transform(my_dict).toarray()[:5]"
   ]
  },
  {
   "cell_type": "code",
   "execution_count": 57,
   "metadata": {
    "collapsed": true
   },
   "outputs": [],
   "source": [
    "import patsy"
   ]
  },
  {
   "cell_type": "markdown",
   "metadata": {},
   "source": [
    "## Scikit-Learn Cookbook (page 30 of 214)"
   ]
  },
  {
   "cell_type": "code",
   "execution_count": 58,
   "metadata": {
    "collapsed": false
   },
   "outputs": [
    {
     "data": {
      "text/plain": [
       "DesignMatrix with shape (150, 3)\n",
       "  C(species)[0]  C(species)[1]  C(species)[2]\n",
       "              1              0              0\n",
       "              1              0              0\n",
       "              1              0              0\n",
       "              1              0              0\n",
       "              1              0              0\n",
       "              1              0              0\n",
       "              1              0              0\n",
       "              1              0              0\n",
       "              1              0              0\n",
       "              1              0              0\n",
       "              1              0              0\n",
       "              1              0              0\n",
       "              1              0              0\n",
       "              1              0              0\n",
       "              1              0              0\n",
       "              1              0              0\n",
       "              1              0              0\n",
       "              1              0              0\n",
       "              1              0              0\n",
       "              1              0              0\n",
       "              1              0              0\n",
       "              1              0              0\n",
       "              1              0              0\n",
       "              1              0              0\n",
       "              1              0              0\n",
       "              1              0              0\n",
       "              1              0              0\n",
       "              1              0              0\n",
       "              1              0              0\n",
       "              1              0              0\n",
       "  [120 rows omitted]\n",
       "  Terms:\n",
       "    'C(species)' (columns 0:3)\n",
       "  (to view full data, use np.asarray(this_obj))"
      ]
     },
     "execution_count": 58,
     "metadata": {},
     "output_type": "execute_result"
    }
   ],
   "source": [
    "patsy.dmatrix(\"0 + C(species)\", {'species': iris.target})"
   ]
  },
  {
   "cell_type": "code",
   "execution_count": 59,
   "metadata": {
    "collapsed": true
   },
   "outputs": [],
   "source": [
    "from sklearn import datasets as d"
   ]
  },
  {
   "cell_type": "code",
   "execution_count": 60,
   "metadata": {
    "collapsed": true
   },
   "outputs": [],
   "source": [
    "iris = d.load_iris()"
   ]
  },
  {
   "cell_type": "code",
   "execution_count": 61,
   "metadata": {
    "collapsed": true
   },
   "outputs": [],
   "source": [
    "target = iris.target"
   ]
  },
  {
   "cell_type": "code",
   "execution_count": 62,
   "metadata": {
    "collapsed": true
   },
   "outputs": [],
   "source": [
    "from sklearn.preprocessing import LabelBinarizer"
   ]
  },
  {
   "cell_type": "code",
   "execution_count": 63,
   "metadata": {
    "collapsed": true
   },
   "outputs": [],
   "source": [
    "label_binarizer = LabelBinarizer()"
   ]
  },
  {
   "cell_type": "code",
   "execution_count": 66,
   "metadata": {
    "collapsed": false
   },
   "outputs": [],
   "source": [
    "new_target = label_binarizer.fit_transform(target)"
   ]
  },
  {
   "cell_type": "code",
   "execution_count": 67,
   "metadata": {
    "collapsed": false
   },
   "outputs": [
    {
     "data": {
      "text/plain": [
       "(150, 3)"
      ]
     },
     "execution_count": 67,
     "metadata": {},
     "output_type": "execute_result"
    }
   ],
   "source": [
    "new_target.shape"
   ]
  },
  {
   "cell_type": "code",
   "execution_count": 68,
   "metadata": {
    "collapsed": false
   },
   "outputs": [
    {
     "data": {
      "text/plain": [
       "array([[1, 0, 0],\n",
       "       [1, 0, 0],\n",
       "       [1, 0, 0],\n",
       "       [1, 0, 0],\n",
       "       [1, 0, 0]])"
      ]
     },
     "execution_count": 68,
     "metadata": {},
     "output_type": "execute_result"
    }
   ],
   "source": [
    "new_target[:5]"
   ]
  },
  {
   "cell_type": "code",
   "execution_count": 69,
   "metadata": {
    "collapsed": false
   },
   "outputs": [
    {
     "data": {
      "text/plain": [
       "array([[0, 0, 1],\n",
       "       [0, 0, 1],\n",
       "       [0, 0, 1],\n",
       "       [0, 0, 1],\n",
       "       [0, 0, 1]])"
      ]
     },
     "execution_count": 69,
     "metadata": {},
     "output_type": "execute_result"
    }
   ],
   "source": [
    "new_target[-5:]"
   ]
  },
  {
   "cell_type": "code",
   "execution_count": 70,
   "metadata": {
    "collapsed": false
   },
   "outputs": [
    {
     "data": {
      "text/plain": [
       "array([0, 1, 2])"
      ]
     },
     "execution_count": 70,
     "metadata": {},
     "output_type": "execute_result"
    }
   ],
   "source": [
    "label_binarizer.classes_"
   ]
  },
  {
   "cell_type": "code",
   "execution_count": 71,
   "metadata": {
    "collapsed": true
   },
   "outputs": [],
   "source": [
    "label_binarizer = LabelBinarizer(neg_label = -1000, pos_label = 1000)"
   ]
  },
  {
   "cell_type": "code",
   "execution_count": 72,
   "metadata": {
    "collapsed": false
   },
   "outputs": [
    {
     "data": {
      "text/plain": [
       "array([[ 1000, -1000, -1000],\n",
       "       [ 1000, -1000, -1000],\n",
       "       [ 1000, -1000, -1000],\n",
       "       [ 1000, -1000, -1000],\n",
       "       [ 1000, -1000, -1000]])"
      ]
     },
     "execution_count": 72,
     "metadata": {},
     "output_type": "execute_result"
    }
   ],
   "source": [
    "label_binarizer.fit_transform(target)[:5]"
   ]
  },
  {
   "cell_type": "code",
   "execution_count": 73,
   "metadata": {
    "collapsed": true
   },
   "outputs": [],
   "source": [
    "from sklearn import datasets"
   ]
  },
  {
   "cell_type": "code",
   "execution_count": 74,
   "metadata": {
    "collapsed": true
   },
   "outputs": [],
   "source": [
    "import numpy as np"
   ]
  },
  {
   "cell_type": "code",
   "execution_count": 75,
   "metadata": {
    "collapsed": true
   },
   "outputs": [],
   "source": [
    "iris = datasets.load_iris()"
   ]
  },
  {
   "cell_type": "code",
   "execution_count": 76,
   "metadata": {
    "collapsed": true
   },
   "outputs": [],
   "source": [
    "iris_X = iris.data"
   ]
  },
  {
   "cell_type": "code",
   "execution_count": 77,
   "metadata": {
    "collapsed": true
   },
   "outputs": [],
   "source": [
    "masking_array = np.random.binomial(1, .25, iris_X.shape).astype(bool)"
   ]
  },
  {
   "cell_type": "code",
   "execution_count": 78,
   "metadata": {
    "collapsed": true
   },
   "outputs": [],
   "source": [
    "iris_X[masking_array] = np.nan"
   ]
  },
  {
   "cell_type": "code",
   "execution_count": 79,
   "metadata": {
    "collapsed": false
   },
   "outputs": [
    {
     "data": {
      "text/plain": [
       "array([[ True, False,  True, False],\n",
       "       [False, False, False, False],\n",
       "       [False, False, False,  True],\n",
       "       [False, False,  True, False],\n",
       "       [False,  True, False, False]], dtype=bool)"
      ]
     },
     "execution_count": 79,
     "metadata": {},
     "output_type": "execute_result"
    }
   ],
   "source": [
    "masking_array[:5]"
   ]
  },
  {
   "cell_type": "code",
   "execution_count": 80,
   "metadata": {
    "collapsed": false
   },
   "outputs": [
    {
     "data": {
      "text/plain": [
       "array([[ nan,  3.5,  nan,  0.2],\n",
       "       [ 4.9,  3. ,  1.4,  0.2],\n",
       "       [ 4.7,  3.2,  1.3,  nan],\n",
       "       [ 4.6,  3.1,  nan,  0.2],\n",
       "       [ 5. ,  nan,  1.4,  0.2]])"
      ]
     },
     "execution_count": 80,
     "metadata": {},
     "output_type": "execute_result"
    }
   ],
   "source": [
    "iris_X[:5]"
   ]
  },
  {
   "cell_type": "code",
   "execution_count": 81,
   "metadata": {
    "collapsed": true
   },
   "outputs": [],
   "source": [
    "from sklearn import preprocessing\n",
    "impute = preprocessing.Imputer()"
   ]
  },
  {
   "cell_type": "code",
   "execution_count": 82,
   "metadata": {
    "collapsed": true
   },
   "outputs": [],
   "source": [
    "iris_X_prime = impute.fit_transform(iris_X)"
   ]
  },
  {
   "cell_type": "code",
   "execution_count": 83,
   "metadata": {
    "collapsed": false
   },
   "outputs": [
    {
     "data": {
      "text/plain": [
       "array([[ 5.80088496,  3.5       ,  3.64137931,  0.2       ],\n",
       "       [ 4.9       ,  3.        ,  1.4       ,  0.2       ],\n",
       "       [ 4.7       ,  3.2       ,  1.3       ,  1.22377049],\n",
       "       [ 4.6       ,  3.1       ,  3.64137931,  0.2       ],\n",
       "       [ 5.        ,  3.05299145,  1.4       ,  0.2       ]])"
      ]
     },
     "execution_count": 83,
     "metadata": {},
     "output_type": "execute_result"
    }
   ],
   "source": [
    "iris_X_prime[:5]"
   ]
  },
  {
   "cell_type": "code",
   "execution_count": 84,
   "metadata": {
    "collapsed": false
   },
   "outputs": [
    {
     "data": {
      "text/plain": [
       "4.5999999999999996"
      ]
     },
     "execution_count": 84,
     "metadata": {},
     "output_type": "execute_result"
    }
   ],
   "source": [
    "iris_X_prime[3, 0]"
   ]
  },
  {
   "cell_type": "code",
   "execution_count": 85,
   "metadata": {
    "collapsed": false
   },
   "outputs": [
    {
     "data": {
      "text/plain": [
       "4.5999999999999996"
      ]
     },
     "execution_count": 85,
     "metadata": {},
     "output_type": "execute_result"
    }
   ],
   "source": [
    "iris_X[3, 0]"
   ]
  },
  {
   "cell_type": "code",
   "execution_count": 87,
   "metadata": {
    "collapsed": false
   },
   "outputs": [],
   "source": [
    "impute = preprocessing.Imputer(strategy = 'median')"
   ]
  },
  {
   "cell_type": "code",
   "execution_count": 88,
   "metadata": {
    "collapsed": true
   },
   "outputs": [],
   "source": [
    "iris_X_prime = impute.fit_transform(iris_X)"
   ]
  },
  {
   "cell_type": "code",
   "execution_count": 89,
   "metadata": {
    "collapsed": false
   },
   "outputs": [
    {
     "data": {
      "text/plain": [
       "array([[ 5.8,  3.5,  4.2,  0.2],\n",
       "       [ 4.9,  3. ,  1.4,  0.2],\n",
       "       [ 4.7,  3.2,  1.3,  1.3],\n",
       "       [ 4.6,  3.1,  4.2,  0.2],\n",
       "       [ 5. ,  3. ,  1.4,  0.2]])"
      ]
     },
     "execution_count": 89,
     "metadata": {},
     "output_type": "execute_result"
    }
   ],
   "source": [
    "iris_X_prime[:5]"
   ]
  },
  {
   "cell_type": "code",
   "execution_count": 90,
   "metadata": {
    "collapsed": true
   },
   "outputs": [],
   "source": [
    "iris_X[np.isnan(iris_X)] = -1"
   ]
  },
  {
   "cell_type": "code",
   "execution_count": 91,
   "metadata": {
    "collapsed": false
   },
   "outputs": [
    {
     "data": {
      "text/plain": [
       "array([[-1. ,  3.5, -1. ,  0.2],\n",
       "       [ 4.9,  3. ,  1.4,  0.2],\n",
       "       [ 4.7,  3.2,  1.3, -1. ],\n",
       "       [ 4.6,  3.1, -1. ,  0.2],\n",
       "       [ 5. , -1. ,  1.4,  0.2]])"
      ]
     },
     "execution_count": 91,
     "metadata": {},
     "output_type": "execute_result"
    }
   ],
   "source": [
    "iris_X[:5]"
   ]
  },
  {
   "cell_type": "code",
   "execution_count": 92,
   "metadata": {
    "collapsed": true
   },
   "outputs": [],
   "source": [
    "impute = preprocessing.Imputer(missing_values = -1)"
   ]
  },
  {
   "cell_type": "code",
   "execution_count": 93,
   "metadata": {
    "collapsed": true
   },
   "outputs": [],
   "source": [
    "iris_X_prime = impute.fit_transform(iris_X)"
   ]
  },
  {
   "cell_type": "code",
   "execution_count": 94,
   "metadata": {
    "collapsed": false
   },
   "outputs": [
    {
     "data": {
      "text/plain": [
       "array([[ 5.80088496,  3.5       ,  3.64137931,  0.2       ],\n",
       "       [ 4.9       ,  3.        ,  1.4       ,  0.2       ],\n",
       "       [ 4.7       ,  3.2       ,  1.3       ,  1.22377049],\n",
       "       [ 4.6       ,  3.1       ,  3.64137931,  0.2       ],\n",
       "       [ 5.        ,  3.05299145,  1.4       ,  0.2       ]])"
      ]
     },
     "execution_count": 94,
     "metadata": {},
     "output_type": "execute_result"
    }
   ],
   "source": [
    "iris_X_prime[:5]"
   ]
  },
  {
   "cell_type": "code",
   "execution_count": 95,
   "metadata": {
    "collapsed": true
   },
   "outputs": [],
   "source": [
    "import pandas as pd"
   ]
  },
  {
   "cell_type": "code",
   "execution_count": 96,
   "metadata": {
    "collapsed": true
   },
   "outputs": [],
   "source": [
    "iris_X[masking_array] = np.nan"
   ]
  },
  {
   "cell_type": "code",
   "execution_count": 97,
   "metadata": {
    "collapsed": true
   },
   "outputs": [],
   "source": [
    "iris_df = pd.DataFrame(iris_X, columns = iris.feature_names)"
   ]
  },
  {
   "cell_type": "code",
   "execution_count": 99,
   "metadata": {
    "collapsed": false
   },
   "outputs": [
    {
     "data": {
      "text/plain": [
       "0    5.800885\n",
       "1    4.900000\n",
       "2    4.700000\n",
       "3    4.600000\n",
       "4    5.000000\n",
       "Name: sepal length (cm), dtype: float64"
      ]
     },
     "execution_count": 99,
     "metadata": {},
     "output_type": "execute_result"
    }
   ],
   "source": [
    "iris_df.fillna(iris_df.mean())['sepal length (cm)'].head(5)"
   ]
  },
  {
   "cell_type": "code",
   "execution_count": 100,
   "metadata": {
    "collapsed": false
   },
   "outputs": [
    {
     "data": {
      "text/plain": [
       "0    7.7\n",
       "1    4.9\n",
       "2    4.7\n",
       "3    4.6\n",
       "4    5.0\n",
       "Name: sepal length (cm), dtype: float64"
      ]
     },
     "execution_count": 100,
     "metadata": {},
     "output_type": "execute_result"
    }
   ],
   "source": [
    "iris_df.fillna(iris_df.max())['sepal length (cm)'].head(5)"
   ]
  },
  {
   "cell_type": "code",
   "execution_count": 101,
   "metadata": {
    "collapsed": true
   },
   "outputs": [],
   "source": [
    "from sklearn import datasets"
   ]
  },
  {
   "cell_type": "code",
   "execution_count": 102,
   "metadata": {
    "collapsed": true
   },
   "outputs": [],
   "source": [
    "import numpy as np"
   ]
  },
  {
   "cell_type": "code",
   "execution_count": 103,
   "metadata": {
    "collapsed": true
   },
   "outputs": [],
   "source": [
    "mat = datasets.make_spd_matrix(10)"
   ]
  },
  {
   "cell_type": "code",
   "execution_count": 104,
   "metadata": {
    "collapsed": true
   },
   "outputs": [],
   "source": [
    "masking_array = np.random.binomial(1, .1, mat.shape).astype(bool)"
   ]
  },
  {
   "cell_type": "code",
   "execution_count": 105,
   "metadata": {
    "collapsed": true
   },
   "outputs": [],
   "source": [
    "mat[masking_array] = np.nan"
   ]
  },
  {
   "cell_type": "code",
   "execution_count": 106,
   "metadata": {
    "collapsed": false
   },
   "outputs": [
    {
     "data": {
      "text/plain": [
       "array([[        nan,  1.73862935,  0.11371546, -0.38052407],\n",
       "       [ 1.73862935,  2.81090767,  0.2550086 , -0.59235861],\n",
       "       [ 0.11371546,  0.2550086 ,  0.15161044, -0.06642322],\n",
       "       [-0.38052407, -0.59235861, -0.06642322,  0.40067779]])"
      ]
     },
     "execution_count": 106,
     "metadata": {},
     "output_type": "execute_result"
    }
   ],
   "source": [
    "mat[:4, :4]"
   ]
  },
  {
   "cell_type": "code",
   "execution_count": 107,
   "metadata": {
    "collapsed": true
   },
   "outputs": [],
   "source": [
    "from sklearn import preprocessing"
   ]
  },
  {
   "cell_type": "code",
   "execution_count": 108,
   "metadata": {
    "collapsed": true
   },
   "outputs": [],
   "source": [
    "impute = preprocessing.Imputer()"
   ]
  },
  {
   "cell_type": "code",
   "execution_count": 109,
   "metadata": {
    "collapsed": true
   },
   "outputs": [],
   "source": [
    "scaler = preprocessing.StandardScaler()"
   ]
  },
  {
   "cell_type": "code",
   "execution_count": 112,
   "metadata": {
    "collapsed": true
   },
   "outputs": [],
   "source": [
    "mat_imputed = impute.fit_transform(mat)"
   ]
  },
  {
   "cell_type": "code",
   "execution_count": 113,
   "metadata": {
    "collapsed": false
   },
   "outputs": [
    {
     "data": {
      "text/plain": [
       "array([[ 0.30212221,  1.73862935,  0.11371546, -0.38052407],\n",
       "       [ 1.73862935,  2.81090767,  0.2550086 , -0.59235861],\n",
       "       [ 0.11371546,  0.2550086 ,  0.15161044, -0.06642322],\n",
       "       [-0.38052407, -0.59235861, -0.06642322,  0.40067779]])"
      ]
     },
     "execution_count": 113,
     "metadata": {},
     "output_type": "execute_result"
    }
   ],
   "source": [
    "mat_imputed[:4, :4]"
   ]
  },
  {
   "cell_type": "code",
   "execution_count": 114,
   "metadata": {
    "collapsed": true
   },
   "outputs": [],
   "source": [
    "mat_imp_and_scaled = scaler.fit_transform(mat_imputed)"
   ]
  },
  {
   "cell_type": "code",
   "execution_count": 115,
   "metadata": {
    "collapsed": true
   },
   "outputs": [],
   "source": [
    "from sklearn import pipeline"
   ]
  },
  {
   "cell_type": "code",
   "execution_count": 116,
   "metadata": {
    "collapsed": true
   },
   "outputs": [],
   "source": [
    "pipe = pipeline.Pipeline([('impute', impute), ('scaler', scaler)])"
   ]
  },
  {
   "cell_type": "code",
   "execution_count": 117,
   "metadata": {
    "collapsed": false
   },
   "outputs": [
    {
     "data": {
      "text/plain": [
       "Pipeline(steps=[('impute', Imputer(axis=0, copy=True, missing_values='NaN', strategy='mean', verbose=0)), ('scaler', StandardScaler(copy=True, with_mean=True, with_std=True))])"
      ]
     },
     "execution_count": 117,
     "metadata": {},
     "output_type": "execute_result"
    }
   ],
   "source": [
    "pipe"
   ]
  },
  {
   "cell_type": "code",
   "execution_count": 118,
   "metadata": {
    "collapsed": true
   },
   "outputs": [],
   "source": [
    "new_mat = pipe.fit_transform(mat)"
   ]
  },
  {
   "cell_type": "code",
   "execution_count": 120,
   "metadata": {
    "collapsed": false
   },
   "outputs": [
    {
     "data": {
      "text/plain": [
       "array([[ -5.67269938e-17,   7.35206410e-01,   7.70648030e-02,\n",
       "         -8.12411134e-01],\n",
       "       [  1.46797049e+00,   1.43734796e+00,   1.39102623e+00,\n",
       "         -1.47017180e+00],\n",
       "       [ -1.92533362e-01,  -2.36287423e-01,   4.29470751e-01,\n",
       "          1.62893357e-01],\n",
       "       [ -6.97598050e-01,  -7.91154301e-01,  -1.59814229e+00,\n",
       "          1.61327375e+00]])"
      ]
     },
     "execution_count": 120,
     "metadata": {},
     "output_type": "execute_result"
    }
   ],
   "source": [
    "new_mat[:4, :4]"
   ]
  },
  {
   "cell_type": "code",
   "execution_count": 121,
   "metadata": {
    "collapsed": false
   },
   "outputs": [
    {
     "data": {
      "text/plain": [
       "True"
      ]
     },
     "execution_count": 121,
     "metadata": {},
     "output_type": "execute_result"
    }
   ],
   "source": [
    "np.array_equal(new_mat, mat_imp_and_scaled)"
   ]
  },
  {
   "cell_type": "code",
   "execution_count": 122,
   "metadata": {
    "collapsed": false
   },
   "outputs": [
    {
     "data": {
      "text/plain": [
       "array([[ 0.30212221,  1.73862935,  0.11371546, -0.38052407],\n",
       "       [ 1.73862935,  2.81090767,  0.2550086 , -0.59235861],\n",
       "       [ 0.11371546,  0.2550086 ,  0.15161044, -0.06642322],\n",
       "       [-0.38052407, -0.59235861, -0.06642322,  0.40067779]])"
      ]
     },
     "execution_count": 122,
     "metadata": {},
     "output_type": "execute_result"
    }
   ],
   "source": [
    "scaler.inverse_transform(new_mat)[:4, :4]"
   ]
  },
  {
   "cell_type": "code",
   "execution_count": 123,
   "metadata": {
    "collapsed": true
   },
   "outputs": [],
   "source": [
    "from sklearn import datasets"
   ]
  },
  {
   "cell_type": "code",
   "execution_count": 124,
   "metadata": {
    "collapsed": true
   },
   "outputs": [],
   "source": [
    "iris = datasets.load_iris()"
   ]
  },
  {
   "cell_type": "code",
   "execution_count": 125,
   "metadata": {
    "collapsed": true
   },
   "outputs": [],
   "source": [
    "iris_X = iris.data"
   ]
  },
  {
   "cell_type": "code",
   "execution_count": 126,
   "metadata": {
    "collapsed": true
   },
   "outputs": [],
   "source": [
    "from sklearn import decomposition"
   ]
  },
  {
   "cell_type": "code",
   "execution_count": 127,
   "metadata": {
    "collapsed": true
   },
   "outputs": [],
   "source": [
    "pca = decomposition.PCA()"
   ]
  },
  {
   "cell_type": "code",
   "execution_count": 128,
   "metadata": {
    "collapsed": false
   },
   "outputs": [
    {
     "data": {
      "text/plain": [
       "PCA(copy=True, n_components=None, whiten=False)"
      ]
     },
     "execution_count": 128,
     "metadata": {},
     "output_type": "execute_result"
    }
   ],
   "source": [
    "pca"
   ]
  },
  {
   "cell_type": "code",
   "execution_count": 129,
   "metadata": {
    "collapsed": true
   },
   "outputs": [],
   "source": [
    "iris_pca = pca.fit_transform(iris_X)"
   ]
  },
  {
   "cell_type": "code",
   "execution_count": 130,
   "metadata": {
    "collapsed": false
   },
   "outputs": [
    {
     "data": {
      "text/plain": [
       "array([[ -2.68420713e+00,  -3.26607315e-01,   2.15118370e-02,\n",
       "          1.00615724e-03],\n",
       "       [ -2.71539062e+00,   1.69556848e-01,   2.03521425e-01,\n",
       "          9.96024240e-02],\n",
       "       [ -2.88981954e+00,   1.37345610e-01,  -2.47092410e-02,\n",
       "          1.93045428e-02],\n",
       "       [ -2.74643720e+00,   3.11124316e-01,  -3.76719753e-02,\n",
       "         -7.59552741e-02],\n",
       "       [ -2.72859298e+00,  -3.33924564e-01,  -9.62296998e-02,\n",
       "         -6.31287327e-02]])"
      ]
     },
     "execution_count": 130,
     "metadata": {},
     "output_type": "execute_result"
    }
   ],
   "source": [
    "iris_pca[:5]"
   ]
  },
  {
   "cell_type": "code",
   "execution_count": 131,
   "metadata": {
    "collapsed": false
   },
   "outputs": [
    {
     "data": {
      "text/plain": [
       "array([ 0.92461621,  0.05301557,  0.01718514,  0.00518309])"
      ]
     },
     "execution_count": 131,
     "metadata": {},
     "output_type": "execute_result"
    }
   ],
   "source": [
    "pca.explained_variance_ratio_"
   ]
  },
  {
   "cell_type": "code",
   "execution_count": 132,
   "metadata": {
    "collapsed": true
   },
   "outputs": [],
   "source": [
    "pca = decomposition.PCA(n_components = 2)"
   ]
  },
  {
   "cell_type": "code",
   "execution_count": 133,
   "metadata": {
    "collapsed": true
   },
   "outputs": [],
   "source": [
    "iris_X_prime = pca.fit_transform(iris_X)"
   ]
  },
  {
   "cell_type": "code",
   "execution_count": 134,
   "metadata": {
    "collapsed": false
   },
   "outputs": [
    {
     "data": {
      "text/plain": [
       "(150, 2)"
      ]
     },
     "execution_count": 134,
     "metadata": {},
     "output_type": "execute_result"
    }
   ],
   "source": [
    "iris_X_prime.shape"
   ]
  },
  {
   "cell_type": "code",
   "execution_count": 135,
   "metadata": {
    "collapsed": false
   },
   "outputs": [
    {
     "data": {
      "text/plain": [
       "0.97763177502480336"
      ]
     },
     "execution_count": 135,
     "metadata": {},
     "output_type": "execute_result"
    }
   ],
   "source": [
    "pca.explained_variance_ratio_.sum()"
   ]
  },
  {
   "cell_type": "code",
   "execution_count": 136,
   "metadata": {
    "collapsed": true
   },
   "outputs": [],
   "source": [
    "pca = decomposition.PCA(n_components = .98)"
   ]
  },
  {
   "cell_type": "code",
   "execution_count": 137,
   "metadata": {
    "collapsed": true
   },
   "outputs": [],
   "source": [
    "iris_X_prime = pca.fit(iris_X)"
   ]
  },
  {
   "cell_type": "code",
   "execution_count": 138,
   "metadata": {
    "collapsed": false
   },
   "outputs": [
    {
     "data": {
      "text/plain": [
       "0.99481691454981014"
      ]
     },
     "execution_count": 138,
     "metadata": {},
     "output_type": "execute_result"
    }
   ],
   "source": [
    "pca.explained_variance_ratio_.sum()"
   ]
  },
  {
   "cell_type": "code",
   "execution_count": 139,
   "metadata": {
    "collapsed": true
   },
   "outputs": [],
   "source": [
    "from sklearn.decomposition import FactorAnalysis"
   ]
  },
  {
   "cell_type": "code",
   "execution_count": 140,
   "metadata": {
    "collapsed": true
   },
   "outputs": [],
   "source": [
    "fa = FactorAnalysis(n_components = 2)"
   ]
  },
  {
   "cell_type": "code",
   "execution_count": 141,
   "metadata": {
    "collapsed": true
   },
   "outputs": [],
   "source": [
    "iris_two_dim = fa.fit_transform(iris.data)"
   ]
  },
  {
   "cell_type": "code",
   "execution_count": 142,
   "metadata": {
    "collapsed": false
   },
   "outputs": [
    {
     "data": {
      "text/plain": [
       "array([[-1.33125848, -0.55846779],\n",
       "       [-1.33914102,  0.00509715],\n",
       "       [-1.40258715,  0.307983  ],\n",
       "       [-1.29839497,  0.71854288],\n",
       "       [-1.33587575, -0.36533259]])"
      ]
     },
     "execution_count": 142,
     "metadata": {},
     "output_type": "execute_result"
    }
   ],
   "source": [
    "iris_two_dim[:5]"
   ]
  },
  {
   "cell_type": "code",
   "execution_count": 143,
   "metadata": {
    "collapsed": true
   },
   "outputs": [],
   "source": [
    "import numpy as np"
   ]
  },
  {
   "cell_type": "code",
   "execution_count": 144,
   "metadata": {
    "collapsed": true
   },
   "outputs": [],
   "source": [
    "A1_mean = [1, 2]"
   ]
  },
  {
   "cell_type": "code",
   "execution_count": 145,
   "metadata": {
    "collapsed": true
   },
   "outputs": [],
   "source": [
    "A1_cov = [[1, .99], [1, 1]]"
   ]
  },
  {
   "cell_type": "code",
   "execution_count": 146,
   "metadata": {
    "collapsed": true
   },
   "outputs": [],
   "source": [
    "A1 = np.random.multivariate_normal(A1_mean, A1_cov, 50)"
   ]
  },
  {
   "cell_type": "code",
   "execution_count": 147,
   "metadata": {
    "collapsed": true
   },
   "outputs": [],
   "source": [
    "A2_mean = [5, 5]"
   ]
  },
  {
   "cell_type": "code",
   "execution_count": 148,
   "metadata": {
    "collapsed": true
   },
   "outputs": [],
   "source": [
    "A2_cov = [[2, .99], [1, 1]]"
   ]
  },
  {
   "cell_type": "code",
   "execution_count": 149,
   "metadata": {
    "collapsed": true
   },
   "outputs": [],
   "source": [
    "A2 = np.random.multivariate_normal(A2_mean, A2_cov, 50)"
   ]
  },
  {
   "cell_type": "code",
   "execution_count": 150,
   "metadata": {
    "collapsed": true
   },
   "outputs": [],
   "source": [
    "A = np.vstack((A1, A2))"
   ]
  },
  {
   "cell_type": "code",
   "execution_count": 151,
   "metadata": {
    "collapsed": true
   },
   "outputs": [],
   "source": [
    "B_mean = [5, 0]"
   ]
  },
  {
   "cell_type": "code",
   "execution_count": 153,
   "metadata": {
    "collapsed": false
   },
   "outputs": [],
   "source": [
    "B_cov  = [[.5, -1], [-.9, .5]]"
   ]
  },
  {
   "cell_type": "code",
   "execution_count": 154,
   "metadata": {
    "collapsed": false
   },
   "outputs": [
    {
     "name": "stderr",
     "output_type": "stream",
     "text": [
      "//anaconda/lib/python3.5/site-packages/ipykernel/__main__.py:1: RuntimeWarning: covariance is not positive-semidefinite.\n",
      "  if __name__ == '__main__':\n"
     ]
    }
   ],
   "source": [
    "\n",
    "B = np.random.multivariate_normal(B_mean, B_cov, 100)"
   ]
  },
  {
   "cell_type": "code",
   "execution_count": 155,
   "metadata": {
    "collapsed": true
   },
   "outputs": [],
   "source": [
    "kpca = decomposition.KernelPCA(kernel = 'cosine', n_components =1)"
   ]
  },
  {
   "cell_type": "code",
   "execution_count": 156,
   "metadata": {
    "collapsed": true
   },
   "outputs": [],
   "source": [
    "AB = np.vstack((A, B))"
   ]
  },
  {
   "cell_type": "code",
   "execution_count": 157,
   "metadata": {
    "collapsed": true
   },
   "outputs": [],
   "source": [
    "AB_transformed = kpca.fit_transform(AB)"
   ]
  },
  {
   "cell_type": "code",
   "execution_count": 158,
   "metadata": {
    "collapsed": true
   },
   "outputs": [],
   "source": [
    "from sklearn.datasets import load_iris"
   ]
  },
  {
   "cell_type": "code",
   "execution_count": 159,
   "metadata": {
    "collapsed": true
   },
   "outputs": [],
   "source": [
    "iris = load_iris()"
   ]
  },
  {
   "cell_type": "code",
   "execution_count": 160,
   "metadata": {
    "collapsed": true
   },
   "outputs": [],
   "source": [
    "iris_data = iris.data"
   ]
  },
  {
   "cell_type": "code",
   "execution_count": 161,
   "metadata": {
    "collapsed": true
   },
   "outputs": [],
   "source": [
    "iris_target = iris.target"
   ]
  },
  {
   "cell_type": "code",
   "execution_count": 162,
   "metadata": {
    "collapsed": true
   },
   "outputs": [],
   "source": [
    "from sklearn.decomposition import TruncatedSVD"
   ]
  },
  {
   "cell_type": "code",
   "execution_count": 163,
   "metadata": {
    "collapsed": true
   },
   "outputs": [],
   "source": [
    "svd = TruncatedSVD(2)"
   ]
  },
  {
   "cell_type": "code",
   "execution_count": 164,
   "metadata": {
    "collapsed": true
   },
   "outputs": [],
   "source": [
    "iris_transformed = svd.fit_transform(iris_data)"
   ]
  },
  {
   "cell_type": "code",
   "execution_count": 165,
   "metadata": {
    "collapsed": false
   },
   "outputs": [
    {
     "data": {
      "text/plain": [
       "array([[ 5.1,  3.5,  1.4,  0.2],\n",
       "       [ 4.9,  3. ,  1.4,  0.2],\n",
       "       [ 4.7,  3.2,  1.3,  0.2],\n",
       "       [ 4.6,  3.1,  1.5,  0.2],\n",
       "       [ 5. ,  3.6,  1.4,  0.2]])"
      ]
     },
     "execution_count": 165,
     "metadata": {},
     "output_type": "execute_result"
    }
   ],
   "source": [
    "iris_data[:5]"
   ]
  },
  {
   "cell_type": "code",
   "execution_count": 166,
   "metadata": {
    "collapsed": false
   },
   "outputs": [
    {
     "data": {
      "text/plain": [
       "array([[ 5.91220352,  2.3034421 ],\n",
       "       [ 5.57207573,  1.97383104],\n",
       "       [ 5.4464847 ,  2.09653267],\n",
       "       [ 5.43601924,  1.87168085],\n",
       "       [ 5.87506555,  2.32934799]])"
      ]
     },
     "execution_count": 166,
     "metadata": {},
     "output_type": "execute_result"
    }
   ],
   "source": [
    "iris_transformed[:5]"
   ]
  },
  {
   "cell_type": "code",
   "execution_count": 167,
   "metadata": {
    "collapsed": true
   },
   "outputs": [],
   "source": [
    "from scipy.linalg import svd"
   ]
  },
  {
   "cell_type": "code",
   "execution_count": 168,
   "metadata": {
    "collapsed": true
   },
   "outputs": [],
   "source": [
    "D = np.array([[1, 2], [1, 3], [1, 4]])"
   ]
  },
  {
   "cell_type": "code",
   "execution_count": 169,
   "metadata": {
    "collapsed": false
   },
   "outputs": [
    {
     "data": {
      "text/plain": [
       "array([[1, 2],\n",
       "       [1, 3],\n",
       "       [1, 4]])"
      ]
     },
     "execution_count": 169,
     "metadata": {},
     "output_type": "execute_result"
    }
   ],
   "source": [
    "D"
   ]
  },
  {
   "cell_type": "code",
   "execution_count": 170,
   "metadata": {
    "collapsed": true
   },
   "outputs": [],
   "source": [
    "U, S, V = svd(D, full_matrices = False)"
   ]
  },
  {
   "cell_type": "code",
   "execution_count": 171,
   "metadata": {
    "collapsed": false
   },
   "outputs": [
    {
     "data": {
      "text/plain": [
       "((3, 2), (2,), (2, 2))"
      ]
     },
     "execution_count": 171,
     "metadata": {},
     "output_type": "execute_result"
    }
   ],
   "source": [
    "U.shape, S.shape, V.shape"
   ]
  },
  {
   "cell_type": "code",
   "execution_count": 172,
   "metadata": {
    "collapsed": false
   },
   "outputs": [
    {
     "data": {
      "text/plain": [
       "array([[ 1.,  2.],\n",
       "       [ 1.,  3.],\n",
       "       [ 1.,  4.]])"
      ]
     },
     "execution_count": 172,
     "metadata": {},
     "output_type": "execute_result"
    }
   ],
   "source": [
    "np.dot(U.dot(np.diag(S)), V)"
   ]
  },
  {
   "cell_type": "code",
   "execution_count": 173,
   "metadata": {
    "collapsed": true
   },
   "outputs": [],
   "source": [
    "new_S = S[0]"
   ]
  },
  {
   "cell_type": "code",
   "execution_count": 174,
   "metadata": {
    "collapsed": true
   },
   "outputs": [],
   "source": [
    "new_U = U[:, 0]"
   ]
  },
  {
   "cell_type": "code",
   "execution_count": 175,
   "metadata": {
    "collapsed": false
   },
   "outputs": [
    {
     "data": {
      "text/plain": [
       "array([-2.20719466, -3.16170819, -4.11622173])"
      ]
     },
     "execution_count": 175,
     "metadata": {},
     "output_type": "execute_result"
    }
   ],
   "source": [
    "new_U.dot(new_S)"
   ]
  },
  {
   "cell_type": "code",
   "execution_count": 176,
   "metadata": {
    "collapsed": true
   },
   "outputs": [],
   "source": [
    "tsvd = TruncatedSVD(2)"
   ]
  },
  {
   "cell_type": "code",
   "execution_count": 177,
   "metadata": {
    "collapsed": false
   },
   "outputs": [
    {
     "data": {
      "text/plain": [
       "TruncatedSVD(algorithm='randomized', n_components=2, n_iter=5,\n",
       "       random_state=None, tol=0.0)"
      ]
     },
     "execution_count": 177,
     "metadata": {},
     "output_type": "execute_result"
    }
   ],
   "source": [
    "tsvd.fit(iris_data)"
   ]
  },
  {
   "cell_type": "code",
   "execution_count": 178,
   "metadata": {
    "collapsed": false
   },
   "outputs": [
    {
     "data": {
      "text/plain": [
       "array([[  5.91220352e+00,   2.30344211e+00],\n",
       "       [  5.57207573e+00,   1.97383104e+00],\n",
       "       [  5.44648470e+00,   2.09653267e+00],\n",
       "       [  5.43601924e+00,   1.87168085e+00],\n",
       "       [  5.87506555e+00,   2.32934799e+00],\n",
       "       [  6.47699043e+00,   2.32552598e+00],\n",
       "       [  5.51542859e+00,   2.07156181e+00],\n",
       "       [  5.85042297e+00,   2.14948016e+00],\n",
       "       [  5.15851287e+00,   1.77642658e+00],\n",
       "       [  5.64458172e+00,   1.99190598e+00],\n",
       "       [  6.26482670e+00,   2.42727947e+00],\n",
       "       [  5.75150446e+00,   2.02142409e+00],\n",
       "       [  5.48017099e+00,   1.97972378e+00],\n",
       "       [  4.95064168e+00,   2.04947793e+00],\n",
       "       [  6.52528515e+00,   2.91774840e+00],\n",
       "       [  6.78960484e+00,   2.82549990e+00],\n",
       "       [  6.27173006e+00,   2.60908548e+00],\n",
       "       [  5.92899145e+00,   2.26896626e+00],\n",
       "       [  6.64757408e+00,   2.39126214e+00],\n",
       "       [  6.09424306e+00,   2.36154331e+00],\n",
       "       [  6.25352038e+00,   2.12203279e+00],\n",
       "       [  6.07305216e+00,   2.27257849e+00],\n",
       "       [  5.36933796e+00,   2.49857510e+00],\n",
       "       [  6.04055493e+00,   1.87836700e+00],\n",
       "       [  5.90544974e+00,   1.80875447e+00],\n",
       "       [  5.74982272e+00,   1.86063438e+00],\n",
       "       [  5.93531393e+00,   2.00963860e+00],\n",
       "       [  6.03863542e+00,   2.26113533e+00],\n",
       "       [  5.94934149e+00,   2.27753623e+00],\n",
       "       [  5.60042998e+00,   1.88386305e+00],\n",
       "       [  5.63756795e+00,   1.85795717e+00],\n",
       "       [  6.18446606e+00,   2.19486085e+00],\n",
       "       [  6.24972051e+00,   2.62254502e+00],\n",
       "       [  6.47852260e+00,   2.79919732e+00],\n",
       "       [  5.64458172e+00,   1.99190598e+00],\n",
       "       [  5.62052002e+00,   2.25317183e+00],\n",
       "       [  6.16135565e+00,   2.48866436e+00],\n",
       "       [  5.64458172e+00,   1.99190598e+00],\n",
       "       [  5.14517661e+00,   1.90180543e+00],\n",
       "       [  5.92553978e+00,   2.17806326e+00],\n",
       "       [  5.80255956e+00,   2.31127304e+00],\n",
       "       [  4.97122949e+00,   1.51448985e+00],\n",
       "       [  5.22113428e+00,   2.01078338e+00],\n",
       "       [  6.00686864e+00,   1.99517588e+00],\n",
       "       [  6.31629137e+00,   2.04350797e+00],\n",
       "       [  5.51374686e+00,   1.91077210e+00],\n",
       "       [  6.12877022e+00,   2.32512928e+00],\n",
       "       [  5.42268299e+00,   1.99705970e+00],\n",
       "       [  6.18970990e+00,   2.39869637e+00],\n",
       "       [  5.76112904e+00,   2.16588106e+00],\n",
       "       [  9.12033960e+00,  -7.00219921e-02],\n",
       "       [  8.58379652e+00,  -1.34216664e-01],\n",
       "       [  9.12666208e+00,  -3.29349657e-01],\n",
       "       [  7.27578441e+00,  -4.58464245e-01],\n",
       "       [  8.55831307e+00,  -3.94479344e-01],\n",
       "       [  7.87248767e+00,  -4.83302548e-01],\n",
       "       [  8.66607667e+00,  -2.84566378e-01],\n",
       "       [  6.45349296e+00,   2.41828100e-02],\n",
       "       [  8.63783285e+00,  -2.42455583e-01],\n",
       "       [  7.16782218e+00,  -2.89843601e-01],\n",
       "       [  6.47932460e+00,  -3.06969745e-01],\n",
       "       [  7.97830954e+00,  -1.73440471e-01],\n",
       "       [  7.56302580e+00,  -2.66610207e-01],\n",
       "       [  8.33035185e+00,  -4.90736782e-01],\n",
       "       [  7.37351386e+00,   1.80612202e-01],\n",
       "       [  8.70306507e+00,   2.40936793e-03],\n",
       "       [  7.90690441e+00,  -4.71859382e-01],\n",
       "       [  7.65400146e+00,  -1.22221396e-01],\n",
       "       [  8.05377454e+00,  -7.36272611e-01],\n",
       "       [  7.34196793e+00,  -1.81061634e-01],\n",
       "       [  8.41252158e+00,  -5.93229301e-01],\n",
       "       [  7.91637942e+00,  -1.45207918e-02],\n",
       "       [  8.44808823e+00,  -8.27782086e-01],\n",
       "       [  8.25879715e+00,  -4.76274069e-01],\n",
       "       [  8.33365396e+00,  -8.69521519e-02],\n",
       "       [  8.58996943e+00,  -8.06627036e-02],\n",
       "       [  8.86950574e+00,  -4.16033961e-01],\n",
       "       [  9.02334060e+00,  -5.80846389e-01],\n",
       "       [  8.16939279e+00,  -4.12015974e-01],\n",
       "       [  7.23301526e+00,   2.20045780e-01],\n",
       "       [  7.17755719e+00,  -1.93243831e-01],\n",
       "       [  7.10945416e+00,  -8.78781122e-02],\n",
       "       [  7.58494714e+00,  -4.93933360e-02],\n",
       "       [  8.41811361e+00,  -9.80809017e-01],\n",
       "       [  7.75667080e+00,  -5.29025574e-01],\n",
       "       [  8.37607491e+00,  -1.74046941e-01],\n",
       "       [  8.87379829e+00,  -2.44736100e-01],\n",
       "       [  8.08197922e+00,  -5.13358976e-01],\n",
       "       [  7.66806816e+00,  -1.19348195e-01],\n",
       "       [  7.35174208e+00,  -3.49486294e-01],\n",
       "       [  7.57819336e+00,  -5.44080972e-01],\n",
       "       [  8.31701559e+00,  -3.65357932e-01],\n",
       "       [  7.59828340e+00,  -1.74772186e-01],\n",
       "       [  6.49063093e+00,  -1.72306959e-03],\n",
       "       [  7.60544675e+00,  -3.53704996e-01],\n",
       "       [  7.77771213e+00,  -1.27179129e-01],\n",
       "       [  7.75652123e+00,  -2.16143949e-01],\n",
       "       [  8.18342035e+00,  -1.44118344e-01],\n",
       "       [  6.50454806e+00,   3.14031756e-01],\n",
       "       [  7.66722730e+00,  -1.99743050e-01],\n",
       "       [  9.48426430e+00,  -1.51641735e+00],\n",
       "       [  8.31824380e+00,  -1.14140274e+00],\n",
       "       [  9.85279540e+00,  -1.24242625e+00],\n",
       "       [  9.00957304e+00,  -1.20948284e+00],\n",
       "       [  9.36756741e+00,  -1.37751080e+00],\n",
       "       [  1.05875851e+01,  -1.59573990e+00],\n",
       "       [  7.22476846e+00,  -1.01333762e+00],\n",
       "       [  1.01199467e+01,  -1.41988100e+00],\n",
       "       [  9.26075510e+00,  -1.45488611e+00],\n",
       "       [  1.03255671e+01,  -1.16659243e+00],\n",
       "       [  9.05074356e+00,  -7.03352038e-01],\n",
       "       [  8.87157482e+00,  -1.11168392e+00],\n",
       "       [  9.42218461e+00,  -1.04461604e+00],\n",
       "       [  8.13264217e+00,  -1.24254976e+00],\n",
       "       [  8.44016231e+00,  -1.25929299e+00],\n",
       "       [  9.12862074e+00,  -9.77142417e-01],\n",
       "       [  9.14647039e+00,  -1.02693780e+00],\n",
       "       [  1.10346356e+01,  -1.23661071e+00],\n",
       "       [  1.06983077e+01,  -2.06673401e+00],\n",
       "       [  8.16011640e+00,  -1.14788818e+00],\n",
       "       [  9.70946514e+00,  -1.11778643e+00],\n",
       "       [  8.12014678e+00,  -1.03677605e+00],\n",
       "       [  1.06212714e+01,  -1.71254878e+00],\n",
       "       [  8.57440971e+00,  -8.22231669e-01],\n",
       "       [  9.56363450e+00,  -1.05151196e+00],\n",
       "       [  1.00048212e+01,  -1.07232755e+00],\n",
       "       [  8.48595665e+00,  -7.25435915e-01],\n",
       "       [  8.53811261e+00,  -7.15930934e-01],\n",
       "       [  9.09707481e+00,  -1.33881625e+00],\n",
       "       [  9.79265744e+00,  -9.70574060e-01],\n",
       "       [  1.00712425e+01,  -1.33848298e+00],\n",
       "       [  1.09973481e+01,  -8.97823210e-01],\n",
       "       [  9.11386274e+00,  -1.37329210e+00],\n",
       "       [  8.66465493e+00,  -8.06094909e-01],\n",
       "       [  8.67825118e+00,  -1.29221258e+00],\n",
       "       [  1.04397023e+01,  -1.28165912e+00],\n",
       "       [  9.30019482e+00,  -1.14389303e+00],\n",
       "       [  9.10933242e+00,  -1.00103192e+00],\n",
       "       [  8.41168071e+00,  -6.73624156e-01],\n",
       "       [  9.48396516e+00,  -8.90654098e-01],\n",
       "       [  9.48672553e+00,  -1.19302757e+00],\n",
       "       [  9.36359574e+00,  -7.46936164e-01],\n",
       "       [  8.31824380e+00,  -1.14140274e+00],\n",
       "       [  9.73697852e+00,  -1.28814928e+00],\n",
       "       [  9.63078623e+00,  -1.18941534e+00],\n",
       "       [  9.22669839e+00,  -9.29481206e-01],\n",
       "       [  8.56655506e+00,  -1.03657534e+00],\n",
       "       [  9.02610098e+00,  -8.83219863e-01],\n",
       "       [  9.10565990e+00,  -9.96220532e-01],\n",
       "       [  8.49050919e+00,  -9.14876875e-01]])"
      ]
     },
     "execution_count": 178,
     "metadata": {},
     "output_type": "execute_result"
    }
   ],
   "source": [
    "tsvd.transform(iris_data)"
   ]
  },
  {
   "cell_type": "code",
   "execution_count": 179,
   "metadata": {
    "collapsed": true
   },
   "outputs": [],
   "source": [
    "from sklearn.decomposition import DictionaryLearning"
   ]
  },
  {
   "cell_type": "code",
   "execution_count": 180,
   "metadata": {
    "collapsed": true
   },
   "outputs": [],
   "source": [
    "d1 = DictionaryLearning(3)"
   ]
  },
  {
   "cell_type": "code",
   "execution_count": 182,
   "metadata": {
    "collapsed": true
   },
   "outputs": [],
   "source": [
    "transformed = d1.fit_transform(iris_data[::2])"
   ]
  },
  {
   "cell_type": "code",
   "execution_count": 183,
   "metadata": {
    "collapsed": false
   },
   "outputs": [
    {
     "data": {
      "text/plain": [
       "array([[  0.        ,   6.34476574,   0.        ],\n",
       "       [  0.        ,   5.83576461,   0.        ],\n",
       "       [  0.        ,   6.32038375,   0.        ],\n",
       "       [  0.        ,   5.89318572,   0.        ],\n",
       "       [  0.        ,   5.45222715,   0.        ],\n",
       "       [  0.        ,   6.71832878,   0.        ],\n",
       "       [  0.        ,   5.82389713,   0.        ],\n",
       "       [  0.        ,   7.13622263,   0.        ],\n",
       "       [  0.        ,   6.7908277 ,   0.        ],\n",
       "       [  0.        ,   7.06263882,   0.        ],\n",
       "       [  0.        ,   6.59729826,   0.        ],\n",
       "       [  0.        ,   5.90963632,   0.        ],\n",
       "       [  0.        ,   6.16339167,   0.        ],\n",
       "       [  0.        ,   6.26187775,   0.        ],\n",
       "       [  0.        ,   6.36914773,   0.        ],\n",
       "       [  0.        ,   5.92847705,   0.        ],\n",
       "       [  0.        ,   6.77712268,   0.        ],\n",
       "       [  0.        ,   5.98211204,   0.        ],\n",
       "       [  0.        ,   6.64162908,   0.        ],\n",
       "       [  0.        ,   5.48497839,   0.        ],\n",
       "       [  0.        ,   6.24557711,   0.        ],\n",
       "       [  0.        ,   5.59603449,   0.        ],\n",
       "       [  0.        ,   6.63223045,   0.        ],\n",
       "       [  0.        ,   6.55690353,   0.        ],\n",
       "       [  0.        ,   6.63841874,   0.        ],\n",
       "       [ -9.12438937,   0.        ,   0.        ],\n",
       "       [ -9.13631376,   0.        ,   0.        ],\n",
       "       [ -8.57066734,   0.        ,   0.        ],\n",
       "       [ -8.66161289,   0.        ,   0.        ],\n",
       "       [ -8.64856499,   0.        ,   0.        ],\n",
       "       [ -6.49423949,   0.        ,   0.        ],\n",
       "       [ -7.58541147,   0.        ,   0.        ],\n",
       "       [ -7.36156692,   0.        ,   0.        ],\n",
       "       [ -7.90571565,   0.        ,   0.        ],\n",
       "       [ -8.08287353,   0.        ,   0.        ],\n",
       "       [  0.        ,   0.        ,  -8.41927111],\n",
       "       [ -8.47447365,   0.        ,   0.        ],\n",
       "       [ -8.33815209,   0.        ,   0.        ],\n",
       "       [ -8.88754896,   0.        ,   0.        ],\n",
       "       [ -8.17384159,   0.        ,   0.        ],\n",
       "       [ -7.18639712,   0.        ,   0.        ],\n",
       "       [ -7.58653498,   0.        ,   0.        ],\n",
       "       [  0.        ,   0.        ,  -7.75913242],\n",
       "       [ -8.87891415,   0.        ,   0.        ],\n",
       "       [ -7.66125349,   0.        ,   0.        ],\n",
       "       [ -7.58992165,   0.        ,   0.        ],\n",
       "       [ -7.6049281 ,   0.        ,   0.        ],\n",
       "       [ -7.61040629,   0.        ,   0.        ],\n",
       "       [ -7.75533313,   0.        ,   0.        ],\n",
       "       [ -6.49416493,   0.        ,   0.        ],\n",
       "       [  0.        ,   0.        ,  -9.61821826],\n",
       "       [  0.        ,   0.        ,  -9.92549098],\n",
       "       [  0.        ,   0.        ,  -9.4722395 ],\n",
       "       [  0.        ,   0.        ,  -7.30244686],\n",
       "       [  0.        ,   0.        ,  -9.36236304],\n",
       "       [  0.        ,   0.        ,  -9.06308714],\n",
       "       [  0.        ,   0.        ,  -9.4744809 ],\n",
       "       [  0.        ,   0.        ,  -8.54516866],\n",
       "       [  0.        ,   0.        ,  -9.19787727],\n",
       "       [  0.        ,   0.        , -10.86993549],\n",
       "       [  0.        ,   0.        ,  -9.7738938 ],\n",
       "       [  0.        ,   0.        , -10.74195645],\n",
       "       [  0.        ,   0.        ,  -9.62078414],\n",
       "       [  0.        ,   0.        ,  -8.50179617],\n",
       "       [  0.        ,   0.        ,  -9.19579578],\n",
       "       [  0.        ,   0.        , -10.14632019],\n",
       "       [  0.        ,   0.        ,  -9.21876496],\n",
       "       [  0.        ,   0.        ,  -8.76472991],\n",
       "       [  0.        ,   0.        ,  -9.38322783],\n",
       "       [  0.        ,   0.        ,  -8.42591763],\n",
       "       [  0.        ,   0.        ,  -9.56627767],\n",
       "       [  0.        ,   0.        ,  -8.39902999],\n",
       "       [  0.        ,   0.        ,  -9.71266087],\n",
       "       [  0.        ,   0.        ,  -8.62177611],\n",
       "       [  0.        ,   0.        ,  -9.16936962]])"
      ]
     },
     "execution_count": 183,
     "metadata": {},
     "output_type": "execute_result"
    }
   ],
   "source": [
    "transformed"
   ]
  },
  {
   "cell_type": "code",
   "execution_count": 184,
   "metadata": {
    "collapsed": true
   },
   "outputs": [],
   "source": [
    "transformed = d1.transform(iris_data[1::2])"
   ]
  },
  {
   "cell_type": "code",
   "execution_count": 185,
   "metadata": {
    "collapsed": true
   },
   "outputs": [],
   "source": [
    "from sklearn.datasets import load_iris"
   ]
  },
  {
   "cell_type": "code",
   "execution_count": 186,
   "metadata": {
    "collapsed": true
   },
   "outputs": [],
   "source": [
    "import numpy as np"
   ]
  },
  {
   "cell_type": "code",
   "execution_count": 187,
   "metadata": {
    "collapsed": true
   },
   "outputs": [],
   "source": [
    "iris = load_iris()"
   ]
  },
  {
   "cell_type": "code",
   "execution_count": 188,
   "metadata": {
    "collapsed": true
   },
   "outputs": [],
   "source": [
    "iris_data = iris.data"
   ]
  },
  {
   "cell_type": "code",
   "execution_count": 189,
   "metadata": {
    "collapsed": true
   },
   "outputs": [],
   "source": [
    "mask = np.random.binomial(1, .25, iris_data.shape).astype(bool)"
   ]
  },
  {
   "cell_type": "code",
   "execution_count": 190,
   "metadata": {
    "collapsed": true
   },
   "outputs": [],
   "source": [
    "iris_data[mask] = np.nan"
   ]
  },
  {
   "cell_type": "code",
   "execution_count": 191,
   "metadata": {
    "collapsed": false
   },
   "outputs": [
    {
     "data": {
      "text/plain": [
       "array([[ nan,  3.5,  nan,  nan],\n",
       "       [ 4.9,  3. ,  1.4,  nan],\n",
       "       [ 4.7,  3.2,  1.3,  0.2],\n",
       "       [ 4.6,  3.1,  nan,  nan],\n",
       "       [ 5. ,  nan,  1.4,  nan]])"
      ]
     },
     "execution_count": 191,
     "metadata": {},
     "output_type": "execute_result"
    }
   ],
   "source": [
    "iris_data[:5]"
   ]
  },
  {
   "cell_type": "code",
   "execution_count": 192,
   "metadata": {
    "collapsed": true
   },
   "outputs": [],
   "source": [
    "from sklearn import pipeline, preprocessing, decomposition"
   ]
  },
  {
   "cell_type": "code",
   "execution_count": 193,
   "metadata": {
    "collapsed": true
   },
   "outputs": [],
   "source": [
    "pca = decomposition.PCA()"
   ]
  },
  {
   "cell_type": "code",
   "execution_count": 194,
   "metadata": {
    "collapsed": true
   },
   "outputs": [],
   "source": [
    "imputer = preprocessing.Imputer()"
   ]
  },
  {
   "cell_type": "code",
   "execution_count": 195,
   "metadata": {
    "collapsed": true
   },
   "outputs": [],
   "source": [
    "pipe = pipeline.Pipeline([('imputer', imputer), ('pca', pca)])"
   ]
  },
  {
   "cell_type": "code",
   "execution_count": 196,
   "metadata": {
    "collapsed": true
   },
   "outputs": [],
   "source": [
    "iris_data_transformed = pipe.fit_transform(iris_data)"
   ]
  },
  {
   "cell_type": "code",
   "execution_count": 197,
   "metadata": {
    "collapsed": false
   },
   "outputs": [
    {
     "data": {
      "text/plain": [
       "array([[  1.89874059e-02,   1.36761810e-03,  -3.20768294e-03,\n",
       "         -4.63234278e-01],\n",
       "       [  2.48792875e+00,  -2.06906543e-01,   7.28928672e-01,\n",
       "          1.32714004e-01],\n",
       "       [  2.95303609e+00,   1.83157566e-01,  -1.44569259e-01,\n",
       "         -4.11952499e-02],\n",
       "       [  4.02380124e-01,   1.05336551e+00,   4.05233933e-01,\n",
       "         -4.68947113e-02],\n",
       "       [  2.45603212e+00,  -2.94752029e-01,   6.94798515e-01,\n",
       "          9.49883875e-02]])"
      ]
     },
     "execution_count": 197,
     "metadata": {},
     "output_type": "execute_result"
    }
   ],
   "source": [
    "iris_data_transformed[:5]"
   ]
  },
  {
   "cell_type": "code",
   "execution_count": 198,
   "metadata": {
    "collapsed": true
   },
   "outputs": [],
   "source": [
    "pipe2 = pipeline.make_pipeline(imputer, pca)"
   ]
  },
  {
   "cell_type": "code",
   "execution_count": 199,
   "metadata": {
    "collapsed": false
   },
   "outputs": [
    {
     "data": {
      "text/plain": [
       "[('imputer',\n",
       "  Imputer(axis=0, copy=True, missing_values='NaN', strategy='mean', verbose=0)),\n",
       " ('pca', PCA(copy=True, n_components=None, whiten=False))]"
      ]
     },
     "execution_count": 199,
     "metadata": {},
     "output_type": "execute_result"
    }
   ],
   "source": [
    "pipe2.steps"
   ]
  },
  {
   "cell_type": "code",
   "execution_count": 200,
   "metadata": {
    "collapsed": true
   },
   "outputs": [],
   "source": [
    "iris_data_transformed2 = pipe2.fit_transform(iris_data)"
   ]
  },
  {
   "cell_type": "code",
   "execution_count": 201,
   "metadata": {
    "collapsed": false
   },
   "outputs": [
    {
     "data": {
      "text/plain": [
       "array([[  1.89874059e-02,   1.36761810e-03,  -3.20768294e-03,\n",
       "         -4.63234278e-01],\n",
       "       [  2.48792875e+00,  -2.06906543e-01,   7.28928672e-01,\n",
       "          1.32714004e-01],\n",
       "       [  2.95303609e+00,   1.83157566e-01,  -1.44569259e-01,\n",
       "         -4.11952499e-02],\n",
       "       [  4.02380124e-01,   1.05336551e+00,   4.05233933e-01,\n",
       "         -4.68947113e-02],\n",
       "       [  2.45603212e+00,  -2.94752029e-01,   6.94798515e-01,\n",
       "          9.49883875e-02]])"
      ]
     },
     "execution_count": 201,
     "metadata": {},
     "output_type": "execute_result"
    }
   ],
   "source": [
    "iris_data_transformed2[:5]"
   ]
  },
  {
   "cell_type": "code",
   "execution_count": 206,
   "metadata": {
    "collapsed": false
   },
   "outputs": [],
   "source": [
    "from sklearn.datasets import load_boston"
   ]
  },
  {
   "cell_type": "code",
   "execution_count": 207,
   "metadata": {
    "collapsed": true
   },
   "outputs": [],
   "source": [
    "boston = load_boston()"
   ]
  },
  {
   "cell_type": "code",
   "execution_count": 208,
   "metadata": {
    "collapsed": true
   },
   "outputs": [],
   "source": [
    "boston_X = boston.data"
   ]
  },
  {
   "cell_type": "code",
   "execution_count": 209,
   "metadata": {
    "collapsed": true
   },
   "outputs": [],
   "source": [
    "boston_y = boston.target"
   ]
  },
  {
   "cell_type": "code",
   "execution_count": 210,
   "metadata": {
    "collapsed": true
   },
   "outputs": [],
   "source": [
    "train_set = np.random.choice([True, False], len(boston_y), p = [.75, .25])"
   ]
  },
  {
   "cell_type": "code",
   "execution_count": 211,
   "metadata": {
    "collapsed": true
   },
   "outputs": [],
   "source": [
    "from sklearn.gaussian_process import GaussianProcess"
   ]
  },
  {
   "cell_type": "code",
   "execution_count": 212,
   "metadata": {
    "collapsed": true
   },
   "outputs": [],
   "source": [
    "gp = GaussianProcess()"
   ]
  },
  {
   "cell_type": "code",
   "execution_count": 213,
   "metadata": {
    "collapsed": false
   },
   "outputs": [
    {
     "data": {
      "text/plain": [
       "GaussianProcess(beta0=None,\n",
       "        corr=<function squared_exponential at 0x116504e18>, normalize=True,\n",
       "        nugget=array(2.220446049250313e-15), optimizer='fmin_cobyla',\n",
       "        random_start=1,\n",
       "        random_state=<mtrand.RandomState object at 0x109538710>,\n",
       "        regr=<function constant at 0x1165049d8>, storage_mode='full',\n",
       "        theta0=array([[ 0.1]]), thetaL=None, thetaU=None, verbose=False)"
      ]
     },
     "execution_count": 213,
     "metadata": {},
     "output_type": "execute_result"
    }
   ],
   "source": [
    "gp.fit(boston_X[train_set], boston_y[train_set])"
   ]
  },
  {
   "cell_type": "code",
   "execution_count": 214,
   "metadata": {
    "collapsed": true
   },
   "outputs": [],
   "source": [
    "test_preds = gp.predict(boston_X[~train_set])"
   ]
  },
  {
   "cell_type": "code",
   "execution_count": 215,
   "metadata": {
    "collapsed": true
   },
   "outputs": [],
   "source": [
    "%matplotlib inline"
   ]
  },
  {
   "cell_type": "code",
   "execution_count": 216,
   "metadata": {
    "collapsed": true
   },
   "outputs": [],
   "source": [
    "from matplotlib import pyplot as plt"
   ]
  },
  {
   "cell_type": "code",
   "execution_count": 219,
   "metadata": {
    "collapsed": false
   },
   "outputs": [
    {
     "data": {
      "text/plain": [
       "<matplotlib.text.Text at 0x1193e69b0>"
      ]
     },
     "execution_count": 219,
     "metadata": {},
     "output_type": "execute_result"
    },
    {
     "data": {
      "image/png": "[encoded data removed]",
      "text/plain": [
       "<matplotlib.figure.Figure at 0x1193403c8>"
      ]
     },
     "metadata": {},
     "output_type": "display_data"
    }
   ],
   "source": [
    "f, ax = plt.subplots(figsize = (10, 7), nrows = 3)\n",
    "f.tight_layout()\n",
    "ax[0].plot(range(len(test_preds)), test_preds,\n",
    "           label = 'Predicted Values');\n",
    "ax[0].plot(range(len(test_preds)), boston_y[~train_set],\n",
    "          label = 'Actual Values');\n",
    "ax[0].set_title(\"Predicted vs Actuals\")\n",
    "ax[0].legend(loc = 'best')\n",
    "ax[1].plot(range(len(test_preds)), test_preds - boston_y[~train_set]);\n",
    "ax[1].set_title(\"Plotted Residuals\")\n",
    "\n",
    "ax[2].hist(test_preds - boston_y[~train_set]);\n",
    "ax[2].set_title(\"Histogram of Residuals\")"
   ]
  },
  {
   "cell_type": "code",
   "execution_count": 220,
   "metadata": {
    "collapsed": true
   },
   "outputs": [],
   "source": [
    "gp = GaussianProcess(regr = 'linear', theta0 = 5e-1)"
   ]
  },
  {
   "cell_type": "code",
   "execution_count": 221,
   "metadata": {
    "collapsed": false
   },
   "outputs": [
    {
     "data": {
      "text/plain": [
       "GaussianProcess(beta0=None,\n",
       "        corr=<function squared_exponential at 0x116504e18>, normalize=True,\n",
       "        nugget=array(2.220446049250313e-15), optimizer='fmin_cobyla',\n",
       "        random_start=1,\n",
       "        random_state=<mtrand.RandomState object at 0x109538710>,\n",
       "        regr=<function linear at 0x116504b70>, storage_mode='full',\n",
       "        theta0=array([[ 0.5]]), thetaL=None, thetaU=None, verbose=False)"
      ]
     },
     "execution_count": 221,
     "metadata": {},
     "output_type": "execute_result"
    }
   ],
   "source": [
    "gp.fit(boston_X[train_set], boston_y[train_set])"
   ]
  },
  {
   "cell_type": "code",
   "execution_count": 222,
   "metadata": {
    "collapsed": true
   },
   "outputs": [],
   "source": [
    "linear_preds = gp.predict(boston_X[~train_set])"
   ]
  },
  {
   "cell_type": "code",
   "execution_count": 225,
   "metadata": {
    "collapsed": false
   },
   "outputs": [
    {
     "data": {
      "text/plain": [
       "<matplotlib.legend.Legend at 0x11a3753c8>"
      ]
     },
     "execution_count": 225,
     "metadata": {},
     "output_type": "execute_result"
    },
    {
     "data": {
      "image/png": "[encoded data removed]",
      "text/plain": [
       "<matplotlib.figure.Figure at 0x11a19e4e0>"
      ]
     },
     "metadata": {},
     "output_type": "display_data"
    }
   ],
   "source": [
    "f, ax = plt.subplots(figsize = (7, 5))\n",
    "f.tight_layout()\n",
    "ax.hist(test_preds - boston_y[~train_set], label = 'Residuals Original', color= 'b', alpha = .5);\n",
    "ax.hist(linear_preds - boston_y[~train_set],\n",
    "       label = 'Residuals Linear', color = 'r', alpha = .5);\n",
    "ax.set_title('Residuals')\n",
    "ax.legend(loc = 'best')"
   ]
  },
  {
   "cell_type": "code",
   "execution_count": 226,
   "metadata": {
    "collapsed": false
   },
   "outputs": [
    {
     "data": {
      "text/plain": [
       "72.354280052834909"
      ]
     },
     "execution_count": 226,
     "metadata": {},
     "output_type": "execute_result"
    }
   ],
   "source": [
    "np.power(test_preds - boston_y[~train_set], 2).mean()"
   ]
  },
  {
   "cell_type": "code",
   "execution_count": 228,
   "metadata": {
    "collapsed": false
   },
   "outputs": [
    {
     "data": {
      "text/plain": [
       "18.012822669396311"
      ]
     },
     "execution_count": 228,
     "metadata": {},
     "output_type": "execute_result"
    }
   ],
   "source": [
    "np.power(linear_preds - boston_y[~train_set], 2).mean()"
   ]
  },
  {
   "cell_type": "code",
   "execution_count": 229,
   "metadata": {
    "collapsed": true
   },
   "outputs": [],
   "source": [
    "test_preds, MSE = gp.predict(boston_X[~train_set], eval_MSE = True)"
   ]
  },
  {
   "cell_type": "code",
   "execution_count": 230,
   "metadata": {
    "collapsed": false
   },
   "outputs": [
    {
     "data": {
      "text/plain": [
       "array([ 20.09908766,  20.44569836,   5.30395205,  48.94174854,   6.41974955])"
      ]
     },
     "execution_count": 230,
     "metadata": {},
     "output_type": "execute_result"
    }
   ],
   "source": [
    "MSE[:5]"
   ]
  },
  {
   "cell_type": "code",
   "execution_count": 231,
   "metadata": {
    "collapsed": false
   },
   "outputs": [
    {
     "data": {
      "image/png": "[encoded data removed]",
      "text/plain": [
       "<matplotlib.figure.Figure at 0x11a3adc18>"
      ]
     },
     "metadata": {},
     "output_type": "display_data"
    }
   ],
   "source": [
    "f, ax = plt.subplots(figsize = (7, 5))\n",
    "n = 20\n",
    "rng = range(n)\n",
    "ax.scatter(rng, test_preds[:n])\n",
    "ax.errorbar(rng, test_preds[:n], yerr = 1.96*MSE[:n])\n",
    "ax.set_title(\"Predictions with Error Bars\")\n",
    "ax.set_xlim((-1, 21));"
   ]
  },
  {
   "cell_type": "code",
   "execution_count": 232,
   "metadata": {
    "collapsed": true
   },
   "outputs": [],
   "source": [
    "from sklearn.datasets import make_regression"
   ]
  },
  {
   "cell_type": "code",
   "execution_count": 233,
   "metadata": {
    "collapsed": true
   },
   "outputs": [],
   "source": [
    "X, y = make_regression(1000, 1, 1)"
   ]
  },
  {
   "cell_type": "code",
   "execution_count": 234,
   "metadata": {
    "collapsed": true
   },
   "outputs": [],
   "source": [
    "from sklearn.gaussian_process import regression_models"
   ]
  },
  {
   "cell_type": "code",
   "execution_count": 235,
   "metadata": {
    "collapsed": false
   },
   "outputs": [
    {
     "data": {
      "text/plain": [
       "array([[ 1.],\n",
       "       [ 1.],\n",
       "       [ 1.],\n",
       "       [ 1.],\n",
       "       [ 1.]])"
      ]
     },
     "execution_count": 235,
     "metadata": {},
     "output_type": "execute_result"
    }
   ],
   "source": [
    "regression_models.constant(X)[:5]"
   ]
  },
  {
   "cell_type": "code",
   "execution_count": 236,
   "metadata": {
    "collapsed": false
   },
   "outputs": [
    {
     "data": {
      "text/plain": [
       "array([[ 1.        , -0.96206245]])"
      ]
     },
     "execution_count": 236,
     "metadata": {},
     "output_type": "execute_result"
    }
   ],
   "source": [
    "regression_models.linear(X)[:1]"
   ]
  },
  {
   "cell_type": "code",
   "execution_count": 237,
   "metadata": {
    "collapsed": false
   },
   "outputs": [
    {
     "data": {
      "text/plain": [
       "array([[ 1.        , -0.96206245,  0.92556416]])"
      ]
     },
     "execution_count": 237,
     "metadata": {},
     "output_type": "execute_result"
    }
   ],
   "source": [
    "regression_models.quadratic(X)[:1]"
   ]
  },
  {
   "cell_type": "code",
   "execution_count": 238,
   "metadata": {
    "collapsed": true
   },
   "outputs": [],
   "source": [
    "from sklearn import datasets"
   ]
  },
  {
   "cell_type": "code",
   "execution_count": 239,
   "metadata": {
    "collapsed": true
   },
   "outputs": [],
   "source": [
    "X, y = datasets.make_regression(int(1e6))"
   ]
  },
  {
   "cell_type": "code",
   "execution_count": 241,
   "metadata": {
    "collapsed": false
   },
   "outputs": [
    {
     "name": "stdout",
     "output_type": "stream",
     "text": [
      "1,000,000\n"
     ]
    }
   ],
   "source": [
    "print(\"{:,}\".format(int(1e6)))"
   ]
  },
  {
   "cell_type": "code",
   "execution_count": 242,
   "metadata": {
    "collapsed": false
   },
   "outputs": [
    {
     "name": "stdout",
     "output_type": "stream",
     "text": [
      "800,000,000\n"
     ]
    }
   ],
   "source": [
    "print(\"{:,}\".format(X.nbytes))"
   ]
  },
  {
   "cell_type": "code",
   "execution_count": 243,
   "metadata": {
    "collapsed": false
   },
   "outputs": [
    {
     "data": {
      "text/plain": [
       "800.0"
      ]
     },
     "execution_count": 243,
     "metadata": {},
     "output_type": "execute_result"
    }
   ],
   "source": [
    "X.nbytes / 1e6"
   ]
  },
  {
   "cell_type": "code",
   "execution_count": 244,
   "metadata": {
    "collapsed": false
   },
   "outputs": [
    {
     "data": {
      "text/plain": [
       "8.0"
      ]
     },
     "execution_count": 244,
     "metadata": {},
     "output_type": "execute_result"
    }
   ],
   "source": [
    "X.nbytes / (X.shape[0]*X.shape[1])"
   ]
  },
  {
   "cell_type": "code",
   "execution_count": 246,
   "metadata": {
    "collapsed": false
   },
   "outputs": [],
   "source": [
    "from sklearn import linear_model"
   ]
  },
  {
   "cell_type": "code",
   "execution_count": 247,
   "metadata": {
    "collapsed": true
   },
   "outputs": [],
   "source": [
    "sgd = linear_model.SGDRegressor()"
   ]
  },
  {
   "cell_type": "code",
   "execution_count": 248,
   "metadata": {
    "collapsed": true
   },
   "outputs": [],
   "source": [
    "train = np.random.choice([True, False], size = len(y), p = [.75, .25])"
   ]
  },
  {
   "cell_type": "code",
   "execution_count": 249,
   "metadata": {
    "collapsed": false
   },
   "outputs": [
    {
     "data": {
      "text/plain": [
       "SGDRegressor(alpha=0.0001, average=False, epsilon=0.1, eta0=0.01,\n",
       "       fit_intercept=True, l1_ratio=0.15, learning_rate='invscaling',\n",
       "       loss='squared_loss', n_iter=5, penalty='l2', power_t=0.25,\n",
       "       random_state=None, shuffle=True, verbose=0, warm_start=False)"
      ]
     },
     "execution_count": 249,
     "metadata": {},
     "output_type": "execute_result"
    }
   ],
   "source": [
    "sgd.fit(X[train], y[train])"
   ]
  },
  {
   "cell_type": "code",
   "execution_count": 250,
   "metadata": {
    "collapsed": true
   },
   "outputs": [],
   "source": [
    "from sklearn import datasets"
   ]
  },
  {
   "cell_type": "code",
   "execution_count": 251,
   "metadata": {
    "collapsed": true
   },
   "outputs": [],
   "source": [
    "boston = datasets.load_boston()"
   ]
  },
  {
   "cell_type": "code",
   "execution_count": 252,
   "metadata": {
    "collapsed": true
   },
   "outputs": [],
   "source": [
    "from sklearn.linear_model import LinearRegression"
   ]
  },
  {
   "cell_type": "code",
   "execution_count": 253,
   "metadata": {
    "collapsed": true
   },
   "outputs": [],
   "source": [
    "lr = LinearRegression()"
   ]
  },
  {
   "cell_type": "code",
   "execution_count": 254,
   "metadata": {
    "collapsed": false
   },
   "outputs": [
    {
     "data": {
      "text/plain": [
       "LinearRegression(copy_X=True, fit_intercept=True, n_jobs=1, normalize=False)"
      ]
     },
     "execution_count": 254,
     "metadata": {},
     "output_type": "execute_result"
    }
   ],
   "source": [
    "lr.fit(boston.data, boston.target)"
   ]
  },
  {
   "cell_type": "code",
   "execution_count": 256,
   "metadata": {
    "collapsed": true
   },
   "outputs": [],
   "source": [
    "predictions = lr.predict(boston.data)"
   ]
  },
  {
   "cell_type": "markdown",
   "metadata": {},
   "source": [
    "## Scikit-Learn Cookbook (page 67 of 214)"
   ]
  },
  {
   "cell_type": "code",
   "execution_count": 258,
   "metadata": {
    "collapsed": false
   },
   "outputs": [],
   "source": [
    "from sklearn import datasets"
   ]
  },
  {
   "cell_type": "code",
   "execution_count": 259,
   "metadata": {
    "collapsed": true
   },
   "outputs": [],
   "source": [
    "boston = datasets.load_boston()"
   ]
  },
  {
   "cell_type": "code",
   "execution_count": 260,
   "metadata": {
    "collapsed": true
   },
   "outputs": [],
   "source": [
    "from sklearn.linear_model import LinearRegression"
   ]
  },
  {
   "cell_type": "code",
   "execution_count": 261,
   "metadata": {
    "collapsed": true
   },
   "outputs": [],
   "source": [
    "lr = LinearRegression()"
   ]
  },
  {
   "cell_type": "code",
   "execution_count": 262,
   "metadata": {
    "collapsed": false
   },
   "outputs": [
    {
     "data": {
      "text/plain": [
       "LinearRegression(copy_X=True, fit_intercept=True, n_jobs=1, normalize=False)"
      ]
     },
     "execution_count": 262,
     "metadata": {},
     "output_type": "execute_result"
    }
   ],
   "source": [
    "lr.fit(boston.data, boston.target)"
   ]
  },
  {
   "cell_type": "code",
   "execution_count": 263,
   "metadata": {
    "collapsed": true
   },
   "outputs": [],
   "source": [
    "predictions = lr.predict(boston.data)"
   ]
  },
  {
   "cell_type": "code",
   "execution_count": 264,
   "metadata": {
    "collapsed": false
   },
   "outputs": [
    {
     "data": {
      "text/plain": [
       "array([ -1.07170557e-01,   4.63952195e-02,   2.08602395e-02,\n",
       "         2.68856140e+00,  -1.77957587e+01,   3.80475246e+00,\n",
       "         7.51061703e-04,  -1.47575880e+00,   3.05655038e-01,\n",
       "        -1.23293463e-02,  -9.53463555e-01,   9.39251272e-03,\n",
       "        -5.25466633e-01])"
      ]
     },
     "execution_count": 264,
     "metadata": {},
     "output_type": "execute_result"
    }
   ],
   "source": [
    "lr.coef_"
   ]
  },
  {
   "cell_type": "code",
   "execution_count": 265,
   "metadata": {
    "collapsed": true
   },
   "outputs": [],
   "source": [
    "lr2 = LinearRegression(normalize = True)"
   ]
  },
  {
   "cell_type": "code",
   "execution_count": 267,
   "metadata": {
    "collapsed": false
   },
   "outputs": [
    {
     "data": {
      "text/plain": [
       "LinearRegression(copy_X=True, fit_intercept=True, n_jobs=1, normalize=True)"
      ]
     },
     "execution_count": 267,
     "metadata": {},
     "output_type": "execute_result"
    }
   ],
   "source": [
    "lr2.fit(boston.data, boston.target)"
   ]
  },
  {
   "cell_type": "code",
   "execution_count": 268,
   "metadata": {
    "collapsed": true
   },
   "outputs": [],
   "source": [
    "predictiosn2 = lr2.predict(boston.data)"
   ]
  },
  {
   "cell_type": "code",
   "execution_count": 269,
   "metadata": {
    "collapsed": true
   },
   "outputs": [],
   "source": [
    "import matplotlib.pyplot as plt"
   ]
  },
  {
   "cell_type": "code",
   "execution_count": 270,
   "metadata": {
    "collapsed": true
   },
   "outputs": [],
   "source": [
    "import numpy as np"
   ]
  },
  {
   "cell_type": "code",
   "execution_count": 271,
   "metadata": {
    "collapsed": false
   },
   "outputs": [
    {
     "data": {
      "text/plain": [
       "<matplotlib.figure.Figure at 0x11a3edf98>"
      ]
     },
     "metadata": {},
     "output_type": "display_data"
    }
   ],
   "source": [
    "f = plt.figure(figsize = (7, 5))"
   ]
  },
  {
   "cell_type": "code",
   "execution_count": 275,
   "metadata": {
    "collapsed": false
   },
   "outputs": [
    {
     "data": {
      "text/plain": [
       "<matplotlib.text.Text at 0x1189d7358>"
      ]
     },
     "execution_count": 275,
     "metadata": {},
     "output_type": "execute_result"
    },
    {
     "data": {
      "image/png": "[encoded data removed]",
      "text/plain": [
       "<matplotlib.figure.Figure at 0x118ec7c88>"
      ]
     },
     "metadata": {},
     "output_type": "display_data"
    }
   ],
   "source": [
    "f = plt.figure(figsize = (7, 5))\n",
    "ax = f.add_subplot(111)\n",
    "ax.hist(boston.target - predictions, bins = 50)\n",
    "ax.set_title(\"Histogram of REsiduals\")"
   ]
  },
  {
   "cell_type": "code",
   "execution_count": 276,
   "metadata": {
    "collapsed": false
   },
   "outputs": [
    {
     "data": {
      "text/plain": [
       "7.3722319421749526e-15"
      ]
     },
     "execution_count": 276,
     "metadata": {},
     "output_type": "execute_result"
    }
   ],
   "source": [
    "np.mean(boston.target - predictions)"
   ]
  },
  {
   "cell_type": "code",
   "execution_count": 277,
   "metadata": {
    "collapsed": true
   },
   "outputs": [],
   "source": [
    "from scipy.stats import probplot"
   ]
  },
  {
   "cell_type": "code",
   "execution_count": 279,
   "metadata": {
    "collapsed": false
   },
   "outputs": [
    {
     "data": {
      "text/plain": [
       "((array([ -2.99573567e+00,  -2.71411028e+00,  -2.55577619e+00,\n",
       "          -2.44351800e+00,  -2.35556494e+00,  -2.28276382e+00,\n",
       "          -2.22036495e+00,  -2.16557440e+00,  -2.11660431e+00,\n",
       "          -2.07223893e+00,  -2.03161265e+00,  -1.99408648e+00,\n",
       "          -1.95917475e+00,  -1.92649942e+00,  -1.89576017e+00,\n",
       "          -1.86671438e+00,  -1.83916307e+00,  -1.81294098e+00,\n",
       "          -1.78790928e+00,  -1.76395019e+00,  -1.74096288e+00,\n",
       "          -1.71886034e+00,  -1.69756695e+00,  -1.67701655e+00,\n",
       "          -1.65715093e+00,  -1.63791855e+00,  -1.61927361e+00,\n",
       "          -1.60117517e+00,  -1.58358651e+00,  -1.56647453e+00,\n",
       "          -1.54980933e+00,  -1.53356377e+00,  -1.51771316e+00,\n",
       "          -1.50223493e+00,  -1.48710847e+00,  -1.47231481e+00,\n",
       "          -1.45783653e+00,  -1.44365756e+00,  -1.42976302e+00,\n",
       "          -1.41613915e+00,  -1.40277318e+00,  -1.38965322e+00,\n",
       "          -1.37676820e+00,  -1.36410778e+00,  -1.35166231e+00,\n",
       "          -1.33942275e+00,  -1.32738062e+00,  -1.31552796e+00,\n",
       "          -1.30385728e+00,  -1.29236155e+00,  -1.28103411e+00,\n",
       "          -1.26986869e+00,  -1.25885938e+00,  -1.24800057e+00,\n",
       "          -1.23728696e+00,  -1.22671351e+00,  -1.21627546e+00,\n",
       "          -1.20596826e+00,  -1.19578762e+00,  -1.18572943e+00,\n",
       "          -1.17578979e+00,  -1.16596497e+00,  -1.15625143e+00,\n",
       "          -1.14664578e+00,  -1.13714478e+00,  -1.12774533e+00,\n",
       "          -1.11844448e+00,  -1.10923938e+00,  -1.10012733e+00,\n",
       "          -1.09110572e+00,  -1.08217204e+00,  -1.07332392e+00,\n",
       "          -1.06455903e+00,  -1.05587517e+00,  -1.04727022e+00,\n",
       "          -1.03874212e+00,  -1.03028890e+00,  -1.02190867e+00,\n",
       "          -1.01359960e+00,  -1.00535993e+00,  -9.97187950e-01,\n",
       "          -9.89082030e-01,  -9.81040583e-01,  -9.73062080e-01,\n",
       "          -9.65145042e-01,  -9.57288042e-01,  -9.49489697e-01,\n",
       "          -9.41748672e-01,  -9.34063672e-01,  -9.26433446e-01,\n",
       "          -9.18856778e-01,  -9.11332495e-01,  -9.03859457e-01,\n",
       "          -8.96436557e-01,  -8.89062726e-01,  -8.81736921e-01,\n",
       "          -8.74458134e-01,  -8.67225385e-01,  -8.60037720e-01,\n",
       "          -8.52894215e-01,  -8.45793969e-01,  -8.38736110e-01,\n",
       "          -8.31719785e-01,  -8.24744168e-01,  -8.17808453e-01,\n",
       "          -8.10911857e-01,  -8.04053616e-01,  -7.97232988e-01,\n",
       "          -7.90449248e-01,  -7.83701690e-01,  -7.76989626e-01,\n",
       "          -7.70312386e-01,  -7.63669315e-01,  -7.57059776e-01,\n",
       "          -7.50483145e-01,  -7.43938816e-01,  -7.37426194e-01,\n",
       "          -7.30944700e-01,  -7.24493769e-01,  -7.18072847e-01,\n",
       "          -7.11681394e-01,  -7.05318883e-01,  -6.98984797e-01,\n",
       "          -6.92678632e-01,  -6.86399893e-01,  -6.80148098e-01,\n",
       "          -6.73922775e-01,  -6.67723460e-01,  -6.61549701e-01,\n",
       "          -6.55401055e-01,  -6.49277088e-01,  -6.43177375e-01,\n",
       "          -6.37101499e-01,  -6.31049052e-01,  -6.25019633e-01,\n",
       "          -6.19012852e-01,  -6.13028323e-01,  -6.07065669e-01,\n",
       "          -6.01124520e-01,  -5.95204515e-01,  -5.89305296e-01,\n",
       "          -5.83426515e-01,  -5.77567828e-01,  -5.71728899e-01,\n",
       "          -5.65909397e-01,  -5.60108998e-01,  -5.54327383e-01,\n",
       "          -5.48564239e-01,  -5.42819257e-01,  -5.37092135e-01,\n",
       "          -5.31382576e-01,  -5.25690287e-01,  -5.20014981e-01,\n",
       "          -5.14356375e-01,  -5.08714191e-01,  -5.03088156e-01,\n",
       "          -4.97477999e-01,  -4.91883457e-01,  -4.86304268e-01,\n",
       "          -4.80740175e-01,  -4.75190926e-01,  -4.69656272e-01,\n",
       "          -4.64135967e-01,  -4.58629771e-01,  -4.53137444e-01,\n",
       "          -4.47658752e-01,  -4.42193465e-01,  -4.36741354e-01,\n",
       "          -4.31302195e-01,  -4.25875766e-01,  -4.20461848e-01,\n",
       "          -4.15060226e-01,  -4.09670688e-01,  -4.04293024e-01,\n",
       "          -3.98927026e-01,  -3.93572490e-01,  -3.88229215e-01,\n",
       "          -3.82897001e-01,  -3.77575652e-01,  -3.72264973e-01,\n",
       "          -3.66964772e-01,  -3.61674861e-01,  -3.56395050e-01,\n",
       "          -3.51125157e-01,  -3.45864997e-01,  -3.40614389e-01,\n",
       "          -3.35373155e-01,  -3.30141118e-01,  -3.24918102e-01,\n",
       "          -3.19703936e-01,  -3.14498447e-01,  -3.09301466e-01,\n",
       "          -3.04112825e-01,  -2.98932359e-01,  -2.93759903e-01,\n",
       "          -2.88595295e-01,  -2.83438373e-01,  -2.78288978e-01,\n",
       "          -2.73146951e-01,  -2.68012137e-01,  -2.62884379e-01,\n",
       "          -2.57763524e-01,  -2.52649420e-01,  -2.47541915e-01,\n",
       "          -2.42440860e-01,  -2.37346105e-01,  -2.32257504e-01,\n",
       "          -2.27174909e-01,  -2.22098177e-01,  -2.17027162e-01,\n",
       "          -2.11961722e-01,  -2.06901715e-01,  -2.01846999e-01,\n",
       "          -1.96797436e-01,  -1.91752886e-01,  -1.86713211e-01,\n",
       "          -1.81678273e-01,  -1.76647937e-01,  -1.71622067e-01,\n",
       "          -1.66600528e-01,  -1.61583187e-01,  -1.56569910e-01,\n",
       "          -1.51560566e-01,  -1.46555021e-01,  -1.41553146e-01,\n",
       "          -1.36554810e-01,  -1.31559883e-01,  -1.26568236e-01,\n",
       "          -1.21579741e-01,  -1.16594270e-01,  -1.11611695e-01,\n",
       "          -1.06631890e-01,  -1.01654727e-01,  -9.66800810e-02,\n",
       "          -9.17078267e-02,  -8.67378386e-02,  -8.17699921e-02,\n",
       "          -7.68041629e-02,  -7.18402269e-02,  -6.68780605e-02,\n",
       "          -6.19175402e-02,  -5.69585432e-02,  -5.20009464e-02,\n",
       "          -4.70446274e-02,  -4.20894637e-02,  -3.71353333e-02,\n",
       "          -3.21821142e-02,  -2.72296845e-02,  -2.22779226e-02,\n",
       "          -1.73267069e-02,  -1.23759159e-02,  -7.42542823e-03,\n",
       "          -2.47512252e-03,   2.47512252e-03,   7.42542823e-03,\n",
       "           1.23759159e-02,   1.73267069e-02,   2.22779226e-02,\n",
       "           2.72296845e-02,   3.21821142e-02,   3.71353333e-02,\n",
       "           4.20894637e-02,   4.70446274e-02,   5.20009464e-02,\n",
       "           5.69585432e-02,   6.19175402e-02,   6.68780605e-02,\n",
       "           7.18402269e-02,   7.68041629e-02,   8.17699921e-02,\n",
       "           8.67378386e-02,   9.17078267e-02,   9.66800810e-02,\n",
       "           1.01654727e-01,   1.06631890e-01,   1.11611695e-01,\n",
       "           1.16594270e-01,   1.21579741e-01,   1.26568236e-01,\n",
       "           1.31559883e-01,   1.36554810e-01,   1.41553146e-01,\n",
       "           1.46555021e-01,   1.51560566e-01,   1.56569910e-01,\n",
       "           1.61583187e-01,   1.66600528e-01,   1.71622067e-01,\n",
       "           1.76647937e-01,   1.81678273e-01,   1.86713211e-01,\n",
       "           1.91752886e-01,   1.96797436e-01,   2.01846999e-01,\n",
       "           2.06901715e-01,   2.11961722e-01,   2.17027162e-01,\n",
       "           2.22098177e-01,   2.27174909e-01,   2.32257504e-01,\n",
       "           2.37346105e-01,   2.42440860e-01,   2.47541915e-01,\n",
       "           2.52649420e-01,   2.57763524e-01,   2.62884379e-01,\n",
       "           2.68012137e-01,   2.73146951e-01,   2.78288978e-01,\n",
       "           2.83438373e-01,   2.88595295e-01,   2.93759903e-01,\n",
       "           2.98932359e-01,   3.04112825e-01,   3.09301466e-01,\n",
       "           3.14498447e-01,   3.19703936e-01,   3.24918102e-01,\n",
       "           3.30141118e-01,   3.35373155e-01,   3.40614389e-01,\n",
       "           3.45864997e-01,   3.51125157e-01,   3.56395050e-01,\n",
       "           3.61674861e-01,   3.66964772e-01,   3.72264973e-01,\n",
       "           3.77575652e-01,   3.82897001e-01,   3.88229215e-01,\n",
       "           3.93572490e-01,   3.98927026e-01,   4.04293024e-01,\n",
       "           4.09670688e-01,   4.15060226e-01,   4.20461848e-01,\n",
       "           4.25875766e-01,   4.31302195e-01,   4.36741354e-01,\n",
       "           4.42193465e-01,   4.47658752e-01,   4.53137444e-01,\n",
       "           4.58629771e-01,   4.64135967e-01,   4.69656272e-01,\n",
       "           4.75190926e-01,   4.80740175e-01,   4.86304268e-01,\n",
       "           4.91883457e-01,   4.97477999e-01,   5.03088156e-01,\n",
       "           5.08714191e-01,   5.14356375e-01,   5.20014981e-01,\n",
       "           5.25690287e-01,   5.31382576e-01,   5.37092135e-01,\n",
       "           5.42819257e-01,   5.48564239e-01,   5.54327383e-01,\n",
       "           5.60108998e-01,   5.65909397e-01,   5.71728899e-01,\n",
       "           5.77567828e-01,   5.83426515e-01,   5.89305296e-01,\n",
       "           5.95204515e-01,   6.01124520e-01,   6.07065669e-01,\n",
       "           6.13028323e-01,   6.19012852e-01,   6.25019633e-01,\n",
       "           6.31049052e-01,   6.37101499e-01,   6.43177375e-01,\n",
       "           6.49277088e-01,   6.55401055e-01,   6.61549701e-01,\n",
       "           6.67723460e-01,   6.73922775e-01,   6.80148098e-01,\n",
       "           6.86399893e-01,   6.92678632e-01,   6.98984797e-01,\n",
       "           7.05318883e-01,   7.11681394e-01,   7.18072847e-01,\n",
       "           7.24493769e-01,   7.30944700e-01,   7.37426194e-01,\n",
       "           7.43938816e-01,   7.50483145e-01,   7.57059776e-01,\n",
       "           7.63669315e-01,   7.70312386e-01,   7.76989626e-01,\n",
       "           7.83701690e-01,   7.90449248e-01,   7.97232988e-01,\n",
       "           8.04053616e-01,   8.10911857e-01,   8.17808453e-01,\n",
       "           8.24744168e-01,   8.31719785e-01,   8.38736110e-01,\n",
       "           8.45793969e-01,   8.52894215e-01,   8.60037720e-01,\n",
       "           8.67225385e-01,   8.74458134e-01,   8.81736921e-01,\n",
       "           8.89062726e-01,   8.96436557e-01,   9.03859457e-01,\n",
       "           9.11332495e-01,   9.18856778e-01,   9.26433446e-01,\n",
       "           9.34063672e-01,   9.41748672e-01,   9.49489697e-01,\n",
       "           9.57288042e-01,   9.65145042e-01,   9.73062080e-01,\n",
       "           9.81040583e-01,   9.89082030e-01,   9.97187950e-01,\n",
       "           1.00535993e+00,   1.01359960e+00,   1.02190867e+00,\n",
       "           1.03028890e+00,   1.03874212e+00,   1.04727022e+00,\n",
       "           1.05587517e+00,   1.06455903e+00,   1.07332392e+00,\n",
       "           1.08217204e+00,   1.09110572e+00,   1.10012733e+00,\n",
       "           1.10923938e+00,   1.11844448e+00,   1.12774533e+00,\n",
       "           1.13714478e+00,   1.14664578e+00,   1.15625143e+00,\n",
       "           1.16596497e+00,   1.17578979e+00,   1.18572943e+00,\n",
       "           1.19578762e+00,   1.20596826e+00,   1.21627546e+00,\n",
       "           1.22671351e+00,   1.23728696e+00,   1.24800057e+00,\n",
       "           1.25885938e+00,   1.26986869e+00,   1.28103411e+00,\n",
       "           1.29236155e+00,   1.30385728e+00,   1.31552796e+00,\n",
       "           1.32738062e+00,   1.33942275e+00,   1.35166231e+00,\n",
       "           1.36410778e+00,   1.37676820e+00,   1.38965322e+00,\n",
       "           1.40277318e+00,   1.41613915e+00,   1.42976302e+00,\n",
       "           1.44365756e+00,   1.45783653e+00,   1.47231481e+00,\n",
       "           1.48710847e+00,   1.50223493e+00,   1.51771316e+00,\n",
       "           1.53356377e+00,   1.54980933e+00,   1.56647453e+00,\n",
       "           1.58358651e+00,   1.60117517e+00,   1.61927361e+00,\n",
       "           1.63791855e+00,   1.65715093e+00,   1.67701655e+00,\n",
       "           1.69756695e+00,   1.71886034e+00,   1.74096288e+00,\n",
       "           1.76395019e+00,   1.78790928e+00,   1.81294098e+00,\n",
       "           1.83916307e+00,   1.86671438e+00,   1.89576017e+00,\n",
       "           1.92649942e+00,   1.95917475e+00,   1.99408648e+00,\n",
       "           2.03161265e+00,   2.07223893e+00,   2.11660431e+00,\n",
       "           2.16557440e+00,   2.22036495e+00,   2.28276382e+00,\n",
       "           2.35556494e+00,   2.44351800e+00,   2.55577619e+00,\n",
       "           2.71411028e+00,   2.99573567e+00]),\n",
       "  array([ -1.55794610e+01,  -1.06109893e+01,  -1.04487027e+01,\n",
       "          -1.03113730e+01,  -7.83300008e+00,  -7.57647773e+00,\n",
       "          -7.20017588e+00,  -7.07771522e+00,  -6.94308350e+00,\n",
       "          -6.92593282e+00,  -6.86557584e+00,  -6.78790318e+00,\n",
       "          -6.69254951e+00,  -6.67461484e+00,  -6.63742401e+00,\n",
       "          -6.61480679e+00,  -6.48492755e+00,  -6.44501726e+00,\n",
       "          -6.41972222e+00,  -6.28704097e+00,  -6.16933235e+00,\n",
       "          -6.15461066e+00,  -6.13407332e+00,  -6.11998048e+00,\n",
       "          -6.04564780e+00,  -6.00821269e+00,  -5.97325183e+00,\n",
       "          -5.84759861e+00,  -5.82635521e+00,  -5.71732164e+00,\n",
       "          -5.54915396e+00,  -5.52342294e+00,  -5.47488389e+00,\n",
       "          -5.44913647e+00,  -5.41597825e+00,  -5.40283795e+00,\n",
       "          -5.35997992e+00,  -5.35994642e+00,  -5.29132150e+00,\n",
       "          -5.24511052e+00,  -5.19709480e+00,  -5.19189704e+00,\n",
       "          -5.15412919e+00,  -5.12999168e+00,  -5.01099424e+00,\n",
       "          -5.00151500e+00,  -4.93602979e+00,  -4.91755469e+00,\n",
       "          -4.91674397e+00,  -4.89129701e+00,  -4.88949211e+00,\n",
       "          -4.82575267e+00,  -4.78429024e+00,  -4.73938379e+00,\n",
       "          -4.72735376e+00,  -4.69282707e+00,  -4.67833186e+00,\n",
       "          -4.64086508e+00,  -4.60387482e+00,  -4.57541577e+00,\n",
       "          -4.56645496e+00,  -4.54203283e+00,  -4.52127354e+00,\n",
       "          -4.50725436e+00,  -4.49454145e+00,  -4.47985184e+00,\n",
       "          -4.35647433e+00,  -4.34343769e+00,  -4.23926602e+00,\n",
       "          -4.21307203e+00,  -4.20079737e+00,  -4.12983844e+00,\n",
       "          -4.11386352e+00,  -4.08668003e+00,  -4.03123608e+00,\n",
       "          -3.99582660e+00,  -3.95002201e+00,  -3.94079584e+00,\n",
       "          -3.93374181e+00,  -3.92620066e+00,  -3.91516860e+00,\n",
       "          -3.88485442e+00,  -3.84518524e+00,  -3.83465914e+00,\n",
       "          -3.82835689e+00,  -3.80610125e+00,  -3.72934247e+00,\n",
       "          -3.72652691e+00,  -3.71110647e+00,  -3.70241209e+00,\n",
       "          -3.69685664e+00,  -3.66764235e+00,  -3.64446671e+00,\n",
       "          -3.63277547e+00,  -3.57064813e+00,  -3.55900412e+00,\n",
       "          -3.50752251e+00,  -3.47621248e+00,  -3.44211691e+00,\n",
       "          -3.42986060e+00,  -3.42444386e+00,  -3.41860458e+00,\n",
       "          -3.41503231e+00,  -3.40034494e+00,  -3.37743546e+00,\n",
       "          -3.33038218e+00,  -3.30749026e+00,  -3.29388439e+00,\n",
       "          -3.25609561e+00,  -3.22573568e+00,  -3.16750301e+00,\n",
       "          -3.09734716e+00,  -3.08238543e+00,  -3.04088054e+00,\n",
       "          -2.94823519e+00,  -2.90852699e+00,  -2.89662601e+00,\n",
       "          -2.89292932e+00,  -2.88766667e+00,  -2.84791346e+00,\n",
       "          -2.83046343e+00,  -2.80150945e+00,  -2.79765427e+00,\n",
       "          -2.76975577e+00,  -2.73834861e+00,  -2.73687139e+00,\n",
       "          -2.72985456e+00,  -2.71297469e+00,  -2.70597451e+00,\n",
       "          -2.70039379e+00,  -2.68970854e+00,  -2.65853521e+00,\n",
       "          -2.65271013e+00,  -2.62803874e+00,  -2.61513625e+00,\n",
       "          -2.60326834e+00,  -2.59091112e+00,  -2.57076758e+00,\n",
       "          -2.56106095e+00,  -2.50881381e+00,  -2.48108106e+00,\n",
       "          -2.47392951e+00,  -2.47255605e+00,  -2.46441773e+00,\n",
       "          -2.46133385e+00,  -2.44615580e+00,  -2.41835359e+00,\n",
       "          -2.41141951e+00,  -2.36639271e+00,  -2.36568546e+00,\n",
       "          -2.35007844e+00,  -2.34216285e+00,  -2.27173661e+00,\n",
       "          -2.26694529e+00,  -2.26145104e+00,  -2.24893735e+00,\n",
       "          -2.22614937e+00,  -2.21101472e+00,  -2.17862521e+00,\n",
       "          -2.17432006e+00,  -2.17336772e+00,  -2.16152125e+00,\n",
       "          -2.15843485e+00,  -2.13453760e+00,  -2.13225886e+00,\n",
       "          -2.12736520e+00,  -2.12427933e+00,  -2.11123204e+00,\n",
       "          -2.11105226e+00,  -2.11022671e+00,  -2.09875684e+00,\n",
       "          -2.07709054e+00,  -2.07145523e+00,  -2.01546432e+00,\n",
       "          -2.00551341e+00,  -1.97440554e+00,  -1.92416035e+00,\n",
       "          -1.91878941e+00,  -1.87636041e+00,  -1.83224597e+00,\n",
       "          -1.80004807e+00,  -1.79311197e+00,  -1.78798090e+00,\n",
       "          -1.77869798e+00,  -1.77143049e+00,  -1.76342111e+00,\n",
       "          -1.76275612e+00,  -1.74438953e+00,  -1.74311742e+00,\n",
       "          -1.68337323e+00,  -1.68327609e+00,  -1.65306588e+00,\n",
       "          -1.59237490e+00,  -1.58615723e+00,  -1.58259372e+00,\n",
       "          -1.56843662e+00,  -1.56593919e+00,  -1.53690634e+00,\n",
       "          -1.51017111e+00,  -1.49378139e+00,  -1.48526739e+00,\n",
       "          -1.43614022e+00,  -1.42696242e+00,  -1.42071320e+00,\n",
       "          -1.40911570e+00,  -1.33536350e+00,  -1.32351225e+00,\n",
       "          -1.26658017e+00,  -1.25359323e+00,  -1.23807246e+00,\n",
       "          -1.22260592e+00,  -1.21897655e+00,  -1.20841512e+00,\n",
       "          -1.20344878e+00,  -1.19291889e+00,  -1.19241207e+00,\n",
       "          -1.19187594e+00,  -1.17882319e+00,  -1.16439137e+00,\n",
       "          -1.14518512e+00,  -1.13261729e+00,  -1.08826131e+00,\n",
       "          -1.08570454e+00,  -1.08379570e+00,  -1.01892210e+00,\n",
       "          -1.01459912e+00,  -1.01173020e+00,  -1.01157117e+00,\n",
       "          -1.00865729e+00,  -1.00349174e+00,  -9.55242174e-01,\n",
       "          -9.54023399e-01,  -9.38284433e-01,  -8.85861304e-01,\n",
       "          -8.59364673e-01,  -8.53491963e-01,  -8.36519590e-01,\n",
       "          -8.08255342e-01,  -7.99319690e-01,  -7.97697035e-01,\n",
       "          -7.84554664e-01,  -7.56778235e-01,  -7.24670996e-01,\n",
       "          -6.98556119e-01,  -6.95350660e-01,  -6.82096563e-01,\n",
       "          -6.60757096e-01,  -6.52108797e-01,  -6.44795192e-01,\n",
       "          -6.29348907e-01,  -5.58262157e-01,  -5.54230662e-01,\n",
       "          -5.20223118e-01,  -5.12708138e-01,  -4.99037441e-01,\n",
       "          -4.81214265e-01,  -4.70522032e-01,  -4.68206028e-01,\n",
       "          -4.24674174e-01,  -4.06999367e-01,  -3.77154499e-01,\n",
       "          -3.70009771e-01,  -3.49349494e-01,  -3.41798355e-01,\n",
       "          -3.41068242e-01,  -3.34249061e-01,  -3.25720195e-01,\n",
       "          -2.74941223e-01,  -2.69753352e-01,  -2.69161758e-01,\n",
       "          -2.63951546e-01,  -2.61155281e-01,  -2.42015338e-01,\n",
       "          -2.34537805e-01,  -2.25067052e-01,  -2.12602620e-01,\n",
       "          -2.07816357e-01,  -2.03085863e-01,  -1.90971317e-01,\n",
       "          -1.90643515e-01,  -1.88762404e-01,  -1.84783212e-01,\n",
       "          -1.62759507e-01,  -1.58787464e-01,  -1.19487412e-01,\n",
       "          -1.05586470e-01,  -1.04339941e-01,  -9.72074095e-02,\n",
       "          -9.23887977e-02,  -8.36673082e-02,  -7.70813834e-02,\n",
       "          -6.81637420e-02,  -6.43254889e-02,  -5.88463520e-02,\n",
       "          -4.49059486e-02,  -2.46822319e-02,  -1.98148310e-02,\n",
       "           4.79403771e-03,   1.63745433e-02,   5.14622246e-02,\n",
       "           6.02604148e-02,   6.79776135e-02,   7.04728399e-02,\n",
       "           7.97558587e-02,   8.80714949e-02,   9.35342804e-02,\n",
       "           1.01363929e-01,   1.10691396e-01,   1.19751980e-01,\n",
       "           1.26900546e-01,   1.36511091e-01,   1.85936163e-01,\n",
       "           1.86937120e-01,   1.93962076e-01,   2.08301073e-01,\n",
       "           2.42504502e-01,   2.62925428e-01,   2.65535193e-01,\n",
       "           2.68875810e-01,   3.01232056e-01,   3.30729274e-01,\n",
       "           3.41975565e-01,   3.51976378e-01,   3.83881817e-01,\n",
       "           4.34888989e-01,   4.57095495e-01,   4.81911321e-01,\n",
       "           4.86993833e-01,   5.00530508e-01,   5.20835501e-01,\n",
       "           5.90325101e-01,   5.99998256e-01,   6.01519327e-01,\n",
       "           6.04452704e-01,   6.37940962e-01,   6.58789511e-01,\n",
       "           6.64019038e-01,   6.68219322e-01,   6.85146149e-01,\n",
       "           6.96316828e-01,   7.15794308e-01,   7.16011898e-01,\n",
       "           7.17553923e-01,   7.48893611e-01,   7.55581223e-01,\n",
       "           7.94651488e-01,   8.27964625e-01,   8.38322710e-01,\n",
       "           8.44640693e-01,   8.82414962e-01,   9.04561434e-01,\n",
       "           9.06137851e-01,   9.36992356e-01,   9.48845321e-01,\n",
       "           9.53429369e-01,   9.60280317e-01,   9.79406257e-01,\n",
       "           1.01973930e+00,   1.05254651e+00,   1.06703459e+00,\n",
       "           1.07959546e+00,   1.08249686e+00,   1.08735161e+00,\n",
       "           1.10680947e+00,   1.13741171e+00,   1.15094710e+00,\n",
       "           1.17269903e+00,   1.25193175e+00,   1.27006425e+00,\n",
       "           1.29982987e+00,   1.35217066e+00,   1.42372067e+00,\n",
       "           1.49093142e+00,   1.50274195e+00,   1.50568299e+00,\n",
       "           1.52240328e+00,   1.52541964e+00,   1.71805609e+00,\n",
       "           1.77728787e+00,   1.78505843e+00,   1.79184341e+00,\n",
       "           1.92895435e+00,   2.02381163e+00,   2.11283371e+00,\n",
       "           2.12203518e+00,   2.12414319e+00,   2.16284397e+00,\n",
       "           2.19143429e+00,   2.23847757e+00,   2.25860276e+00,\n",
       "           2.27988013e+00,   2.31427389e+00,   2.33908981e+00,\n",
       "           2.35228423e+00,   2.37125477e+00,   2.41721739e+00,\n",
       "           2.43918794e+00,   2.45055902e+00,   2.57110007e+00,\n",
       "           2.57284641e+00,   2.63172583e+00,   2.63994228e+00,\n",
       "           2.65404996e+00,   2.86048275e+00,   2.88025748e+00,\n",
       "           2.89643051e+00,   2.89771215e+00,   2.91937622e+00,\n",
       "           2.92053214e+00,   2.93598966e+00,   2.99127582e+00,\n",
       "           3.07592892e+00,   3.21395396e+00,   3.33768636e+00,\n",
       "           3.40108490e+00,   3.44059952e+00,   3.45496907e+00,\n",
       "           3.47959779e+00,   3.50348256e+00,   3.51648923e+00,\n",
       "           3.54010868e+00,   3.55527668e+00,   3.56996830e+00,\n",
       "           3.65631836e+00,   3.67875712e+00,   3.75064846e+00,\n",
       "           3.82100029e+00,   3.87700453e+00,   3.88964557e+00,\n",
       "           4.00725970e+00,   4.01007101e+00,   4.02932589e+00,\n",
       "           4.12976830e+00,   4.16219056e+00,   4.18231192e+00,\n",
       "           4.22927930e+00,   4.25182997e+00,   4.27670620e+00,\n",
       "           4.28344419e+00,   4.36096886e+00,   4.41158334e+00,\n",
       "           4.44174832e+00,   4.45366533e+00,   4.48883737e+00,\n",
       "           4.64564705e+00,   4.66086590e+00,   4.68290903e+00,\n",
       "           4.69933044e+00,   4.79185945e+00,   4.80723772e+00,\n",
       "           4.83432317e+00,   4.98303461e+00,   5.07903513e+00,\n",
       "           5.10304787e+00,   5.22937377e+00,   5.29823802e+00,\n",
       "           5.32660077e+00,   5.52353515e+00,   5.65961364e+00,\n",
       "           5.68982756e+00,   5.90964935e+00,   5.93703626e+00,\n",
       "           6.09036071e+00,   6.21951965e+00,   6.23942334e+00,\n",
       "           6.36302852e+00,   6.43394368e+00,   6.47120389e+00,\n",
       "           6.48948619e+00,   6.60315192e+00,   6.70540643e+00,\n",
       "           6.81417278e+00,   7.56524420e+00,   7.66488588e+00,\n",
       "           7.67914272e+00,   7.81763620e+00,   7.91436285e+00,\n",
       "           8.03364779e+00,   8.09034488e+00,   8.14877729e+00,\n",
       "           8.25711768e+00,   8.43207267e+00,   8.68730485e+00,\n",
       "           9.15725397e+00,   9.16743798e+00,   9.43384467e+00,\n",
       "           9.62931597e+00,   1.01928354e+01,   1.04165603e+01,\n",
       "           1.11426273e+01,   1.12495174e+01,   1.12830093e+01,\n",
       "           1.22717418e+01,   1.25939884e+01,   1.27933781e+01,\n",
       "           1.28623702e+01,   1.30197887e+01,   1.32082742e+01,\n",
       "           1.32188861e+01,   1.41186828e+01,   1.53883660e+01,\n",
       "           1.62065259e+01,   1.73521284e+01,   2.39974028e+01,\n",
       "           2.50539590e+01,   2.61886501e+01])),\n",
       " (4.4568597454452767, 7.4143589818445235e-15, 0.94762914118319286))"
      ]
     },
     "execution_count": 279,
     "metadata": {},
     "output_type": "execute_result"
    },
    {
     "data": {
      "image/png": "[encoded data removed]",
      "text/plain": [
       "<matplotlib.figure.Figure at 0x1188c8c88>"
      ]
     },
     "metadata": {},
     "output_type": "display_data"
    }
   ],
   "source": [
    "f  = plt.figure(figsize = (7, 5))\n",
    "ax = f.add_subplot(111)\n",
    "probplot(boston.target - predictions, plot = ax)"
   ]
  },
  {
   "cell_type": "code",
   "execution_count": 280,
   "metadata": {
    "collapsed": true
   },
   "outputs": [],
   "source": [
    "def MSE(target, predictions):\n",
    "    squared_deviation = np.power(target - predictions, 2)\n",
    "    return(np.mean(squared_deviation))"
   ]
  },
  {
   "cell_type": "code",
   "execution_count": 281,
   "metadata": {
    "collapsed": false
   },
   "outputs": [
    {
     "data": {
      "text/plain": [
       "21.897779217687496"
      ]
     },
     "execution_count": 281,
     "metadata": {},
     "output_type": "execute_result"
    }
   ],
   "source": [
    "MSE(boston.target, predictions)"
   ]
  },
  {
   "cell_type": "code",
   "execution_count": 282,
   "metadata": {
    "collapsed": true
   },
   "outputs": [],
   "source": [
    "def MAD(target, predictions):\n",
    "    absolute_deviation = np.abs(target - predictions)\n",
    "    return(np.mean(absolute_deviation))"
   ]
  },
  {
   "cell_type": "code",
   "execution_count": 283,
   "metadata": {
    "collapsed": false
   },
   "outputs": [
    {
     "data": {
      "text/plain": [
       "3.2729446379969405"
      ]
     },
     "execution_count": 283,
     "metadata": {},
     "output_type": "execute_result"
    }
   ],
   "source": [
    "MAD(boston.target, predictions)"
   ]
  },
  {
   "cell_type": "code",
   "execution_count": 284,
   "metadata": {
    "collapsed": true
   },
   "outputs": [],
   "source": [
    "n_bootstraps = 1000"
   ]
  },
  {
   "cell_type": "code",
   "execution_count": 285,
   "metadata": {
    "collapsed": true
   },
   "outputs": [],
   "source": [
    "len_boston = len(boston.target)"
   ]
  },
  {
   "cell_type": "code",
   "execution_count": 286,
   "metadata": {
    "collapsed": true
   },
   "outputs": [],
   "source": [
    "subsample_size = np.int(0.5*len_boston)"
   ]
  },
  {
   "cell_type": "code",
   "execution_count": 290,
   "metadata": {
    "collapsed": true
   },
   "outputs": [],
   "source": [
    "subsample = lambda: np.random.choice(np.arange(0, len_boston), size = subsample_size)"
   ]
  },
  {
   "cell_type": "code",
   "execution_count": 291,
   "metadata": {
    "collapsed": true
   },
   "outputs": [],
   "source": [
    "coefs = np.ones(n_bootstraps)"
   ]
  },
  {
   "cell_type": "code",
   "execution_count": 292,
   "metadata": {
    "collapsed": false
   },
   "outputs": [],
   "source": [
    "for i in range(n_bootstraps):\n",
    "    subsample_idx = subsample()\n",
    "    subsample_X = boston.data[subsample_idx]\n",
    "    subsample_y = boston.target[subsample_idx]"
   ]
  },
  {
   "cell_type": "code",
   "execution_count": 293,
   "metadata": {
    "collapsed": false
   },
   "outputs": [
    {
     "data": {
      "text/plain": [
       "LinearRegression(copy_X=True, fit_intercept=True, n_jobs=1, normalize=False)"
      ]
     },
     "execution_count": 293,
     "metadata": {},
     "output_type": "execute_result"
    }
   ],
   "source": [
    "lr.fit(subsample_X, subsample_y)"
   ]
  },
  {
   "cell_type": "code",
   "execution_count": 294,
   "metadata": {
    "collapsed": true
   },
   "outputs": [],
   "source": [
    "coefs[i] = lr.coef_[0]"
   ]
  },
  {
   "cell_type": "code",
   "execution_count": 295,
   "metadata": {
    "collapsed": true
   },
   "outputs": [],
   "source": [
    "import matplotlib.pyplot as plt"
   ]
  },
  {
   "cell_type": "code",
   "execution_count": 296,
   "metadata": {
    "collapsed": false
   },
   "outputs": [
    {
     "data": {
      "text/plain": [
       "<matplotlib.text.Text at 0x11a88e518>"
      ]
     },
     "execution_count": 296,
     "metadata": {},
     "output_type": "execute_result"
    },
    {
     "data": {
      "image/png": "[encoded data removed]",
      "text/plain": [
       "<matplotlib.figure.Figure at 0x11930f160>"
      ]
     },
     "metadata": {},
     "output_type": "display_data"
    }
   ],
   "source": [
    "f = plt.figure(figsize = (7, 5))\n",
    "ax = f.add_subplot(111)\n",
    "ax.hist(coefs, bins = 50)\n",
    "ax.set_title(\"Histogram of the lr.coef_[0].\")"
   ]
  },
  {
   "cell_type": "code",
   "execution_count": 298,
   "metadata": {
    "collapsed": false
   },
   "outputs": [
    {
     "data": {
      "text/plain": [
       "array([ 1.,  1.])"
      ]
     },
     "execution_count": 298,
     "metadata": {},
     "output_type": "execute_result"
    }
   ],
   "source": [
    "np.percentile(coefs, [2.5, 97.5])"
   ]
  },
  {
   "cell_type": "code",
   "execution_count": 299,
   "metadata": {
    "collapsed": true
   },
   "outputs": [],
   "source": [
    "from sklearn.datasets import make_regression"
   ]
  },
  {
   "cell_type": "code",
   "execution_count": 301,
   "metadata": {
    "collapsed": false
   },
   "outputs": [],
   "source": [
    "reg_data, reg_target = make_regression(n_samples = 2000,\n",
    "                                      n_features = 3, effective_rank = 2, noise = 10)"
   ]
  },
  {
   "cell_type": "code",
   "execution_count": 302,
   "metadata": {
    "collapsed": true
   },
   "outputs": [],
   "source": [
    "import numpy as np"
   ]
  },
  {
   "cell_type": "code",
   "execution_count": 303,
   "metadata": {
    "collapsed": true
   },
   "outputs": [],
   "source": [
    "n_bootstraps = 1000"
   ]
  },
  {
   "cell_type": "code",
   "execution_count": 304,
   "metadata": {
    "collapsed": true
   },
   "outputs": [],
   "source": [
    "len_data = len(reg_data)"
   ]
  },
  {
   "cell_type": "code",
   "execution_count": 305,
   "metadata": {
    "collapsed": true
   },
   "outputs": [],
   "source": [
    "subsample_size = np.int(0.75*len_data)"
   ]
  },
  {
   "cell_type": "code",
   "execution_count": 312,
   "metadata": {
    "collapsed": true
   },
   "outputs": [],
   "source": [
    "subsample = lambda: np.random.choice(np.arange(0, len_data),\n",
    "                                     size = subsample_size)"
   ]
  },
  {
   "cell_type": "code",
   "execution_count": 313,
   "metadata": {
    "collapsed": true
   },
   "outputs": [],
   "source": [
    "coefs = np.ones((n_bootstraps, 3))"
   ]
  },
  {
   "cell_type": "code",
   "execution_count": 314,
   "metadata": {
    "collapsed": false
   },
   "outputs": [],
   "source": [
    "for i in range(n_bootstraps):\n",
    "    subsample_idx = subsample()\n",
    "    subsample_X = reg_data[subsample_idx]\n",
    "    subsample_y = reg_target[subsample_idx]"
   ]
  },
  {
   "cell_type": "code",
   "execution_count": 315,
   "metadata": {
    "collapsed": false
   },
   "outputs": [
    {
     "data": {
      "text/plain": [
       "LinearRegression(copy_X=True, fit_intercept=True, n_jobs=1, normalize=False)"
      ]
     },
     "execution_count": 315,
     "metadata": {},
     "output_type": "execute_result"
    }
   ],
   "source": [
    "lr.fit(subsample_X, subsample_y)"
   ]
  },
  {
   "cell_type": "code",
   "execution_count": 316,
   "metadata": {
    "collapsed": true
   },
   "outputs": [],
   "source": [
    "coefs[i][0] = lr.coef_[0]"
   ]
  },
  {
   "cell_type": "code",
   "execution_count": 317,
   "metadata": {
    "collapsed": true
   },
   "outputs": [],
   "source": [
    "coefs[i][0] = lr.coef_[0]"
   ]
  },
  {
   "cell_type": "code",
   "execution_count": 318,
   "metadata": {
    "collapsed": true
   },
   "outputs": [],
   "source": [
    "coefs[i][2] = lr.coef_[2]"
   ]
  },
  {
   "cell_type": "code",
   "execution_count": 320,
   "metadata": {
    "collapsed": true
   },
   "outputs": [],
   "source": [
    "n_bootstraps = 1000"
   ]
  },
  {
   "cell_type": "code",
   "execution_count": 321,
   "metadata": {
    "collapsed": true
   },
   "outputs": [],
   "source": [
    "len_data = len(reg_data)"
   ]
  },
  {
   "cell_type": "code",
   "execution_count": 322,
   "metadata": {
    "collapsed": true
   },
   "outputs": [],
   "source": [
    "subsample_size = np.int(0.75*len_data)"
   ]
  },
  {
   "cell_type": "code",
   "execution_count": 323,
   "metadata": {
    "collapsed": true
   },
   "outputs": [],
   "source": [
    "subsample = lambda: np.random.choice(np.arange(0, len_data), size = subsample_size)"
   ]
  },
  {
   "cell_type": "code",
   "execution_count": 326,
   "metadata": {
    "collapsed": true
   },
   "outputs": [],
   "source": [
    "coefs_r = np.ones((n_bootstraps, 3))"
   ]
  },
  {
   "cell_type": "code",
   "execution_count": 327,
   "metadata": {
    "collapsed": false
   },
   "outputs": [
    {
     "data": {
      "text/plain": [
       "array([ 0.02083184,  0.        ,  0.08381541])"
      ]
     },
     "execution_count": 327,
     "metadata": {},
     "output_type": "execute_result"
    }
   ],
   "source": [
    "np.mean(coefs - coefs_r, axis = 0)"
   ]
  },
  {
   "cell_type": "code",
   "execution_count": 328,
   "metadata": {
    "collapsed": false
   },
   "outputs": [
    {
     "data": {
      "text/plain": [
       "array([ 0.43353141,  0.        ,  7.01799854])"
      ]
     },
     "execution_count": 328,
     "metadata": {},
     "output_type": "execute_result"
    }
   ],
   "source": [
    "np.var(coefs, axis = 0)"
   ]
  },
  {
   "cell_type": "code",
   "execution_count": 329,
   "metadata": {
    "collapsed": false
   },
   "outputs": [
    {
     "data": {
      "text/plain": [
       "array([ 0.,  0.,  0.])"
      ]
     },
     "execution_count": 329,
     "metadata": {},
     "output_type": "execute_result"
    }
   ],
   "source": [
    "np.var(coefs_r, axis = 0)"
   ]
  },
  {
   "cell_type": "code",
   "execution_count": 330,
   "metadata": {
    "collapsed": true
   },
   "outputs": [],
   "source": [
    "from sklearn.datasets import make_regression"
   ]
  },
  {
   "cell_type": "code",
   "execution_count": 335,
   "metadata": {
    "collapsed": true
   },
   "outputs": [],
   "source": [
    "reg_data, reg_target = make_regression(n_samples = 100, n_features = 2, effective_rank = 1, noise = 10)"
   ]
  },
  {
   "cell_type": "code",
   "execution_count": 336,
   "metadata": {
    "collapsed": true
   },
   "outputs": [],
   "source": [
    "from sklearn.linear_model import RidgeCV"
   ]
  },
  {
   "cell_type": "code",
   "execution_count": 337,
   "metadata": {
    "collapsed": true
   },
   "outputs": [],
   "source": [
    "rcv = RidgeCV(alphas = np.array([.1, .2, .3, .4]))"
   ]
  },
  {
   "cell_type": "code",
   "execution_count": 338,
   "metadata": {
    "collapsed": false
   },
   "outputs": [
    {
     "data": {
      "text/plain": [
       "RidgeCV(alphas=array([ 0.1,  0.2,  0.3,  0.4]), cv=None, fit_intercept=True,\n",
       "    gcv_mode=None, normalize=False, scoring=None, store_cv_values=False)"
      ]
     },
     "execution_count": 338,
     "metadata": {},
     "output_type": "execute_result"
    }
   ],
   "source": [
    "rcv.fit(reg_data, reg_target)"
   ]
  },
  {
   "cell_type": "code",
   "execution_count": 339,
   "metadata": {
    "collapsed": false
   },
   "outputs": [
    {
     "data": {
      "text/plain": [
       "0.40000000000000002"
      ]
     },
     "execution_count": 339,
     "metadata": {},
     "output_type": "execute_result"
    }
   ],
   "source": [
    "rcv.alpha_"
   ]
  },
  {
   "cell_type": "code",
   "execution_count": 340,
   "metadata": {
    "collapsed": true
   },
   "outputs": [],
   "source": [
    "rcv2 = RidgeCV(alphas = np.array([0.08, 0.09, .1, .11, .12]))"
   ]
  },
  {
   "cell_type": "code",
   "execution_count": 341,
   "metadata": {
    "collapsed": false
   },
   "outputs": [
    {
     "data": {
      "text/plain": [
       "RidgeCV(alphas=array([ 0.08,  0.09,  0.1 ,  0.11,  0.12]), cv=None,\n",
       "    fit_intercept=True, gcv_mode=None, normalize=False, scoring=None,\n",
       "    store_cv_values=False)"
      ]
     },
     "execution_count": 341,
     "metadata": {},
     "output_type": "execute_result"
    }
   ],
   "source": [
    "rcv2.fit(reg_data, reg_target)"
   ]
  },
  {
   "cell_type": "code",
   "execution_count": 347,
   "metadata": {
    "collapsed": false
   },
   "outputs": [
    {
     "data": {
      "text/plain": [
       "0.12"
      ]
     },
     "execution_count": 347,
     "metadata": {},
     "output_type": "execute_result"
    }
   ],
   "source": [
    "rcv2.alpha_"
   ]
  },
  {
   "cell_type": "code",
   "execution_count": 348,
   "metadata": {
    "collapsed": true
   },
   "outputs": [],
   "source": [
    "alphas_to_test = np.linspace(0.01, 1)"
   ]
  },
  {
   "cell_type": "code",
   "execution_count": 355,
   "metadata": {
    "collapsed": false
   },
   "outputs": [],
   "source": [
    "rcv3 = RidgeCV(alphas = alphas_to_test, store_cv_values = True)"
   ]
  },
  {
   "cell_type": "code",
   "execution_count": 356,
   "metadata": {
    "collapsed": false
   },
   "outputs": [
    {
     "data": {
      "text/plain": [
       "RidgeCV(alphas=array([ 0.01   ,  0.0302 ,  0.05041,  0.07061,  0.09082,  0.11102,\n",
       "        0.13122,  0.15143,  0.17163,  0.19184,  0.21204,  0.23224,\n",
       "        0.25245,  0.27265,  0.29286,  0.31306,  0.33327,  0.35347,\n",
       "        0.37367,  0.39388,  0.41408,  0.43429,  0.45449,  0.47469,\n",
       "        0.4949 ,  0.5151 ...3837,\n",
       "        0.85857,  0.87878,  0.89898,  0.91918,  0.93939,  0.95959,\n",
       "        0.9798 ,  1.     ]),\n",
       "    cv=None, fit_intercept=True, gcv_mode=None, normalize=False,\n",
       "    scoring=None, store_cv_values=True)"
      ]
     },
     "execution_count": 356,
     "metadata": {},
     "output_type": "execute_result"
    }
   ],
   "source": [
    "rcv3.fit(reg_data, reg_target)"
   ]
  },
  {
   "cell_type": "code",
   "execution_count": 357,
   "metadata": {
    "collapsed": false
   },
   "outputs": [
    {
     "data": {
      "text/plain": [
       "(100, 50)"
      ]
     },
     "execution_count": 357,
     "metadata": {},
     "output_type": "execute_result"
    }
   ],
   "source": [
    "rcv3.cv_values_.shape"
   ]
  },
  {
   "cell_type": "code",
   "execution_count": 358,
   "metadata": {
    "collapsed": true
   },
   "outputs": [],
   "source": [
    "smallest_idx = rcv3.cv_values_.mean(axis = 0).argmin()"
   ]
  },
  {
   "cell_type": "code",
   "execution_count": 359,
   "metadata": {
    "collapsed": false
   },
   "outputs": [
    {
     "data": {
      "text/plain": [
       "0.59591836734693882"
      ]
     },
     "execution_count": 359,
     "metadata": {},
     "output_type": "execute_result"
    }
   ],
   "source": [
    "alphas_to_test[smallest_idx]"
   ]
  },
  {
   "cell_type": "code",
   "execution_count": 361,
   "metadata": {
    "collapsed": false
   },
   "outputs": [
    {
     "data": {
      "text/plain": [
       "0.59591836734693882"
      ]
     },
     "execution_count": 361,
     "metadata": {},
     "output_type": "execute_result"
    }
   ],
   "source": [
    "rcv3.alpha_"
   ]
  },
  {
   "cell_type": "code",
   "execution_count": 367,
   "metadata": {
    "collapsed": true
   },
   "outputs": [],
   "source": [
    "def MAD(target, predictions):\n",
    "    absolute_deviation = np.abs(target - predictions)\n",
    "    return(absolute_deviation.mean())"
   ]
  },
  {
   "cell_type": "code",
   "execution_count": 370,
   "metadata": {
    "collapsed": true
   },
   "outputs": [],
   "source": [
    "import sklearn\n",
    "MAD = sklearn.metrics.make_scorer(MAD, greater_is_better = False)"
   ]
  },
  {
   "cell_type": "code",
   "execution_count": 371,
   "metadata": {
    "collapsed": true
   },
   "outputs": [],
   "source": [
    "rcv4 = RidgeCV(alphas = alphas_to_test, store_cv_values = True, scoring = MAD)"
   ]
  },
  {
   "cell_type": "code",
   "execution_count": 372,
   "metadata": {
    "collapsed": false
   },
   "outputs": [
    {
     "data": {
      "text/plain": [
       "RidgeCV(alphas=array([ 0.01   ,  0.0302 ,  0.05041,  0.07061,  0.09082,  0.11102,\n",
       "        0.13122,  0.15143,  0.17163,  0.19184,  0.21204,  0.23224,\n",
       "        0.25245,  0.27265,  0.29286,  0.31306,  0.33327,  0.35347,\n",
       "        0.37367,  0.39388,  0.41408,  0.43429,  0.45449,  0.47469,\n",
       "        0.4949 ,  0.5151 ...3837,\n",
       "        0.85857,  0.87878,  0.89898,  0.91918,  0.93939,  0.95959,\n",
       "        0.9798 ,  1.     ]),\n",
       "    cv=None, fit_intercept=True, gcv_mode=None, normalize=False,\n",
       "    scoring=make_scorer(MAD, greater_is_better=False),\n",
       "    store_cv_values=True)"
      ]
     },
     "execution_count": 372,
     "metadata": {},
     "output_type": "execute_result"
    }
   ],
   "source": [
    "rcv4.fit(reg_data, reg_target)"
   ]
  },
  {
   "cell_type": "code",
   "execution_count": 373,
   "metadata": {
    "collapsed": true
   },
   "outputs": [],
   "source": [
    "smallest_idx = rcv4.cv_values_.mean(axis = 0).argmin()"
   ]
  },
  {
   "cell_type": "code",
   "execution_count": 374,
   "metadata": {
    "collapsed": false
   },
   "outputs": [
    {
     "data": {
      "text/plain": [
       "0.23224489795918368"
      ]
     },
     "execution_count": 374,
     "metadata": {},
     "output_type": "execute_result"
    }
   ],
   "source": [
    "alphas_to_test[smallest_idx]"
   ]
  },
  {
   "cell_type": "code",
   "execution_count": 375,
   "metadata": {
    "collapsed": true
   },
   "outputs": [],
   "source": [
    "from sklearn.datasets import make_regression"
   ]
  },
  {
   "cell_type": "code",
   "execution_count": 376,
   "metadata": {
    "collapsed": true
   },
   "outputs": [],
   "source": [
    "reg_data, reg_target = make_regression(n_samples = 200, n_features = 500, n_informative = 5, noise = 5)"
   ]
  },
  {
   "cell_type": "code",
   "execution_count": 377,
   "metadata": {
    "collapsed": true
   },
   "outputs": [],
   "source": [
    "from sklearn.linear_model import Lasso"
   ]
  },
  {
   "cell_type": "code",
   "execution_count": 378,
   "metadata": {
    "collapsed": true
   },
   "outputs": [],
   "source": [
    "lasso = Lasso()"
   ]
  },
  {
   "cell_type": "code",
   "execution_count": 379,
   "metadata": {
    "collapsed": false
   },
   "outputs": [
    {
     "data": {
      "text/plain": [
       "Lasso(alpha=1.0, copy_X=True, fit_intercept=True, max_iter=1000,\n",
       "   normalize=False, positive=False, precompute=False, random_state=None,\n",
       "   selection='cyclic', tol=0.0001, warm_start=False)"
      ]
     },
     "execution_count": 379,
     "metadata": {},
     "output_type": "execute_result"
    }
   ],
   "source": [
    "lasso.fit(reg_data, reg_target)"
   ]
  },
  {
   "cell_type": "code",
   "execution_count": 380,
   "metadata": {
    "collapsed": false
   },
   "outputs": [
    {
     "data": {
      "text/plain": [
       "5"
      ]
     },
     "execution_count": 380,
     "metadata": {},
     "output_type": "execute_result"
    }
   ],
   "source": [
    "np.sum(lasso.coef_ != 0)"
   ]
  },
  {
   "cell_type": "code",
   "execution_count": 381,
   "metadata": {
    "collapsed": true
   },
   "outputs": [],
   "source": [
    "lasso_0 = Lasso(0)"
   ]
  },
  {
   "cell_type": "code",
   "execution_count": 382,
   "metadata": {
    "collapsed": false
   },
   "outputs": [
    {
     "name": "stderr",
     "output_type": "stream",
     "text": [
      "//anaconda/lib/python3.5/site-packages/ipykernel/__main__.py:1: UserWarning: With alpha=0, this algorithm does not converge well. You are advised to use the LinearRegression estimator\n",
      "  if __name__ == '__main__':\n",
      "//anaconda/lib/python3.5/site-packages/sklearn/linear_model/coordinate_descent.py:454: UserWarning: Coordinate descent with alpha=0 may lead to unexpected results and is discouraged.\n",
      "  positive)\n"
     ]
    },
    {
     "data": {
      "text/plain": [
       "Lasso(alpha=0, copy_X=True, fit_intercept=True, max_iter=1000,\n",
       "   normalize=False, positive=False, precompute=False, random_state=None,\n",
       "   selection='cyclic', tol=0.0001, warm_start=False)"
      ]
     },
     "execution_count": 382,
     "metadata": {},
     "output_type": "execute_result"
    }
   ],
   "source": [
    "lasso_0.fit(reg_data, reg_target)"
   ]
  },
  {
   "cell_type": "code",
   "execution_count": 383,
   "metadata": {
    "collapsed": false
   },
   "outputs": [
    {
     "data": {
      "text/plain": [
       "500"
      ]
     },
     "execution_count": 383,
     "metadata": {},
     "output_type": "execute_result"
    }
   ],
   "source": [
    "np.sum(lasso_0.coef_ != 0)"
   ]
  },
  {
   "cell_type": "code",
   "execution_count": 384,
   "metadata": {
    "collapsed": true
   },
   "outputs": [],
   "source": [
    "from sklearn.linear_model import LassoCV"
   ]
  },
  {
   "cell_type": "code",
   "execution_count": 385,
   "metadata": {
    "collapsed": true
   },
   "outputs": [],
   "source": [
    "lassocv = LassoCV()"
   ]
  },
  {
   "cell_type": "code",
   "execution_count": 386,
   "metadata": {
    "collapsed": false
   },
   "outputs": [
    {
     "data": {
      "text/plain": [
       "LassoCV(alphas=None, copy_X=True, cv=None, eps=0.001, fit_intercept=True,\n",
       "    max_iter=1000, n_alphas=100, n_jobs=1, normalize=False, positive=False,\n",
       "    precompute='auto', random_state=None, selection='cyclic', tol=0.0001,\n",
       "    verbose=False)"
      ]
     },
     "execution_count": 386,
     "metadata": {},
     "output_type": "execute_result"
    }
   ],
   "source": [
    "lassocv.fit(reg_data, reg_target)"
   ]
  },
  {
   "cell_type": "code",
   "execution_count": 387,
   "metadata": {
    "collapsed": false
   },
   "outputs": [
    {
     "data": {
      "text/plain": [
       "0.634814320028946"
      ]
     },
     "execution_count": 387,
     "metadata": {},
     "output_type": "execute_result"
    }
   ],
   "source": [
    "lassocv.alpha_"
   ]
  },
  {
   "cell_type": "code",
   "execution_count": 388,
   "metadata": {
    "collapsed": false
   },
   "outputs": [
    {
     "data": {
      "text/plain": [
       "array([ 0., -0., -0.,  0., -0.])"
      ]
     },
     "execution_count": 388,
     "metadata": {},
     "output_type": "execute_result"
    }
   ],
   "source": [
    "lassocv.coef_[:5]"
   ]
  },
  {
   "cell_type": "code",
   "execution_count": 389,
   "metadata": {
    "collapsed": false
   },
   "outputs": [
    {
     "data": {
      "text/plain": [
       "31"
      ]
     },
     "execution_count": 389,
     "metadata": {},
     "output_type": "execute_result"
    }
   ],
   "source": [
    "np.sum(lassocv.coef_ != 0)"
   ]
  },
  {
   "cell_type": "code",
   "execution_count": 390,
   "metadata": {
    "collapsed": true
   },
   "outputs": [],
   "source": [
    "mask = lassocv.coef_ != 0"
   ]
  },
  {
   "cell_type": "code",
   "execution_count": 391,
   "metadata": {
    "collapsed": true
   },
   "outputs": [],
   "source": [
    "new_reg_data = reg_data[:, mask]"
   ]
  },
  {
   "cell_type": "code",
   "execution_count": 392,
   "metadata": {
    "collapsed": false
   },
   "outputs": [
    {
     "data": {
      "text/plain": [
       "(200, 31)"
      ]
     },
     "execution_count": 392,
     "metadata": {},
     "output_type": "execute_result"
    }
   ],
   "source": [
    "new_reg_data.shape"
   ]
  },
  {
   "cell_type": "code",
   "execution_count": 393,
   "metadata": {
    "collapsed": true
   },
   "outputs": [],
   "source": [
    "from sklearn.datasets import make_regression"
   ]
  },
  {
   "cell_type": "code",
   "execution_count": 394,
   "metadata": {
    "collapsed": true
   },
   "outputs": [],
   "source": [
    "reg_data, reg_target = make_regression(n_samples = 200, n_features = 500, n_informative = 10, noise = 2)"
   ]
  },
  {
   "cell_type": "code",
   "execution_count": 395,
   "metadata": {
    "collapsed": true
   },
   "outputs": [],
   "source": [
    "from sklearn.linear_model import Lars"
   ]
  },
  {
   "cell_type": "code",
   "execution_count": 396,
   "metadata": {
    "collapsed": true
   },
   "outputs": [],
   "source": [
    "lars = Lars(n_nonzero_coefs = 10)"
   ]
  },
  {
   "cell_type": "code",
   "execution_count": 397,
   "metadata": {
    "collapsed": false
   },
   "outputs": [
    {
     "data": {
      "text/plain": [
       "Lars(copy_X=True, eps=2.2204460492503131e-16, fit_intercept=True,\n",
       "   fit_path=True, n_nonzero_coefs=10, normalize=True, positive=False,\n",
       "   precompute='auto', verbose=False)"
      ]
     },
     "execution_count": 397,
     "metadata": {},
     "output_type": "execute_result"
    }
   ],
   "source": [
    "lars.fit(reg_data, reg_target)"
   ]
  },
  {
   "cell_type": "code",
   "execution_count": 398,
   "metadata": {
    "collapsed": false
   },
   "outputs": [
    {
     "data": {
      "text/plain": [
       "10"
      ]
     },
     "execution_count": 398,
     "metadata": {},
     "output_type": "execute_result"
    }
   ],
   "source": [
    "np.sum(lars.coef_ != 0)"
   ]
  },
  {
   "cell_type": "code",
   "execution_count": 400,
   "metadata": {
    "collapsed": true
   },
   "outputs": [],
   "source": [
    "train_n = 100"
   ]
  },
  {
   "cell_type": "code",
   "execution_count": 401,
   "metadata": {
    "collapsed": true
   },
   "outputs": [],
   "source": [
    "lars_12 = Lars(n_nonzero_coefs = 12)"
   ]
  },
  {
   "cell_type": "code",
   "execution_count": 402,
   "metadata": {
    "collapsed": true
   },
   "outputs": [],
   "source": [
    "lars_12.fit(reg_data[:train_n], reg_target[:train_n]);"
   ]
  },
  {
   "cell_type": "code",
   "execution_count": 403,
   "metadata": {
    "collapsed": true
   },
   "outputs": [],
   "source": [
    "lars_500 = Lars() # it's 500 by default"
   ]
  },
  {
   "cell_type": "code",
   "execution_count": 404,
   "metadata": {
    "collapsed": false
   },
   "outputs": [
    {
     "name": "stderr",
     "output_type": "stream",
     "text": [
      "//anaconda/lib/python3.5/site-packages/sklearn/linear_model/least_angle.py:309: ConvergenceWarning: Regressors in active set degenerate. Dropping a regressor, after 124 iterations, i.e. alpha=8.955e-02, with an active set of 100 regressors, and the smallest cholesky pivot element being 2.107e-08\n",
      "  ConvergenceWarning)\n",
      "//anaconda/lib/python3.5/site-packages/sklearn/linear_model/least_angle.py:309: ConvergenceWarning: Regressors in active set degenerate. Dropping a regressor, after 124 iterations, i.e. alpha=8.249e-02, with an active set of 100 regressors, and the smallest cholesky pivot element being 3.650e-08\n",
      "  ConvergenceWarning)\n",
      "//anaconda/lib/python3.5/site-packages/sklearn/linear_model/least_angle.py:309: ConvergenceWarning: Regressors in active set degenerate. Dropping a regressor, after 124 iterations, i.e. alpha=7.853e-02, with an active set of 100 regressors, and the smallest cholesky pivot element being 2.980e-08\n",
      "  ConvergenceWarning)\n",
      "//anaconda/lib/python3.5/site-packages/sklearn/linear_model/least_angle.py:309: ConvergenceWarning: Regressors in active set degenerate. Dropping a regressor, after 124 iterations, i.e. alpha=7.849e-02, with an active set of 100 regressors, and the smallest cholesky pivot element being 2.356e-08\n",
      "  ConvergenceWarning)\n",
      "//anaconda/lib/python3.5/site-packages/sklearn/linear_model/least_angle.py:309: ConvergenceWarning: Regressors in active set degenerate. Dropping a regressor, after 124 iterations, i.e. alpha=7.545e-02, with an active set of 100 regressors, and the smallest cholesky pivot element being 6.495e-08\n",
      "  ConvergenceWarning)\n",
      "//anaconda/lib/python3.5/site-packages/sklearn/linear_model/least_angle.py:309: ConvergenceWarning: Regressors in active set degenerate. Dropping a regressor, after 124 iterations, i.e. alpha=7.540e-02, with an active set of 100 regressors, and the smallest cholesky pivot element being 3.942e-08\n",
      "  ConvergenceWarning)\n",
      "//anaconda/lib/python3.5/site-packages/sklearn/linear_model/least_angle.py:309: ConvergenceWarning: Regressors in active set degenerate. Dropping a regressor, after 124 iterations, i.e. alpha=7.447e-02, with an active set of 100 regressors, and the smallest cholesky pivot element being 3.161e-08\n",
      "  ConvergenceWarning)\n",
      "//anaconda/lib/python3.5/site-packages/sklearn/linear_model/least_angle.py:309: ConvergenceWarning: Regressors in active set degenerate. Dropping a regressor, after 124 iterations, i.e. alpha=7.374e-02, with an active set of 100 regressors, and the smallest cholesky pivot element being 7.525e-08\n",
      "  ConvergenceWarning)\n",
      "//anaconda/lib/python3.5/site-packages/sklearn/linear_model/least_angle.py:309: ConvergenceWarning: Regressors in active set degenerate. Dropping a regressor, after 125 iterations, i.e. alpha=7.069e-02, with an active set of 101 regressors, and the smallest cholesky pivot element being 4.712e-08\n",
      "  ConvergenceWarning)\n",
      "//anaconda/lib/python3.5/site-packages/sklearn/linear_model/least_angle.py:309: ConvergenceWarning: Regressors in active set degenerate. Dropping a regressor, after 125 iterations, i.e. alpha=6.953e-02, with an active set of 101 regressors, and the smallest cholesky pivot element being 3.650e-08\n",
      "  ConvergenceWarning)\n",
      "//anaconda/lib/python3.5/site-packages/sklearn/linear_model/least_angle.py:309: ConvergenceWarning: Regressors in active set degenerate. Dropping a regressor, after 125 iterations, i.e. alpha=6.918e-02, with an active set of 101 regressors, and the smallest cholesky pivot element being 3.650e-08\n",
      "  ConvergenceWarning)\n",
      "//anaconda/lib/python3.5/site-packages/sklearn/linear_model/least_angle.py:309: ConvergenceWarning: Regressors in active set degenerate. Dropping a regressor, after 125 iterations, i.e. alpha=6.821e-02, with an active set of 101 regressors, and the smallest cholesky pivot element being 6.322e-08\n",
      "  ConvergenceWarning)\n",
      "//anaconda/lib/python3.5/site-packages/sklearn/linear_model/least_angle.py:309: ConvergenceWarning: Regressors in active set degenerate. Dropping a regressor, after 127 iterations, i.e. alpha=6.787e-02, with an active set of 102 regressors, and the smallest cholesky pivot element being 2.980e-08\n",
      "  ConvergenceWarning)\n",
      "//anaconda/lib/python3.5/site-packages/sklearn/linear_model/least_angle.py:309: ConvergenceWarning: Regressors in active set degenerate. Dropping a regressor, after 127 iterations, i.e. alpha=6.665e-02, with an active set of 102 regressors, and the smallest cholesky pivot element being 1.490e-08\n",
      "  ConvergenceWarning)\n",
      "//anaconda/lib/python3.5/site-packages/sklearn/linear_model/least_angle.py:309: ConvergenceWarning: Regressors in active set degenerate. Dropping a regressor, after 127 iterations, i.e. alpha=6.635e-02, with an active set of 102 regressors, and the smallest cholesky pivot element being 7.743e-08\n",
      "  ConvergenceWarning)\n",
      "//anaconda/lib/python3.5/site-packages/sklearn/linear_model/least_angle.py:309: ConvergenceWarning: Regressors in active set degenerate. Dropping a regressor, after 127 iterations, i.e. alpha=6.541e-02, with an active set of 102 regressors, and the smallest cholesky pivot element being 8.025e-08\n",
      "  ConvergenceWarning)\n",
      "//anaconda/lib/python3.5/site-packages/sklearn/linear_model/least_angle.py:309: ConvergenceWarning: Regressors in active set degenerate. Dropping a regressor, after 127 iterations, i.e. alpha=6.452e-02, with an active set of 102 regressors, and the smallest cholesky pivot element being 9.064e-08\n",
      "  ConvergenceWarning)\n",
      "//anaconda/lib/python3.5/site-packages/sklearn/linear_model/least_angle.py:309: ConvergenceWarning: Regressors in active set degenerate. Dropping a regressor, after 127 iterations, i.e. alpha=6.400e-02, with an active set of 102 regressors, and the smallest cholesky pivot element being 2.980e-08\n",
      "  ConvergenceWarning)\n",
      "//anaconda/lib/python3.5/site-packages/sklearn/linear_model/least_angle.py:309: ConvergenceWarning: Regressors in active set degenerate. Dropping a regressor, after 127 iterations, i.e. alpha=6.356e-02, with an active set of 102 regressors, and the smallest cholesky pivot element being 6.144e-08\n",
      "  ConvergenceWarning)\n",
      "//anaconda/lib/python3.5/site-packages/sklearn/linear_model/least_angle.py:309: ConvergenceWarning: Regressors in active set degenerate. Dropping a regressor, after 128 iterations, i.e. alpha=6.294e-02, with an active set of 103 regressors, and the smallest cholesky pivot element being 4.215e-08\n",
      "  ConvergenceWarning)\n"
     ]
    },
    {
     "data": {
      "text/plain": [
       "Lars(copy_X=True, eps=2.2204460492503131e-16, fit_intercept=True,\n",
       "   fit_path=True, n_nonzero_coefs=500, normalize=True, positive=False,\n",
       "   precompute='auto', verbose=False)"
      ]
     },
     "execution_count": 404,
     "metadata": {},
     "output_type": "execute_result"
    }
   ],
   "source": [
    "lars_500.fit(reg_data[:train_n], reg_target[:train_n])"
   ]
  },
  {
   "cell_type": "code",
   "execution_count": 406,
   "metadata": {
    "collapsed": false
   },
   "outputs": [
    {
     "data": {
      "text/plain": [
       "12.308051386091806"
      ]
     },
     "execution_count": 406,
     "metadata": {},
     "output_type": "execute_result"
    }
   ],
   "source": [
    "np.mean(np.power(reg_target[train_n:] - lars_12.predict(reg_data[train_n:]), 2))"
   ]
  },
  {
   "cell_type": "code",
   "execution_count": 407,
   "metadata": {
    "collapsed": false
   },
   "outputs": [
    {
     "data": {
      "text/plain": [
       "6.0092670286023051e+37"
      ]
     },
     "execution_count": 407,
     "metadata": {},
     "output_type": "execute_result"
    }
   ],
   "source": [
    "np.mean(np.power(reg_target[train_n:] - lars_500.predict(reg_data[train_n:]), 2))"
   ]
  },
  {
   "cell_type": "code",
   "execution_count": 408,
   "metadata": {
    "collapsed": true
   },
   "outputs": [],
   "source": [
    "from sklearn.linear_model import LarsCV"
   ]
  },
  {
   "cell_type": "code",
   "execution_count": 409,
   "metadata": {
    "collapsed": true
   },
   "outputs": [],
   "source": [
    "lcv = LarsCV()"
   ]
  },
  {
   "cell_type": "code",
   "execution_count": 410,
   "metadata": {
    "collapsed": false
   },
   "outputs": [
    {
     "data": {
      "text/plain": [
       "LarsCV(copy_X=True, cv=None, eps=2.2204460492503131e-16, fit_intercept=True,\n",
       "    max_iter=500, max_n_alphas=1000, n_jobs=1, normalize=True,\n",
       "    positive=False, precompute='auto', verbose=False)"
      ]
     },
     "execution_count": 410,
     "metadata": {},
     "output_type": "execute_result"
    }
   ],
   "source": [
    "lcv.fit(reg_data, reg_target)"
   ]
  },
  {
   "cell_type": "code",
   "execution_count": 411,
   "metadata": {
    "collapsed": false
   },
   "outputs": [
    {
     "data": {
      "text/plain": [
       "35"
      ]
     },
     "execution_count": 411,
     "metadata": {},
     "output_type": "execute_result"
    }
   ],
   "source": [
    "np.sum(lcv.coef_ != 0)"
   ]
  },
  {
   "cell_type": "code",
   "execution_count": 412,
   "metadata": {
    "collapsed": true
   },
   "outputs": [],
   "source": [
    "from sklearn.datasets import make_classification"
   ]
  },
  {
   "cell_type": "code",
   "execution_count": 413,
   "metadata": {
    "collapsed": true
   },
   "outputs": [],
   "source": [
    "X, y = make_classification(n_samples = 1000, n_features = 4)"
   ]
  },
  {
   "cell_type": "code",
   "execution_count": 415,
   "metadata": {
    "collapsed": false
   },
   "outputs": [],
   "source": [
    "from sklearn.linear_model import LogisticRegression"
   ]
  },
  {
   "cell_type": "code",
   "execution_count": 416,
   "metadata": {
    "collapsed": true
   },
   "outputs": [],
   "source": [
    "lr = LogisticRegression()"
   ]
  },
  {
   "cell_type": "code",
   "execution_count": 417,
   "metadata": {
    "collapsed": true
   },
   "outputs": [],
   "source": [
    "X_train = X[:-200]"
   ]
  },
  {
   "cell_type": "code",
   "execution_count": 418,
   "metadata": {
    "collapsed": true
   },
   "outputs": [],
   "source": [
    "X_test = X[-200:]"
   ]
  },
  {
   "cell_type": "code",
   "execution_count": 419,
   "metadata": {
    "collapsed": true
   },
   "outputs": [],
   "source": [
    "y_train = y[:-200]"
   ]
  },
  {
   "cell_type": "code",
   "execution_count": 420,
   "metadata": {
    "collapsed": true
   },
   "outputs": [],
   "source": [
    "y_test = y[-200:]"
   ]
  },
  {
   "cell_type": "code",
   "execution_count": 421,
   "metadata": {
    "collapsed": false
   },
   "outputs": [
    {
     "data": {
      "text/plain": [
       "LogisticRegression(C=1.0, class_weight=None, dual=False, fit_intercept=True,\n",
       "          intercept_scaling=1, max_iter=100, multi_class='ovr', n_jobs=1,\n",
       "          penalty='l2', random_state=None, solver='liblinear', tol=0.0001,\n",
       "          verbose=0, warm_start=False)"
      ]
     },
     "execution_count": 421,
     "metadata": {},
     "output_type": "execute_result"
    }
   ],
   "source": [
    "lr.fit(X_train, y_train)"
   ]
  },
  {
   "cell_type": "code",
   "execution_count": 423,
   "metadata": {
    "collapsed": true
   },
   "outputs": [],
   "source": [
    "y_train_predictions = lr.predict(X_train)"
   ]
  },
  {
   "cell_type": "code",
   "execution_count": 424,
   "metadata": {
    "collapsed": true
   },
   "outputs": [],
   "source": [
    "y_test_predictions = lr.predict(X_test)"
   ]
  },
  {
   "cell_type": "code",
   "execution_count": 425,
   "metadata": {
    "collapsed": false
   },
   "outputs": [
    {
     "data": {
      "text/plain": [
       "0.98375000000000001"
      ]
     },
     "execution_count": 425,
     "metadata": {},
     "output_type": "execute_result"
    }
   ],
   "source": [
    "(y_train_predictions == y_train).sum().astype(float) / y_train.shape[0]"
   ]
  },
  {
   "cell_type": "code",
   "execution_count": 426,
   "metadata": {
    "collapsed": false
   },
   "outputs": [
    {
     "data": {
      "text/plain": [
       "0.98499999999999999"
      ]
     },
     "execution_count": 426,
     "metadata": {},
     "output_type": "execute_result"
    }
   ],
   "source": [
    "(y_test_predictions == y_test).sum().astype(float) / y_test.shape[0]"
   ]
  },
  {
   "cell_type": "code",
   "execution_count": 427,
   "metadata": {
    "collapsed": true
   },
   "outputs": [],
   "source": [
    "X, y = make_classification(n_samples = 5000, n_features = 4, weights = [.95])"
   ]
  },
  {
   "cell_type": "code",
   "execution_count": 430,
   "metadata": {
    "collapsed": false
   },
   "outputs": [
    {
     "data": {
      "text/plain": [
       "0.053999999999999999"
      ]
     },
     "execution_count": 430,
     "metadata": {},
     "output_type": "execute_result"
    }
   ],
   "source": [
    "sum(y) / (len(y)*1.)"
   ]
  },
  {
   "cell_type": "code",
   "execution_count": 431,
   "metadata": {
    "collapsed": true
   },
   "outputs": [],
   "source": [
    "X_train = X[:-500]"
   ]
  },
  {
   "cell_type": "code",
   "execution_count": 432,
   "metadata": {
    "collapsed": true
   },
   "outputs": [],
   "source": [
    "X_test = X[-500:]"
   ]
  },
  {
   "cell_type": "code",
   "execution_count": 433,
   "metadata": {
    "collapsed": true
   },
   "outputs": [],
   "source": [
    "y_train = y[:-500]"
   ]
  },
  {
   "cell_type": "code",
   "execution_count": 434,
   "metadata": {
    "collapsed": true
   },
   "outputs": [],
   "source": [
    "y_test = y[-500:]"
   ]
  },
  {
   "cell_type": "code",
   "execution_count": 435,
   "metadata": {
    "collapsed": false
   },
   "outputs": [
    {
     "data": {
      "text/plain": [
       "LogisticRegression(C=1.0, class_weight=None, dual=False, fit_intercept=True,\n",
       "          intercept_scaling=1, max_iter=100, multi_class='ovr', n_jobs=1,\n",
       "          penalty='l2', random_state=None, solver='liblinear', tol=0.0001,\n",
       "          verbose=0, warm_start=False)"
      ]
     },
     "execution_count": 435,
     "metadata": {},
     "output_type": "execute_result"
    }
   ],
   "source": [
    "lr.fit(X_train, y_train)"
   ]
  },
  {
   "cell_type": "code",
   "execution_count": 437,
   "metadata": {
    "collapsed": true
   },
   "outputs": [],
   "source": [
    "y_train_predictions = lr.predict(X_train)"
   ]
  },
  {
   "cell_type": "code",
   "execution_count": 440,
   "metadata": {
    "collapsed": true
   },
   "outputs": [],
   "source": [
    "y_test_predictions = lr.predict(X_test)"
   ]
  },
  {
   "cell_type": "code",
   "execution_count": 442,
   "metadata": {
    "collapsed": false
   },
   "outputs": [
    {
     "data": {
      "text/plain": [
       "0.94777777777777783"
      ]
     },
     "execution_count": 442,
     "metadata": {},
     "output_type": "execute_result"
    }
   ],
   "source": [
    "(y_train_predictions == y_train).sum().astype(float) / y_train.shape[0]"
   ]
  },
  {
   "cell_type": "code",
   "execution_count": 443,
   "metadata": {
    "collapsed": false
   },
   "outputs": [
    {
     "data": {
      "text/plain": [
       "0.93999999999999995"
      ]
     },
     "execution_count": 443,
     "metadata": {},
     "output_type": "execute_result"
    }
   ],
   "source": [
    "(y_test_predictions == y_test).sum().astype(float) / y_test.shape[0]"
   ]
  },
  {
   "cell_type": "code",
   "execution_count": 444,
   "metadata": {
    "collapsed": false
   },
   "outputs": [
    {
     "data": {
      "text/plain": [
       "0.2413793103448276"
      ]
     },
     "execution_count": 444,
     "metadata": {},
     "output_type": "execute_result"
    }
   ],
   "source": [
    "(y_test[y_test == 1] == y_test_predictions[y_test ==1]).sum().astype(float) / y_test[y_test ==1].shape[0]"
   ]
  },
  {
   "cell_type": "code",
   "execution_count": 446,
   "metadata": {
    "collapsed": false
   },
   "outputs": [],
   "source": [
    "lr = LogisticRegression(class_weight = {0: .15, 1: .85})"
   ]
  },
  {
   "cell_type": "code",
   "execution_count": 447,
   "metadata": {
    "collapsed": false
   },
   "outputs": [
    {
     "data": {
      "text/plain": [
       "LogisticRegression(C=1.0, class_weight={0: 0.15, 1: 0.85}, dual=False,\n",
       "          fit_intercept=True, intercept_scaling=1, max_iter=100,\n",
       "          multi_class='ovr', n_jobs=1, penalty='l2', random_state=None,\n",
       "          solver='liblinear', tol=0.0001, verbose=0, warm_start=False)"
      ]
     },
     "execution_count": 447,
     "metadata": {},
     "output_type": "execute_result"
    }
   ],
   "source": [
    "lr.fit(X_train, y_train)"
   ]
  },
  {
   "cell_type": "code",
   "execution_count": 449,
   "metadata": {
    "collapsed": true
   },
   "outputs": [],
   "source": [
    "y_train_predictions = lr.predict(X_train)"
   ]
  },
  {
   "cell_type": "code",
   "execution_count": 450,
   "metadata": {
    "collapsed": true
   },
   "outputs": [],
   "source": [
    "y_test_predictions = lr.predict(X_test)"
   ]
  },
  {
   "cell_type": "code",
   "execution_count": 451,
   "metadata": {
    "collapsed": false
   },
   "outputs": [
    {
     "data": {
      "text/plain": [
       "0.86206896551724133"
      ]
     },
     "execution_count": 451,
     "metadata": {},
     "output_type": "execute_result"
    }
   ],
   "source": [
    "(y_test[y_test ==1] == y_test_predictions[y_test==1]).sum().astype(float) / y_test[y_test == 1].shape[0]"
   ]
  },
  {
   "cell_type": "code",
   "execution_count": 452,
   "metadata": {
    "collapsed": false
   },
   "outputs": [
    {
     "data": {
      "text/plain": [
       "0.92800000000000005"
      ]
     },
     "execution_count": 452,
     "metadata": {},
     "output_type": "execute_result"
    }
   ],
   "source": [
    "(y_test_predictions == y_test).sum().astype(float) / y_test.shape[0]"
   ]
  },
  {
   "cell_type": "code",
   "execution_count": 453,
   "metadata": {
    "collapsed": true
   },
   "outputs": [],
   "source": [
    "from sklearn.datasets import make_regression"
   ]
  },
  {
   "cell_type": "code",
   "execution_count": 454,
   "metadata": {
    "collapsed": true
   },
   "outputs": [],
   "source": [
    "X, y = make_regression(1000, 10, n_informative = 2, noise = 20)"
   ]
  },
  {
   "cell_type": "code",
   "execution_count": 455,
   "metadata": {
    "collapsed": true
   },
   "outputs": [],
   "source": [
    "from sklearn.linear_model import BayesianRidge"
   ]
  },
  {
   "cell_type": "code",
   "execution_count": 456,
   "metadata": {
    "collapsed": true
   },
   "outputs": [],
   "source": [
    "br = BayesianRidge()"
   ]
  },
  {
   "cell_type": "code",
   "execution_count": 457,
   "metadata": {
    "collapsed": false
   },
   "outputs": [
    {
     "data": {
      "text/plain": [
       "BayesianRidge(alpha_1=1e-06, alpha_2=1e-06, compute_score=False, copy_X=True,\n",
       "       fit_intercept=True, lambda_1=1e-06, lambda_2=1e-06, n_iter=300,\n",
       "       normalize=False, tol=0.001, verbose=False)"
      ]
     },
     "execution_count": 457,
     "metadata": {},
     "output_type": "execute_result"
    }
   ],
   "source": [
    "br.fit(X, y)"
   ]
  },
  {
   "cell_type": "code",
   "execution_count": 458,
   "metadata": {
    "collapsed": false
   },
   "outputs": [
    {
     "data": {
      "text/plain": [
       "array([ 88.89620403,   0.85889073,  71.68906845,  -0.29898134,\n",
       "        -0.6137581 ,  -0.21767751,  -0.64156566,   0.12578675,\n",
       "         0.59819303,   0.50958454])"
      ]
     },
     "execution_count": 458,
     "metadata": {},
     "output_type": "execute_result"
    }
   ],
   "source": [
    "br.coef_"
   ]
  },
  {
   "cell_type": "code",
   "execution_count": 462,
   "metadata": {
    "collapsed": false
   },
   "outputs": [],
   "source": [
    "br_alphas = BayesianRidge(alpha_1 = 10, lambda_1 = 10)"
   ]
  },
  {
   "cell_type": "code",
   "execution_count": 463,
   "metadata": {
    "collapsed": false
   },
   "outputs": [
    {
     "data": {
      "text/plain": [
       "BayesianRidge(alpha_1=10, alpha_2=1e-06, compute_score=False, copy_X=True,\n",
       "       fit_intercept=True, lambda_1=10, lambda_2=1e-06, n_iter=300,\n",
       "       normalize=False, tol=0.001, verbose=False)"
      ]
     },
     "execution_count": 463,
     "metadata": {},
     "output_type": "execute_result"
    }
   ],
   "source": [
    "br_alphas.fit(X, y)"
   ]
  },
  {
   "cell_type": "code",
   "execution_count": 464,
   "metadata": {
    "collapsed": false
   },
   "outputs": [
    {
     "data": {
      "text/plain": [
       "array([ 88.8407744 ,   0.85648628,  71.64629083,  -0.30092811,\n",
       "        -0.61165691,  -0.21587796,  -0.63680053,   0.1253458 ,\n",
       "         0.59927726,   0.50937594])"
      ]
     },
     "execution_count": 464,
     "metadata": {},
     "output_type": "execute_result"
    }
   ],
   "source": [
    "br_alphas.coef_"
   ]
  },
  {
   "cell_type": "code",
   "execution_count": 465,
   "metadata": {
    "collapsed": true
   },
   "outputs": [],
   "source": [
    "from sklearn.datasets import make_regression"
   ]
  },
  {
   "cell_type": "code",
   "execution_count": 467,
   "metadata": {
    "collapsed": false
   },
   "outputs": [],
   "source": [
    "X, y = make_regression(1000, 2, noise = 10)"
   ]
  },
  {
   "cell_type": "code",
   "execution_count": 470,
   "metadata": {
    "collapsed": false
   },
   "outputs": [],
   "source": [
    "from sklearn.ensemble import GradientBoostingRegressor as GBR"
   ]
  },
  {
   "cell_type": "code",
   "execution_count": 471,
   "metadata": {
    "collapsed": true
   },
   "outputs": [],
   "source": [
    "gbr = GBR()"
   ]
  },
  {
   "cell_type": "code",
   "execution_count": 473,
   "metadata": {
    "collapsed": false
   },
   "outputs": [
    {
     "data": {
      "text/plain": [
       "GradientBoostingRegressor(alpha=0.9, init=None, learning_rate=0.1, loss='ls',\n",
       "             max_depth=3, max_features=None, max_leaf_nodes=None,\n",
       "             min_samples_leaf=1, min_samples_split=2,\n",
       "             min_weight_fraction_leaf=0.0, n_estimators=100,\n",
       "             presort='auto', random_state=None, subsample=1.0, verbose=0,\n",
       "             warm_start=False)"
      ]
     },
     "execution_count": 473,
     "metadata": {},
     "output_type": "execute_result"
    }
   ],
   "source": [
    "gbr.fit(X, y)"
   ]
  },
  {
   "cell_type": "code",
   "execution_count": 480,
   "metadata": {
    "collapsed": true
   },
   "outputs": [],
   "source": [
    "gbr_preds = gbr.predict(X)"
   ]
  },
  {
   "cell_type": "code",
   "execution_count": 481,
   "metadata": {
    "collapsed": true
   },
   "outputs": [],
   "source": [
    "from sklearn.linear_model import LinearRegression"
   ]
  },
  {
   "cell_type": "code",
   "execution_count": 482,
   "metadata": {
    "collapsed": true
   },
   "outputs": [],
   "source": [
    "lr = LinearRegression()"
   ]
  },
  {
   "cell_type": "code",
   "execution_count": 483,
   "metadata": {
    "collapsed": false
   },
   "outputs": [
    {
     "data": {
      "text/plain": [
       "LinearRegression(copy_X=True, fit_intercept=True, n_jobs=1, normalize=False)"
      ]
     },
     "execution_count": 483,
     "metadata": {},
     "output_type": "execute_result"
    }
   ],
   "source": [
    "lr.fit(X, y)"
   ]
  },
  {
   "cell_type": "code",
   "execution_count": 484,
   "metadata": {
    "collapsed": true
   },
   "outputs": [],
   "source": [
    "lr_preds = lr.predict(X)"
   ]
  },
  {
   "cell_type": "code",
   "execution_count": 485,
   "metadata": {
    "collapsed": false
   },
   "outputs": [],
   "source": [
    "gbr_residuals = y - gbr_preds"
   ]
  },
  {
   "cell_type": "code",
   "execution_count": 486,
   "metadata": {
    "collapsed": true
   },
   "outputs": [],
   "source": [
    "lr_residuals = y - lr_preds"
   ]
  },
  {
   "cell_type": "code",
   "execution_count": 487,
   "metadata": {
    "collapsed": false
   },
   "outputs": [
    {
     "data": {
      "text/plain": [
       "array([-18.47111491,  16.70854588])"
      ]
     },
     "execution_count": 487,
     "metadata": {},
     "output_type": "execute_result"
    }
   ],
   "source": [
    "np.percentile(gbr_residuals, [2.5, 97.5])"
   ]
  },
  {
   "cell_type": "code",
   "execution_count": 488,
   "metadata": {
    "collapsed": false
   },
   "outputs": [
    {
     "data": {
      "text/plain": [
       "array([-19.6662575 ,  18.15593016])"
      ]
     },
     "execution_count": 488,
     "metadata": {},
     "output_type": "execute_result"
    }
   ],
   "source": [
    "np.percentile(lr_residuals, [2.5, 97.5])"
   ]
  },
  {
   "cell_type": "code",
   "execution_count": 489,
   "metadata": {
    "collapsed": true
   },
   "outputs": [],
   "source": [
    "n_estimators = np.arange(100, 1100, 350)"
   ]
  },
  {
   "cell_type": "code",
   "execution_count": 490,
   "metadata": {
    "collapsed": true
   },
   "outputs": [],
   "source": [
    "gbrs = [GBR(n_estimators = n_estimator) for n_estimator in n_estimators]"
   ]
  },
  {
   "cell_type": "code",
   "execution_count": 491,
   "metadata": {
    "collapsed": true
   },
   "outputs": [],
   "source": [
    "residuals = {}"
   ]
  },
  {
   "cell_type": "code",
   "execution_count": 493,
   "metadata": {
    "collapsed": false
   },
   "outputs": [],
   "source": [
    "for i, gbr in enumerate(gbrs):\n",
    "    gbr.fit(X, y)\n",
    "    residuals[gbr.n_estimators] = y - gbr.predict(X)"
   ]
  },
  {
   "cell_type": "code",
   "execution_count": 494,
   "metadata": {
    "collapsed": true
   },
   "outputs": [],
   "source": [
    "from sklearn.datasets import make_blobs"
   ]
  },
  {
   "cell_type": "code",
   "execution_count": 495,
   "metadata": {
    "collapsed": true
   },
   "outputs": [],
   "source": [
    "blobs, classes = make_blobs(500, centers = 3)"
   ]
  },
  {
   "cell_type": "code",
   "execution_count": 496,
   "metadata": {
    "collapsed": true
   },
   "outputs": [],
   "source": [
    "import matplotlib.pyplot as plt"
   ]
  },
  {
   "cell_type": "code",
   "execution_count": 499,
   "metadata": {
    "collapsed": false
   },
   "outputs": [
    {
     "data": {
      "text/plain": [
       "<matplotlib.text.Text at 0x11a5c6128>"
      ]
     },
     "execution_count": 499,
     "metadata": {},
     "output_type": "execute_result"
    },
    {
     "data": {
      "image/png": "[encoded data removed]",
      "text/plain": [
       "<matplotlib.figure.Figure at 0x118898cf8>"
      ]
     },
     "metadata": {},
     "output_type": "display_data"
    }
   ],
   "source": [
    "f, ax = plt.subplots(figsize = (7.5, 7.5))\n",
    "rgb = np.array(['r', 'g', 'b'])\n",
    "ax.scatter(blobs[:, 0], blobs[:, 1], color = rgb[classes])\n",
    "ax.set_title(\"Blobs\")"
   ]
  },
  {
   "cell_type": "code",
   "execution_count": 500,
   "metadata": {
    "collapsed": true
   },
   "outputs": [],
   "source": [
    "from sklearn.cluster import KMeans"
   ]
  },
  {
   "cell_type": "code",
   "execution_count": 501,
   "metadata": {
    "collapsed": true
   },
   "outputs": [],
   "source": [
    "kmean = KMeans(n_clusters = 3)"
   ]
  },
  {
   "cell_type": "code",
   "execution_count": 502,
   "metadata": {
    "collapsed": false
   },
   "outputs": [
    {
     "data": {
      "text/plain": [
       "KMeans(copy_x=True, init='k-means++', max_iter=300, n_clusters=3, n_init=10,\n",
       "    n_jobs=1, precompute_distances='auto', random_state=None, tol=0.0001,\n",
       "    verbose=0)"
      ]
     },
     "execution_count": 502,
     "metadata": {},
     "output_type": "execute_result"
    }
   ],
   "source": [
    "kmean.fit(blobs)"
   ]
  },
  {
   "cell_type": "code",
   "execution_count": 503,
   "metadata": {
    "collapsed": false
   },
   "outputs": [
    {
     "data": {
      "text/plain": [
       "array([[ 8.28361011, -8.60998568],\n",
       "       [-0.442875  ,  9.86346518],\n",
       "       [ 2.99099802, -0.11455915]])"
      ]
     },
     "execution_count": 503,
     "metadata": {},
     "output_type": "execute_result"
    }
   ],
   "source": [
    "kmean.cluster_centers_"
   ]
  },
  {
   "cell_type": "code",
   "execution_count": 506,
   "metadata": {
    "collapsed": false
   },
   "outputs": [
    {
     "data": {
      "text/plain": [
       "<matplotlib.legend.Legend at 0x118bf7828>"
      ]
     },
     "execution_count": 506,
     "metadata": {},
     "output_type": "execute_result"
    },
    {
     "data": {
      "image/png": "[encoded data removed]",
      "text/plain": [
       "<matplotlib.figure.Figure at 0x118b8dcc0>"
      ]
     },
     "metadata": {},
     "output_type": "display_data"
    }
   ],
   "source": [
    "f, ax = plt.subplots(figsize = (7.5, 7.5))\n",
    "ax.scatter(blobs[:, 0], blobs[:, 1], color = rgb[classes])\n",
    "ax.scatter(kmean.cluster_centers_[:, 0], kmean.cluster_centers_[:, 1],\n",
    "          marker = \"*\", s = 250, color = 'black', label = 'Centers')\n",
    "ax.set_title(\"Blobs\")\n",
    "ax.legend(loc='best')"
   ]
  },
  {
   "cell_type": "code",
   "execution_count": 507,
   "metadata": {
    "collapsed": false
   },
   "outputs": [
    {
     "data": {
      "text/plain": [
       "array([1, 0, 0, 0, 1], dtype=int32)"
      ]
     },
     "execution_count": 507,
     "metadata": {},
     "output_type": "execute_result"
    }
   ],
   "source": [
    "kmean.labels_[:5]"
   ]
  },
  {
   "cell_type": "code",
   "execution_count": 508,
   "metadata": {
    "collapsed": false
   },
   "outputs": [
    {
     "data": {
      "text/plain": [
       "array([1, 0, 0, 0, 1])"
      ]
     },
     "execution_count": 508,
     "metadata": {},
     "output_type": "execute_result"
    }
   ],
   "source": [
    "classes[:5]"
   ]
  },
  {
   "cell_type": "code",
   "execution_count": 509,
   "metadata": {
    "collapsed": false
   },
   "outputs": [
    {
     "data": {
      "text/plain": [
       "array([[ 20.50829824,   0.14411203,  10.61642125],\n",
       "       [  0.7096771 ,  20.43131962,   9.94031519],\n",
       "       [  0.21865237,  20.62787832,  10.19434094],\n",
       "       [  1.15251945,  19.42302599,   9.08743737],\n",
       "       [ 19.73844844,   0.72324528,   9.88955535]])"
      ]
     },
     "execution_count": 509,
     "metadata": {},
     "output_type": "execute_result"
    }
   ],
   "source": [
    "kmean.transform(blobs)[:5]"
   ]
  },
  {
   "cell_type": "code",
   "execution_count": 510,
   "metadata": {
    "collapsed": true
   },
   "outputs": [],
   "source": [
    "from sklearn.datasets import make_blobs"
   ]
  },
  {
   "cell_type": "code",
   "execution_count": 511,
   "metadata": {
    "collapsed": true
   },
   "outputs": [],
   "source": [
    "import numpy as np"
   ]
  },
  {
   "cell_type": "code",
   "execution_count": 512,
   "metadata": {
    "collapsed": true
   },
   "outputs": [],
   "source": [
    "blobs, classes = make_blobs(500, centers = 3)"
   ]
  },
  {
   "cell_type": "code",
   "execution_count": 513,
   "metadata": {
    "collapsed": true
   },
   "outputs": [],
   "source": [
    "from sklearn.cluster import KMeans"
   ]
  },
  {
   "cell_type": "code",
   "execution_count": 514,
   "metadata": {
    "collapsed": true
   },
   "outputs": [],
   "source": [
    "kmean = KMeans(n_clusters = 3)"
   ]
  },
  {
   "cell_type": "code",
   "execution_count": 515,
   "metadata": {
    "collapsed": false
   },
   "outputs": [
    {
     "data": {
      "text/plain": [
       "KMeans(copy_x=True, init='k-means++', max_iter=300, n_clusters=3, n_init=10,\n",
       "    n_jobs=1, precompute_distances='auto', random_state=None, tol=0.0001,\n",
       "    verbose=0)"
      ]
     },
     "execution_count": 515,
     "metadata": {},
     "output_type": "execute_result"
    }
   ],
   "source": [
    "kmean.fit(blobs)"
   ]
  },
  {
   "cell_type": "code",
   "execution_count": 516,
   "metadata": {
    "collapsed": true
   },
   "outputs": [],
   "source": [
    "from sklearn import metrics"
   ]
  },
  {
   "cell_type": "code",
   "execution_count": 517,
   "metadata": {
    "collapsed": true
   },
   "outputs": [],
   "source": [
    "silhouette_samples = metrics.silhouette_samples(blobs, kmean.labels_)"
   ]
  },
  {
   "cell_type": "code",
   "execution_count": 518,
   "metadata": {
    "collapsed": false
   },
   "outputs": [
    {
     "data": {
      "text/plain": [
       "array([[ 1.        ,  0.47713198],\n",
       "       [ 0.        ,  0.72067998],\n",
       "       [ 2.        ,  0.49613793],\n",
       "       [ 2.        ,  0.02162342],\n",
       "       [ 1.        ,  0.13085389]])"
      ]
     },
     "execution_count": 518,
     "metadata": {},
     "output_type": "execute_result"
    }
   ],
   "source": [
    "np.column_stack((classes[:5], silhouette_samples[:5]))"
   ]
  },
  {
   "cell_type": "code",
   "execution_count": 520,
   "metadata": {
    "collapsed": false
   },
   "outputs": [
    {
     "data": {
      "text/plain": [
       "(array([ 16.,  27.,  27.,  38.,  40.,  66.,  81.,  85.,  41.,  79.]),\n",
       " array([ 0.00529314,  0.07886163,  0.15243012,  0.22599861,  0.2995671 ,\n",
       "         0.37313559,  0.44670408,  0.52027257,  0.59384106,  0.66740955,\n",
       "         0.74097804]),\n",
       " <a list of 10 Patch objects>)"
      ]
     },
     "execution_count": 520,
     "metadata": {},
     "output_type": "execute_result"
    },
    {
     "data": {
      "image/png": "[encoded data removed]",
      "text/plain": [
       "<matplotlib.figure.Figure at 0x118c73fd0>"
      ]
     },
     "metadata": {},
     "output_type": "display_data"
    }
   ],
   "source": [
    "f, ax = plt.subplots(figsize = (10, 5))\n",
    "ax.set_title(\"Hist of Silhouette samples\")\n",
    "ax.hist(silhouette_samples)"
   ]
  },
  {
   "cell_type": "code",
   "execution_count": 521,
   "metadata": {
    "collapsed": false
   },
   "outputs": [
    {
     "data": {
      "text/plain": [
       "0.45427407862468044"
      ]
     },
     "execution_count": 521,
     "metadata": {},
     "output_type": "execute_result"
    }
   ],
   "source": [
    "silhouette_samples.mean()"
   ]
  },
  {
   "cell_type": "code",
   "execution_count": 522,
   "metadata": {
    "collapsed": false
   },
   "outputs": [
    {
     "data": {
      "text/plain": [
       "0.45427407862468044"
      ]
     },
     "execution_count": 522,
     "metadata": {},
     "output_type": "execute_result"
    }
   ],
   "source": [
    "metrics.silhouette_score(blobs, kmean.labels_)"
   ]
  },
  {
   "cell_type": "code",
   "execution_count": 523,
   "metadata": {
    "collapsed": true
   },
   "outputs": [],
   "source": [
    "# first new ground trugh"
   ]
  },
  {
   "cell_type": "code",
   "execution_count": 524,
   "metadata": {
    "collapsed": true
   },
   "outputs": [],
   "source": [
    "blobs, classes = make_blobs(500, centers = 10)\n",
    "sillhouette_avgs = []"
   ]
  },
  {
   "cell_type": "code",
   "execution_count": 527,
   "metadata": {
    "collapsed": false
   },
   "outputs": [],
   "source": [
    "# this cound take a while\n",
    "for k in range(2, 60):\n",
    "    kmean = KMeans(n_clusters = k).fit(blobs)\n",
    "    sillhouette_avgs.append(metrics.silhouette_score(blobs, kmean.labels_))"
   ]
  },
  {
   "cell_type": "code",
   "execution_count": 529,
   "metadata": {
    "collapsed": false
   },
   "outputs": [
    {
     "data": {
      "text/plain": [
       "[<matplotlib.lines.Line2D at 0x119ebde48>]"
      ]
     },
     "execution_count": 529,
     "metadata": {},
     "output_type": "execute_result"
    },
    {
     "data": {
      "image/png": "[encoded data removed]",
      "text/plain": [
       "<matplotlib.figure.Figure at 0x11917fc88>"
      ]
     },
     "metadata": {},
     "output_type": "display_data"
    }
   ],
   "source": [
    "f, ax = plt.subplots(figsize = (7, 5))\n",
    "ax.plot(sillhouette_avgs)"
   ]
  },
  {
   "cell_type": "code",
   "execution_count": 530,
   "metadata": {
    "collapsed": true
   },
   "outputs": [],
   "source": [
    "from sklearn import datasets"
   ]
  },
  {
   "cell_type": "code",
   "execution_count": 531,
   "metadata": {
    "collapsed": true
   },
   "outputs": [],
   "source": [
    "from sklearn import cluster"
   ]
  },
  {
   "cell_type": "code",
   "execution_count": 535,
   "metadata": {
    "collapsed": true
   },
   "outputs": [],
   "source": [
    "blobs, ground_truth = datasets.make_blobs(1000, centers = 3, cluster_std = 1.75)"
   ]
  },
  {
   "cell_type": "code",
   "execution_count": 536,
   "metadata": {
    "collapsed": false
   },
   "outputs": [
    {
     "data": {
      "image/png": "[encoded data removed]",
      "text/plain": [
       "<matplotlib.figure.Figure at 0x119849e48>"
      ]
     },
     "metadata": {},
     "output_type": "display_data"
    }
   ],
   "source": [
    "f, ax = plt.subplots(figsize = (7, 5))\n",
    "colors = ['r', 'g', 'b']\n",
    "\n",
    "for i in range(3):\n",
    "    p = blobs[ground_truth == i]\n",
    "    ax.scatter(p[:, 0], p[:, 1], c= colors[i], label = \"Cluster {}\".format(i))"
   ]
  },
  {
   "cell_type": "code",
   "execution_count": 537,
   "metadata": {
    "collapsed": true
   },
   "outputs": [],
   "source": [
    "kmeans  = cluster.KMeans(n_clusters = 3)"
   ]
  },
  {
   "cell_type": "code",
   "execution_count": 538,
   "metadata": {
    "collapsed": false
   },
   "outputs": [
    {
     "data": {
      "text/plain": [
       "KMeans(copy_x=True, init='k-means++', max_iter=300, n_clusters=3, n_init=10,\n",
       "    n_jobs=1, precompute_distances='auto', random_state=None, tol=0.0001,\n",
       "    verbose=0)"
      ]
     },
     "execution_count": 538,
     "metadata": {},
     "output_type": "execute_result"
    }
   ],
   "source": [
    "kmeans.fit(blobs)"
   ]
  },
  {
   "cell_type": "code",
   "execution_count": 539,
   "metadata": {
    "collapsed": false
   },
   "outputs": [
    {
     "data": {
      "text/plain": [
       "array([[ -5.3621513 ,  10.14465666],\n",
       "       [  9.17282332,  -0.4414862 ],\n",
       "       [  0.63030622,   8.91521392]])"
      ]
     },
     "execution_count": 539,
     "metadata": {},
     "output_type": "execute_result"
    }
   ],
   "source": [
    "kmeans.cluster_centers_"
   ]
  },
  {
   "cell_type": "code",
   "execution_count": 544,
   "metadata": {
    "collapsed": false
   },
   "outputs": [
    {
     "data": {
      "text/plain": [
       "<matplotlib.legend.Legend at 0x117d2a048>"
      ]
     },
     "execution_count": 544,
     "metadata": {},
     "output_type": "execute_result"
    },
    {
     "data": {
      "image/png": "[encoded data removed]",
      "text/plain": [
       "<matplotlib.figure.Figure at 0x118ba8710>"
      ]
     },
     "metadata": {},
     "output_type": "display_data"
    }
   ],
   "source": [
    "f, ax = plt.subplots(figsize = (7, 5))\n",
    "colors = ['r', 'g', 'b']\n",
    "for i in range(3):\n",
    "    p = blobs[ground_truth == i]\n",
    "    ax.scatter(p[:, 0], p[:, 1], c =  colors[i], label = \"Cluster {}\".format(i))\n",
    "ax.scatter(kmeans.cluster_centers_[:, 0],\n",
    "          kmeans.cluster_centers_[:, 1], s = 100, color = 'black', label = 'Centers')\n",
    "ax.set_title(\"cluster with Ground Truth\")\n",
    "ax.legend()"
   ]
  },
  {
   "cell_type": "code",
   "execution_count": 548,
   "metadata": {
    "collapsed": false
   },
   "outputs": [
    {
     "name": "stdout",
     "output_type": "stream",
     "text": [
      "0.0449101796407\n",
      "0.0\n",
      "0.0\n"
     ]
    }
   ],
   "source": [
    "for i in range(3):\n",
    "    print((kmeans.labels_ == ground_truth)[ground_truth == i].astype(int).mean())"
   ]
  },
  {
   "cell_type": "code",
   "execution_count": 550,
   "metadata": {
    "collapsed": true
   },
   "outputs": [],
   "source": [
    "new_ground_truth = ground_truth.copy()"
   ]
  },
  {
   "cell_type": "code",
   "execution_count": 553,
   "metadata": {
    "collapsed": false
   },
   "outputs": [],
   "source": [
    "new_ground_truth[ground_truth == 0] = 2"
   ]
  },
  {
   "cell_type": "code",
   "execution_count": 554,
   "metadata": {
    "collapsed": true
   },
   "outputs": [],
   "source": [
    "new_ground_truth[ground_truth == 2] = 0"
   ]
  },
  {
   "cell_type": "code",
   "execution_count": 555,
   "metadata": {
    "collapsed": false
   },
   "outputs": [
    {
     "name": "stdout",
     "output_type": "stream",
     "text": [
      "0.955089820359\n",
      "0.0\n",
      "0.0\n"
     ]
    }
   ],
   "source": [
    "for i in range(3):\n",
    "    print((kmeans.labels_ == new_ground_truth)[ground_truth == i].astype(int).mean())"
   ]
  },
  {
   "cell_type": "code",
   "execution_count": 556,
   "metadata": {
    "collapsed": true
   },
   "outputs": [],
   "source": [
    "from sklearn import metrics"
   ]
  },
  {
   "cell_type": "code",
   "execution_count": 560,
   "metadata": {
    "collapsed": false
   },
   "outputs": [
    {
     "data": {
      "text/plain": [
       "0.87289878007072264"
      ]
     },
     "execution_count": 560,
     "metadata": {},
     "output_type": "execute_result"
    }
   ],
   "source": [
    "metrics.normalized_mutual_info_score(ground_truth, kmeans.labels_)"
   ]
  },
  {
   "cell_type": "code",
   "execution_count": 563,
   "metadata": {
    "collapsed": false
   },
   "outputs": [
    {
     "data": {
      "text/plain": [
       "1.0"
      ]
     },
     "execution_count": 563,
     "metadata": {},
     "output_type": "execute_result"
    }
   ],
   "source": [
    "metrics.normalized_mutual_info_score(ground_truth, ground_truth)"
   ]
  },
  {
   "cell_type": "code",
   "execution_count": 565,
   "metadata": {
    "collapsed": false
   },
   "outputs": [
    {
     "data": {
      "text/plain": [
       "0.9589214837237201"
      ]
     },
     "execution_count": 565,
     "metadata": {},
     "output_type": "execute_result"
    }
   ],
   "source": [
    "metrics.mutual_info_score(ground_truth, kmeans.labels_)"
   ]
  },
  {
   "cell_type": "code",
   "execution_count": 566,
   "metadata": {
    "collapsed": true
   },
   "outputs": [],
   "source": [
    "from sklearn.datasets import make_blobs\n"
   ]
  },
  {
   "cell_type": "code",
   "execution_count": 568,
   "metadata": {
    "collapsed": false
   },
   "outputs": [],
   "source": [
    "from sklearn.cluster import KMeans, MiniBatchKMeans"
   ]
  },
  {
   "cell_type": "code",
   "execution_count": 570,
   "metadata": {
    "collapsed": false
   },
   "outputs": [],
   "source": [
    "blobs, labels = make_blobs(int(1e3), 3)"
   ]
  },
  {
   "cell_type": "code",
   "execution_count": 571,
   "metadata": {
    "collapsed": true
   },
   "outputs": [],
   "source": [
    "kmeans = KMeans(n_clusters = 3)"
   ]
  },
  {
   "cell_type": "code",
   "execution_count": 572,
   "metadata": {
    "collapsed": true
   },
   "outputs": [],
   "source": [
    "minibatch = MiniBatchKMeans(n_clusters =3)"
   ]
  },
  {
   "cell_type": "code",
   "execution_count": 574,
   "metadata": {
    "collapsed": false
   },
   "outputs": [
    {
     "name": "stdout",
     "output_type": "stream",
     "text": [
      "CPU times: user 12.4 ms, sys: 1.41 ms, total: 13.8 ms\n",
      "Wall time: 12.5 ms\n"
     ]
    },
    {
     "data": {
      "text/plain": [
       "KMeans(copy_x=True, init='k-means++', max_iter=300, n_clusters=3, n_init=10,\n",
       "    n_jobs=1, precompute_distances='auto', random_state=None, tol=0.0001,\n",
       "    verbose=0)"
      ]
     },
     "execution_count": 574,
     "metadata": {},
     "output_type": "execute_result"
    }
   ],
   "source": [
    "%time kmeans.fit(blobs) # IPython Magic"
   ]
  },
  {
   "cell_type": "code",
   "execution_count": 575,
   "metadata": {
    "collapsed": false
   },
   "outputs": [
    {
     "name": "stdout",
     "output_type": "stream",
     "text": [
      "CPU times: user 9.48 ms, sys: 1.25 ms, total: 10.7 ms\n",
      "Wall time: 9.66 ms\n"
     ]
    },
    {
     "data": {
      "text/plain": [
       "MiniBatchKMeans(batch_size=100, compute_labels=True, init='k-means++',\n",
       "        init_size=None, max_iter=100, max_no_improvement=10, n_clusters=3,\n",
       "        n_init=3, random_state=None, reassignment_ratio=0.01, tol=0.0,\n",
       "        verbose=0)"
      ]
     },
     "execution_count": 575,
     "metadata": {},
     "output_type": "execute_result"
    }
   ],
   "source": [
    "%time minibatch.fit(blobs)"
   ]
  },
  {
   "cell_type": "code",
   "execution_count": 576,
   "metadata": {
    "collapsed": false
   },
   "outputs": [
    {
     "data": {
      "text/plain": [
       "array([ 8.43218874,  0.50425775,  0.17299335])"
      ]
     },
     "execution_count": 576,
     "metadata": {},
     "output_type": "execute_result"
    }
   ],
   "source": [
    "kmeans.cluster_centers_[0]"
   ]
  },
  {
   "cell_type": "code",
   "execution_count": 577,
   "metadata": {
    "collapsed": false
   },
   "outputs": [
    {
     "data": {
      "text/plain": [
       "array([ 8.43740926,  0.59356428,  0.12676635])"
      ]
     },
     "execution_count": 577,
     "metadata": {},
     "output_type": "execute_result"
    }
   ],
   "source": [
    "minibatch.cluster_centers_[0]"
   ]
  },
  {
   "cell_type": "code",
   "execution_count": 578,
   "metadata": {
    "collapsed": true
   },
   "outputs": [],
   "source": [
    "from sklearn.metrics import pairwise"
   ]
  },
  {
   "cell_type": "code",
   "execution_count": 579,
   "metadata": {
    "collapsed": false
   },
   "outputs": [
    {
     "name": "stderr",
     "output_type": "stream",
     "text": [
      "//anaconda/lib/python3.5/site-packages/sklearn/utils/validation.py:386: DeprecationWarning: Passing 1d arrays as data is deprecated in 0.17 and willraise ValueError in 0.19. Reshape your data either using X.reshape(-1, 1) if your data has a single feature or X.reshape(1, -1) if it contains a single sample.\n",
      "  DeprecationWarning)\n",
      "//anaconda/lib/python3.5/site-packages/sklearn/utils/validation.py:386: DeprecationWarning: Passing 1d arrays as data is deprecated in 0.17 and willraise ValueError in 0.19. Reshape your data either using X.reshape(-1, 1) if your data has a single feature or X.reshape(1, -1) if it contains a single sample.\n",
      "  DeprecationWarning)\n"
     ]
    },
    {
     "data": {
      "text/plain": [
       "array([[ 0.1006968]])"
      ]
     },
     "execution_count": 579,
     "metadata": {},
     "output_type": "execute_result"
    }
   ],
   "source": [
    "pairwise.pairwise_distances(kmeans.cluster_centers_[0],\n",
    "                           minibatch.cluster_centers_[0])"
   ]
  },
  {
   "cell_type": "code",
   "execution_count": 580,
   "metadata": {
    "collapsed": false
   },
   "outputs": [
    {
     "data": {
      "text/plain": [
       "array([ 0.1006968 ,  9.5000762 ,  9.52955908])"
      ]
     },
     "execution_count": 580,
     "metadata": {},
     "output_type": "execute_result"
    }
   ],
   "source": [
    "np.diag(pairwise.pairwise_distances(kmeans.cluster_centers_, minibatch.cluster_centers_))"
   ]
  },
  {
   "cell_type": "code",
   "execution_count": 581,
   "metadata": {
    "collapsed": true
   },
   "outputs": [],
   "source": [
    "minibatch = MiniBatchKMeans(batch_size = len(blobs))"
   ]
  },
  {
   "cell_type": "code",
   "execution_count": 582,
   "metadata": {
    "collapsed": false
   },
   "outputs": [
    {
     "name": "stdout",
     "output_type": "stream",
     "text": [
      "CPU times: user 55.9 ms, sys: 9.02 ms, total: 64.9 ms\n",
      "Wall time: 27.6 ms\n"
     ]
    },
    {
     "data": {
      "text/plain": [
       "MiniBatchKMeans(batch_size=1000, compute_labels=True, init='k-means++',\n",
       "        init_size=None, max_iter=100, max_no_improvement=10, n_clusters=8,\n",
       "        n_init=3, random_state=None, reassignment_ratio=0.01, tol=0.0,\n",
       "        verbose=0)"
      ]
     },
     "execution_count": 582,
     "metadata": {},
     "output_type": "execute_result"
    }
   ],
   "source": [
    "%time minibatch.fit(blobs)"
   ]
  },
  {
   "cell_type": "code",
   "execution_count": 585,
   "metadata": {
    "collapsed": true
   },
   "outputs": [],
   "source": [
    "from scipy import ndimage"
   ]
  },
  {
   "cell_type": "code",
   "execution_count": 586,
   "metadata": {
    "collapsed": true
   },
   "outputs": [],
   "source": [
    "img = ndimage.imread(\"headshot.jpg\")"
   ]
  },
  {
   "cell_type": "code",
   "execution_count": 587,
   "metadata": {
    "collapsed": false
   },
   "outputs": [
    {
     "data": {
      "text/plain": [
       "<matplotlib.image.AxesImage at 0x11ab5f518>"
      ]
     },
     "execution_count": 587,
     "metadata": {},
     "output_type": "execute_result"
    },
    {
     "data": {
      "image/png": "[encoded data removed]",
      "text/plain": [
       "<matplotlib.figure.Figure at 0x11ab05f28>"
      ]
     },
     "metadata": {},
     "output_type": "display_data"
    }
   ],
   "source": [
    "plt.imshow(img)"
   ]
  },
  {
   "cell_type": "code",
   "execution_count": 588,
   "metadata": {
    "collapsed": false
   },
   "outputs": [
    {
     "data": {
      "text/plain": [
       "(190, 143, 3)"
      ]
     },
     "execution_count": 588,
     "metadata": {},
     "output_type": "execute_result"
    }
   ],
   "source": [
    "img.shape"
   ]
  },
  {
   "cell_type": "code",
   "execution_count": 589,
   "metadata": {
    "collapsed": true
   },
   "outputs": [],
   "source": [
    "x, y, z = img.shape"
   ]
  },
  {
   "cell_type": "code",
   "execution_count": 590,
   "metadata": {
    "collapsed": true
   },
   "outputs": [],
   "source": [
    "long_img = img.reshape(x*y, z)"
   ]
  },
  {
   "cell_type": "code",
   "execution_count": 591,
   "metadata": {
    "collapsed": false
   },
   "outputs": [
    {
     "data": {
      "text/plain": [
       "(27170, 3)"
      ]
     },
     "execution_count": 591,
     "metadata": {},
     "output_type": "execute_result"
    }
   ],
   "source": [
    "long_img.shape"
   ]
  },
  {
   "cell_type": "code",
   "execution_count": 592,
   "metadata": {
    "collapsed": true
   },
   "outputs": [],
   "source": [
    "from sklearn import cluster"
   ]
  },
  {
   "cell_type": "code",
   "execution_count": 594,
   "metadata": {
    "collapsed": false
   },
   "outputs": [],
   "source": [
    "k_means = cluster.KMeans(n_clusters = 5)"
   ]
  },
  {
   "cell_type": "code",
   "execution_count": 595,
   "metadata": {
    "collapsed": false
   },
   "outputs": [
    {
     "data": {
      "text/plain": [
       "KMeans(copy_x=True, init='k-means++', max_iter=300, n_clusters=5, n_init=10,\n",
       "    n_jobs=1, precompute_distances='auto', random_state=None, tol=0.0001,\n",
       "    verbose=0)"
      ]
     },
     "execution_count": 595,
     "metadata": {},
     "output_type": "execute_result"
    }
   ],
   "source": [
    "k_means.fit(long_img)"
   ]
  },
  {
   "cell_type": "code",
   "execution_count": 596,
   "metadata": {
    "collapsed": true
   },
   "outputs": [],
   "source": [
    "centers = k_means.cluster_centers_"
   ]
  },
  {
   "cell_type": "code",
   "execution_count": 597,
   "metadata": {
    "collapsed": false
   },
   "outputs": [
    {
     "data": {
      "text/plain": [
       "array([[ 156.30410057,  110.06315474,  122.43759353],\n",
       "       [ 243.96721446,  233.64264585,  223.49515201],\n",
       "       [ 246.13043478,  226.2798913 ,   20.62432065],\n",
       "       [  65.09865022,   39.84969172,  101.02016331],\n",
       "       [ 219.21930244,  189.23315815,  177.32799809]])"
      ]
     },
     "execution_count": 597,
     "metadata": {},
     "output_type": "execute_result"
    }
   ],
   "source": [
    "centers"
   ]
  },
  {
   "cell_type": "code",
   "execution_count": 598,
   "metadata": {
    "collapsed": true
   },
   "outputs": [],
   "source": [
    "labels = k_means.labels_"
   ]
  },
  {
   "cell_type": "code",
   "execution_count": 599,
   "metadata": {
    "collapsed": false
   },
   "outputs": [
    {
     "data": {
      "text/plain": [
       "array([3, 3, 3, 3, 3], dtype=int32)"
      ]
     },
     "execution_count": 599,
     "metadata": {},
     "output_type": "execute_result"
    }
   ],
   "source": [
    "labels[:5]"
   ]
  },
  {
   "cell_type": "code",
   "execution_count": 600,
   "metadata": {
    "collapsed": false
   },
   "outputs": [
    {
     "data": {
      "text/plain": [
       "<matplotlib.image.AxesImage at 0x11b484400>"
      ]
     },
     "execution_count": 600,
     "metadata": {},
     "output_type": "execute_result"
    },
    {
     "data": {
      "image/png": "[encoded data removed]",
      "text/plain": [
       "<matplotlib.figure.Figure at 0x117e4bf60>"
      ]
     },
     "metadata": {},
     "output_type": "display_data"
    }
   ],
   "source": [
    "plt.imshow(centers[labels].reshape(x, y, z))"
   ]
  },
  {
   "cell_type": "code",
   "execution_count": 601,
   "metadata": {
    "collapsed": true
   },
   "outputs": [],
   "source": [
    "from sklearn.metrics import pairwise"
   ]
  },
  {
   "cell_type": "code",
   "execution_count": 602,
   "metadata": {
    "collapsed": true
   },
   "outputs": [],
   "source": [
    "from sklearn.datasets import make_blobs"
   ]
  },
  {
   "cell_type": "code",
   "execution_count": 603,
   "metadata": {
    "collapsed": true
   },
   "outputs": [],
   "source": [
    "points, labels = make_blobs()"
   ]
  },
  {
   "cell_type": "code",
   "execution_count": 604,
   "metadata": {
    "collapsed": true
   },
   "outputs": [],
   "source": [
    "distances = pairwise.pairwise_distances(points)"
   ]
  },
  {
   "cell_type": "code",
   "execution_count": 605,
   "metadata": {
    "collapsed": false
   },
   "outputs": [
    {
     "data": {
      "text/plain": [
       "array([ 0.,  0.,  0.,  0.,  0.])"
      ]
     },
     "execution_count": 605,
     "metadata": {},
     "output_type": "execute_result"
    }
   ],
   "source": [
    "np.diag(distances)[:5]"
   ]
  },
  {
   "cell_type": "code",
   "execution_count": 606,
   "metadata": {
    "collapsed": false
   },
   "outputs": [
    {
     "data": {
      "text/plain": [
       "array([  0.        ,  13.54485936,   2.46210361,  17.48145241,  12.75134003])"
      ]
     },
     "execution_count": 606,
     "metadata": {},
     "output_type": "execute_result"
    }
   ],
   "source": [
    "distances[0][:5]"
   ]
  },
  {
   "cell_type": "code",
   "execution_count": 607,
   "metadata": {
    "collapsed": true
   },
   "outputs": [],
   "source": [
    "ranks = np.argsort(distances[0])"
   ]
  },
  {
   "cell_type": "code",
   "execution_count": 608,
   "metadata": {
    "collapsed": false
   },
   "outputs": [
    {
     "data": {
      "text/plain": [
       "array([ 0, 50, 26, 14, 25])"
      ]
     },
     "execution_count": 608,
     "metadata": {},
     "output_type": "execute_result"
    }
   ],
   "source": [
    "ranks[:5]"
   ]
  },
  {
   "cell_type": "code",
   "execution_count": 609,
   "metadata": {
    "collapsed": false
   },
   "outputs": [
    {
     "data": {
      "text/plain": [
       "array([[ 4.20617816, -5.19451441],\n",
       "       [ 4.36205224, -4.92007515],\n",
       "       [ 4.09778846, -4.86472339],\n",
       "       [ 4.10228651, -5.86151275],\n",
       "       [ 4.88702164, -5.01532299]])"
      ]
     },
     "execution_count": 609,
     "metadata": {},
     "output_type": "execute_result"
    }
   ],
   "source": [
    "points[ranks][:5]"
   ]
  },
  {
   "cell_type": "code",
   "execution_count": 610,
   "metadata": {
    "collapsed": true
   },
   "outputs": [],
   "source": [
    "def euclid_distances(x, y):\n",
    "    return(np.power(np.power(x - y, 2).sum(), .5))"
   ]
  },
  {
   "cell_type": "code",
   "execution_count": 611,
   "metadata": {
    "collapsed": false
   },
   "outputs": [
    {
     "data": {
      "text/plain": [
       "13.544859355378845"
      ]
     },
     "execution_count": 611,
     "metadata": {},
     "output_type": "execute_result"
    }
   ],
   "source": [
    "euclid_distances(points[0], points[1])"
   ]
  },
  {
   "cell_type": "code",
   "execution_count": 612,
   "metadata": {
    "collapsed": false
   },
   "outputs": [
    {
     "data": {
      "text/plain": [
       "array([  0.,  10.])"
      ]
     },
     "execution_count": 612,
     "metadata": {},
     "output_type": "execute_result"
    }
   ],
   "source": [
    "pairwise.pairwise_distances([[0, 0],[5, 5]], metric = 'cityblock')[0]"
   ]
  },
  {
   "cell_type": "code",
   "execution_count": 613,
   "metadata": {
    "collapsed": false
   },
   "outputs": [
    {
     "data": {
      "text/plain": [
       "array([[ True,  True,  True, False],\n",
       "       [ True, False,  True, False]], dtype=bool)"
      ]
     },
     "execution_count": 613,
     "metadata": {},
     "output_type": "execute_result"
    }
   ],
   "source": [
    "X = np.random.binomial(1, .5, size = (2, 4)).astype(np.bool)\n",
    "X"
   ]
  },
  {
   "cell_type": "code",
   "execution_count": 614,
   "metadata": {
    "collapsed": false
   },
   "outputs": [
    {
     "data": {
      "text/plain": [
       "array([[ 0.  ,  0.25],\n",
       "       [ 0.25,  0.  ]])"
      ]
     },
     "execution_count": 614,
     "metadata": {},
     "output_type": "execute_result"
    }
   ],
   "source": [
    "pairwise.pairwise_distances(X, metric = 'hamming')"
   ]
  },
  {
   "cell_type": "code",
   "execution_count": 615,
   "metadata": {
    "collapsed": true
   },
   "outputs": [],
   "source": [
    "import numpy as np"
   ]
  },
  {
   "cell_type": "code",
   "execution_count": 616,
   "metadata": {
    "collapsed": true
   },
   "outputs": [],
   "source": [
    "N = 1000"
   ]
  },
  {
   "cell_type": "code",
   "execution_count": 620,
   "metadata": {
    "collapsed": true
   },
   "outputs": [],
   "source": [
    "in_m = 72\n",
    "in_w = 66"
   ]
  },
  {
   "cell_type": "code",
   "execution_count": 621,
   "metadata": {
    "collapsed": true
   },
   "outputs": [],
   "source": [
    "s_m = 2\n",
    "s_w = s_m"
   ]
  },
  {
   "cell_type": "code",
   "execution_count": 622,
   "metadata": {
    "collapsed": false
   },
   "outputs": [],
   "source": [
    "m = np.random.normal(in_m, s_m, N)\n",
    "w = np.random.normal(in_w, s_w, N)"
   ]
  },
  {
   "cell_type": "code",
   "execution_count": 624,
   "metadata": {
    "collapsed": false
   },
   "outputs": [],
   "source": [
    "from matplotlib import pyplot as plt"
   ]
  },
  {
   "cell_type": "code",
   "execution_count": 626,
   "metadata": {
    "collapsed": false
   },
   "outputs": [
    {
     "data": {
      "text/plain": [
       "<matplotlib.legend.Legend at 0x11bc8c748>"
      ]
     },
     "execution_count": 626,
     "metadata": {},
     "output_type": "execute_result"
    },
    {
     "data": {
      "image/png": "[encoded data removed]",
      "text/plain": [
       "<matplotlib.figure.Figure at 0x11ba7ebe0>"
      ]
     },
     "metadata": {},
     "output_type": "display_data"
    }
   ],
   "source": [
    "f, ax = plt.subplots(figsize = (7, 5))\n",
    "ax.set_title(\"Histogram of Heights\")\n",
    "ax.hist(m, alpha = .5, label = \"Men\");\n",
    "ax.hist(w, alpha = 0.5, label = \"Women\");\n",
    "ax.legend()"
   ]
  },
  {
   "cell_type": "code",
   "execution_count": 627,
   "metadata": {
    "collapsed": true
   },
   "outputs": [],
   "source": [
    "random_sample = np.random.choice([True, False], size = m.size)"
   ]
  },
  {
   "cell_type": "code",
   "execution_count": 628,
   "metadata": {
    "collapsed": true
   },
   "outputs": [],
   "source": [
    "m_test = m[random_sample]"
   ]
  },
  {
   "cell_type": "code",
   "execution_count": 629,
   "metadata": {
    "collapsed": true
   },
   "outputs": [],
   "source": [
    "m_train = m[~random_sample]"
   ]
  },
  {
   "cell_type": "code",
   "execution_count": 630,
   "metadata": {
    "collapsed": true
   },
   "outputs": [],
   "source": [
    "w_test = w[random_sample]"
   ]
  },
  {
   "cell_type": "code",
   "execution_count": 631,
   "metadata": {
    "collapsed": true
   },
   "outputs": [],
   "source": [
    "w_train = w[~random_sample]"
   ]
  },
  {
   "cell_type": "code",
   "execution_count": 632,
   "metadata": {
    "collapsed": true
   },
   "outputs": [],
   "source": [
    "from scipy import stats"
   ]
  },
  {
   "cell_type": "code",
   "execution_count": 633,
   "metadata": {
    "collapsed": true
   },
   "outputs": [],
   "source": [
    "m_pdf = stats.norm(m_train.mean(), m_train.std())"
   ]
  },
  {
   "cell_type": "code",
   "execution_count": 634,
   "metadata": {
    "collapsed": true
   },
   "outputs": [],
   "source": [
    "w_pdf = stats.norm(w_train.mean(), w_train.std())"
   ]
  },
  {
   "cell_type": "code",
   "execution_count": 635,
   "metadata": {
    "collapsed": false
   },
   "outputs": [
    {
     "data": {
      "text/plain": [
       "0.18976607015515737"
      ]
     },
     "execution_count": 635,
     "metadata": {},
     "output_type": "execute_result"
    }
   ],
   "source": [
    "m_pdf.pdf(m[0])"
   ]
  },
  {
   "cell_type": "code",
   "execution_count": 636,
   "metadata": {
    "collapsed": false
   },
   "outputs": [
    {
     "data": {
      "text/plain": [
       "0.00034940428140522978"
      ]
     },
     "execution_count": 636,
     "metadata": {},
     "output_type": "execute_result"
    }
   ],
   "source": [
    "w_pdf.pdf(m[0])"
   ]
  },
  {
   "cell_type": "code",
   "execution_count": 638,
   "metadata": {
    "collapsed": false
   },
   "outputs": [],
   "source": [
    "guesses_m = np.ones_like(m_test)"
   ]
  },
  {
   "cell_type": "code",
   "execution_count": 639,
   "metadata": {
    "collapsed": true
   },
   "outputs": [],
   "source": [
    "guesses_m[m_pdf.pdf(m_test) < w_pdf.pdf(m_test)] = 0"
   ]
  },
  {
   "cell_type": "code",
   "execution_count": 640,
   "metadata": {
    "collapsed": false
   },
   "outputs": [
    {
     "data": {
      "text/plain": [
       "0.91295546558704455"
      ]
     },
     "execution_count": 640,
     "metadata": {},
     "output_type": "execute_result"
    }
   ],
   "source": [
    "guesses_m.mean()"
   ]
  },
  {
   "cell_type": "code",
   "execution_count": 641,
   "metadata": {
    "collapsed": true
   },
   "outputs": [],
   "source": [
    "guesses_w = np.ones_like(w_test)"
   ]
  },
  {
   "cell_type": "code",
   "execution_count": 642,
   "metadata": {
    "collapsed": true
   },
   "outputs": [],
   "source": [
    "guesses_w[m_pdf.pdf(w_test) > w_pdf.pdf(w_test)] = 0"
   ]
  },
  {
   "cell_type": "code",
   "execution_count": 643,
   "metadata": {
    "collapsed": false
   },
   "outputs": [
    {
     "data": {
      "text/plain": [
       "0.93927125506072873"
      ]
     },
     "execution_count": 643,
     "metadata": {},
     "output_type": "execute_result"
    }
   ],
   "source": [
    "guesses_w.mean()"
   ]
  },
  {
   "cell_type": "code",
   "execution_count": 644,
   "metadata": {
    "collapsed": true
   },
   "outputs": [],
   "source": [
    "s_m = 1\n",
    "s_w = 4"
   ]
  },
  {
   "cell_type": "code",
   "execution_count": 645,
   "metadata": {
    "collapsed": true
   },
   "outputs": [],
   "source": [
    "m = np.random.normal(in_m, s_m, N)"
   ]
  },
  {
   "cell_type": "code",
   "execution_count": 646,
   "metadata": {
    "collapsed": true
   },
   "outputs": [],
   "source": [
    "w = np.random.normal(in_w, s_w, N)"
   ]
  },
  {
   "cell_type": "code",
   "execution_count": 647,
   "metadata": {
    "collapsed": true
   },
   "outputs": [],
   "source": [
    "m_test = m[random_sample]\n",
    "m_train = m[~random_sample]"
   ]
  },
  {
   "cell_type": "code",
   "execution_count": 648,
   "metadata": {
    "collapsed": true
   },
   "outputs": [],
   "source": [
    "w_test = w[random_sample]"
   ]
  },
  {
   "cell_type": "code",
   "execution_count": 649,
   "metadata": {
    "collapsed": true
   },
   "outputs": [],
   "source": [
    "w_train = w[~random_sample]"
   ]
  },
  {
   "cell_type": "code",
   "execution_count": 650,
   "metadata": {
    "collapsed": false
   },
   "outputs": [
    {
     "data": {
      "text/plain": [
       "<matplotlib.legend.Legend at 0x11bf4be80>"
      ]
     },
     "execution_count": 650,
     "metadata": {},
     "output_type": "execute_result"
    },
    {
     "data": {
      "image/png": "[encoded data removed]",
      "text/plain": [
       "<matplotlib.figure.Figure at 0x11bc495f8>"
      ]
     },
     "metadata": {},
     "output_type": "display_data"
    }
   ],
   "source": [
    "f, ax = plt.subplots(figsize = (7, 5))\n",
    "ax.set_title(\"Histogram of Heights\")\n",
    "ax.hist(m_train, alpha = .5, label = \"Men\");\n",
    "ax.hist(w_train, alpha = .5, label = \"Women\");\n",
    "ax.legend()"
   ]
  },
  {
   "cell_type": "code",
   "execution_count": 651,
   "metadata": {
    "collapsed": true
   },
   "outputs": [],
   "source": [
    "m_pdf = stats.norm(m_train.mean(), m_train.std())"
   ]
  },
  {
   "cell_type": "code",
   "execution_count": 652,
   "metadata": {
    "collapsed": true
   },
   "outputs": [],
   "source": [
    "w_pdf = stats.norm(w_train.mean(), w_train.std())"
   ]
  },
  {
   "cell_type": "code",
   "execution_count": 653,
   "metadata": {
    "collapsed": true
   },
   "outputs": [],
   "source": [
    "class_A = np.random.normal(0, 1, size = (100, 2))"
   ]
  },
  {
   "cell_type": "code",
   "execution_count": 654,
   "metadata": {
    "collapsed": true
   },
   "outputs": [],
   "source": [
    "class_B = np.random.normal(4, 1.5, size = (100, 2))"
   ]
  },
  {
   "cell_type": "code",
   "execution_count": 655,
   "metadata": {
    "collapsed": false
   },
   "outputs": [
    {
     "data": {
      "text/plain": [
       "<matplotlib.collections.PathCollection at 0x11bc49828>"
      ]
     },
     "execution_count": 655,
     "metadata": {},
     "output_type": "execute_result"
    },
    {
     "data": {
      "image/png": "[encoded data removed]",
      "text/plain": [
       "<matplotlib.figure.Figure at 0x11bf00c88>"
      ]
     },
     "metadata": {},
     "output_type": "display_data"
    }
   ],
   "source": [
    "f, ax = plt.subplots(figsize = (7, 5))\n",
    "ax.scatter(class_A[:, 0], class_A[:, 1], label = 'A', c = 'r')\n",
    "ax.scatter(class_B[:, 0], class_B[:, 1], label = 'B')"
   ]
  },
  {
   "cell_type": "code",
   "execution_count": 656,
   "metadata": {
    "collapsed": true
   },
   "outputs": [],
   "source": [
    "from sklearn.mixture import GMM"
   ]
  },
  {
   "cell_type": "code",
   "execution_count": 657,
   "metadata": {
    "collapsed": true
   },
   "outputs": [],
   "source": [
    "gmm = GMM(n_components = 2)"
   ]
  },
  {
   "cell_type": "code",
   "execution_count": 658,
   "metadata": {
    "collapsed": true
   },
   "outputs": [],
   "source": [
    "X = np.row_stack((class_A, class_B))"
   ]
  },
  {
   "cell_type": "code",
   "execution_count": 659,
   "metadata": {
    "collapsed": true
   },
   "outputs": [],
   "source": [
    "y = np.hstack((np.ones(100), np.zeros(100)))"
   ]
  },
  {
   "cell_type": "code",
   "execution_count": 660,
   "metadata": {
    "collapsed": true
   },
   "outputs": [],
   "source": [
    "from sklearn.mixture import GMM"
   ]
  },
  {
   "cell_type": "code",
   "execution_count": 661,
   "metadata": {
    "collapsed": true
   },
   "outputs": [],
   "source": [
    "gmm = GMM(n_components = 2)"
   ]
  },
  {
   "cell_type": "code",
   "execution_count": 662,
   "metadata": {
    "collapsed": true
   },
   "outputs": [],
   "source": [
    "X = np.row_stack((class_A, class_B))"
   ]
  },
  {
   "cell_type": "code",
   "execution_count": 663,
   "metadata": {
    "collapsed": true
   },
   "outputs": [],
   "source": [
    "y = np.hstack((np.ones(100), np.zeros(100)))"
   ]
  },
  {
   "cell_type": "code",
   "execution_count": 664,
   "metadata": {
    "collapsed": true
   },
   "outputs": [],
   "source": [
    "train = np.random.choice([True, False], 200)"
   ]
  },
  {
   "cell_type": "code",
   "execution_count": 665,
   "metadata": {
    "collapsed": false
   },
   "outputs": [
    {
     "data": {
      "text/plain": [
       "GMM(covariance_type='diag', init_params='wmc', min_covar=0.001,\n",
       "  n_components=2, n_init=1, n_iter=100, params='wmc', random_state=None,\n",
       "  thresh=None, tol=0.001, verbose=0)"
      ]
     },
     "execution_count": 665,
     "metadata": {},
     "output_type": "execute_result"
    }
   ],
   "source": [
    "gmm.fit(X[train])"
   ]
  },
  {
   "cell_type": "code",
   "execution_count": 669,
   "metadata": {
    "collapsed": false
   },
   "outputs": [
    {
     "data": {
      "text/plain": [
       "GMM(covariance_type='diag', init_params='wmc', min_covar=0.001,\n",
       "  n_components=2, n_init=1, n_iter=100, params='wmc', random_state=None,\n",
       "  thresh=None, tol=0.001, verbose=0)"
      ]
     },
     "execution_count": 669,
     "metadata": {},
     "output_type": "execute_result"
    }
   ],
   "source": [
    "gmm.fit(X[train])"
   ]
  },
  {
   "cell_type": "code",
   "execution_count": 670,
   "metadata": {
    "collapsed": false
   },
   "outputs": [
    {
     "data": {
      "text/plain": [
       "array([0, 0, 0, 0, 0])"
      ]
     },
     "execution_count": 670,
     "metadata": {},
     "output_type": "execute_result"
    }
   ],
   "source": [
    "gmm.predict(X[train])[:5]"
   ]
  },
  {
   "cell_type": "code",
   "execution_count": 671,
   "metadata": {
    "collapsed": true
   },
   "outputs": [],
   "source": [
    "from sklearn.datasets import make_blobs"
   ]
  },
  {
   "cell_type": "code",
   "execution_count": 672,
   "metadata": {
    "collapsed": true
   },
   "outputs": [],
   "source": [
    "X, labels = make_blobs(100, centers = 1)"
   ]
  },
  {
   "cell_type": "markdown",
   "metadata": {},
   "source": [
    "## Scikit-Learn CookBook (122 of 214)"
   ]
  },
  {
   "cell_type": "code",
   "execution_count": 673,
   "metadata": {
    "collapsed": true
   },
   "outputs": [],
   "source": [
    "import numpy as np"
   ]
  },
  {
   "cell_type": "code",
   "execution_count": 674,
   "metadata": {
    "collapsed": true
   },
   "outputs": [],
   "source": [
    "from sklearn.cluster import KMeans"
   ]
  },
  {
   "cell_type": "code",
   "execution_count": 676,
   "metadata": {
    "collapsed": false
   },
   "outputs": [],
   "source": [
    "kmeans = KMeans(n_clusters = 1)"
   ]
  },
  {
   "cell_type": "code",
   "execution_count": 677,
   "metadata": {
    "collapsed": false
   },
   "outputs": [
    {
     "data": {
      "text/plain": [
       "KMeans(copy_x=True, init='k-means++', max_iter=300, n_clusters=1, n_init=10,\n",
       "    n_jobs=1, precompute_distances='auto', random_state=None, tol=0.0001,\n",
       "    verbose=0)"
      ]
     },
     "execution_count": 677,
     "metadata": {},
     "output_type": "execute_result"
    }
   ],
   "source": [
    "kmeans.fit(X)"
   ]
  },
  {
   "cell_type": "code",
   "execution_count": 678,
   "metadata": {
    "collapsed": false
   },
   "outputs": [
    {
     "data": {
      "text/plain": [
       "<matplotlib.legend.Legend at 0x119ef2c18>"
      ]
     },
     "execution_count": 678,
     "metadata": {},
     "output_type": "execute_result"
    },
    {
     "data": {
      "image/png": "[encoded data removed]",
      "text/plain": [
       "<matplotlib.figure.Figure at 0x11bc38ac8>"
      ]
     },
     "metadata": {},
     "output_type": "display_data"
    }
   ],
   "source": [
    "f, ax = plt.subplots(figsize = (7, 5))\n",
    "ax.set_title(\"Blob\")\n",
    "ax.scatter(X[:, 0], X[:, 1], label = 'Points')\n",
    "ax.scatter(kmeans.cluster_centers_[:, 0],\n",
    "          kmeans.cluster_centers_[:, 1], label = 'Centroid', color = 'r')\n",
    "ax.legend()"
   ]
  },
  {
   "cell_type": "code",
   "execution_count": 680,
   "metadata": {
    "collapsed": false
   },
   "outputs": [],
   "source": [
    "distances = kmeans.transform(X)"
   ]
  },
  {
   "cell_type": "markdown",
   "metadata": {},
   "source": [
    "## Scikit-Learn Cookbook (page 123 of 214)"
   ]
  },
  {
   "cell_type": "code",
   "execution_count": null,
   "metadata": {
    "collapsed": true
   },
   "outputs": [],
   "source": []
  }
 ],
 "metadata": {
  "kernelspec": {
   "display_name": "Python 3",
   "language": "python",
   "name": "python3"
  },
  "language_info": {
   "codemirror_mode": {
    "name": "ipython",
    "version": 3
   },
   "file_extension": ".py",
   "mimetype": "text/x-python",
   "name": "python",
   "nbconvert_exporter": "python",
   "pygments_lexer": "ipython3",
   "version": "3.5.1"
  }
 },
 "nbformat": 4,
 "nbformat_minor": 0
}
