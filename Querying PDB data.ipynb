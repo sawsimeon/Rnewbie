{
 "cells": [
  {
   "cell_type": "code",
   "execution_count": 1,
   "metadata": {
    "collapsed": false
   },
   "outputs": [
    {
     "name": "stdout",
     "output_type": "stream",
     "text": [
      "Populating the interactive namespace from numpy and matplotlib\n"
     ]
    }
   ],
   "source": [
    "%pylab inline\n",
    "from IPython.display import HTML\n",
    "from pypdb import *\n",
    "import pprint"
   ]
  },
  {
   "cell_type": "markdown",
   "metadata": {
    "collapsed": true
   },
   "source": [
    "## Retrieve Green Fluorescent Proteins"
   ]
  },
  {
   "cell_type": "code",
   "execution_count": 2,
   "metadata": {
    "collapsed": false
   },
   "outputs": [
    {
     "name": "stdout",
     "output_type": "stream",
     "text": [
      "['1B9C', '1GFL', '1OXD', '1OXE', '1OXF', '1RM9', '1RMM', '1RMO', '1RMP', '1W7S', '1W7T', '1W7U', '1XMZ', '1ZUX', '2C9I', '2C9J', '2DDC', '2DDD', '2G2R', '2H6V', '2H9W', '2ICR', '2O24', '2O29', '2O2B', '2OJK', '2PXS', '2PXW', '2Q6P', '2WSN', '2WSO', '2WUR', '2Y0G', '2YDZ', '2YE0', '2YE1', '3AI4', '3AI5', '3OSQ', '3OSR', '3P8U', '3SRY', '3SS0', '3SSH', '3SSK', '3SSL', '3SSP', '3SST', '3SSV', '3SSY', '3SVB', '3SVC', '3SVD', '3SVE', '3V3D', '3ZTF', '4ANJ', '4AR7', '4AS8', '4B5Y', '4DKM', '4DKN', '4DXI', '4DXM', '4DXN', '4DXO', '4DXP', '4DXQ', '4JGE', '4TZA', '4TZG', '4XL5', '4XOV', '4XOW', '4XVP', '5AAO', '5DTL', '5DTX', '5DTY', '5DTZ', '5DU0', '5EHU']\n"
     ]
    }
   ],
   "source": [
    "search_dict = make_query('green fluorescent proteins')\n",
    "found_pdbs = do_search(search_dict)\n",
    "print(found_pdbs)"
   ]
  },
  {
   "cell_type": "markdown",
   "metadata": {},
   "source": [
    "## Search for GFP variants"
   ]
  },
  {
   "cell_type": "code",
   "execution_count": 3,
   "metadata": {
    "collapsed": false
   },
   "outputs": [
    {
     "name": "stdout",
     "output_type": "stream",
     "text": [
      "['1L4B', '1L4E', '1L4F', '1L4G', '1L4H', '1L4K', '1L4L', '1L4M', '1L5O', '2LTO', '2MTI', '3KYI', '4BKQ', '4BKR', '4CKY', '4CKZ', '4KL8', '4KO2', '4LQG', '4MVI', '4MVK', '4MVL', '4NQ6', '4QML', '4QMM', '4QMN', '4QMO', '4QMP', '4QMQ', '4QMT', '4QMU', '4QMV', '4QMW', '4QMX', '4QMY', '4QMZ', '4QNA', '4QO9', '4QWM', '4RYN', '4RYO', '4RYQ', '4RYR', '4TWG', '4U6P', '4U7C', '4UAR', '4UAS', '4UAT', '4UAU', '4UAV', '4UBI', '4UBJ', '4UBK', '4UBL', '4UBM', '4UBN', '4UBO', '4W1P', '4W1Q', '4W1R', '4W1S', '4Y52', '4YBP', '4YCE', '4YDA', '4YFQ', '4YGG', '4YGZ', '4YHT', '4YHX', '4YIS', '4YIT', '4YOF', '4YUS', '4YUT', '4Z1Z', '4Z20', '4Z8B', '4Z8E', '4ZC8', '4ZHJ', '5AH0', '5B3J', '5BYL', '5C7I', '5CKT', '5CKY', '5CLV', '5CM3', '5CO0', '5CRJ', '5CRK', '5CY0', '5D8V', '5DG7', '5DG8', '5DG9', '5DGA', '5DGB', '5DQV', '5DQW', '5E0G', '5E0H', '5E0J', '5EAZ', '5EB0', '5EB1', '5EB2', '5EB3', '5ECD', '5ECW', '5ED0', '5EYZ', '5EZ0', '5F3J', '5F66', '5FER', '5FEU', '5FEY', '5FF9', '5FFF', '5FHX', '5FJM', '5FJN', '5FKK', '5FKL', '5FKM', '5FKN', '5FKO', '5FNN', '5FNP', '5FNY', '5FPX', '5FPZ', '5FQ0', '5FXG', '5FXH', '5FXI', '5FXJ', '5FXK', '5G0R', '5G2O', '5HCG', '5HIH', '5HKM', '5HN2', '5HNG', '5HNJ', '5HNQ', '5HO7', '5HO8', '5HP1', '5HRO', '5HTJ', '5HTR', '5HTX', '5HTY', '5HVZ', '5HZ7', '5I1P', '5I2A', '5I2G', '5I3F', '5I3G', '5I3H', '5I3I', '5I3J', '5I3K', '5I3T', '5I3U', '5I42', '5I4A', '5I8F', '5ID7', '5ID9', '5IDE', '5IDF', '5IF9', '5IHP', '5IHY', '5IM3', '5INA', '5IOA', '5IOE', '5IOG', '5IQA', '5IQB', '5IQC', '5IQD', '5IQE', '5IQF', '5IQG', '5IQH', '5IQI', '5IT1', '5IV8', '5IV9', '5IVA', '5IXD', '5IXI', '5IXM', '5IZU', '5J3Q', '5J3T', '5J3Y', '5J4B', '5J4C', '5J67', '5J68', '5J69', '5J6D', '5J7O', '5J7U', '5J7V', '5JCG', '5JD9', '5JDF', '5JDG', '5JDH', '5JDL', '5JDM', '5JDN', '5JDQ', '5JFR', '5JHU', '5JI6', '5JMT', '5JP2']\n"
     ]
    }
   ],
   "source": [
    "search_dict = make_query('1GFL', querytype = 'ModifiedStructuresQuery')\n",
    "found_pdbs = do_search(search_dict)\n",
    "print(found_pdbs)"
   ]
  },
  {
   "cell_type": "markdown",
   "metadata": {},
   "source": [
    "## Search for Rodger Tsien (GFP noble prize winner)"
   ]
  },
  {
   "cell_type": "code",
   "execution_count": 7,
   "metadata": {
    "collapsed": false
   },
   "outputs": [
    {
     "name": "stdout",
     "output_type": "stream",
     "text": [
      "['1BFP', '1EMA', '1EMB', '1HUY', '1JC0', '1JC1', '2H5O', '2H5P', '2H5Q', '2H5R', '2H8Q', '3IP2', '4DJB']\n"
     ]
    }
   ],
   "source": [
    "search_dict = make_query('Tsien, R.Y.', querytype = 'AdvancedAuthorQuery')\n",
    "found_pdbs = do_search(search_dict)\n",
    "print(found_pdbs)"
   ]
  },
  {
   "cell_type": "markdown",
   "metadata": {},
   "source": [
    "## Find papers of GFP"
   ]
  },
  {
   "cell_type": "code",
   "execution_count": 8,
   "metadata": {
    "collapsed": false
   },
   "outputs": [
    {
     "name": "stdout",
     "output_type": "stream",
     "text": [
      "['Green Fluorescent Protein Mutant F99S, M153T and V163A',\n",
      " 'BLUE VARIANT OF GREEN FLUORESCENT PROTEIN',\n",
      " 'GREEN FLUORESCENT PROTEIN S65T AT PH 4.6',\n",
      " 'Crystal structure of enhanced cyan-emission variant of GFP']\n"
     ]
    }
   ],
   "source": [
    "matching_papers = find_papers('gfp', max_results = 4)\n",
    "pprint.pprint(matching_papers)"
   ]
  },
  {
   "cell_type": "markdown",
   "metadata": {},
   "source": [
    "## Get full data of GFP"
   ]
  },
  {
   "cell_type": "code",
   "execution_count": 9,
   "metadata": {
    "collapsed": false
   },
   "outputs": [
    {
     "name": "stdout",
     "output_type": "stream",
     "text": [
      "data_1GFL\n",
      "# \n",
      "_entry.id   1GFL \n",
      "# \n",
      "_audit_conform.dict_name       mmcif_pdbx.dic \n",
      "_audit_conform.dict\n"
     ]
    }
   ],
   "source": [
    "pdb_file = get_pdb_file('1gfl', filetype = 'cif', compression = True)\n",
    "print(pdb_file[:100])"
   ]
  },
  {
   "cell_type": "code",
   "execution_count": 10,
   "metadata": {
    "collapsed": false
   },
   "outputs": [
    {
     "data": {
      "text/plain": [
       "{'citation_authors': 'Yang, F., Moss, L.G., Phillips Jr., G.N.',\n",
       " 'deposition_date': '1996-08-23',\n",
       " 'expMethod': 'X-RAY DIFFRACTION',\n",
       " 'keywords': 'FLUORESCENT PROTEIN',\n",
       " 'last_modification_date': '2009-02-24',\n",
       " 'nr_atoms': '3950',\n",
       " 'nr_entities': '1',\n",
       " 'nr_residues': '476',\n",
       " 'pubmedId': '9631087',\n",
       " 'release_date': '1997-01-11',\n",
       " 'resolution': '1.90',\n",
       " 'status': 'CURRENT',\n",
       " 'structureId': '1GFL',\n",
       " 'structure_authors': 'Yang, F., Moss, L.G., Phillips Jr., G.N.',\n",
       " 'title': 'STRUCTURE OF GREEN FLUORESCENT PROTEIN'}"
      ]
     },
     "execution_count": 10,
     "metadata": {},
     "output_type": "execute_result"
    }
   ],
   "source": [
    "describe_pdb('1gfl')"
   ]
  },
  {
   "cell_type": "markdown",
   "metadata": {},
   "source": [
    "## Get all the information of GFP"
   ]
  },
  {
   "cell_type": "code",
   "execution_count": 11,
   "metadata": {
    "collapsed": false
   },
   "outputs": [
    {
     "name": "stdout",
     "output_type": "stream",
     "text": [
      "{'polymer': {'Taxonomy': {'@id': '6100', '@name': 'Aequorea victoria'}, 'polymerDescription': {'@description': 'GREEN FLUORESCENT PROTEIN'}, 'macroMolecule': {'@name': 'Green fluorescent protein', 'accession': {'@id': 'P42212'}}, '@weight': '26891.5', '@type': 'protein', '@entityNr': '1', '@length': '238', 'chain': [{'@id': 'A'}, {'@id': 'B'}]}, 'id': '1GFL'}\n"
     ]
    }
   ],
   "source": [
    "all_info = get_all_info('1gfl')\n",
    "print(all_info)"
   ]
  },
  {
   "cell_type": "markdown",
   "metadata": {},
   "source": [
    "## Make a blast of the original GFP (1GFL)"
   ]
  },
  {
   "cell_type": "code",
   "execution_count": 12,
   "metadata": {
    "collapsed": false
   },
   "outputs": [
    {
     "name": "stdout",
     "output_type": "stream",
     "text": [
      "ASKGEELFTGVVPILVELDGDVNGHKFSVSGEGEGDATYGKLTLKFICTTGKLPVPWPTLVTTFAFGVQCFSRYPDHMKQHDFFKSAMPEGYVQERTISFKDDGNYKTRAEVKFEGDTLVNRIELKGIDFKEDGNILGHKLEYNYNSHNVYITADKQKNGIKANFKIRHNIEDGSVQLADHYQQNTPIGDGPVLLPDNHYLSTQSALSKDPNEKRDHMVLLEFVTAAGITHGMDELYK\n"
     ]
    }
   ],
   "source": [
    "blast_results = get_blast('1GFL', chain_id='A')\n",
    "just_hits = blast_results['BlastOutput_iterations']['Iteration']['Iteration_hits']['Hit']\n",
    "print(just_hits[50]['Hit_hsps']['Hsp']['Hsp_hseq'])"
   ]
  },
  {
   "cell_type": "code",
   "execution_count": 13,
   "metadata": {
    "collapsed": false
   },
   "outputs": [
    {
     "name": "stdout",
     "output_type": "stream",
     "text": [
      "Total Results: 250\n",
      "\n",
      "<pre>\n",
      "&gt;<a name=\"138486\"></a>4RH7:1:A|pdbid|entity|chain(s)|sequence\n",
      "          Length = 3450\n",
      "\n",
      " Score =  493 bits (1270), Expect = e-140,   Method: Composition-based stats.\n",
      " Identities = 229/235 (97%), Positives = 232/235 (98%), Gaps = 1/235 (0%)\n",
      "\n",
      "Query: 2   SKGEELFTGVVPILVELDGDVNGHKFSVSGEGEGDATYGKLTLKFICTTGKLPVPWPTLV 61\n",
      "           SKGEELFTGVVPILVELDGDVNGHKFSVSGEGEGDATYGKLTLKFICTTGKLPVPWPTLV\n",
      "Sbjct: 2   SKGEELFTGVVPILVELDGDVNGHKFSVSGEGEGDATYGKLTLKFICTTGKLPVPWPTLV 61\n",
      "\n",
      "Query: 62  TTFSYGVQCFSRYPDHMKRHDFFKSAMPEGYVQERTIFFKDDGNYKTRAEVKFEGDTLVN 121\n",
      "           TTF YGVQCF+RYPDHMK+HDFFKSAMPEGYVQERTIFFKDDGNYKTRAEVKFEGDTLVN\n",
      "Sbjct: 62  TTFGYGVQCFARYPDHMKQHDFFKSAMPEGYVQERTIFFKDDGNYKTRAEVKFEGDTLVN 121\n",
      "\n",
      "Query: 122 RIELKGIDFKEDGNILGHKLEYNYNSHNVYIMADKQKNGIKVNFKIRHNIEDGSVQLADH 181\n",
      "           RIELKGIDFKEDGNILGHKLEYNYNSHNVYIMADKQKNGIKVNFKIRHNIEDGSVQLADH\n",
      "Sbjct: 122 RIELKGIDFKEDGNILGHKLEYNYNSHNVYIMADKQKNGIKVNFKIRHNIEDGSVQLADH 181\n",
      "\n",
      "Query: 182 YQQNTPIGDGPVLLPDNHYLSTQSALSKDPNEKRDHMVLLEFVTAAGITHGMDEL 236\n",
      "           YQQNTPIGDGPVLLPDNHYLSTQSALSKDPNEKRDHMVLLEFVTAAGIT G D+L\n",
      "Sbjct: 182 YQQNTPIGDGPVLLPDNHYLSTQSALSKDPNEKRDHMVLLEFVTAAGIT-GSDDL 235\n",
      "</pre>\n"
     ]
    }
   ],
   "source": [
    "blast_results = get_blast2('1GFL', chain_id='A', output_form='HTML')\n",
    "print('Total Results: ' + str(len(blast_results[0])) +'\\n')\n",
    "pprint.pprint(blast_results[1][0])"
   ]
  },
  {
   "cell_type": "markdown",
   "metadata": {},
   "source": [
    "## Get PFAM information of GFP"
   ]
  },
  {
   "cell_type": "code",
   "execution_count": 14,
   "metadata": {
    "collapsed": false
   },
   "outputs": [
    {
     "name": "stdout",
     "output_type": "stream",
     "text": [
      "{'pfamHit': {'@pfamAcc': 'PF01353.18', '@chainId': 'A', '@eValue': '0.0', '@pdbResNumStart': '6', '@pdbResNumEnd': '227', '@structureId': '1GFL', '@pfamDesc': 'Green fluorescent protein', '@pfamName': 'GFP'}}\n"
     ]
    }
   ],
   "source": [
    "pfam_info = get_pfam('1GFL')\n",
    "print(pfam_info)"
   ]
  },
  {
   "cell_type": "markdown",
   "metadata": {},
   "source": [
    "## Get sequence clusters by chain"
   ]
  },
  {
   "cell_type": "code",
   "execution_count": 15,
   "metadata": {
    "collapsed": false
   },
   "outputs": [
    {
     "name": "stdout",
     "output_type": "stream",
     "text": [
      "[{'@name': '2WUR.A', '@rank': '1'},\n",
      " {'@name': '4AS8.A', '@rank': '2'},\n",
      " {'@name': '4LQT.A', '@rank': '3'},\n",
      " {'@name': '4KAG.A', '@rank': '4'},\n",
      " {'@name': '4GF6.B', '@rank': '5'}]\n"
     ]
    }
   ],
   "source": [
    "sclust = get_seq_cluster('1GFL.A')\n",
    "pprint.pprint(sclust['pdbChain'][:5]) # Look at the top 5"
   ]
  },
  {
   "cell_type": "markdown",
   "metadata": {},
   "source": [
    "## Get Organism of GFP"
   ]
  },
  {
   "cell_type": "code",
   "execution_count": 17,
   "metadata": {
    "collapsed": false
   },
   "outputs": [
    {
     "name": "stdout",
     "output_type": "stream",
     "text": [
      "['Aequorea victoria',\n",
      " 'Aequorea victoria',\n",
      " 'Aequorea victoria',\n",
      " 'Aequorea victoria',\n",
      " 'Aequorea victoria',\n",
      " 'Aequorea victoria',\n",
      " 'Aequorea victoria',\n",
      " 'Aequorea victoria',\n",
      " 'Aequorea victoria',\n",
      " 'Aequorea victoria']\n"
     ]
    }
   ],
   "source": [
    "gfp_query = make_query('green fluorescent protein')\n",
    "gfp_results = do_search(gfp_query)\n",
    "pprint.pprint(list_taxa(gfp_results[:10]))"
   ]
  },
  {
   "cell_type": "markdown",
   "metadata": {},
   "source": [
    "## Structural information about the results of a BLAST search"
   ]
  },
  {
   "cell_type": "code",
   "execution_count": 18,
   "metadata": {
    "collapsed": false
   },
   "outputs": [
    {
     "name": "stdout",
     "output_type": "stream",
     "text": [
      "Crystal structure of human cytoplasmic dynein 2 motor domain in complex with ADP.Vi\n",
      "MYOSIN VI (MDinsert2-GFP fusion) PRE-POWERSTROKE STATE (MG.ADP.AlF4)\n",
      "Green Fluorescent Protein Mutant F99S, M153T and V163A\n",
      "Structure of S65A Y66F GFP variant with an oxidized chromophore\n",
      "Crystal Structure of a Cyclized GFP Variant\n",
      "Structure of S65A Y66F E222A GFP variant after cyclization and carbon-carbon bond cleavage\n",
      "Structure of Human beta-Cardiac Myosin Motor Domain::GFP chimera\n",
      "Cyclized post-translational product for S65A Y66S (GFPhal) green fluorescent protein variant\n",
      "Reduced enolate chromophore intermediate for GFP variant\n",
      "Cyclized-Dehydrated Intermediate of GFP Variant Q183E in Chromophore Maturation\n",
      "Structure of S65T Y66F GFP variant after cyclization, carbon-carbon bond cleavage, and oxygen incorporation reactions\n",
      "Structure of cyclized F64L S65A Y66S GFP variant\n",
      "Green fluorescent protein bound to minimizer nanobody\n",
      "Green fluorescent protein bound to minimizer nanobody\n",
      "Uncyclized precursor structure of S65A Y66S R96A GFP variant\n",
      "Uncyclized precursor structure of S65A Y66S G67A GFP variant\n",
      "Anaerobic precylization intermediate crystal structure for S65G Y66G GFP variant\n",
      "Cyclized, non-dehydrated post-translational product for S65A Y66S H148G GFP variant\n",
      "Uncyclized precursor structure of S65G Y66S V68G GFP variant\n",
      "Structure of S65T Y66F R96A GFP variant in precursor state\n",
      "S65T Q80R Green Fluorescent Protein (GFP) pH 5.5\n",
      "S65T Q80R Green Fluorescent Protein (GFP) pH 8.5\n",
      "GREEN FLUORESCENT PROTEIN (65-67 REPLACED BY CRO, S65T SUBSTITUTION, Q80R)\n",
      "GREEN FLUORESCENT PROTEIN (GFP) FROM AEQUOREA VICTORIA, GLN 80 REPLACED WITH ARG\n",
      "GREEN FLUORESCENT PROTEIN FROM AEQUOREA VICTORIA\n",
      "GREEN FLUORESCENT PROTEIN S65T AT PH 4.6\n",
      "S65T Q80R T203C Green Fluorescent Protein (GFP) pH 5.5\n",
      "S65T Q80R T203C Green Fluorescent Protein (GFP) pH 8.5\n",
      "STRUCTURE OF GREEN FLUORESCENT PROTEIN\n",
      "crystal structure of GFP-TYR151PYZ with an unnatural amino acid incorporation\n",
      "A non-invasive GFP-based biosensor for mercury ions\n",
      "A non-invasive GFP-based biosensor for mercury ions\n",
      "Crystal structure of a well-folded variant of green fluorescent protein\n",
      "Reduced enolate chromophore intermediate for Y66H GFP variant\n",
      "GREEN FLUORESCENT PROTEIN FROM AEQUOREA VICTORIA, MUTANT\n",
      "S65T Q80R Y145C Green Fluorescent Protein (GFP) pH 8.5\n",
      "X-RAY STRUCTURE OF ENHANCED GREEN FLUORESCENT PROTEIN (EGFP)\n",
      "Crystal structure of GFP S205A/T203V at 2.2 A resolution\n",
      "GFP/S205V mutant\n",
      "The Chemical Control of Protein Folding: Engineering a Superfolder Green Fluorescent Protein\n",
      "Wild-Type Aequorea victoria Green Fluorescent Protein\n",
      "S65T Q80R Y145C T203C Green Fluorescent Protein (GFP) pH 8.5\n",
      "GREEN FLUORESCENT PROTEIN FROM AEQUOREA VICTORIA, MUTANT\n",
      "GREEN FLUORESCENT PROTEIN FROM AEQUOREA VICTORIA, MUTANT\n",
      "Crystal Structure of the cyclized S65G Y66G GFP variant\n",
      "Crystal Structure of a Zn-bound Green Fluorescent Protein Biosensor\n",
      "Crystal Structure of a Cu-bound Green Fluorescent Protein Zn Biosensor\n",
      "Crystal Structure of an Apo Green Fluorescent Protein Zn Biosensor\n",
      "Structure of the GFP:GFP-nanobody complex at 2.8 A resolution in spacegroup P21212\n",
      "Crystal structure of L42H V224H design intermediate for GFP metal ion reporter\n",
      "Photoproduct of the Wild-Type Aequorea victoria Green Fluorescent Protein after structural annealing at 170K\n",
      "Photoproduct of the Wild-Type Aequorea victoria Green Fluorescent Protein at 100 K\n",
      "Photoproduct of the wild-type Aequorea victoria Green Fluorescent Protein\n",
      "Crystal structure of enhanced Green Fluorescent Protein to 1.35A resolution reveals alternative conformations for Glu222\n",
      "CRYSTAL STRUCTURE ANALYSIS OF A DUAL-WAVELENGTH EMISSION GREEN FLUORESCENT PROTEIN VARIANT AT HIGH PH\n",
      "CRYSTAL STRUCTURE ANALYSIS OF A DUAL-WAVELENGTH EMISSION GREEN FLUORESCENT PROTEIN VARIANT AT LOW PH\n",
      "Probing the Role of Tryptophans in Aequorea Victoria Green Fluorescent Proteins with an Expanded Genetic Code\n",
      "Structure of Cockroach Allergen Bla g 1 Tandem Repeat as a EGFP fusion\n",
      "GREEN FLUORESCENT PROTEIN FROM AEQUOREA VICTORIA, MUTANT\n",
      "GREEN FLUORESCENT PROTEIN FROM AEQUOREA VICTORIA, MUTANT\n",
      "Crystal Structure of an eYFP single mutant\n",
      "Crystal structure of L42H design intermediate for GFP metal ion reporter\n",
      "Crystal structure of V224H design intermediate for GFP metal ion reporter\n",
      "STRUCTURE OF ENHANCED CYAN FLUORESCENT PROTEIN AT PHYSIOLOGICAL PH\n",
      "Omecamtiv Mercarbil binding site on the Human Beta-Cardiac Myosin Motor Domain\n",
      "Crystal Structure of a computational designed engrailed homeodomain variant fused with YFP\n",
      "crystal structure of a green fluorescent protein variant S65T/H148N at pH 9.5\n",
      "crystal structure of a green fluorescent protein S65T/H148N at pH 5\n",
      "CRYSTAL STRUCTURE OF A YELLOW FLUORESCENT PROTEIN WITH IMPROVED MATURATION AND REDUCED ENVIRONMENTAL SENSITIVITY\n",
      "GREEN FLUORESCENT PROTEIN FROM AEQUOREA VICTORIA, MUTANT\n",
      "crystal structure of a green fluorescent protein variant H148D at pH 9\n",
      "Engineered low-affinity halide-binding protein derived from YFP: bromide complex\n",
      "Engineered low-affinity halide-binding protein derived from YFP: iodide complex\n",
      "Engineered low-affinity halide-binding protein derived from YFP: fluoride complex\n",
      "Engineered low-affinity halide-binding protein derived from YFP: chloride complex\n",
      "Engineered low-affinity halide-binding protein derived from YFP: halide-free\n",
      "BLUE VARIANT OF GREEN FLUORESCENT PROTEIN\n",
      "X-ray structure of bGFP-C / EGFP complex\n",
      "X-ray structure of bGFP-A / EGFP complex\n",
      "crystal structure of a green fluorescent protein variant S65T/H148D at pH 5.6\n",
      "crystal structure of a green fluorescent protein variant S65T/H148D at pH 10\n",
      "Engineered medium-affinity halide-binding protein derived from YFP: bromide complex\n",
      "Engineered medium-affinity halide-binding protein derived from YFP: chloride complex\n",
      "Engineered medium-affinity halide-binding protein derived from YFP: fluoride complex\n",
      "Engineered medium-affinity halide-binding protein derived from YFP: iodide complex\n",
      "Engineered medium-affinity halide-binding protein derived from YFP: halide-free\n",
      "GREEN FLUORESCENT PROTEIN FROM AEQUOREA VICTORIA, MUTANT\n",
      "GREEN FLUORESCENT PROTEIN FROM AEQUOREA VICTORIA, MUTANT\n",
      "GREEN FLUORESCENT PROTEIN FROM AEQUOREA VICTORIA, MUTANT\n",
      "CRYSTAL STRUCTURE OF THE GREEN FLUORESCENT PROTEIN (GFP) VARIANT YFP-H148Q\n",
      "CRYSTAL STRUCTURE OF THE GREEN FLUORESCENT PROTEIN (GFP) VARIANT YFP-H148Q WITH TWO BOUND IODIDES\n",
      "CRYSTAL STRUCTURE OF CITRINE, AN IMPROVED YELLOW VARIANT OF GREEN FLUORESCENT PROTEIN\n",
      "Spectroscopic and Structural Study of the Heterotropic Linkage between Halide and Proton Ion Binding to Gfp Proteins: E2(GFP)-I Complex\n",
      "Spectroscopic and Structural Study of the Heterotropic Linkage between Halide and Proton Ion Binding to Gfp Proteins: E2(GFP)-BR Complex\n",
      "Spectroscopic and Structural Study of the Heterotropic Linkage between Halide and Proton Ion Binding to Gfp Proteins: E2(GFP)-Cl Complex\n",
      "Spectroscopic and structural study of the heterotropic linkage between halide and proton ion binding to GFP proteins- E2(GFP) APO FORM\n",
      "Y66L Variant of Enhanced Green Fluorescent Protein with 374-nm Absorbing Chromophore\n",
      "Y66L variant of Enhanced Green Fluorescent Protein with 412-nm Absorbing Chromophore\n",
      "Enhanced Green Fluorescent Protein Containing the Y66L Substitution\n",
      "Crystal structure of a superfolder green fluorescent protein\n",
      "Green fluorescent protein ground states: the influence of a second protonation site near the chromophore\n",
      "Engineered high-affinity halide-binding protein derived from YFP: iodide complex\n",
      "Engineered high-affinity halide-binding protein derived from YFP: bromide complex\n",
      "Engineered high-affinity halide-binding protein derived from YFP: chloride complex\n",
      "Engineered high-affinity halide-binding protein derived from YFP: fluoride complex\n",
      "Engineered high-affinity halide-binding protein derived from YFP: halide-free\n",
      "1.10A resolution crystal structure of a superfolder green fluorescent protein (W57A) mutant\n",
      "Atomic resolution structure of GFP measured on a rotating anode\n",
      "STRUCTURE OF YELLOW-EMISSION VARIANT OF GFP\n",
      "Crystal structure of a computational designed engrailed homeodomain variant fused with YFP\n",
      "crystal structure of GFP with cuprum bound at the Incorporated metal Chelating Amino Acid PYZ151\n",
      "Irradiated-state structure of sfGFP containing the unnatural amino acid p-azido-phenylalanine at residue 145\n",
      "CRYSTAL STRUCTURE ANALYSIS OF A REDOX-SENSITIVE GREEN FLUORESCENT PROTEIN VARIANT IN A OXIDIZED FORM\n",
      "CRYSTAL STRUCTURE ANALYSIS OF A REDOX-SENSITIVE GREEN FLUORESCENT PROTEIN VARIANT IN A REDUCED FORM\n",
      "1.60A resolution crystal structure of a superfolder green fluorescent protein (W57G) mutant\n",
      "Structure of the Yellow Fluorescent Protein Citrine Frozen at 2000 Atmospheres Number 1: Structure 20 in a Series of 26 High Pressure Structures\n",
      "Structure of the Yellow Fluorescent Protein Citrine Frozen at 1 Atmosphere Number 2: Structure 2 in a Series of 26 High Pressure Structures\n",
      "Structure of the Yellow Fluorescent Protein Citrine Frozen at 500 Atmospheres: Structure 3 in a Series of 26 High Pressure Structures\n",
      "Structure of the Yellow Fluorescent Protein Citrine Frozen at 750 Atmospheres: Structure 4 in a Series of 26 High Pressure Structures\n",
      "Structure of the Yellow Fluorescent Protein Citrine Frozen at 1000 Atmospheres Number 1: Structure 5 in a Series of 26 High Pressure Structures\n",
      "Structure of the Yellow Fluorescent Protein Citrine Frozen at 1000 Atmospheres Number 2: Structure 6 in a Series of 26 High Pressure Structures\n",
      "Structure of the Yellow Fluorescent Protein Citrine Frozen at 1000 Atmospheres Number 3: Structure 7 in a Series of 26 High Pressure Structures\n",
      "Structure of the Yellow Fluorescent Protein Citrine Frozen at 1000 Atmospheres Number 4: Structure 8 in a Series of 26 High Pressure Structures\n",
      "Structure of the Yellow Fluorescent Protein Citrine Frozen at 1000 Atmospheres Number 5: Structure 9 in a Series of 26 High Pressure Structures\n",
      "Structure of the Yellow Fluorescent Protein Citrine Frozen at 1000 Atmospheres Number 6: Structure 10 in a Series of 26 High Pressure Structures\n",
      "Structure of the Yellow Fluorescent Protein Citrine Frozen at 1250 Atmospheres Number 1: Structure 11 in a Series of 26 High Pressure Structures\n",
      "Structure of the Yellow Fluorescent Protein Citrine Frozen at 1250 Atmospheres Number 2: Structure 12 in a Series of 26 High Pressure Structures\n",
      "Structure of the Yellow Fluorescent Protein Citrine Frozen at 1250 Atmospheres Number 3: Structure 13 in a Series of 26 High Pressure Structures\n",
      "Structure of the Yellow Fluorescent Protein Citrine Frozen at 1250 Atmospheres Number 4: Structure 14 in a Series of 26 High Pressure Structures\n",
      "Structure of the Yellow Fluorescent Protein Citrine Frozen at 1500 Atmospheres Number 1: Structure 15 in a Series of 26 High Pressure Structures\n",
      "Structure of the Yellow Fluorescent Protein Citrine Frozen at 1500 Atmospheres Number 2: Structure 16 in a Series of 26 High Pressure Structures\n",
      "Structure of the Yellow Fluorescent Protein Citrine Frozen at 1920 Atmospheres Number 1: Structure 17 in a Series of 26 High Pressure Structures\n",
      "Structure of the Yellow Fluorescent Protein Citrine Frozen at 1920 Atmospheres Number 2: Structure 18 in a Series of 26 High Pressure Structures\n",
      "Structure of the Yellow Fluorescent Protein Citrine Frozen at 1960 Atmospheres: Structure 19 in a Series of 26 High Pressure Structures\n",
      "Structure of the Yellow Fluorescent Protein Citrine Frozen at 2000 Atmospheres Number 2: Structure 20 in a Series of 26 High Pressure Structures\n",
      "Structure of the Yellow Fluorescent Protein Citrine Frozen at 2500 Atmospheres: Structure 22 in a Series of 26 High Pressure Structures\n",
      "Structure of the Yellow Fluorescent Protein Citrine Frozen at 4000 Atmospheres Number 1: Structure 23 in a Series of 26 High Pressure Structures\n",
      "Structure of the Yellow Fluorescent Protein Citrine Frozen at 4000 Atmospheres Number 2: Structure 24 in a Series of 26 High Pressure Structures\n",
      "Structure of the Yellow Fluorescent Protein Citrine Frozen at 4000 Atmospheres Number 3: Structure 25 in a Series of 26 High Pressure Structures\n",
      "Structure of the Yellow Fluorescent Protein Citrine Frozen at 5000 Atmospheres: Structure 26 in a Series of 26 High Pressure Structures\n",
      "Structure of the Yellow Fluorescent Protein Citrine Frozen at 1 Atmosphere Number 1: Structure 1 in a Series of 26 High Pressure Structures\n",
      "Crystal structure analysis of a single amino acid deletion mutation in EGFP\n",
      "Crystal structure of GFP-Wrnip1 UBZ domain fusion protein in complex with ubiquitin\n",
      "Crystal structure of rsEGFP2 in the non-fluorescent off-state\n",
      "Crystal structure of rsEGFP2 in the fluorescent on-state\n",
      "Crystal structure of rsFolder in the non-fluorescent off-state\n",
      "Probing the Role of Tryptophans in Aequorea Victoria Green Fluorescent Proteins with an Expanded Genetic Code\n",
      "GFP mutant S205G\n",
      "X-ray structure of the cyan fluorescent protein mTurquoise (K206A mutant)\n",
      "Crystal structure analysis of single amino acid deletion mutations in EGFP\n",
      "Bax BH3-in-Groove dimer (GFP)\n",
      "X-ray Structure of the Cyan Fluorescent Protein mTurquoise2 (K206A mutant)\n",
      "X-ray structure of Cerulean GFP: A tryptophan-based chromophore useful for fluorescence lifetime imaging\n",
      "sfGFP mutant with unnatural amino acid 4-azidoethoxy-L-phenylalanine incorporated at the 149 site\n",
      "Crystal structure of rsFolder in the fluorescent on-state\n",
      "X-ray structure of the cyan fluorescent protein SCFP3A (K206A mutant)\n",
      "Yellow fluorescent protein - glutaredoxin fusion protein\n",
      "sfGFP mutant - 133 p-cyano-L-phenylalanine\n",
      "Structure of a pressure sensitive YFP variant YFP-G1\n",
      "X-ray structure of the cyan fluorescent protein mTurquoise-GL (K206A mutant) in space group C222(1)\n",
      "X-ray structure of the cyan fluorescent proteinmTurquoise-GL (K206A mutant)\n",
      "Crystal structure of yeast enhanced green fluorescent protein-ubiquitin fusion protein\n",
      "sfGFP mutant - 149 p-cyano-L-phenylalanine\n",
      "High resolution crystal structure of CyPet mutant A167I\n",
      "X-ray structure of the cyan fluorescent protein Cerulean cryoprotected with ethylene glycol\n",
      "STRUCTURE OF CERULEAN FLUORESCENT PROTEIN AT PHYSIOLOGICAL PH\n",
      "Crystal structure analysis of a single amino acid deletion mutation in EGFP\n",
      "Crystal structure of yeast enhanced green fluorescent protein - mouse polymerase iota ubiquitin binding motif fusion protein\n",
      "Structure of a pressure sensitive YFP variant YFP-G3\n",
      "Mature Q183E variant of Green Fluorescent Protein Chromophore\n",
      "sfGFP double mutant - 133/149 p-ethynyl-L-phenylalanine\n",
      "Green Fluorescent Protein: Cyclized-only Intermediate of Chromophore Maturation in the Q183E variant\n",
      "Mature R96K GFP mutant\n",
      "X-ray structure of the cyan fluorescent protein mTurquoise\n",
      "Development of a family of redox-sensitive green fluorescent protein indicators for use in relatively oxidizing subcellular environments\n",
      "Development of a family of redox-sensitive green fluorescent protein indicators for use in relatively oxidizing subcellular environments\n",
      "GFP R96M mature chromophore\n",
      "Crystal structure of GFP-TAX1BP1 UBZ1+2 domain fusion protein\n",
      "Photoactivated state of PA-GFP\n",
      "Non photoactivated state of PA-GFP\n",
      "Crystal structure of matured green fluorescent protein R96A variant\n",
      "1.45 angstrom CyPet Structure at pH7.0\n",
      "1.9 angstrom CyPet structure at pH5.2\n",
      "1.4 Angstrom Crystal Structure of Fluorescent Protein Cypet\n",
      "1.6 angstrom crystal structure of fluorescent protein Cypet\n",
      "Crystal structure of the cyan fluorescence protein Cerulean S175G mutant\n",
      "Bak BH3-in-Groove dimer (GFP)\n",
      "roGFP1-R7. Cystal structure analysis of a rate-enhanced variant of redox-sensitive green fluorescent protein in the oxidized form.\n",
      "Cyclic Green Fluorescent Protein\n",
      "sfGFP double mutant - 133/149 p-cyano-L-phenylalanine\n",
      "Crystal structure of GFP-TAX1BP1 UBZ2 domain fusion protein\n",
      "Dreiklang - on state\n",
      "Dreiklang - off state\n",
      "Dreiklang - equilibrium state\n",
      "Crystal structure analysis of a rate-enhanced variant of redox-sensitive green fluorescent protein in the reduced form, roGFP1-R8.\n",
      "GFP R96A chromophore maturation recovery mutant R96A Q183R\n",
      "GREEN FLUORESCENT PROTEIN E222H VARIANT\n",
      "Development of a family of redox-sensitive green fluorescent protein indicators for use in relatively oxidizing subcellular environments\n",
      "Development of a family of redox-sensitive green fluorescent protein indicators for use in relatively oxidizing subcellular environments\n",
      "Crystal structure of the dimeric variant EGFP-K162Q in P61 space group\n",
      "GFP R96M pre-cyclized intermediate in chromophore formation\n",
      "Crystal structure of precyclized intermediate for the green fluorescent protein R96A variant (A)\n",
      "DARPin-based Crystallization Chaperones exploit Molecular Geometry as a Screening Dimension in Protein Crystallography\n",
      "Crystal structure of GFP-Wrnip1 UBZ domain fusion protein in complex with ubiquitin\n",
      "Structure of Sda1 nuclease apoprotein as an EGFP fixed-arm fusion\n",
      "Crystal structure of vsfGFP-0\n",
      "Crystal Structure of Green Fluorescent Protein\n",
      "Crystal Structure of Green Fluorescent Protein\n",
      "Crystal Structure of Green Fluorescent Protein\n",
      "Different photochemical events of a genetically encoded aryl azide define and modulate GFP fluorescence\n",
      "Dark-state structure of sfGFP containing the unnatural amino acid p-azido-phenylalanine at residue 66\n",
      "Crystal structure of sfGFP-66-HqAla\n",
      "Crystal structure of precyclized intermediate for the green fluorescent protein R96A variant (B)\n",
      "Structure of rsGreen0.7 in the green-on-state\n",
      "Structure of rsGreen0.7 in the green-off-state\n",
      "GFP based antibody (fluorobody)\n",
      "Crystallographic Evidence for Isomeric Chromophores in 3-Fluorotyrosyl-Green Fluorescent Protein\n",
      "The 1.62A structure of a FRET-optimized Cerulean Fluorescent Protein\n",
      "Structure Of A Malarial Protein Involved in Proteostasis\n",
      "Expansion of the Genetic Code Enables Design of a Novel \"Gold\" Class of Green Fluorescent Proteins\n",
      "Expansion of the Genetic Code Enables Design of a Novel \"Gold\" Class of Green Fluorescent Proteins\n",
      "THE OXIDIZED STATE OF A REDOX SENSITIVE VARIANT OF GREEN FLUORESCENT PROTEIN\n",
      "Expansion of the Genetic Code Enables Design of a Novel \"Gold\" Class of Green Fluorescent Proteins\n",
      "STRUCTURE OF YELLOW-EMISSION VARIANT OF GFP\n",
      "Crystal structure of enhanced cyan-emission variant of GFP\n",
      "Crystal structure of EGFP-based Calcium Sensor CatchER complexed with Ca\n",
      "Crystal structure of Ligand Free EGFP-based Calcium Sensor CatchER\n",
      "Crystal structure of EGFP-based Calcium Sensor CatchER complexed with Gd\n",
      "Probing the Role of Tryptophans in Aequorea Victoria Green Fluorescent Proteins with an Expanded Genetic Code\n",
      "Probing the Role of Tryptophans in Aequorea Victoria Green Fluorescent Proteins with an Expanded Genetic Code\n",
      "Crystal structure of a Trp-less green fluorescent protein translated by the simplified genetic code\n",
      "Crystal structure of a Trp-less green fluorescent protein translated by the universal genetic code\n",
      "Crystal structure of all-trans green fluorescent protein\n",
      "Crystal structure of GFP-like protein aceGFP_G222E (A. coerulescens). UV-photoconverted green form.\n",
      "Crystal structure of GFP-like protein aceGFP_G222E (A. coerulescens). Colorless form.\n",
      "Crystal structure of colorless GFP-like protein from Aequorea coerulescens\n",
      "Application of the superfolder YFP bimolecular fluorescence complementation for studying protein-protein interactions in vitro\n",
      "Crystal Structure of a Superfolder GFP Mutant K26C Disulfide Dimer, P 21 21 21 Space Group\n",
      "Blue Fluorescent Protein mKalama1\n",
      "Crystal structure of the green fluorescent variant, nowGFP, of the cyan Cerulean at pH 9.0\n",
      "Crystal structure of the photoconverted green fluorescent protein NowGFP_conv (the variant of cyan Cerulean) at pH 7.0\n",
      "Crystal structure of the green fluorescent rotein NowGFP (the variant of cyan Cerulean) at pH 4.8\n",
      "Crystal Structure of Full-Length Split GFP Mutant D102C Disulfide Dimer, P 1 Space Group\n",
      "Crystal Structure of Full-Length Split GFP Mutant D21H/K26C Disulfide and Metal-Mediated Dimer, C 2 Space Group\n",
      "Crystal Structure of Full-Length Split GFP Mutant D21H/K26C Disulfide and Metal-Mediated Dimer, P 21 21 21 Space Group, Form 4\n",
      "Crystal Structure of Full-Length Split GFP Mutant D21H/K26C Disulfide and Metal-Mediated Dimer, P 21 21 21 Space Group, Form 3\n",
      "Crystal Structure of Full-Length Split GFP Mutant D21H/K26C Disulfide and Metal-Mediated Dimer, P 21 21 21 Space Group, Form 2\n",
      "Crystal Structure of Full-Length Split GFP Mutant D21H/K26C Disulfide and Metal-Mediated Dimer, P 21 21 21 Space Group, Form 1\n",
      "Crystal Structure of Full-Length Split GFP Mutant K26C Disulfide Dimer, P 32 2 1 Space Group, Form 2\n",
      "Crystal Structure of Full-Length Split GFP Mutant K26C Disulfide Dimer, P 21 21 21 Space Group\n"
     ]
    }
   ],
   "source": [
    "# Search for PDB IDs related to GFP\n",
    "gfp_query = make_query('green fluorescent protein')\n",
    "gfp_results = do_search(gfp_query)\n",
    "\n",
    "# Run BLAST on the top result\n",
    "top_result = gfp_results[0]\n",
    "blast_hits = get_blast2(top_result)\n",
    "\n",
    "\n",
    "for item in blast_hits[0]:\n",
    "    pdbdesc = describe_pdb(item)\n",
    "    print(pdbdesc['title'])"
   ]
  },
  {
   "cell_type": "markdown",
   "metadata": {},
   "source": [
    "## Number of GFP Deposition vs time"
   ]
  },
  {
   "cell_type": "code",
   "execution_count": 22,
   "metadata": {
    "collapsed": false
   },
   "outputs": [
    {
     "data": {
      "image/png": "[encoded data removed]",
      "text/plain": [
       "<matplotlib.figure.Figure at 0x10fe5fb38>"
      ]
     },
     "metadata": {},
     "output_type": "display_data"
    }
   ],
   "source": [
    "# Perform search\n",
    "all_dates = find_dates('gfp', max_results=100)\n",
    "all_dates = array(all_dates)\n",
    "all_dates = array([int(depdate[:4]) for depdate in all_dates])\n",
    "subs_v_time = histogram(all_dates, max(all_dates)-min(all_dates))\n",
    "dates, num_entries = subs_v_time[1][1:], subs_v_time[0]\n",
    "popgraph = fill_between(dates, 0, num_entries)\n",
    "\n",
    "# Formatting the plots\n",
    "xlim([dates[0], dates[-1]] )\n",
    "gca().xaxis.set_major_formatter(FormatStrFormatter('%d'))\n",
    "xticks(fontweight='bold')\n",
    "yticks(fontweight='bold')\n",
    "xlabel('Year',fontweight='bold')\n",
    "ylabel('New PDB entries (GFP)',fontweight='bold')\n",
    "show(popgraph)"
   ]
  },
  {
   "cell_type": "markdown",
   "metadata": {},
   "source": [
    "## Visualize GFP Structure (Raw)"
   ]
  },
  {
   "cell_type": "code",
   "execution_count": 4,
   "metadata": {
    "collapsed": false
   },
   "outputs": [],
   "source": [
    "import nglview\n",
    "view = nglview.show_pdbid(\"1gfl\")  # load \"1gfl\" from RCSB PDB and display viewer widget\n",
    "view"
   ]
  },
  {
   "cell_type": "markdown",
   "metadata": {
    "collapsed": true
   },
   "source": [
    "## Visualize GFP Structure (remove water) with cartoon structure"
   ]
  },
  {
   "cell_type": "code",
   "execution_count": 8,
   "metadata": {
    "collapsed": true
   },
   "outputs": [],
   "source": [
    "import nglview\n",
    "view = nglview.show_pdbid(\"1gfl\")  # load \"1gfl\" from RCSB PDB and display viewer widget\n",
    "view.clear_representations() # hide everything\n",
    "#view.add_licorice('not water', color = 'green') # remove water and change the color to green\n",
    "view.add_cartoon() # add cartoon structure\n",
    "view"
   ]
  },
  {
   "cell_type": "code",
   "execution_count": null,
   "metadata": {
    "collapsed": true
   },
   "outputs": [],
   "source": []
  }
 ],
 "metadata": {
  "kernelspec": {
   "display_name": "Python 3",
   "language": "python",
   "name": "python3"
  },
  "language_info": {
   "codemirror_mode": {
    "name": "ipython",
    "version": 3
   },
   "file_extension": ".py",
   "mimetype": "text/x-python",
   "name": "python",
   "nbconvert_exporter": "python",
   "pygments_lexer": "ipython3",
   "version": "3.5.1"
  }
 },
 "nbformat": 4,
 "nbformat_minor": 0
}
