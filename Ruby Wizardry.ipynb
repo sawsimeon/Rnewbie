{
 "cells": [
  {
   "cell_type": "code",
   "execution_count": 1,
   "metadata": {
    "collapsed": false
   },
   "outputs": [
    {
     "name": "stdout",
     "output_type": "stream",
     "text": [
      "Saw Simeon!\n"
     ]
    }
   ],
   "source": [
    "puts (\"Saw Simeon!\")"
   ]
  },
  {
   "cell_type": "code",
   "execution_count": 2,
   "metadata": {
    "collapsed": false
   },
   "outputs": [
    {
     "name": "stdout",
     "output_type": "stream",
     "text": [
      "Ruby is awesome!\n"
     ]
    }
   ],
   "source": [
    "puts \"Ruby is awesome!\""
   ]
  },
  {
   "cell_type": "code",
   "execution_count": 3,
   "metadata": {
    "collapsed": false
   },
   "outputs": [
    {
     "data": {
      "text/plain": [
       "7"
      ]
     },
     "execution_count": 3,
     "metadata": {},
     "output_type": "execute_result"
    }
   ],
   "source": [
    "2 + 5"
   ]
  },
  {
   "cell_type": "code",
   "execution_count": 4,
   "metadata": {
    "collapsed": false
   },
   "outputs": [
    {
     "data": {
      "text/plain": [
       "240"
      ]
     },
     "execution_count": 4,
     "metadata": {},
     "output_type": "execute_result"
    }
   ],
   "source": [
    "24 * 10"
   ]
  },
  {
   "cell_type": "code",
   "execution_count": 6,
   "metadata": {
    "collapsed": false
   },
   "outputs": [
    {
     "data": {
      "text/plain": [
       "\"Hi there!\""
      ]
     },
     "execution_count": 6,
     "metadata": {},
     "output_type": "execute_result"
    }
   ],
   "source": [
    "'Hi ' + 'there!'"
   ]
  },
  {
   "cell_type": "code",
   "execution_count": 7,
   "metadata": {
    "collapsed": false
   },
   "outputs": [
    {
     "data": {
      "text/plain": [
       "\"Property of His Royal Higheness, the King\""
      ]
     },
     "execution_count": 7,
     "metadata": {},
     "output_type": "execute_result"
    }
   ],
   "source": [
    "'Property of His Royal Higheness, the King'"
   ]
  },
  {
   "cell_type": "code",
   "execution_count": 9,
   "metadata": {
    "collapsed": false
   },
   "outputs": [
    {
     "data": {
      "text/plain": [
       "40"
      ]
     },
     "execution_count": 9,
     "metadata": {},
     "output_type": "execute_result"
    }
   ],
   "source": [
    "'Property of His Royal Highness, the King'.length"
   ]
  },
  {
   "cell_type": "code",
   "execution_count": 10,
   "metadata": {
    "collapsed": false
   },
   "outputs": [
    {
     "data": {
      "text/plain": [
       "\"gniK eht ,ssenhgiH layoR siH fo ytreporP\""
      ]
     },
     "execution_count": 10,
     "metadata": {},
     "output_type": "execute_result"
    }
   ],
   "source": [
    "'Property of His Royal Highness, the King'.reverse"
   ]
  },
  {
   "cell_type": "code",
   "execution_count": 11,
   "metadata": {
    "collapsed": false
   },
   "outputs": [
    {
     "data": {
      "text/plain": [
       "\"A string fit for a king\""
      ]
     },
     "execution_count": 11,
     "metadata": {},
     "output_type": "execute_result"
    }
   ],
   "source": [
    "king_string = 'A string fit for a king'"
   ]
  },
  {
   "cell_type": "code",
   "execution_count": 12,
   "metadata": {
    "collapsed": false
   },
   "outputs": [
    {
     "data": {
      "text/plain": [
       "22"
      ]
     },
     "execution_count": 12,
     "metadata": {},
     "output_type": "execute_result"
    }
   ],
   "source": [
    "wiener_dog_weight = 22"
   ]
  },
  {
   "cell_type": "code",
   "execution_count": 13,
   "metadata": {
    "collapsed": false
   },
   "outputs": [
    {
     "data": {
      "text/plain": [
       "22"
      ]
     },
     "execution_count": 13,
     "metadata": {},
     "output_type": "execute_result"
    }
   ],
   "source": [
    "wiener_dog_weight"
   ]
  },
  {
   "cell_type": "code",
   "execution_count": 14,
   "metadata": {
    "collapsed": false
   },
   "outputs": [
    {
     "data": {
      "text/plain": [
       "22"
      ]
     },
     "execution_count": 14,
     "metadata": {},
     "output_type": "execute_result"
    }
   ],
   "source": [
    "smalls_weight = 22"
   ]
  },
  {
   "cell_type": "code",
   "execution_count": 16,
   "metadata": {
    "collapsed": false
   },
   "outputs": [
    {
     "data": {
      "text/plain": [
       "4"
      ]
     },
     "execution_count": 16,
     "metadata": {},
     "output_type": "execute_result"
    }
   ],
   "source": [
    "pounds_lost = 4"
   ]
  },
  {
   "cell_type": "code",
   "execution_count": 17,
   "metadata": {
    "collapsed": false
   },
   "outputs": [
    {
     "data": {
      "text/plain": [
       "18"
      ]
     },
     "execution_count": 17,
     "metadata": {},
     "output_type": "execute_result"
    }
   ],
   "source": [
    "smalls_new_weight = smalls_weight - pounds_lost"
   ]
  },
  {
   "cell_type": "code",
   "execution_count": 18,
   "metadata": {
    "collapsed": false
   },
   "outputs": [
    {
     "data": {
      "text/plain": [
       "\"gniK eht ,ssenhgiH layoR siH fo ytreporP\""
      ]
     },
     "execution_count": 18,
     "metadata": {},
     "output_type": "execute_result"
    }
   ],
   "source": [
    "'Property of His Royal Highness, the King'.reverse"
   ]
  },
  {
   "cell_type": "code",
   "execution_count": 19,
   "metadata": {
    "collapsed": false
   },
   "outputs": [
    {
     "data": {
      "text/plain": [
       "\"81\""
      ]
     },
     "execution_count": 19,
     "metadata": {},
     "output_type": "execute_result"
    }
   ],
   "source": [
    "\"18\".reverse"
   ]
  },
  {
   "cell_type": "code",
   "execution_count": 20,
   "metadata": {
    "collapsed": false
   },
   "outputs": [
    {
     "data": {
      "text/plain": [
       "117"
      ]
     },
     "execution_count": 20,
     "metadata": {},
     "output_type": "execute_result"
    }
   ],
   "source": [
    "100 + 17"
   ]
  },
  {
   "cell_type": "code",
   "execution_count": 21,
   "metadata": {
    "collapsed": false
   },
   "outputs": [
    {
     "data": {
      "text/plain": [
       "30"
      ]
     },
     "execution_count": 21,
     "metadata": {},
     "output_type": "execute_result"
    }
   ],
   "source": [
    "50 - 20"
   ]
  },
  {
   "cell_type": "code",
   "execution_count": 22,
   "metadata": {
    "collapsed": false
   },
   "outputs": [
    {
     "data": {
      "text/plain": [
       "100"
      ]
     },
     "execution_count": 22,
     "metadata": {},
     "output_type": "execute_result"
    }
   ],
   "source": [
    "10 * 10"
   ]
  },
  {
   "cell_type": "code",
   "execution_count": 23,
   "metadata": {
    "collapsed": false
   },
   "outputs": [
    {
     "data": {
      "text/plain": [
       "2"
      ]
     },
     "execution_count": 23,
     "metadata": {},
     "output_type": "execute_result"
    }
   ],
   "source": [
    "40 / 20"
   ]
  },
  {
   "cell_type": "code",
   "execution_count": 24,
   "metadata": {
    "collapsed": false
   },
   "outputs": [
    {
     "data": {
      "text/plain": [
       "23"
      ]
     },
     "execution_count": 24,
     "metadata": {},
     "output_type": "execute_result"
    }
   ],
   "source": [
    "22.next"
   ]
  },
  {
   "cell_type": "code",
   "execution_count": 25,
   "metadata": {
    "collapsed": false
   },
   "outputs": [
    {
     "data": {
      "text/plain": [
       "21"
      ]
     },
     "execution_count": 25,
     "metadata": {},
     "output_type": "execute_result"
    }
   ],
   "source": [
    "22.pred"
   ]
  },
  {
   "cell_type": "code",
   "execution_count": 26,
   "metadata": {
    "collapsed": false
   },
   "outputs": [
    {
     "data": {
      "text/plain": [
       "\"A string's the thing\""
      ]
     },
     "execution_count": 26,
     "metadata": {},
     "output_type": "execute_result"
    }
   ],
   "source": [
    "double_quotes = \"A string's the thing\""
   ]
  },
  {
   "cell_type": "code",
   "execution_count": 27,
   "metadata": {
    "collapsed": false
   },
   "outputs": [
    {
     "data": {
      "text/plain": [
       "\"for a springly King\""
      ]
     },
     "execution_count": 27,
     "metadata": {},
     "output_type": "execute_result"
    }
   ],
   "source": [
    "single_quotes = 'for a springly King'"
   ]
  },
  {
   "cell_type": "code",
   "execution_count": 28,
   "metadata": {
    "collapsed": false
   },
   "outputs": [
    {
     "name": "stdout",
     "output_type": "stream",
     "text": [
      "Property of his Royal Highness, the King\n",
      "gniK eht ,ssenhgiH layoR sih fo ytreporP\n",
      "Property of his Royal Highness, the KingProperty of his Royal Highness, the KingProperty of his Royal Highness, the King\n"
     ]
    }
   ],
   "source": [
    "kings_string = \"Property of his Royal Highness, the King\"\n",
    "string_reflection = kings_string.reverse\n",
    "times_to_echo = 3\n",
    "string_echo = kings_string * times_to_echo\n",
    "puts kings_string\n",
    "puts string_reflection\n",
    "puts string_echo"
   ]
  },
  {
   "cell_type": "code",
   "execution_count": 29,
   "metadata": {
    "collapsed": false
   },
   "outputs": [
    {
     "data": {
      "text/plain": [
       "\"Hello!Hello!Hello!\""
      ]
     },
     "execution_count": 29,
     "metadata": {},
     "output_type": "execute_result"
    }
   ],
   "source": [
    "\"Hello!\" * 3"
   ]
  },
  {
   "cell_type": "code",
   "execution_count": 30,
   "metadata": {
    "collapsed": false
   },
   "outputs": [
    {
     "data": {
      "text/plain": [
       "8"
      ]
     },
     "execution_count": 30,
     "metadata": {},
     "output_type": "execute_result"
    }
   ],
   "source": [
    "\"gadzooks\".length"
   ]
  },
  {
   "cell_type": "code",
   "execution_count": 31,
   "metadata": {
    "collapsed": false
   },
   "outputs": [
    {
     "data": {
      "text/plain": [
       "5"
      ]
     },
     "execution_count": 31,
     "metadata": {},
     "output_type": "execute_result"
    }
   ],
   "source": [
    "4.next"
   ]
  },
  {
   "cell_type": "code",
   "execution_count": 32,
   "metadata": {
    "collapsed": false
   },
   "outputs": [
    {
     "data": {
      "text/plain": [
       "\"chunky\""
      ]
     },
     "execution_count": 32,
     "metadata": {},
     "output_type": "execute_result"
    }
   ],
   "source": [
    "bacon_consistency = \"chunky\""
   ]
  },
  {
   "cell_type": "code",
   "execution_count": 33,
   "metadata": {
    "collapsed": false
   },
   "outputs": [
    {
     "data": {
      "text/plain": [
       "3"
      ]
     },
     "execution_count": 33,
     "metadata": {},
     "output_type": "execute_result"
    }
   ],
   "source": [
    "number_of_bacon_strips = 3"
   ]
  },
  {
   "cell_type": "code",
   "execution_count": 34,
   "metadata": {
    "collapsed": false
   },
   "outputs": [
    {
     "data": {
      "text/plain": [
       "\"chunky\""
      ]
     },
     "execution_count": 34,
     "metadata": {},
     "output_type": "execute_result"
    }
   ],
   "source": [
    "bacon_consistency"
   ]
  },
  {
   "cell_type": "code",
   "execution_count": 35,
   "metadata": {
    "collapsed": false
   },
   "outputs": [
    {
     "data": {
      "text/plain": [
       "false"
      ]
     },
     "execution_count": 35,
     "metadata": {},
     "output_type": "execute_result"
    }
   ],
   "source": [
    "flowmatic_on = false"
   ]
  },
  {
   "cell_type": "code",
   "execution_count": 36,
   "metadata": {
    "collapsed": false
   },
   "outputs": [
    {
     "name": "stdout",
     "output_type": "stream",
     "text": [
      "The flow rate is currently 100.\n",
      "Now the flow rate is 50!\n"
     ]
    }
   ],
   "source": [
    "flow_rate = 100\n",
    "puts \"The flow rate is currently #{flow_rate}.\"\n",
    "flow_rate = 100/2\n",
    "puts \"Now the flow rate is #{flow_rate}!\""
   ]
  },
  {
   "cell_type": "code",
   "execution_count": 37,
   "metadata": {
    "collapsed": false
   },
   "outputs": [
    {
     "data": {
      "text/plain": [
       "50"
      ]
     },
     "execution_count": 37,
     "metadata": {},
     "output_type": "execute_result"
    }
   ],
   "source": [
    "flowmatic_on = true\n",
    "water_available = true\n",
    "if flowmatic_on && water_available\n",
    "  flow_rate = 50\n",
    "end"
   ]
  },
  {
   "cell_type": "code",
   "execution_count": 38,
   "metadata": {
    "collapsed": false
   },
   "outputs": [
    {
     "data": {
      "text/plain": [
       "50"
      ]
     },
     "execution_count": 38,
     "metadata": {},
     "output_type": "execute_result"
    }
   ],
   "source": [
    "flowmatic_on = true\n",
    "water_available = true\n",
    "if flowmatic_on && water_available\n",
    "  flow_rate = 50\n",
    "elsif !flowmatic_on\n",
    "  puts \"Flowmatic is off!\"\n",
    "else\n",
    "  puts \"No water!\"\n",
    "end"
   ]
  },
  {
   "cell_type": "code",
   "execution_count": 39,
   "metadata": {
    "collapsed": false
   },
   "outputs": [
    {
     "name": "stdout",
     "output_type": "stream",
     "text": [
      "The flow_rate is 50 (thank goodness).\n"
     ]
    }
   ],
   "source": [
    "if flow_rate > 50\n",
    "  puts \"Warning! flow_rate is above 50! It's #{flow_rate}.\"\n",
    "  flow_rate = 50\n",
    "  puts \"The flow_rate's been reset to #{flow_rate}.\"\n",
    "elsif flow_rate < 50\n",
    "  puts \"Warning! flow_rate is below 50! Its #{flow_rate}.\"\n",
    "  flow_rate = 50\n",
    "  puts \"The flow_rate's been reset to #{flow_rate}.\"\n",
    "else\n",
    "  puts \"The flow_rate is #{flow_rate} (thank goodness).\"\n",
    "end"
   ]
  },
  {
   "cell_type": "code",
   "execution_count": 40,
   "metadata": {
    "collapsed": false
   },
   "outputs": [
    {
     "name": "stdout",
     "output_type": "stream",
     "text": [
      "The flow_rate is 50 (thank goodness).\n"
     ]
    }
   ],
   "source": [
    "if flow_rate < 50 || flow_rate > 50\n",
    "  puts \"Warning! flow_rate is not 50! It's #{flow_rate}.\"\n",
    "  flow_rate = 50\n",
    "  puts \"The flow_rate's been reset to #{flow_rate}.\"\n",
    "else\n",
    "  puts \"The flow_rate is #{flow_rate} (thank goodness).\"\n",
    "end"
   ]
  },
  {
   "cell_type": "code",
   "execution_count": 41,
   "metadata": {
    "collapsed": false
   },
   "outputs": [
    {
     "name": "stdout",
     "output_type": "stream",
     "text": [
      "The flow_rate is 50 (thank goodness).\n"
     ]
    }
   ],
   "source": [
    "if flow_rate != 50\n",
    "  puts \"Warning! flow_rate is not 50! It's #{flow_rate}.\"\n",
    "  flow_rate = 50\n",
    "  puts \"The flow_rate's been reset to #{flow_rate}\"\n",
    "else\n",
    "  puts \"The flow_rate is #{flow_rate} (thank goodness).\"\n",
    "end"
   ]
  },
  {
   "cell_type": "code",
   "execution_count": 43,
   "metadata": {
    "collapsed": false
   },
   "outputs": [],
   "source": [
    "if flow_rate != 50\n",
    "  puts \"Warnings! flow_rate is not 50! It's #{flow_rate}.\"\n",
    "end"
   ]
  },
  {
   "cell_type": "code",
   "execution_count": 44,
   "metadata": {
    "collapsed": true
   },
   "outputs": [],
   "source": [
    "unless flow_rate == 50\n",
    "  puts \"Warnings! flow_rate is not 50! It's #{flow_rate}.\"\n",
    "end"
   ]
  },
  {
   "cell_type": "code",
   "execution_count": 45,
   "metadata": {
    "collapsed": false
   },
   "outputs": [
    {
     "name": "stdout",
     "output_type": "stream",
     "text": [
      "Holy giraffes! You fell into a maze!\n",
      "Where to? (N, E, S, W): "
     ]
    },
    {
     "ename": "Errno::ENOENT",
     "evalue": "No such file or directory @ rb_sysopen - kernel",
     "output_type": "error",
     "traceback": [
      "\u001b[31mErrno::ENOENT\u001b[0m: No such file or directory @ rb_sysopen - kernel",
      "\u001b[37m<main>:2:in `gets'\u001b[0m",
      "\u001b[37m<main>:2:in `gets'\u001b[0m",
      "\u001b[37m<main>:2:in `<main>'\u001b[0m",
      "\u001b[37m/Users/saw/.rvm/rubies/ruby-2.1.0/lib/ruby/gems/2.1.0/gems/iruby-0.2.9/lib/iruby/backend.rb:44:in `eval'\u001b[0m",
      "\u001b[37m/Users/saw/.rvm/rubies/ruby-2.1.0/lib/ruby/gems/2.1.0/gems/iruby-0.2.9/lib/iruby/backend.rb:44:in `eval'\u001b[0m",
      "\u001b[37m/Users/saw/.rvm/rubies/ruby-2.1.0/lib/ruby/gems/2.1.0/gems/iruby-0.2.9/lib/iruby/backend.rb:12:in `eval'\u001b[0m",
      "\u001b[37m/Users/saw/.rvm/rubies/ruby-2.1.0/lib/ruby/gems/2.1.0/gems/iruby-0.2.9/lib/iruby/kernel.rb:87:in `execute_request'\u001b[0m",
      "\u001b[37m/Users/saw/.rvm/rubies/ruby-2.1.0/lib/ruby/gems/2.1.0/gems/iruby-0.2.9/lib/iruby/kernel.rb:47:in `dispatch'\u001b[0m",
      "\u001b[37m/Users/saw/.rvm/rubies/ruby-2.1.0/lib/ruby/gems/2.1.0/gems/iruby-0.2.9/lib/iruby/kernel.rb:37:in `run'\u001b[0m",
      "\u001b[37m/Users/saw/.rvm/rubies/ruby-2.1.0/lib/ruby/gems/2.1.0/gems/iruby-0.2.9/lib/iruby/command.rb:70:in `run_kernel'\u001b[0m",
      "\u001b[37m/Users/saw/.rvm/rubies/ruby-2.1.0/lib/ruby/gems/2.1.0/gems/iruby-0.2.9/lib/iruby/command.rb:34:in `run'\u001b[0m",
      "\u001b[37m/Users/saw/.rvm/gems/ruby-2.1.0@global/gems/iruby-0.2.9/bin/iruby:5:in `<top (required)>'\u001b[0m",
      "\u001b[37m/Users/saw/.rvm/rubies/ruby-2.1.0/bin/iruby:23:in `load'\u001b[0m",
      "\u001b[37m/Users/saw/.rvm/rubies/ruby-2.1.0/bin/iruby:23:in `<main>'\u001b[0m",
      "\u001b[37m/Users/saw/.rvm/gems/ruby-2.1.0@rails-4.0/bin/ruby_executable_hooks:15:in `eval'\u001b[0m",
      "\u001b[37m/Users/saw/.rvm/gems/ruby-2.1.0@rails-4.0/bin/ruby_executable_hooks:15:in `<main>'\u001b[0m"
     ]
    }
   ],
   "source": [
    "puts \"Holy giraffes! You fell into a maze!\"\n",
    "print \"Where to? (N, E, S, W): \"\n",
    "direction = gets.chomp\n",
    "\n",
    "puts \"#{direction}, you say? A fine choice!\"\n",
    "\n",
    "if direction == \"N\"\n",
    "  puts \"you are in a maze of twisty little passages, all alike.\"\n",
    "elsif direction == \"E\"\n",
    "  puts \"An elf! And his pet ham!\"\n",
    "elsif direction == \"S\"\n",
    "  puts \"A minotaur! Wait, no, that's just yoru reflection.\"\n",
    "elsif direction == \"W\"\n",
    "  puts \"You're here, whereever here is.\"\n",
    "else\n",
    "  puts \"Wait, is that even a direction?\"\n",
    "end"
   ]
  },
  {
   "cell_type": "code",
   "execution_count": 47,
   "metadata": {
    "collapsed": false
   },
   "outputs": [
    {
     "data": {
      "text/plain": [
       "[\"East Bumpspark\", \"Endortromb Avenue\", \"New Mixico\", \"Mal Abochny\"]"
      ]
     },
     "execution_count": 47,
     "metadata": {},
     "output_type": "execute_result"
    }
   ],
   "source": [
    "[\"East Bumpspark\", \"Endortromb Avenue\", \"New Mixico\", \"Mal Abochny\"]"
   ]
  },
  {
   "cell_type": "code",
   "execution_count": 48,
   "metadata": {
    "collapsed": false
   },
   "outputs": [
    {
     "data": {
      "text/plain": [
       "[\"cheese\", \"bread\", \"grapes\", \"a vestive hat for all occasions\"]"
      ]
     },
     "execution_count": 48,
     "metadata": {},
     "output_type": "execute_result"
    }
   ],
   "source": [
    "grocery_list = [\"cheese\", \"bread\", \"grapes\", \"a vestive hat for all occasions\"]"
   ]
  },
  {
   "cell_type": "code",
   "execution_count": 49,
   "metadata": {
    "collapsed": false
   },
   "outputs": [
    {
     "name": "stdout",
     "output_type": "stream",
     "text": [
      "cheese\n",
      "grapes\n"
     ]
    },
    {
     "data": {
      "text/plain": [
       "[\"cheese\", \"bread\", \"grapes\", \"a vestive hat for all occasions\"]"
      ]
     },
     "execution_count": 49,
     "metadata": {},
     "output_type": "execute_result"
    }
   ],
   "source": [
    "for item in grocery_list\n",
    "  next if item.length.odd?\n",
    "  puts item\n",
    "end"
   ]
  },
  {
   "cell_type": "code",
   "execution_count": 50,
   "metadata": {
    "collapsed": false
   },
   "outputs": [
    {
     "data": {
      "text/plain": [
       "[\"East Bumpspark\", \"Endertromb Avenue\", \"New Mixico\", \"Mal Abochny\"]"
      ]
     },
     "execution_count": 50,
     "metadata": {},
     "output_type": "execute_result"
    }
   ],
   "source": [
    "stops = [\"East Bumpspark\", \"Endertromb Avenue\", \"New Mixico\", \"Mal Abochny\"]\n",
    "for stop in stops\n",
    "  next if stop.empty?\n",
    "end"
   ]
  },
  {
   "cell_type": "code",
   "execution_count": 51,
   "metadata": {
    "collapsed": false
   },
   "outputs": [
    {
     "data": {
      "text/plain": [
       "[\"East Bumpspark\", \"Endrobromb Avenue\", \"New Mixico\", \"Mal Abochny\"]"
      ]
     },
     "execution_count": 51,
     "metadata": {},
     "output_type": "execute_result"
    }
   ],
   "source": [
    "stops = [\"East Bumpspark\", \"Endrobromb Avenue\", \"New Mixico\", \"Mal Abochny\"]\n",
    "stops.each do |stop|\n",
    "  next if stop.empty?\n",
    "end"
   ]
  },
  {
   "cell_type": "code",
   "execution_count": 53,
   "metadata": {
    "collapsed": false
   },
   "outputs": [
    {
     "data": {
      "text/plain": [
       "[\"East Bumpspark\", \"Endertromb Avenue\", \"New Mixico\", \"Mal Abochny\"]"
      ]
     },
     "execution_count": 53,
     "metadata": {},
     "output_type": "execute_result"
    }
   ],
   "source": [
    "stops = [\"East Bumpspark\", \"Endertromb Avenue\", \"New Mixico\", \"Mal Abochny\"]\n",
    "stops.each { |stop| next if stop.empty? }"
   ]
  },
  {
   "cell_type": "code",
   "execution_count": 54,
   "metadata": {
    "collapsed": false
   },
   "outputs": [
    {
     "data": {
      "text/plain": [
       "[\"East Bumpspark\", \"Endertromb Avenue\", \"New Mixico\", \"Mal Abochny\"]"
      ]
     },
     "execution_count": 54,
     "metadata": {},
     "output_type": "execute_result"
    }
   ],
   "source": [
    "we_wanna_ride = true\n",
    "stops = [\"East Bumpspark\", \"Endertromb Avenue\", \"New Mixico\", \"Mal Abochny\"]"
   ]
  },
  {
   "cell_type": "markdown",
   "metadata": {},
   "source": [
    "## Ruby Wizardry (page 82 of 353)"
   ]
  },
  {
   "cell_type": "code",
   "execution_count": 55,
   "metadata": {
    "collapsed": false
   },
   "outputs": [
    {
     "name": "stdout",
     "output_type": "stream",
     "text": [
      "Where ya heading' friend?: "
     ]
    },
    {
     "ename": "NoMethodError",
     "evalue": "undefined method `comp' for \"{\\n\":String",
     "output_type": "error",
     "traceback": [
      "\u001b[31mNoMethodError\u001b[0m: undefined method `comp' for \"{\\n\":String",
      "\u001b[37m<main>:4:in `<main>'\u001b[0m",
      "\u001b[37m/Users/saw/.rvm/rubies/ruby-2.1.0/lib/ruby/gems/2.1.0/gems/iruby-0.2.9/lib/iruby/backend.rb:44:in `eval'\u001b[0m",
      "\u001b[37m/Users/saw/.rvm/rubies/ruby-2.1.0/lib/ruby/gems/2.1.0/gems/iruby-0.2.9/lib/iruby/backend.rb:44:in `eval'\u001b[0m",
      "\u001b[37m/Users/saw/.rvm/rubies/ruby-2.1.0/lib/ruby/gems/2.1.0/gems/iruby-0.2.9/lib/iruby/backend.rb:12:in `eval'\u001b[0m",
      "\u001b[37m/Users/saw/.rvm/rubies/ruby-2.1.0/lib/ruby/gems/2.1.0/gems/iruby-0.2.9/lib/iruby/kernel.rb:87:in `execute_request'\u001b[0m",
      "\u001b[37m/Users/saw/.rvm/rubies/ruby-2.1.0/lib/ruby/gems/2.1.0/gems/iruby-0.2.9/lib/iruby/kernel.rb:47:in `dispatch'\u001b[0m",
      "\u001b[37m/Users/saw/.rvm/rubies/ruby-2.1.0/lib/ruby/gems/2.1.0/gems/iruby-0.2.9/lib/iruby/kernel.rb:37:in `run'\u001b[0m",
      "\u001b[37m/Users/saw/.rvm/rubies/ruby-2.1.0/lib/ruby/gems/2.1.0/gems/iruby-0.2.9/lib/iruby/command.rb:70:in `run_kernel'\u001b[0m",
      "\u001b[37m/Users/saw/.rvm/rubies/ruby-2.1.0/lib/ruby/gems/2.1.0/gems/iruby-0.2.9/lib/iruby/command.rb:34:in `run'\u001b[0m",
      "\u001b[37m/Users/saw/.rvm/gems/ruby-2.1.0@global/gems/iruby-0.2.9/bin/iruby:5:in `<top (required)>'\u001b[0m",
      "\u001b[37m/Users/saw/.rvm/rubies/ruby-2.1.0/bin/iruby:23:in `load'\u001b[0m",
      "\u001b[37m/Users/saw/.rvm/rubies/ruby-2.1.0/bin/iruby:23:in `<main>'\u001b[0m",
      "\u001b[37m/Users/saw/.rvm/gems/ruby-2.1.0@rails-4.0/bin/ruby_executable_hooks:15:in `eval'\u001b[0m",
      "\u001b[37m/Users/saw/.rvm/gems/ruby-2.1.0@rails-4.0/bin/ruby_executable_hooks:15:in `<main>'\u001b[0m"
     ]
    }
   ],
   "source": [
    "we_wanna_ride = true\n",
    "stops = [\"East Bumpspark\", \"Endertromb Avenue\", \"New Mixico\", \"Mal Abochny\"]\n",
    "while we_wanna_ride\n",
    "  print \"Where ya heading' friend?: \"\n",
    "  destination = gets.comp\n",
    "  if stops.include? destination\n",
    "    puts \" I know how to get to #{destination}! Here's is the station list:\"\n",
    "    stops.each do |stop|\n",
    "      puts stop\n",
    "      break if stop == destination\n",
    "    end\n",
    "  else\n",
    "    puts \"Sorry, We don't stop at the station. Maybe another time!\"\n",
    "    we_wanna_ride = false\n",
    "  end\n",
    "end\n"
   ]
  },
  {
   "cell_type": "code",
   "execution_count": 56,
   "metadata": {
    "collapsed": false
   },
   "outputs": [
    {
     "data": {
      "text/plain": [
       "[\"sunny_side_up_egg\", \"sunny_side_up_egg\", \"sunny_side_up_egg\"]"
      ]
     },
     "execution_count": 56,
     "metadata": {},
     "output_type": "execute_result"
    }
   ],
   "source": [
    "order_one = ['sunny_side_up_egg', 'sunny_side_up_egg', \"sunny_side_up_egg\"]"
   ]
  },
  {
   "cell_type": "code",
   "execution_count": 57,
   "metadata": {
    "collapsed": false
   },
   "outputs": [
    {
     "data": {
      "text/plain": [
       "[\"sunny_side_up_egg\", \"sunny_side_up_egg\", \"sunny_side_up_egg\"]"
      ]
     },
     "execution_count": 57,
     "metadata": {},
     "output_type": "execute_result"
    }
   ],
   "source": [
    "order_two = Array.new(3, 'sunny_side_up_egg')"
   ]
  },
  {
   "cell_type": "code",
   "execution_count": 58,
   "metadata": {
    "collapsed": false
   },
   "outputs": [
    {
     "data": {
      "text/plain": [
       "[1, \"two\", \"sunny_side_up_egg\", true]"
      ]
     },
     "execution_count": 58,
     "metadata": {},
     "output_type": "execute_result"
    }
   ],
   "source": [
    "random_array = [1, 'two', 'sunny_side_up_egg', true]"
   ]
  },
  {
   "cell_type": "code",
   "execution_count": 59,
   "metadata": {
    "collapsed": false
   },
   "outputs": [
    {
     "data": {
      "text/plain": [
       "[\"hash\"]"
      ]
     },
     "execution_count": 59,
     "metadata": {},
     "output_type": "execute_result"
    }
   ],
   "source": [
    "order_three = ['hash']"
   ]
  },
  {
   "cell_type": "code",
   "execution_count": 60,
   "metadata": {
    "collapsed": false
   },
   "outputs": [
    {
     "data": {
      "text/plain": [
       "[\"egg\", \"hash\"]"
      ]
     },
     "execution_count": 60,
     "metadata": {},
     "output_type": "execute_result"
    }
   ],
   "source": [
    "order_four = ['egg', 'hash']"
   ]
  },
  {
   "cell_type": "code",
   "execution_count": 61,
   "metadata": {
    "collapsed": false
   },
   "outputs": [
    {
     "data": {
      "text/plain": [
       "[[\"sunny_side_up_egg\", \"sunny_side_up_egg\", \"sunny_side_up_egg\"], [\"sunny_side_up_egg\", \"sunny_side_up_egg\", \"sunny_side_up_egg\"], [\"hash\"], [\"egg\", \"hash\"]]"
      ]
     },
     "execution_count": 61,
     "metadata": {},
     "output_type": "execute_result"
    }
   ],
   "source": [
    "todays_orders = [order_one, order_two, order_three, order_four]"
   ]
  },
  {
   "cell_type": "code",
   "execution_count": 62,
   "metadata": {
    "collapsed": false
   },
   "outputs": [
    {
     "data": {
      "text/plain": [
       "[\"sunny_side_up_egg\", \"sunny_side_up_egg\", \"sunny_side_up_egg\"]"
      ]
     },
     "execution_count": 62,
     "metadata": {},
     "output_type": "execute_result"
    }
   ],
   "source": [
    "todays_orders.first"
   ]
  },
  {
   "cell_type": "code",
   "execution_count": 63,
   "metadata": {
    "collapsed": false
   },
   "outputs": [
    {
     "data": {
      "text/plain": [
       "[\"egg\", \"hash\"]"
      ]
     },
     "execution_count": 63,
     "metadata": {},
     "output_type": "execute_result"
    }
   ],
   "source": [
    "todays_orders.last"
   ]
  },
  {
   "cell_type": "code",
   "execution_count": 64,
   "metadata": {
    "collapsed": false
   },
   "outputs": [
    {
     "data": {
      "text/plain": [
       "false"
      ]
     },
     "execution_count": 64,
     "metadata": {},
     "output_type": "execute_result"
    }
   ],
   "source": [
    "todays_orders.empty?"
   ]
  },
  {
   "cell_type": "code",
   "execution_count": 66,
   "metadata": {
    "collapsed": false
   },
   "outputs": [
    {
     "data": {
      "text/plain": [
       "4"
      ]
     },
     "execution_count": 66,
     "metadata": {},
     "output_type": "execute_result"
    }
   ],
   "source": [
    "todays_orders.length"
   ]
  },
  {
   "cell_type": "code",
   "execution_count": 67,
   "metadata": {
    "collapsed": false
   },
   "outputs": [
    {
     "data": {
      "text/plain": [
       "[[\"sunny_side_up_egg\", \"sunny_side_up_egg\", \"sunny_side_up_egg\"], [\"sunny_side_up_egg\", \"sunny_side_up_egg\", \"sunny_side_up_egg\"], [\"hash\"], [\"egg\", \"hash\"]]"
      ]
     },
     "execution_count": 67,
     "metadata": {},
     "output_type": "execute_result"
    }
   ],
   "source": [
    "todays_orders"
   ]
  },
  {
   "cell_type": "code",
   "execution_count": 68,
   "metadata": {
    "collapsed": false
   },
   "outputs": [
    {
     "data": {
      "text/plain": [
       "[\"sunny_side_up_egg\", \"sunny_side_up_egg\", \"sunny_side_up_egg\"]"
      ]
     },
     "execution_count": 68,
     "metadata": {},
     "output_type": "execute_result"
    }
   ],
   "source": [
    "current_order = todays_orders.shift"
   ]
  },
  {
   "cell_type": "code",
   "execution_count": 70,
   "metadata": {
    "collapsed": false
   },
   "outputs": [
    {
     "data": {
      "text/plain": [
       "[[\"sunny_side_up_egg\", \"sunny_side_up_egg\", \"sunny_side_up_egg\"], [\"hash\"], [\"egg\", \"hash\"]]"
      ]
     },
     "execution_count": 70,
     "metadata": {},
     "output_type": "execute_result"
    }
   ],
   "source": [
    "todays_orders"
   ]
  },
  {
   "cell_type": "code",
   "execution_count": 71,
   "metadata": {
    "collapsed": false
   },
   "outputs": [
    {
     "data": {
      "text/plain": [
       "[\"egg\", \"has\", \"gravy\", \"biscuit\", \"sausage\", \"jam\"]"
      ]
     },
     "execution_count": 71,
     "metadata": {},
     "output_type": "execute_result"
    }
   ],
   "source": [
    "breakfast_items = ['egg', 'has', 'gravy', 'biscuit', 'sausage', 'jam']"
   ]
  },
  {
   "cell_type": "code",
   "execution_count": 72,
   "metadata": {
    "collapsed": false
   },
   "outputs": [
    {
     "data": {
      "text/plain": [
       "\"egg\""
      ]
     },
     "execution_count": 72,
     "metadata": {},
     "output_type": "execute_result"
    }
   ],
   "source": [
    "current_food = breakfast_items.shift"
   ]
  },
  {
   "cell_type": "code",
   "execution_count": 73,
   "metadata": {
    "collapsed": false
   },
   "outputs": [
    {
     "data": {
      "text/plain": [
       "[\"has\", \"gravy\", \"biscuit\", \"sausage\", \"jam\"]"
      ]
     },
     "execution_count": 73,
     "metadata": {},
     "output_type": "execute_result"
    }
   ],
   "source": [
    "breakfast_items"
   ]
  },
  {
   "cell_type": "code",
   "execution_count": 74,
   "metadata": {
    "collapsed": false
   },
   "outputs": [
    {
     "data": {
      "text/plain": [
       "\"jam\""
      ]
     },
     "execution_count": 74,
     "metadata": {},
     "output_type": "execute_result"
    }
   ],
   "source": [
    "current_food = breakfast_items.pop"
   ]
  },
  {
   "cell_type": "code",
   "execution_count": 75,
   "metadata": {
    "collapsed": false
   },
   "outputs": [
    {
     "data": {
      "text/plain": [
       "[\"has\", \"gravy\", \"biscuit\", \"sausage\"]"
      ]
     },
     "execution_count": 75,
     "metadata": {},
     "output_type": "execute_result"
    }
   ],
   "source": [
    "breakfast_items"
   ]
  },
  {
   "cell_type": "code",
   "execution_count": 76,
   "metadata": {
    "collapsed": false
   },
   "outputs": [
    {
     "data": {
      "text/plain": [
       "[\"has\", \"gravy\", \"biscuit\", \"sausage\", \"egg\"]"
      ]
     },
     "execution_count": 76,
     "metadata": {},
     "output_type": "execute_result"
    }
   ],
   "source": [
    "breakfast_items.push('egg')"
   ]
  },
  {
   "cell_type": "code",
   "execution_count": 77,
   "metadata": {
    "collapsed": false
   },
   "outputs": [
    {
     "data": {
      "text/plain": [
       "[\"jam\", \"has\", \"gravy\", \"biscuit\", \"sausage\", \"egg\"]"
      ]
     },
     "execution_count": 77,
     "metadata": {},
     "output_type": "execute_result"
    }
   ],
   "source": [
    "breakfast_items.unshift('jam')"
   ]
  },
  {
   "cell_type": "code",
   "execution_count": 78,
   "metadata": {
    "collapsed": false
   },
   "outputs": [
    {
     "data": {
      "text/plain": [
       "[\"jam\", \"has\", \"gravy\", \"biscuit\", \"sausage\", \"egg\"]"
      ]
     },
     "execution_count": 78,
     "metadata": {},
     "output_type": "execute_result"
    }
   ],
   "source": [
    "breakfast_items"
   ]
  },
  {
   "cell_type": "code",
   "execution_count": 79,
   "metadata": {
    "collapsed": false
   },
   "outputs": [
    {
     "data": {
      "text/plain": [
       "[\"jam\", \"has\", \"tea\", \"gravy\", \"biscuit\", \"sausage\", \"egg\"]"
      ]
     },
     "execution_count": 79,
     "metadata": {},
     "output_type": "execute_result"
    }
   ],
   "source": [
    "breakfast_items.insert(2, 'tea')"
   ]
  },
  {
   "cell_type": "code",
   "execution_count": 80,
   "metadata": {
    "collapsed": false
   },
   "outputs": [
    {
     "data": {
      "text/plain": [
       "\"tea\""
      ]
     },
     "execution_count": 80,
     "metadata": {},
     "output_type": "execute_result"
    }
   ],
   "source": [
    "breakfast_items[2]"
   ]
  },
  {
   "cell_type": "code",
   "execution_count": 82,
   "metadata": {
    "collapsed": false
   },
   "outputs": [
    {
     "name": "stdout",
     "output_type": "stream",
     "text": [
      "[\"sunny_side_up_egg\", \"sunny_side_up_egg\", \"sunny_side_up_egg\"]\n",
      "[\"hash\"]\n",
      "[\"egg\", \"hash\"]\n"
     ]
    },
    {
     "data": {
      "text/plain": [
       "[[\"sunny_side_up_egg\", \"sunny_side_up_egg\", \"sunny_side_up_egg\"], [\"hash\"], [\"egg\", \"hash\"]]"
      ]
     },
     "execution_count": 82,
     "metadata": {},
     "output_type": "execute_result"
    }
   ],
   "source": [
    "todays_orders.each do |order|\n",
    "  puts \"#{order}\"\n",
    "end"
   ]
  },
  {
   "cell_type": "markdown",
   "metadata": {},
   "source": [
    "## Ruby Wizardry (page 96 of 353)"
   ]
  },
  {
   "cell_type": "code",
   "execution_count": 83,
   "metadata": {
    "collapsed": false
   },
   "outputs": [
    {
     "name": "stdout",
     "output_type": "stream",
     "text": [
      "[\"sunny_side_up_egg\", \"sunny_side_up_egg\", \"sunny_side_up_egg\"]\n",
      "[\"hash\"]\n",
      "[\"egg\", \"hash\"]\n"
     ]
    },
    {
     "data": {
      "text/plain": [
       "[[\"sunny_side_up_egg\", \"sunny_side_up_egg\", \"sunny_side_up_egg\"], [\"hash\"], [\"egg\", \"hash\"]]"
      ]
     },
     "execution_count": 83,
     "metadata": {},
     "output_type": "execute_result"
    }
   ],
   "source": [
    "todays_orders.each { |order| puts \"#{order}\"}"
   ]
  },
  {
   "cell_type": "code",
   "execution_count": 84,
   "metadata": {
    "collapsed": false
   },
   "outputs": [
    {
     "data": {
      "text/plain": [
       "{:the_king=>\"the ruler of the kingdom\", :ruben=>\"a Ruby wizard in training\", :scarlet=>\"a Ruby wizard in training\", :big_hank=>\"the owner of the Hashery\", :squeaky_jim=>\"a fry cook at the Hashery\"}"
      ]
     },
     "execution_count": 84,
     "metadata": {},
     "output_type": "execute_result"
    }
   ],
   "source": [
    "our_heroes = {\n",
    "  :the_king => 'the ruler of the kingdom',\n",
    "  :ruben => 'a Ruby wizard in training',\n",
    "  :scarlet => 'a Ruby wizard in training',\n",
    "  :big_hank => 'the owner of the Hashery',\n",
    "  :squeaky_jim => 'a fry cook at the Hashery'\n",
    "  }"
   ]
  },
  {
   "cell_type": "code",
   "execution_count": 85,
   "metadata": {
    "collapsed": false
   },
   "outputs": [
    {
     "data": {
      "text/plain": [
       "\"the ruler of the kingdom\""
      ]
     },
     "execution_count": 85,
     "metadata": {},
     "output_type": "execute_result"
    }
   ],
   "source": [
    "our_heroes[:the_king]"
   ]
  },
  {
   "cell_type": "code",
   "execution_count": 86,
   "metadata": {
    "collapsed": false
   },
   "outputs": [
    {
     "data": {
      "text/plain": [
       "{}"
      ]
     },
     "execution_count": 86,
     "metadata": {},
     "output_type": "execute_result"
    }
   ],
   "source": [
    "hashery_menu = {}"
   ]
  },
  {
   "cell_type": "code",
   "execution_count": 87,
   "metadata": {
    "collapsed": false
   },
   "outputs": [
    {
     "data": {
      "text/plain": [
       "{}"
      ]
     },
     "execution_count": 87,
     "metadata": {},
     "output_type": "execute_result"
    }
   ],
   "source": [
    "hashery_menu = Hash.new"
   ]
  },
  {
   "cell_type": "code",
   "execution_count": 89,
   "metadata": {
    "collapsed": false
   },
   "outputs": [
    {
     "data": {
      "text/plain": [
       "{:the_king=>\"the ruler of the kingdom\", :ruben=>\"a Ruby wizard in training\", :scarlet=>\"a Ruby wizard in training\", :big_hank=>\"the ower of the Hashery\", :squeaky_jim=>\"a fry cook at the Hashery\"}"
      ]
     },
     "execution_count": 89,
     "metadata": {},
     "output_type": "execute_result"
    }
   ],
   "source": [
    "our_heroes = {\n",
    "  the_king: 'the ruler of the kingdom',\n",
    "  ruben: 'a Ruby wizard in training',\n",
    "  scarlet: 'a Ruby wizard in training',\n",
    "  big_hank: 'the ower of the Hashery',\n",
    "  squeaky_jim: 'a fry cook at the Hashery'\n",
    "  }"
   ]
  },
  {
   "cell_type": "code",
   "execution_count": 90,
   "metadata": {
    "collapsed": false
   },
   "outputs": [
    {
     "data": {
      "text/plain": [
       "[:the_king, :ruben, :scarlet, :big_hank, :squeaky_jim]"
      ]
     },
     "execution_count": 90,
     "metadata": {},
     "output_type": "execute_result"
    }
   ],
   "source": [
    "our_heroes.keys"
   ]
  },
  {
   "cell_type": "code",
   "execution_count": 91,
   "metadata": {
    "collapsed": false
   },
   "outputs": [
    {
     "data": {
      "text/plain": [
       "[\"the ruler of the kingdom\", \"a Ruby wizard in training\", \"a Ruby wizard in training\", \"the ower of the Hashery\", \"a fry cook at the Hashery\"]"
      ]
     },
     "execution_count": 91,
     "metadata": {},
     "output_type": "execute_result"
    }
   ],
   "source": [
    "our_heroes.values"
   ]
  },
  {
   "cell_type": "code",
   "execution_count": 92,
   "metadata": {
    "collapsed": false
   },
   "outputs": [
    {
     "data": {
      "text/plain": [
       "false"
      ]
     },
     "execution_count": 92,
     "metadata": {},
     "output_type": "execute_result"
    }
   ],
   "source": [
    "our_heroes.empty?"
   ]
  },
  {
   "cell_type": "code",
   "execution_count": 93,
   "metadata": {
    "collapsed": false
   },
   "outputs": [
    {
     "data": {
      "text/plain": [
       "{}"
      ]
     },
     "execution_count": 93,
     "metadata": {},
     "output_type": "execute_result"
    }
   ],
   "source": [
    "empty_hash = {}"
   ]
  },
  {
   "cell_type": "code",
   "execution_count": 94,
   "metadata": {
    "collapsed": false
   },
   "outputs": [
    {
     "data": {
      "text/plain": [
       "true"
      ]
     },
     "execution_count": 94,
     "metadata": {},
     "output_type": "execute_result"
    }
   ],
   "source": [
    "empty_hash.empty?"
   ]
  },
  {
   "cell_type": "code",
   "execution_count": 95,
   "metadata": {
    "collapsed": false
   },
   "outputs": [
    {
     "data": {
      "text/plain": [
       "5"
      ]
     },
     "execution_count": 95,
     "metadata": {},
     "output_type": "execute_result"
    }
   ],
   "source": [
    "our_heroes.length"
   ]
  },
  {
   "cell_type": "code",
   "execution_count": 96,
   "metadata": {
    "collapsed": false
   },
   "outputs": [
    {
     "data": {
      "text/plain": [
       "true"
      ]
     },
     "execution_count": 96,
     "metadata": {},
     "output_type": "execute_result"
    }
   ],
   "source": [
    "our_heroes.has_key?(:ruben)"
   ]
  },
  {
   "cell_type": "code",
   "execution_count": 97,
   "metadata": {
    "collapsed": false
   },
   "outputs": [
    {
     "data": {
      "text/plain": [
       "false"
      ]
     },
     "execution_count": 97,
     "metadata": {},
     "output_type": "execute_result"
    }
   ],
   "source": [
    "our_heroes.has_key?(:trady_blix)"
   ]
  },
  {
   "cell_type": "code",
   "execution_count": 98,
   "metadata": {
    "collapsed": false
   },
   "outputs": [
    {
     "data": {
      "text/plain": [
       "true"
      ]
     },
     "execution_count": 98,
     "metadata": {},
     "output_type": "execute_result"
    }
   ],
   "source": [
    "our_heroes.has_value?('a fry cook at the Hashery')"
   ]
  },
  {
   "cell_type": "code",
   "execution_count": 100,
   "metadata": {
    "collapsed": false
   },
   "outputs": [
    {
     "name": "stdout",
     "output_type": "stream",
     "text": [
      "the_king is the ruler of the kingdom.\n",
      "ruben is a Ruby wizard in training.\n",
      "scarlet is a Ruby wizard in training.\n",
      "big_hank is the ower of the Hashery.\n",
      "squeaky_jim is a fry cook at the Hashery.\n"
     ]
    },
    {
     "data": {
      "text/plain": [
       "{:the_king=>\"the ruler of the kingdom\", :ruben=>\"a Ruby wizard in training\", :scarlet=>\"a Ruby wizard in training\", :big_hank=>\"the ower of the Hashery\", :squeaky_jim=>\"a fry cook at the Hashery\"}"
      ]
     },
     "execution_count": 100,
     "metadata": {},
     "output_type": "execute_result"
    }
   ],
   "source": [
    "our_heroes.each do |hero, role|\n",
    "  puts \"#{hero} is #{role}.\"\n",
    "end"
   ]
  },
  {
   "cell_type": "code",
   "execution_count": 101,
   "metadata": {
    "collapsed": false
   },
   "outputs": [
    {
     "data": {
      "text/plain": [
       "[\"a\", \"b\", \"c\", \"d\", \"e\", \"f\"]"
      ]
     },
     "execution_count": 101,
     "metadata": {},
     "output_type": "execute_result"
    }
   ],
   "source": [
    "('a'..'f').to_a"
   ]
  },
  {
   "cell_type": "code",
   "execution_count": 102,
   "metadata": {
    "collapsed": false
   },
   "outputs": [
    {
     "data": {
      "text/plain": [
       "[\"a\", \"b\", \"c\", \"d\", \"e\"]"
      ]
     },
     "execution_count": 102,
     "metadata": {},
     "output_type": "execute_result"
    }
   ],
   "source": [
    "('a'...'f').to_a"
   ]
  },
  {
   "cell_type": "code",
   "execution_count": 103,
   "metadata": {
    "collapsed": false
   },
   "outputs": [
    {
     "data": {
      "text/plain": [
       "[1, 2, 3, 4, 5, 6, 7, 8, 9]"
      ]
     },
     "execution_count": 103,
     "metadata": {},
     "output_type": "execute_result"
    }
   ],
   "source": [
    "(1..9).to_a"
   ]
  },
  {
   "cell_type": "code",
   "execution_count": 104,
   "metadata": {
    "collapsed": false
   },
   "outputs": [
    {
     "data": {
      "text/plain": [
       "[1, 2, 3, 4, 5, 6, 7, 8]"
      ]
     },
     "execution_count": 104,
     "metadata": {},
     "output_type": "execute_result"
    }
   ],
   "source": [
    "(1...9).to_a"
   ]
  },
  {
   "cell_type": "code",
   "execution_count": 105,
   "metadata": {
    "collapsed": false
   },
   "outputs": [
    {
     "data": {
      "text/plain": [
       "1"
      ]
     },
     "execution_count": 105,
     "metadata": {},
     "output_type": "execute_result"
    }
   ],
   "source": [
    "(1..9).first"
   ]
  },
  {
   "cell_type": "code",
   "execution_count": 106,
   "metadata": {
    "collapsed": false
   },
   "outputs": [
    {
     "data": {
      "text/plain": [
       "9"
      ]
     },
     "execution_count": 106,
     "metadata": {},
     "output_type": "execute_result"
    }
   ],
   "source": [
    "(1..9).last"
   ]
  },
  {
   "cell_type": "code",
   "execution_count": 107,
   "metadata": {
    "collapsed": false
   },
   "outputs": [
    {
     "data": {
      "text/plain": [
       "300"
      ]
     },
     "execution_count": 107,
     "metadata": {},
     "output_type": "execute_result"
    }
   ],
   "source": [
    "current_temperature = (300..400).first"
   ]
  },
  {
   "cell_type": "code",
   "execution_count": 108,
   "metadata": {
    "collapsed": false
   },
   "outputs": [
    {
     "data": {
      "text/plain": [
       "{:eggs=>2, :hash=>3, :jam=>1, :sausage=>2, :biscuit=>1..3}"
      ]
     },
     "execution_count": 108,
     "metadata": {},
     "output_type": "execute_result"
    }
   ],
   "source": [
    "hashery_menu = {\n",
    "  eggs: 2,\n",
    "  hash: 3,\n",
    "  jam: 1,\n",
    "  sausage: 2,\n",
    "  biscuit: (1..3)\n",
    "  }"
   ]
  },
  {
   "cell_type": "code",
   "execution_count": 109,
   "metadata": {
    "collapsed": false
   },
   "outputs": [
    {
     "name": "stdout",
     "output_type": "stream",
     "text": [
      "Today we're serving: eggs!\n",
      "Today we're serving: hash!\n",
      "Today we're serving: jam!\n",
      "Today we're serving: sausage!\n",
      "Today we're serving: biscuit!\n"
     ]
    },
    {
     "data": {
      "text/plain": [
       "[:eggs, :hash, :jam, :sausage, :biscuit]"
      ]
     },
     "execution_count": 109,
     "metadata": {},
     "output_type": "execute_result"
    }
   ],
   "source": [
    "hashery_menu.keys.each do |item|\n",
    "  puts \"Today we're serving: #{item}!\"\n",
    "end"
   ]
  },
  {
   "cell_type": "code",
   "execution_count": 110,
   "metadata": {
    "collapsed": false
   },
   "outputs": [
    {
     "name": "stdout",
     "output_type": "stream",
     "text": [
      "We've got eggs for $2. What a deal!\n",
      "We've got hash for $3. What a deal!\n",
      "We've got jam for $1. What a deal!\n",
      "We've got sausage for $2. What a deal!\n",
      "We've got biscuit for $1..3. What a deal!\n"
     ]
    },
    {
     "data": {
      "text/plain": [
       "{:eggs=>2, :hash=>3, :jam=>1, :sausage=>2, :biscuit=>1..3}"
      ]
     },
     "execution_count": 110,
     "metadata": {},
     "output_type": "execute_result"
    }
   ],
   "source": [
    "hashery_menu.each do |item, price|\n",
    "  puts \"We've got #{item} for $#{price}. What a deal!\"\n",
    "end"
   ]
  },
  {
   "cell_type": "code",
   "execution_count": 111,
   "metadata": {
    "collapsed": false
   },
   "outputs": [
    {
     "name": "stdout",
     "output_type": "stream",
     "text": [
      "Here's what a biscuit'll run ya, depending on how much butter you want:\n"
     ]
    }
   ],
   "source": [
    "puts \"Here's what a biscuit'll run ya, depending on how much butter you want:\""
   ]
  },
  {
   "cell_type": "code",
   "execution_count": 112,
   "metadata": {
    "collapsed": false
   },
   "outputs": [
    {
     "name": "stdout",
     "output_type": "stream",
     "text": [
      "$1\n",
      "$2\n",
      "$3\n"
     ]
    },
    {
     "data": {
      "text/plain": [
       "[1, 2, 3]"
      ]
     },
     "execution_count": 112,
     "metadata": {},
     "output_type": "execute_result"
    }
   ],
   "source": [
    "hashery_menu[:biscuit].to_a.each do |price|\n",
    "  puts \"$#{price}\"\n",
    "end"
   ]
  },
  {
   "cell_type": "markdown",
   "metadata": {},
   "source": [
    "## Ruby Wizardry (page 105 of 353)"
   ]
  },
  {
   "cell_type": "code",
   "execution_count": null,
   "metadata": {
    "collapsed": true
   },
   "outputs": [],
   "source": []
  }
 ],
 "metadata": {
  "kernelspec": {
   "display_name": "Ruby 2.1.0",
   "language": "ruby",
   "name": "ruby"
  },
  "language_info": {
   "file_extension": ".rb",
   "mimetype": "application/x-ruby",
   "name": "ruby",
   "version": "2.1.0"
  }
 },
 "nbformat": 4,
 "nbformat_minor": 0
}
