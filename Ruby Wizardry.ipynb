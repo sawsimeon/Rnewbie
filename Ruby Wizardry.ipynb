{
 "cells": [
  {
   "cell_type": "code",
   "execution_count": 1,
   "metadata": {
    "collapsed": false
   },
   "outputs": [
    {
     "name": "stdout",
     "output_type": "stream",
     "text": [
      "Saw Simeon!\n"
     ]
    }
   ],
   "source": [
    "puts (\"Saw Simeon!\")"
   ]
  },
  {
   "cell_type": "code",
   "execution_count": 2,
   "metadata": {
    "collapsed": false
   },
   "outputs": [
    {
     "name": "stdout",
     "output_type": "stream",
     "text": [
      "Ruby is awesome!\n"
     ]
    }
   ],
   "source": [
    "puts \"Ruby is awesome!\""
   ]
  },
  {
   "cell_type": "code",
   "execution_count": 3,
   "metadata": {
    "collapsed": false
   },
   "outputs": [
    {
     "data": {
      "text/plain": [
       "7"
      ]
     },
     "execution_count": 3,
     "metadata": {},
     "output_type": "execute_result"
    }
   ],
   "source": [
    "2 + 5"
   ]
  },
  {
   "cell_type": "code",
   "execution_count": 4,
   "metadata": {
    "collapsed": false
   },
   "outputs": [
    {
     "data": {
      "text/plain": [
       "240"
      ]
     },
     "execution_count": 4,
     "metadata": {},
     "output_type": "execute_result"
    }
   ],
   "source": [
    "24 * 10"
   ]
  },
  {
   "cell_type": "code",
   "execution_count": 6,
   "metadata": {
    "collapsed": false
   },
   "outputs": [
    {
     "data": {
      "text/plain": [
       "\"Hi there!\""
      ]
     },
     "execution_count": 6,
     "metadata": {},
     "output_type": "execute_result"
    }
   ],
   "source": [
    "'Hi ' + 'there!'"
   ]
  },
  {
   "cell_type": "code",
   "execution_count": 7,
   "metadata": {
    "collapsed": false
   },
   "outputs": [
    {
     "data": {
      "text/plain": [
       "\"Property of His Royal Higheness, the King\""
      ]
     },
     "execution_count": 7,
     "metadata": {},
     "output_type": "execute_result"
    }
   ],
   "source": [
    "'Property of His Royal Higheness, the King'"
   ]
  },
  {
   "cell_type": "code",
   "execution_count": 9,
   "metadata": {
    "collapsed": false
   },
   "outputs": [
    {
     "data": {
      "text/plain": [
       "40"
      ]
     },
     "execution_count": 9,
     "metadata": {},
     "output_type": "execute_result"
    }
   ],
   "source": [
    "'Property of His Royal Highness, the King'.length"
   ]
  },
  {
   "cell_type": "code",
   "execution_count": 10,
   "metadata": {
    "collapsed": false
   },
   "outputs": [
    {
     "data": {
      "text/plain": [
       "\"gniK eht ,ssenhgiH layoR siH fo ytreporP\""
      ]
     },
     "execution_count": 10,
     "metadata": {},
     "output_type": "execute_result"
    }
   ],
   "source": [
    "'Property of His Royal Highness, the King'.reverse"
   ]
  },
  {
   "cell_type": "code",
   "execution_count": 11,
   "metadata": {
    "collapsed": false
   },
   "outputs": [
    {
     "data": {
      "text/plain": [
       "\"A string fit for a king\""
      ]
     },
     "execution_count": 11,
     "metadata": {},
     "output_type": "execute_result"
    }
   ],
   "source": [
    "king_string = 'A string fit for a king'"
   ]
  },
  {
   "cell_type": "code",
   "execution_count": 12,
   "metadata": {
    "collapsed": false
   },
   "outputs": [
    {
     "data": {
      "text/plain": [
       "22"
      ]
     },
     "execution_count": 12,
     "metadata": {},
     "output_type": "execute_result"
    }
   ],
   "source": [
    "wiener_dog_weight = 22"
   ]
  },
  {
   "cell_type": "code",
   "execution_count": 13,
   "metadata": {
    "collapsed": false
   },
   "outputs": [
    {
     "data": {
      "text/plain": [
       "22"
      ]
     },
     "execution_count": 13,
     "metadata": {},
     "output_type": "execute_result"
    }
   ],
   "source": [
    "wiener_dog_weight"
   ]
  },
  {
   "cell_type": "code",
   "execution_count": 14,
   "metadata": {
    "collapsed": false
   },
   "outputs": [
    {
     "data": {
      "text/plain": [
       "22"
      ]
     },
     "execution_count": 14,
     "metadata": {},
     "output_type": "execute_result"
    }
   ],
   "source": [
    "smalls_weight = 22"
   ]
  },
  {
   "cell_type": "code",
   "execution_count": 16,
   "metadata": {
    "collapsed": false
   },
   "outputs": [
    {
     "data": {
      "text/plain": [
       "4"
      ]
     },
     "execution_count": 16,
     "metadata": {},
     "output_type": "execute_result"
    }
   ],
   "source": [
    "pounds_lost = 4"
   ]
  },
  {
   "cell_type": "code",
   "execution_count": 17,
   "metadata": {
    "collapsed": false
   },
   "outputs": [
    {
     "data": {
      "text/plain": [
       "18"
      ]
     },
     "execution_count": 17,
     "metadata": {},
     "output_type": "execute_result"
    }
   ],
   "source": [
    "smalls_new_weight = smalls_weight - pounds_lost"
   ]
  },
  {
   "cell_type": "code",
   "execution_count": 18,
   "metadata": {
    "collapsed": false
   },
   "outputs": [
    {
     "data": {
      "text/plain": [
       "\"gniK eht ,ssenhgiH layoR siH fo ytreporP\""
      ]
     },
     "execution_count": 18,
     "metadata": {},
     "output_type": "execute_result"
    }
   ],
   "source": [
    "'Property of His Royal Highness, the King'.reverse"
   ]
  },
  {
   "cell_type": "code",
   "execution_count": 19,
   "metadata": {
    "collapsed": false
   },
   "outputs": [
    {
     "data": {
      "text/plain": [
       "\"81\""
      ]
     },
     "execution_count": 19,
     "metadata": {},
     "output_type": "execute_result"
    }
   ],
   "source": [
    "\"18\".reverse"
   ]
  },
  {
   "cell_type": "code",
   "execution_count": 20,
   "metadata": {
    "collapsed": false
   },
   "outputs": [
    {
     "data": {
      "text/plain": [
       "117"
      ]
     },
     "execution_count": 20,
     "metadata": {},
     "output_type": "execute_result"
    }
   ],
   "source": [
    "100 + 17"
   ]
  },
  {
   "cell_type": "code",
   "execution_count": 21,
   "metadata": {
    "collapsed": false
   },
   "outputs": [
    {
     "data": {
      "text/plain": [
       "30"
      ]
     },
     "execution_count": 21,
     "metadata": {},
     "output_type": "execute_result"
    }
   ],
   "source": [
    "50 - 20"
   ]
  },
  {
   "cell_type": "code",
   "execution_count": 22,
   "metadata": {
    "collapsed": false
   },
   "outputs": [
    {
     "data": {
      "text/plain": [
       "100"
      ]
     },
     "execution_count": 22,
     "metadata": {},
     "output_type": "execute_result"
    }
   ],
   "source": [
    "10 * 10"
   ]
  },
  {
   "cell_type": "code",
   "execution_count": 23,
   "metadata": {
    "collapsed": false
   },
   "outputs": [
    {
     "data": {
      "text/plain": [
       "2"
      ]
     },
     "execution_count": 23,
     "metadata": {},
     "output_type": "execute_result"
    }
   ],
   "source": [
    "40 / 20"
   ]
  },
  {
   "cell_type": "code",
   "execution_count": 24,
   "metadata": {
    "collapsed": false
   },
   "outputs": [
    {
     "data": {
      "text/plain": [
       "23"
      ]
     },
     "execution_count": 24,
     "metadata": {},
     "output_type": "execute_result"
    }
   ],
   "source": [
    "22.next"
   ]
  },
  {
   "cell_type": "code",
   "execution_count": 25,
   "metadata": {
    "collapsed": false
   },
   "outputs": [
    {
     "data": {
      "text/plain": [
       "21"
      ]
     },
     "execution_count": 25,
     "metadata": {},
     "output_type": "execute_result"
    }
   ],
   "source": [
    "22.pred"
   ]
  },
  {
   "cell_type": "code",
   "execution_count": 26,
   "metadata": {
    "collapsed": false
   },
   "outputs": [
    {
     "data": {
      "text/plain": [
       "\"A string's the thing\""
      ]
     },
     "execution_count": 26,
     "metadata": {},
     "output_type": "execute_result"
    }
   ],
   "source": [
    "double_quotes = \"A string's the thing\""
   ]
  },
  {
   "cell_type": "code",
   "execution_count": 27,
   "metadata": {
    "collapsed": false
   },
   "outputs": [
    {
     "data": {
      "text/plain": [
       "\"for a springly King\""
      ]
     },
     "execution_count": 27,
     "metadata": {},
     "output_type": "execute_result"
    }
   ],
   "source": [
    "single_quotes = 'for a springly King'"
   ]
  },
  {
   "cell_type": "code",
   "execution_count": 28,
   "metadata": {
    "collapsed": false
   },
   "outputs": [
    {
     "name": "stdout",
     "output_type": "stream",
     "text": [
      "Property of his Royal Highness, the King\n",
      "gniK eht ,ssenhgiH layoR sih fo ytreporP\n",
      "Property of his Royal Highness, the KingProperty of his Royal Highness, the KingProperty of his Royal Highness, the King\n"
     ]
    }
   ],
   "source": [
    "kings_string = \"Property of his Royal Highness, the King\"\n",
    "string_reflection = kings_string.reverse\n",
    "times_to_echo = 3\n",
    "string_echo = kings_string * times_to_echo\n",
    "puts kings_string\n",
    "puts string_reflection\n",
    "puts string_echo"
   ]
  },
  {
   "cell_type": "code",
   "execution_count": 29,
   "metadata": {
    "collapsed": false
   },
   "outputs": [
    {
     "data": {
      "text/plain": [
       "\"Hello!Hello!Hello!\""
      ]
     },
     "execution_count": 29,
     "metadata": {},
     "output_type": "execute_result"
    }
   ],
   "source": [
    "\"Hello!\" * 3"
   ]
  },
  {
   "cell_type": "code",
   "execution_count": 30,
   "metadata": {
    "collapsed": false
   },
   "outputs": [
    {
     "data": {
      "text/plain": [
       "8"
      ]
     },
     "execution_count": 30,
     "metadata": {},
     "output_type": "execute_result"
    }
   ],
   "source": [
    "\"gadzooks\".length"
   ]
  },
  {
   "cell_type": "code",
   "execution_count": 31,
   "metadata": {
    "collapsed": false
   },
   "outputs": [
    {
     "data": {
      "text/plain": [
       "5"
      ]
     },
     "execution_count": 31,
     "metadata": {},
     "output_type": "execute_result"
    }
   ],
   "source": [
    "4.next"
   ]
  },
  {
   "cell_type": "code",
   "execution_count": 32,
   "metadata": {
    "collapsed": false
   },
   "outputs": [
    {
     "data": {
      "text/plain": [
       "\"chunky\""
      ]
     },
     "execution_count": 32,
     "metadata": {},
     "output_type": "execute_result"
    }
   ],
   "source": [
    "bacon_consistency = \"chunky\""
   ]
  },
  {
   "cell_type": "code",
   "execution_count": 33,
   "metadata": {
    "collapsed": false
   },
   "outputs": [
    {
     "data": {
      "text/plain": [
       "3"
      ]
     },
     "execution_count": 33,
     "metadata": {},
     "output_type": "execute_result"
    }
   ],
   "source": [
    "number_of_bacon_strips = 3"
   ]
  },
  {
   "cell_type": "code",
   "execution_count": 34,
   "metadata": {
    "collapsed": false
   },
   "outputs": [
    {
     "data": {
      "text/plain": [
       "\"chunky\""
      ]
     },
     "execution_count": 34,
     "metadata": {},
     "output_type": "execute_result"
    }
   ],
   "source": [
    "bacon_consistency"
   ]
  },
  {
   "cell_type": "code",
   "execution_count": 35,
   "metadata": {
    "collapsed": false
   },
   "outputs": [
    {
     "data": {
      "text/plain": [
       "false"
      ]
     },
     "execution_count": 35,
     "metadata": {},
     "output_type": "execute_result"
    }
   ],
   "source": [
    "flowmatic_on = false"
   ]
  },
  {
   "cell_type": "code",
   "execution_count": 36,
   "metadata": {
    "collapsed": false
   },
   "outputs": [
    {
     "name": "stdout",
     "output_type": "stream",
     "text": [
      "The flow rate is currently 100.\n",
      "Now the flow rate is 50!\n"
     ]
    }
   ],
   "source": [
    "flow_rate = 100\n",
    "puts \"The flow rate is currently #{flow_rate}.\"\n",
    "flow_rate = 100/2\n",
    "puts \"Now the flow rate is #{flow_rate}!\""
   ]
  },
  {
   "cell_type": "code",
   "execution_count": 37,
   "metadata": {
    "collapsed": false
   },
   "outputs": [
    {
     "data": {
      "text/plain": [
       "50"
      ]
     },
     "execution_count": 37,
     "metadata": {},
     "output_type": "execute_result"
    }
   ],
   "source": [
    "flowmatic_on = true\n",
    "water_available = true\n",
    "if flowmatic_on && water_available\n",
    "  flow_rate = 50\n",
    "end"
   ]
  },
  {
   "cell_type": "code",
   "execution_count": 38,
   "metadata": {
    "collapsed": false
   },
   "outputs": [
    {
     "data": {
      "text/plain": [
       "50"
      ]
     },
     "execution_count": 38,
     "metadata": {},
     "output_type": "execute_result"
    }
   ],
   "source": [
    "flowmatic_on = true\n",
    "water_available = true\n",
    "if flowmatic_on && water_available\n",
    "  flow_rate = 50\n",
    "elsif !flowmatic_on\n",
    "  puts \"Flowmatic is off!\"\n",
    "else\n",
    "  puts \"No water!\"\n",
    "end"
   ]
  },
  {
   "cell_type": "code",
   "execution_count": 39,
   "metadata": {
    "collapsed": false
   },
   "outputs": [
    {
     "name": "stdout",
     "output_type": "stream",
     "text": [
      "The flow_rate is 50 (thank goodness).\n"
     ]
    }
   ],
   "source": [
    "if flow_rate > 50\n",
    "  puts \"Warning! flow_rate is above 50! It's #{flow_rate}.\"\n",
    "  flow_rate = 50\n",
    "  puts \"The flow_rate's been reset to #{flow_rate}.\"\n",
    "elsif flow_rate < 50\n",
    "  puts \"Warning! flow_rate is below 50! Its #{flow_rate}.\"\n",
    "  flow_rate = 50\n",
    "  puts \"The flow_rate's been reset to #{flow_rate}.\"\n",
    "else\n",
    "  puts \"The flow_rate is #{flow_rate} (thank goodness).\"\n",
    "end"
   ]
  },
  {
   "cell_type": "code",
   "execution_count": 40,
   "metadata": {
    "collapsed": false
   },
   "outputs": [
    {
     "name": "stdout",
     "output_type": "stream",
     "text": [
      "The flow_rate is 50 (thank goodness).\n"
     ]
    }
   ],
   "source": [
    "if flow_rate < 50 || flow_rate > 50\n",
    "  puts \"Warning! flow_rate is not 50! It's #{flow_rate}.\"\n",
    "  flow_rate = 50\n",
    "  puts \"The flow_rate's been reset to #{flow_rate}.\"\n",
    "else\n",
    "  puts \"The flow_rate is #{flow_rate} (thank goodness).\"\n",
    "end"
   ]
  },
  {
   "cell_type": "code",
   "execution_count": 41,
   "metadata": {
    "collapsed": false
   },
   "outputs": [
    {
     "name": "stdout",
     "output_type": "stream",
     "text": [
      "The flow_rate is 50 (thank goodness).\n"
     ]
    }
   ],
   "source": [
    "if flow_rate != 50\n",
    "  puts \"Warning! flow_rate is not 50! It's #{flow_rate}.\"\n",
    "  flow_rate = 50\n",
    "  puts \"The flow_rate's been reset to #{flow_rate}\"\n",
    "else\n",
    "  puts \"The flow_rate is #{flow_rate} (thank goodness).\"\n",
    "end"
   ]
  },
  {
   "cell_type": "code",
   "execution_count": 43,
   "metadata": {
    "collapsed": false
   },
   "outputs": [],
   "source": [
    "if flow_rate != 50\n",
    "  puts \"Warnings! flow_rate is not 50! It's #{flow_rate}.\"\n",
    "end"
   ]
  },
  {
   "cell_type": "code",
   "execution_count": 44,
   "metadata": {
    "collapsed": true
   },
   "outputs": [],
   "source": [
    "unless flow_rate == 50\n",
    "  puts \"Warnings! flow_rate is not 50! It's #{flow_rate}.\"\n",
    "end"
   ]
  },
  {
   "cell_type": "code",
   "execution_count": 45,
   "metadata": {
    "collapsed": false
   },
   "outputs": [
    {
     "name": "stdout",
     "output_type": "stream",
     "text": [
      "Holy giraffes! You fell into a maze!\n",
      "Where to? (N, E, S, W): "
     ]
    },
    {
     "ename": "Errno::ENOENT",
     "evalue": "No such file or directory @ rb_sysopen - kernel",
     "output_type": "error",
     "traceback": [
      "\u001b[31mErrno::ENOENT\u001b[0m: No such file or directory @ rb_sysopen - kernel",
      "\u001b[37m<main>:2:in `gets'\u001b[0m",
      "\u001b[37m<main>:2:in `gets'\u001b[0m",
      "\u001b[37m<main>:2:in `<main>'\u001b[0m",
      "\u001b[37m/Users/saw/.rvm/rubies/ruby-2.1.0/lib/ruby/gems/2.1.0/gems/iruby-0.2.9/lib/iruby/backend.rb:44:in `eval'\u001b[0m",
      "\u001b[37m/Users/saw/.rvm/rubies/ruby-2.1.0/lib/ruby/gems/2.1.0/gems/iruby-0.2.9/lib/iruby/backend.rb:44:in `eval'\u001b[0m",
      "\u001b[37m/Users/saw/.rvm/rubies/ruby-2.1.0/lib/ruby/gems/2.1.0/gems/iruby-0.2.9/lib/iruby/backend.rb:12:in `eval'\u001b[0m",
      "\u001b[37m/Users/saw/.rvm/rubies/ruby-2.1.0/lib/ruby/gems/2.1.0/gems/iruby-0.2.9/lib/iruby/kernel.rb:87:in `execute_request'\u001b[0m",
      "\u001b[37m/Users/saw/.rvm/rubies/ruby-2.1.0/lib/ruby/gems/2.1.0/gems/iruby-0.2.9/lib/iruby/kernel.rb:47:in `dispatch'\u001b[0m",
      "\u001b[37m/Users/saw/.rvm/rubies/ruby-2.1.0/lib/ruby/gems/2.1.0/gems/iruby-0.2.9/lib/iruby/kernel.rb:37:in `run'\u001b[0m",
      "\u001b[37m/Users/saw/.rvm/rubies/ruby-2.1.0/lib/ruby/gems/2.1.0/gems/iruby-0.2.9/lib/iruby/command.rb:70:in `run_kernel'\u001b[0m",
      "\u001b[37m/Users/saw/.rvm/rubies/ruby-2.1.0/lib/ruby/gems/2.1.0/gems/iruby-0.2.9/lib/iruby/command.rb:34:in `run'\u001b[0m",
      "\u001b[37m/Users/saw/.rvm/gems/ruby-2.1.0@global/gems/iruby-0.2.9/bin/iruby:5:in `<top (required)>'\u001b[0m",
      "\u001b[37m/Users/saw/.rvm/rubies/ruby-2.1.0/bin/iruby:23:in `load'\u001b[0m",
      "\u001b[37m/Users/saw/.rvm/rubies/ruby-2.1.0/bin/iruby:23:in `<main>'\u001b[0m",
      "\u001b[37m/Users/saw/.rvm/gems/ruby-2.1.0@rails-4.0/bin/ruby_executable_hooks:15:in `eval'\u001b[0m",
      "\u001b[37m/Users/saw/.rvm/gems/ruby-2.1.0@rails-4.0/bin/ruby_executable_hooks:15:in `<main>'\u001b[0m"
     ]
    }
   ],
   "source": [
    "puts \"Holy giraffes! You fell into a maze!\"\n",
    "print \"Where to? (N, E, S, W): \"\n",
    "direction = gets.chomp\n",
    "\n",
    "puts \"#{direction}, you say? A fine choice!\"\n",
    "\n",
    "if direction == \"N\"\n",
    "  puts \"you are in a maze of twisty little passages, all alike.\"\n",
    "elsif direction == \"E\"\n",
    "  puts \"An elf! And his pet ham!\"\n",
    "elsif direction == \"S\"\n",
    "  puts \"A minotaur! Wait, no, that's just yoru reflection.\"\n",
    "elsif direction == \"W\"\n",
    "  puts \"You're here, whereever here is.\"\n",
    "else\n",
    "  puts \"Wait, is that even a direction?\"\n",
    "end"
   ]
  },
  {
   "cell_type": "code",
   "execution_count": 47,
   "metadata": {
    "collapsed": false
   },
   "outputs": [
    {
     "data": {
      "text/plain": [
       "[\"East Bumpspark\", \"Endortromb Avenue\", \"New Mixico\", \"Mal Abochny\"]"
      ]
     },
     "execution_count": 47,
     "metadata": {},
     "output_type": "execute_result"
    }
   ],
   "source": [
    "[\"East Bumpspark\", \"Endortromb Avenue\", \"New Mixico\", \"Mal Abochny\"]"
   ]
  },
  {
   "cell_type": "code",
   "execution_count": 48,
   "metadata": {
    "collapsed": false
   },
   "outputs": [
    {
     "data": {
      "text/plain": [
       "[\"cheese\", \"bread\", \"grapes\", \"a vestive hat for all occasions\"]"
      ]
     },
     "execution_count": 48,
     "metadata": {},
     "output_type": "execute_result"
    }
   ],
   "source": [
    "grocery_list = [\"cheese\", \"bread\", \"grapes\", \"a vestive hat for all occasions\"]"
   ]
  },
  {
   "cell_type": "code",
   "execution_count": 49,
   "metadata": {
    "collapsed": false
   },
   "outputs": [
    {
     "name": "stdout",
     "output_type": "stream",
     "text": [
      "cheese\n",
      "grapes\n"
     ]
    },
    {
     "data": {
      "text/plain": [
       "[\"cheese\", \"bread\", \"grapes\", \"a vestive hat for all occasions\"]"
      ]
     },
     "execution_count": 49,
     "metadata": {},
     "output_type": "execute_result"
    }
   ],
   "source": [
    "for item in grocery_list\n",
    "  next if item.length.odd?\n",
    "  puts item\n",
    "end"
   ]
  },
  {
   "cell_type": "code",
   "execution_count": 50,
   "metadata": {
    "collapsed": false
   },
   "outputs": [
    {
     "data": {
      "text/plain": [
       "[\"East Bumpspark\", \"Endertromb Avenue\", \"New Mixico\", \"Mal Abochny\"]"
      ]
     },
     "execution_count": 50,
     "metadata": {},
     "output_type": "execute_result"
    }
   ],
   "source": [
    "stops = [\"East Bumpspark\", \"Endertromb Avenue\", \"New Mixico\", \"Mal Abochny\"]\n",
    "for stop in stops\n",
    "  next if stop.empty?\n",
    "end"
   ]
  },
  {
   "cell_type": "code",
   "execution_count": 51,
   "metadata": {
    "collapsed": false
   },
   "outputs": [
    {
     "data": {
      "text/plain": [
       "[\"East Bumpspark\", \"Endrobromb Avenue\", \"New Mixico\", \"Mal Abochny\"]"
      ]
     },
     "execution_count": 51,
     "metadata": {},
     "output_type": "execute_result"
    }
   ],
   "source": [
    "stops = [\"East Bumpspark\", \"Endrobromb Avenue\", \"New Mixico\", \"Mal Abochny\"]\n",
    "stops.each do |stop|\n",
    "  next if stop.empty?\n",
    "end"
   ]
  },
  {
   "cell_type": "code",
   "execution_count": 53,
   "metadata": {
    "collapsed": false
   },
   "outputs": [
    {
     "data": {
      "text/plain": [
       "[\"East Bumpspark\", \"Endertromb Avenue\", \"New Mixico\", \"Mal Abochny\"]"
      ]
     },
     "execution_count": 53,
     "metadata": {},
     "output_type": "execute_result"
    }
   ],
   "source": [
    "stops = [\"East Bumpspark\", \"Endertromb Avenue\", \"New Mixico\", \"Mal Abochny\"]\n",
    "stops.each { |stop| next if stop.empty? }"
   ]
  },
  {
   "cell_type": "code",
   "execution_count": 54,
   "metadata": {
    "collapsed": false
   },
   "outputs": [
    {
     "data": {
      "text/plain": [
       "[\"East Bumpspark\", \"Endertromb Avenue\", \"New Mixico\", \"Mal Abochny\"]"
      ]
     },
     "execution_count": 54,
     "metadata": {},
     "output_type": "execute_result"
    }
   ],
   "source": [
    "we_wanna_ride = true\n",
    "stops = [\"East Bumpspark\", \"Endertromb Avenue\", \"New Mixico\", \"Mal Abochny\"]"
   ]
  },
  {
   "cell_type": "markdown",
   "metadata": {},
   "source": [
    "## Ruby Wizardry (page 82 of 353)"
   ]
  },
  {
   "cell_type": "code",
   "execution_count": 55,
   "metadata": {
    "collapsed": false
   },
   "outputs": [
    {
     "name": "stdout",
     "output_type": "stream",
     "text": [
      "Where ya heading' friend?: "
     ]
    },
    {
     "ename": "NoMethodError",
     "evalue": "undefined method `comp' for \"{\\n\":String",
     "output_type": "error",
     "traceback": [
      "\u001b[31mNoMethodError\u001b[0m: undefined method `comp' for \"{\\n\":String",
      "\u001b[37m<main>:4:in `<main>'\u001b[0m",
      "\u001b[37m/Users/saw/.rvm/rubies/ruby-2.1.0/lib/ruby/gems/2.1.0/gems/iruby-0.2.9/lib/iruby/backend.rb:44:in `eval'\u001b[0m",
      "\u001b[37m/Users/saw/.rvm/rubies/ruby-2.1.0/lib/ruby/gems/2.1.0/gems/iruby-0.2.9/lib/iruby/backend.rb:44:in `eval'\u001b[0m",
      "\u001b[37m/Users/saw/.rvm/rubies/ruby-2.1.0/lib/ruby/gems/2.1.0/gems/iruby-0.2.9/lib/iruby/backend.rb:12:in `eval'\u001b[0m",
      "\u001b[37m/Users/saw/.rvm/rubies/ruby-2.1.0/lib/ruby/gems/2.1.0/gems/iruby-0.2.9/lib/iruby/kernel.rb:87:in `execute_request'\u001b[0m",
      "\u001b[37m/Users/saw/.rvm/rubies/ruby-2.1.0/lib/ruby/gems/2.1.0/gems/iruby-0.2.9/lib/iruby/kernel.rb:47:in `dispatch'\u001b[0m",
      "\u001b[37m/Users/saw/.rvm/rubies/ruby-2.1.0/lib/ruby/gems/2.1.0/gems/iruby-0.2.9/lib/iruby/kernel.rb:37:in `run'\u001b[0m",
      "\u001b[37m/Users/saw/.rvm/rubies/ruby-2.1.0/lib/ruby/gems/2.1.0/gems/iruby-0.2.9/lib/iruby/command.rb:70:in `run_kernel'\u001b[0m",
      "\u001b[37m/Users/saw/.rvm/rubies/ruby-2.1.0/lib/ruby/gems/2.1.0/gems/iruby-0.2.9/lib/iruby/command.rb:34:in `run'\u001b[0m",
      "\u001b[37m/Users/saw/.rvm/gems/ruby-2.1.0@global/gems/iruby-0.2.9/bin/iruby:5:in `<top (required)>'\u001b[0m",
      "\u001b[37m/Users/saw/.rvm/rubies/ruby-2.1.0/bin/iruby:23:in `load'\u001b[0m",
      "\u001b[37m/Users/saw/.rvm/rubies/ruby-2.1.0/bin/iruby:23:in `<main>'\u001b[0m",
      "\u001b[37m/Users/saw/.rvm/gems/ruby-2.1.0@rails-4.0/bin/ruby_executable_hooks:15:in `eval'\u001b[0m",
      "\u001b[37m/Users/saw/.rvm/gems/ruby-2.1.0@rails-4.0/bin/ruby_executable_hooks:15:in `<main>'\u001b[0m"
     ]
    }
   ],
   "source": [
    "we_wanna_ride = true\n",
    "stops = [\"East Bumpspark\", \"Endertromb Avenue\", \"New Mixico\", \"Mal Abochny\"]\n",
    "while we_wanna_ride\n",
    "  print \"Where ya heading' friend?: \"\n",
    "  destination = gets.comp\n",
    "  if stops.include? destination\n",
    "    puts \" I know how to get to #{destination}! Here's is the station list:\"\n",
    "    stops.each do |stop|\n",
    "      puts stop\n",
    "      break if stop == destination\n",
    "    end\n",
    "  else\n",
    "    puts \"Sorry, We don't stop at the station. Maybe another time!\"\n",
    "    we_wanna_ride = false\n",
    "  end\n",
    "end\n"
   ]
  },
  {
   "cell_type": "code",
   "execution_count": 56,
   "metadata": {
    "collapsed": false
   },
   "outputs": [
    {
     "data": {
      "text/plain": [
       "[\"sunny_side_up_egg\", \"sunny_side_up_egg\", \"sunny_side_up_egg\"]"
      ]
     },
     "execution_count": 56,
     "metadata": {},
     "output_type": "execute_result"
    }
   ],
   "source": [
    "order_one = ['sunny_side_up_egg', 'sunny_side_up_egg', \"sunny_side_up_egg\"]"
   ]
  },
  {
   "cell_type": "code",
   "execution_count": 57,
   "metadata": {
    "collapsed": false
   },
   "outputs": [
    {
     "data": {
      "text/plain": [
       "[\"sunny_side_up_egg\", \"sunny_side_up_egg\", \"sunny_side_up_egg\"]"
      ]
     },
     "execution_count": 57,
     "metadata": {},
     "output_type": "execute_result"
    }
   ],
   "source": [
    "order_two = Array.new(3, 'sunny_side_up_egg')"
   ]
  },
  {
   "cell_type": "code",
   "execution_count": 58,
   "metadata": {
    "collapsed": false
   },
   "outputs": [
    {
     "data": {
      "text/plain": [
       "[1, \"two\", \"sunny_side_up_egg\", true]"
      ]
     },
     "execution_count": 58,
     "metadata": {},
     "output_type": "execute_result"
    }
   ],
   "source": [
    "random_array = [1, 'two', 'sunny_side_up_egg', true]"
   ]
  },
  {
   "cell_type": "code",
   "execution_count": 59,
   "metadata": {
    "collapsed": false
   },
   "outputs": [
    {
     "data": {
      "text/plain": [
       "[\"hash\"]"
      ]
     },
     "execution_count": 59,
     "metadata": {},
     "output_type": "execute_result"
    }
   ],
   "source": [
    "order_three = ['hash']"
   ]
  },
  {
   "cell_type": "code",
   "execution_count": 60,
   "metadata": {
    "collapsed": false
   },
   "outputs": [
    {
     "data": {
      "text/plain": [
       "[\"egg\", \"hash\"]"
      ]
     },
     "execution_count": 60,
     "metadata": {},
     "output_type": "execute_result"
    }
   ],
   "source": [
    "order_four = ['egg', 'hash']"
   ]
  },
  {
   "cell_type": "code",
   "execution_count": 61,
   "metadata": {
    "collapsed": false
   },
   "outputs": [
    {
     "data": {
      "text/plain": [
       "[[\"sunny_side_up_egg\", \"sunny_side_up_egg\", \"sunny_side_up_egg\"], [\"sunny_side_up_egg\", \"sunny_side_up_egg\", \"sunny_side_up_egg\"], [\"hash\"], [\"egg\", \"hash\"]]"
      ]
     },
     "execution_count": 61,
     "metadata": {},
     "output_type": "execute_result"
    }
   ],
   "source": [
    "todays_orders = [order_one, order_two, order_three, order_four]"
   ]
  },
  {
   "cell_type": "code",
   "execution_count": 62,
   "metadata": {
    "collapsed": false
   },
   "outputs": [
    {
     "data": {
      "text/plain": [
       "[\"sunny_side_up_egg\", \"sunny_side_up_egg\", \"sunny_side_up_egg\"]"
      ]
     },
     "execution_count": 62,
     "metadata": {},
     "output_type": "execute_result"
    }
   ],
   "source": [
    "todays_orders.first"
   ]
  },
  {
   "cell_type": "code",
   "execution_count": 63,
   "metadata": {
    "collapsed": false
   },
   "outputs": [
    {
     "data": {
      "text/plain": [
       "[\"egg\", \"hash\"]"
      ]
     },
     "execution_count": 63,
     "metadata": {},
     "output_type": "execute_result"
    }
   ],
   "source": [
    "todays_orders.last"
   ]
  },
  {
   "cell_type": "code",
   "execution_count": 64,
   "metadata": {
    "collapsed": false
   },
   "outputs": [
    {
     "data": {
      "text/plain": [
       "false"
      ]
     },
     "execution_count": 64,
     "metadata": {},
     "output_type": "execute_result"
    }
   ],
   "source": [
    "todays_orders.empty?"
   ]
  },
  {
   "cell_type": "code",
   "execution_count": 66,
   "metadata": {
    "collapsed": false
   },
   "outputs": [
    {
     "data": {
      "text/plain": [
       "4"
      ]
     },
     "execution_count": 66,
     "metadata": {},
     "output_type": "execute_result"
    }
   ],
   "source": [
    "todays_orders.length"
   ]
  },
  {
   "cell_type": "code",
   "execution_count": 67,
   "metadata": {
    "collapsed": false
   },
   "outputs": [
    {
     "data": {
      "text/plain": [
       "[[\"sunny_side_up_egg\", \"sunny_side_up_egg\", \"sunny_side_up_egg\"], [\"sunny_side_up_egg\", \"sunny_side_up_egg\", \"sunny_side_up_egg\"], [\"hash\"], [\"egg\", \"hash\"]]"
      ]
     },
     "execution_count": 67,
     "metadata": {},
     "output_type": "execute_result"
    }
   ],
   "source": [
    "todays_orders"
   ]
  },
  {
   "cell_type": "code",
   "execution_count": 68,
   "metadata": {
    "collapsed": false
   },
   "outputs": [
    {
     "data": {
      "text/plain": [
       "[\"sunny_side_up_egg\", \"sunny_side_up_egg\", \"sunny_side_up_egg\"]"
      ]
     },
     "execution_count": 68,
     "metadata": {},
     "output_type": "execute_result"
    }
   ],
   "source": [
    "current_order = todays_orders.shift"
   ]
  },
  {
   "cell_type": "code",
   "execution_count": 70,
   "metadata": {
    "collapsed": false
   },
   "outputs": [
    {
     "data": {
      "text/plain": [
       "[[\"sunny_side_up_egg\", \"sunny_side_up_egg\", \"sunny_side_up_egg\"], [\"hash\"], [\"egg\", \"hash\"]]"
      ]
     },
     "execution_count": 70,
     "metadata": {},
     "output_type": "execute_result"
    }
   ],
   "source": [
    "todays_orders"
   ]
  },
  {
   "cell_type": "code",
   "execution_count": 71,
   "metadata": {
    "collapsed": false
   },
   "outputs": [
    {
     "data": {
      "text/plain": [
       "[\"egg\", \"has\", \"gravy\", \"biscuit\", \"sausage\", \"jam\"]"
      ]
     },
     "execution_count": 71,
     "metadata": {},
     "output_type": "execute_result"
    }
   ],
   "source": [
    "breakfast_items = ['egg', 'has', 'gravy', 'biscuit', 'sausage', 'jam']"
   ]
  },
  {
   "cell_type": "code",
   "execution_count": 72,
   "metadata": {
    "collapsed": false
   },
   "outputs": [
    {
     "data": {
      "text/plain": [
       "\"egg\""
      ]
     },
     "execution_count": 72,
     "metadata": {},
     "output_type": "execute_result"
    }
   ],
   "source": [
    "current_food = breakfast_items.shift"
   ]
  },
  {
   "cell_type": "code",
   "execution_count": 73,
   "metadata": {
    "collapsed": false
   },
   "outputs": [
    {
     "data": {
      "text/plain": [
       "[\"has\", \"gravy\", \"biscuit\", \"sausage\", \"jam\"]"
      ]
     },
     "execution_count": 73,
     "metadata": {},
     "output_type": "execute_result"
    }
   ],
   "source": [
    "breakfast_items"
   ]
  },
  {
   "cell_type": "code",
   "execution_count": 74,
   "metadata": {
    "collapsed": false
   },
   "outputs": [
    {
     "data": {
      "text/plain": [
       "\"jam\""
      ]
     },
     "execution_count": 74,
     "metadata": {},
     "output_type": "execute_result"
    }
   ],
   "source": [
    "current_food = breakfast_items.pop"
   ]
  },
  {
   "cell_type": "code",
   "execution_count": 75,
   "metadata": {
    "collapsed": false
   },
   "outputs": [
    {
     "data": {
      "text/plain": [
       "[\"has\", \"gravy\", \"biscuit\", \"sausage\"]"
      ]
     },
     "execution_count": 75,
     "metadata": {},
     "output_type": "execute_result"
    }
   ],
   "source": [
    "breakfast_items"
   ]
  },
  {
   "cell_type": "code",
   "execution_count": 76,
   "metadata": {
    "collapsed": false
   },
   "outputs": [
    {
     "data": {
      "text/plain": [
       "[\"has\", \"gravy\", \"biscuit\", \"sausage\", \"egg\"]"
      ]
     },
     "execution_count": 76,
     "metadata": {},
     "output_type": "execute_result"
    }
   ],
   "source": [
    "breakfast_items.push('egg')"
   ]
  },
  {
   "cell_type": "code",
   "execution_count": 77,
   "metadata": {
    "collapsed": false
   },
   "outputs": [
    {
     "data": {
      "text/plain": [
       "[\"jam\", \"has\", \"gravy\", \"biscuit\", \"sausage\", \"egg\"]"
      ]
     },
     "execution_count": 77,
     "metadata": {},
     "output_type": "execute_result"
    }
   ],
   "source": [
    "breakfast_items.unshift('jam')"
   ]
  },
  {
   "cell_type": "code",
   "execution_count": 78,
   "metadata": {
    "collapsed": false
   },
   "outputs": [
    {
     "data": {
      "text/plain": [
       "[\"jam\", \"has\", \"gravy\", \"biscuit\", \"sausage\", \"egg\"]"
      ]
     },
     "execution_count": 78,
     "metadata": {},
     "output_type": "execute_result"
    }
   ],
   "source": [
    "breakfast_items"
   ]
  },
  {
   "cell_type": "code",
   "execution_count": 79,
   "metadata": {
    "collapsed": false
   },
   "outputs": [
    {
     "data": {
      "text/plain": [
       "[\"jam\", \"has\", \"tea\", \"gravy\", \"biscuit\", \"sausage\", \"egg\"]"
      ]
     },
     "execution_count": 79,
     "metadata": {},
     "output_type": "execute_result"
    }
   ],
   "source": [
    "breakfast_items.insert(2, 'tea')"
   ]
  },
  {
   "cell_type": "code",
   "execution_count": 80,
   "metadata": {
    "collapsed": false
   },
   "outputs": [
    {
     "data": {
      "text/plain": [
       "\"tea\""
      ]
     },
     "execution_count": 80,
     "metadata": {},
     "output_type": "execute_result"
    }
   ],
   "source": [
    "breakfast_items[2]"
   ]
  },
  {
   "cell_type": "code",
   "execution_count": 82,
   "metadata": {
    "collapsed": false
   },
   "outputs": [
    {
     "name": "stdout",
     "output_type": "stream",
     "text": [
      "[\"sunny_side_up_egg\", \"sunny_side_up_egg\", \"sunny_side_up_egg\"]\n",
      "[\"hash\"]\n",
      "[\"egg\", \"hash\"]\n"
     ]
    },
    {
     "data": {
      "text/plain": [
       "[[\"sunny_side_up_egg\", \"sunny_side_up_egg\", \"sunny_side_up_egg\"], [\"hash\"], [\"egg\", \"hash\"]]"
      ]
     },
     "execution_count": 82,
     "metadata": {},
     "output_type": "execute_result"
    }
   ],
   "source": [
    "todays_orders.each do |order|\n",
    "  puts \"#{order}\"\n",
    "end"
   ]
  },
  {
   "cell_type": "markdown",
   "metadata": {},
   "source": [
    "## Ruby Wizardry (page 96 of 353)"
   ]
  },
  {
   "cell_type": "code",
   "execution_count": 83,
   "metadata": {
    "collapsed": false
   },
   "outputs": [
    {
     "name": "stdout",
     "output_type": "stream",
     "text": [
      "[\"sunny_side_up_egg\", \"sunny_side_up_egg\", \"sunny_side_up_egg\"]\n",
      "[\"hash\"]\n",
      "[\"egg\", \"hash\"]\n"
     ]
    },
    {
     "data": {
      "text/plain": [
       "[[\"sunny_side_up_egg\", \"sunny_side_up_egg\", \"sunny_side_up_egg\"], [\"hash\"], [\"egg\", \"hash\"]]"
      ]
     },
     "execution_count": 83,
     "metadata": {},
     "output_type": "execute_result"
    }
   ],
   "source": [
    "todays_orders.each { |order| puts \"#{order}\"}"
   ]
  },
  {
   "cell_type": "code",
   "execution_count": 84,
   "metadata": {
    "collapsed": false
   },
   "outputs": [
    {
     "data": {
      "text/plain": [
       "{:the_king=>\"the ruler of the kingdom\", :ruben=>\"a Ruby wizard in training\", :scarlet=>\"a Ruby wizard in training\", :big_hank=>\"the owner of the Hashery\", :squeaky_jim=>\"a fry cook at the Hashery\"}"
      ]
     },
     "execution_count": 84,
     "metadata": {},
     "output_type": "execute_result"
    }
   ],
   "source": [
    "our_heroes = {\n",
    "  :the_king => 'the ruler of the kingdom',\n",
    "  :ruben => 'a Ruby wizard in training',\n",
    "  :scarlet => 'a Ruby wizard in training',\n",
    "  :big_hank => 'the owner of the Hashery',\n",
    "  :squeaky_jim => 'a fry cook at the Hashery'\n",
    "  }"
   ]
  },
  {
   "cell_type": "code",
   "execution_count": 85,
   "metadata": {
    "collapsed": false
   },
   "outputs": [
    {
     "data": {
      "text/plain": [
       "\"the ruler of the kingdom\""
      ]
     },
     "execution_count": 85,
     "metadata": {},
     "output_type": "execute_result"
    }
   ],
   "source": [
    "our_heroes[:the_king]"
   ]
  },
  {
   "cell_type": "code",
   "execution_count": 86,
   "metadata": {
    "collapsed": false
   },
   "outputs": [
    {
     "data": {
      "text/plain": [
       "{}"
      ]
     },
     "execution_count": 86,
     "metadata": {},
     "output_type": "execute_result"
    }
   ],
   "source": [
    "hashery_menu = {}"
   ]
  },
  {
   "cell_type": "code",
   "execution_count": 87,
   "metadata": {
    "collapsed": false
   },
   "outputs": [
    {
     "data": {
      "text/plain": [
       "{}"
      ]
     },
     "execution_count": 87,
     "metadata": {},
     "output_type": "execute_result"
    }
   ],
   "source": [
    "hashery_menu = Hash.new"
   ]
  },
  {
   "cell_type": "code",
   "execution_count": 89,
   "metadata": {
    "collapsed": false
   },
   "outputs": [
    {
     "data": {
      "text/plain": [
       "{:the_king=>\"the ruler of the kingdom\", :ruben=>\"a Ruby wizard in training\", :scarlet=>\"a Ruby wizard in training\", :big_hank=>\"the ower of the Hashery\", :squeaky_jim=>\"a fry cook at the Hashery\"}"
      ]
     },
     "execution_count": 89,
     "metadata": {},
     "output_type": "execute_result"
    }
   ],
   "source": [
    "our_heroes = {\n",
    "  the_king: 'the ruler of the kingdom',\n",
    "  ruben: 'a Ruby wizard in training',\n",
    "  scarlet: 'a Ruby wizard in training',\n",
    "  big_hank: 'the ower of the Hashery',\n",
    "  squeaky_jim: 'a fry cook at the Hashery'\n",
    "  }"
   ]
  },
  {
   "cell_type": "code",
   "execution_count": 90,
   "metadata": {
    "collapsed": false
   },
   "outputs": [
    {
     "data": {
      "text/plain": [
       "[:the_king, :ruben, :scarlet, :big_hank, :squeaky_jim]"
      ]
     },
     "execution_count": 90,
     "metadata": {},
     "output_type": "execute_result"
    }
   ],
   "source": [
    "our_heroes.keys"
   ]
  },
  {
   "cell_type": "code",
   "execution_count": 91,
   "metadata": {
    "collapsed": false
   },
   "outputs": [
    {
     "data": {
      "text/plain": [
       "[\"the ruler of the kingdom\", \"a Ruby wizard in training\", \"a Ruby wizard in training\", \"the ower of the Hashery\", \"a fry cook at the Hashery\"]"
      ]
     },
     "execution_count": 91,
     "metadata": {},
     "output_type": "execute_result"
    }
   ],
   "source": [
    "our_heroes.values"
   ]
  },
  {
   "cell_type": "code",
   "execution_count": 92,
   "metadata": {
    "collapsed": false
   },
   "outputs": [
    {
     "data": {
      "text/plain": [
       "false"
      ]
     },
     "execution_count": 92,
     "metadata": {},
     "output_type": "execute_result"
    }
   ],
   "source": [
    "our_heroes.empty?"
   ]
  },
  {
   "cell_type": "code",
   "execution_count": 93,
   "metadata": {
    "collapsed": false
   },
   "outputs": [
    {
     "data": {
      "text/plain": [
       "{}"
      ]
     },
     "execution_count": 93,
     "metadata": {},
     "output_type": "execute_result"
    }
   ],
   "source": [
    "empty_hash = {}"
   ]
  },
  {
   "cell_type": "code",
   "execution_count": 94,
   "metadata": {
    "collapsed": false
   },
   "outputs": [
    {
     "data": {
      "text/plain": [
       "true"
      ]
     },
     "execution_count": 94,
     "metadata": {},
     "output_type": "execute_result"
    }
   ],
   "source": [
    "empty_hash.empty?"
   ]
  },
  {
   "cell_type": "code",
   "execution_count": 95,
   "metadata": {
    "collapsed": false
   },
   "outputs": [
    {
     "data": {
      "text/plain": [
       "5"
      ]
     },
     "execution_count": 95,
     "metadata": {},
     "output_type": "execute_result"
    }
   ],
   "source": [
    "our_heroes.length"
   ]
  },
  {
   "cell_type": "code",
   "execution_count": 96,
   "metadata": {
    "collapsed": false
   },
   "outputs": [
    {
     "data": {
      "text/plain": [
       "true"
      ]
     },
     "execution_count": 96,
     "metadata": {},
     "output_type": "execute_result"
    }
   ],
   "source": [
    "our_heroes.has_key?(:ruben)"
   ]
  },
  {
   "cell_type": "code",
   "execution_count": 97,
   "metadata": {
    "collapsed": false
   },
   "outputs": [
    {
     "data": {
      "text/plain": [
       "false"
      ]
     },
     "execution_count": 97,
     "metadata": {},
     "output_type": "execute_result"
    }
   ],
   "source": [
    "our_heroes.has_key?(:trady_blix)"
   ]
  },
  {
   "cell_type": "code",
   "execution_count": 98,
   "metadata": {
    "collapsed": false
   },
   "outputs": [
    {
     "data": {
      "text/plain": [
       "true"
      ]
     },
     "execution_count": 98,
     "metadata": {},
     "output_type": "execute_result"
    }
   ],
   "source": [
    "our_heroes.has_value?('a fry cook at the Hashery')"
   ]
  },
  {
   "cell_type": "code",
   "execution_count": 100,
   "metadata": {
    "collapsed": false
   },
   "outputs": [
    {
     "name": "stdout",
     "output_type": "stream",
     "text": [
      "the_king is the ruler of the kingdom.\n",
      "ruben is a Ruby wizard in training.\n",
      "scarlet is a Ruby wizard in training.\n",
      "big_hank is the ower of the Hashery.\n",
      "squeaky_jim is a fry cook at the Hashery.\n"
     ]
    },
    {
     "data": {
      "text/plain": [
       "{:the_king=>\"the ruler of the kingdom\", :ruben=>\"a Ruby wizard in training\", :scarlet=>\"a Ruby wizard in training\", :big_hank=>\"the ower of the Hashery\", :squeaky_jim=>\"a fry cook at the Hashery\"}"
      ]
     },
     "execution_count": 100,
     "metadata": {},
     "output_type": "execute_result"
    }
   ],
   "source": [
    "our_heroes.each do |hero, role|\n",
    "  puts \"#{hero} is #{role}.\"\n",
    "end"
   ]
  },
  {
   "cell_type": "code",
   "execution_count": 101,
   "metadata": {
    "collapsed": false
   },
   "outputs": [
    {
     "data": {
      "text/plain": [
       "[\"a\", \"b\", \"c\", \"d\", \"e\", \"f\"]"
      ]
     },
     "execution_count": 101,
     "metadata": {},
     "output_type": "execute_result"
    }
   ],
   "source": [
    "('a'..'f').to_a"
   ]
  },
  {
   "cell_type": "code",
   "execution_count": 102,
   "metadata": {
    "collapsed": false
   },
   "outputs": [
    {
     "data": {
      "text/plain": [
       "[\"a\", \"b\", \"c\", \"d\", \"e\"]"
      ]
     },
     "execution_count": 102,
     "metadata": {},
     "output_type": "execute_result"
    }
   ],
   "source": [
    "('a'...'f').to_a"
   ]
  },
  {
   "cell_type": "code",
   "execution_count": 103,
   "metadata": {
    "collapsed": false
   },
   "outputs": [
    {
     "data": {
      "text/plain": [
       "[1, 2, 3, 4, 5, 6, 7, 8, 9]"
      ]
     },
     "execution_count": 103,
     "metadata": {},
     "output_type": "execute_result"
    }
   ],
   "source": [
    "(1..9).to_a"
   ]
  },
  {
   "cell_type": "code",
   "execution_count": 104,
   "metadata": {
    "collapsed": false
   },
   "outputs": [
    {
     "data": {
      "text/plain": [
       "[1, 2, 3, 4, 5, 6, 7, 8]"
      ]
     },
     "execution_count": 104,
     "metadata": {},
     "output_type": "execute_result"
    }
   ],
   "source": [
    "(1...9).to_a"
   ]
  },
  {
   "cell_type": "code",
   "execution_count": 105,
   "metadata": {
    "collapsed": false
   },
   "outputs": [
    {
     "data": {
      "text/plain": [
       "1"
      ]
     },
     "execution_count": 105,
     "metadata": {},
     "output_type": "execute_result"
    }
   ],
   "source": [
    "(1..9).first"
   ]
  },
  {
   "cell_type": "code",
   "execution_count": 106,
   "metadata": {
    "collapsed": false
   },
   "outputs": [
    {
     "data": {
      "text/plain": [
       "9"
      ]
     },
     "execution_count": 106,
     "metadata": {},
     "output_type": "execute_result"
    }
   ],
   "source": [
    "(1..9).last"
   ]
  },
  {
   "cell_type": "code",
   "execution_count": 107,
   "metadata": {
    "collapsed": false
   },
   "outputs": [
    {
     "data": {
      "text/plain": [
       "300"
      ]
     },
     "execution_count": 107,
     "metadata": {},
     "output_type": "execute_result"
    }
   ],
   "source": [
    "current_temperature = (300..400).first"
   ]
  },
  {
   "cell_type": "code",
   "execution_count": 108,
   "metadata": {
    "collapsed": false
   },
   "outputs": [
    {
     "data": {
      "text/plain": [
       "{:eggs=>2, :hash=>3, :jam=>1, :sausage=>2, :biscuit=>1..3}"
      ]
     },
     "execution_count": 108,
     "metadata": {},
     "output_type": "execute_result"
    }
   ],
   "source": [
    "hashery_menu = {\n",
    "  eggs: 2,\n",
    "  hash: 3,\n",
    "  jam: 1,\n",
    "  sausage: 2,\n",
    "  biscuit: (1..3)\n",
    "  }"
   ]
  },
  {
   "cell_type": "code",
   "execution_count": 109,
   "metadata": {
    "collapsed": false
   },
   "outputs": [
    {
     "name": "stdout",
     "output_type": "stream",
     "text": [
      "Today we're serving: eggs!\n",
      "Today we're serving: hash!\n",
      "Today we're serving: jam!\n",
      "Today we're serving: sausage!\n",
      "Today we're serving: biscuit!\n"
     ]
    },
    {
     "data": {
      "text/plain": [
       "[:eggs, :hash, :jam, :sausage, :biscuit]"
      ]
     },
     "execution_count": 109,
     "metadata": {},
     "output_type": "execute_result"
    }
   ],
   "source": [
    "hashery_menu.keys.each do |item|\n",
    "  puts \"Today we're serving: #{item}!\"\n",
    "end"
   ]
  },
  {
   "cell_type": "code",
   "execution_count": 110,
   "metadata": {
    "collapsed": false
   },
   "outputs": [
    {
     "name": "stdout",
     "output_type": "stream",
     "text": [
      "We've got eggs for $2. What a deal!\n",
      "We've got hash for $3. What a deal!\n",
      "We've got jam for $1. What a deal!\n",
      "We've got sausage for $2. What a deal!\n",
      "We've got biscuit for $1..3. What a deal!\n"
     ]
    },
    {
     "data": {
      "text/plain": [
       "{:eggs=>2, :hash=>3, :jam=>1, :sausage=>2, :biscuit=>1..3}"
      ]
     },
     "execution_count": 110,
     "metadata": {},
     "output_type": "execute_result"
    }
   ],
   "source": [
    "hashery_menu.each do |item, price|\n",
    "  puts \"We've got #{item} for $#{price}. What a deal!\"\n",
    "end"
   ]
  },
  {
   "cell_type": "code",
   "execution_count": 111,
   "metadata": {
    "collapsed": false
   },
   "outputs": [
    {
     "name": "stdout",
     "output_type": "stream",
     "text": [
      "Here's what a biscuit'll run ya, depending on how much butter you want:\n"
     ]
    }
   ],
   "source": [
    "puts \"Here's what a biscuit'll run ya, depending on how much butter you want:\""
   ]
  },
  {
   "cell_type": "code",
   "execution_count": 112,
   "metadata": {
    "collapsed": false
   },
   "outputs": [
    {
     "name": "stdout",
     "output_type": "stream",
     "text": [
      "$1\n",
      "$2\n",
      "$3\n"
     ]
    },
    {
     "data": {
      "text/plain": [
       "[1, 2, 3]"
      ]
     },
     "execution_count": 112,
     "metadata": {},
     "output_type": "execute_result"
    }
   ],
   "source": [
    "hashery_menu[:biscuit].to_a.each do |price|\n",
    "  puts \"$#{price}\"\n",
    "end"
   ]
  },
  {
   "cell_type": "markdown",
   "metadata": {},
   "source": [
    "## Ruby Wizardry (page 105 of 353)"
   ]
  },
  {
   "cell_type": "code",
   "execution_count": 113,
   "metadata": {
    "collapsed": false
   },
   "outputs": [
    {
     "data": {
      "text/plain": [
       "{:eggs=>2, :hash=>3, :jam=>1, :sausage=>2, :biscuit=>1..3}"
      ]
     },
     "execution_count": 113,
     "metadata": {},
     "output_type": "execute_result"
    }
   ],
   "source": [
    "hashery_menu = {\n",
    "  eggs: 2,\n",
    "  hash: 3,\n",
    "  jam: 1,\n",
    "  sausage: 2,\n",
    "  biscuit: (1..3)\n",
    "  }"
   ]
  },
  {
   "cell_type": "code",
   "execution_count": 114,
   "metadata": {
    "collapsed": false
   },
   "outputs": [
    {
     "name": "stdout",
     "output_type": "stream",
     "text": [
      "Today we're serving: eggs!\n",
      "Today we're serving: hash!\n",
      "Today we're serving: jam!\n",
      "Today we're serving: sausage!\n",
      "Today we're serving: biscuit!\n"
     ]
    },
    {
     "data": {
      "text/plain": [
       "[:eggs, :hash, :jam, :sausage, :biscuit]"
      ]
     },
     "execution_count": 114,
     "metadata": {},
     "output_type": "execute_result"
    }
   ],
   "source": [
    "hashery_menu.keys.each do |item|\n",
    "  puts \"Today we're serving: #{item}!\"\n",
    "end"
   ]
  },
  {
   "cell_type": "code",
   "execution_count": 115,
   "metadata": {
    "collapsed": false
   },
   "outputs": [
    {
     "name": "stdout",
     "output_type": "stream",
     "text": [
      "We've got eggs for $2. What a deal!\n",
      "We've got hash for $3. What a deal!\n",
      "We've got jam for $1. What a deal!\n",
      "We've got sausage for $2. What a deal!\n",
      "We've got biscuit for $1..3. What a deal!\n"
     ]
    },
    {
     "data": {
      "text/plain": [
       "{:eggs=>2, :hash=>3, :jam=>1, :sausage=>2, :biscuit=>1..3}"
      ]
     },
     "execution_count": 115,
     "metadata": {},
     "output_type": "execute_result"
    }
   ],
   "source": [
    "hashery_menu.each do |item, price|\n",
    "  puts \"We've got #{item} for $#{price}. What a deal!\"\n",
    "end"
   ]
  },
  {
   "cell_type": "code",
   "execution_count": 116,
   "metadata": {
    "collapsed": false
   },
   "outputs": [
    {
     "name": "stdout",
     "output_type": "stream",
     "text": [
      "Here's what a biscuit'll run ya, depending on how much butter you want:\n"
     ]
    }
   ],
   "source": [
    "puts \"Here's what a biscuit'll run ya, depending on how much butter you want:\""
   ]
  },
  {
   "cell_type": "code",
   "execution_count": 118,
   "metadata": {
    "collapsed": false
   },
   "outputs": [
    {
     "name": "stdout",
     "output_type": "stream",
     "text": [
      "$1\n",
      "$2\n",
      "$3\n"
     ]
    },
    {
     "data": {
      "text/plain": [
       "[1, 2, 3]"
      ]
     },
     "execution_count": 118,
     "metadata": {},
     "output_type": "execute_result"
    }
   ],
   "source": [
    "hashery_menu[:biscuit].to_a.each do |price|\n",
    "  puts \"$#{price}\"\n",
    "end"
   ]
  },
  {
   "cell_type": "code",
   "execution_count": 119,
   "metadata": {
    "collapsed": false
   },
   "outputs": [
    {
     "data": {
      "text/plain": [
       "[\"plain\", \"sesame\", \"everything\"]"
      ]
     },
     "execution_count": 119,
     "metadata": {},
     "output_type": "execute_result"
    }
   ],
   "source": [
    "bagel_types = ['plain', 'sesame', 'everything']"
   ]
  },
  {
   "cell_type": "code",
   "execution_count": 120,
   "metadata": {
    "collapsed": false
   },
   "outputs": [
    {
     "data": {
      "text/plain": [
       "[\"plain\", \"sesame\", \"everything\", \"cinnamon raisin\"]"
      ]
     },
     "execution_count": 120,
     "metadata": {},
     "output_type": "execute_result"
    }
   ],
   "source": [
    "bagel_types << 'cinnamon raisin'"
   ]
  },
  {
   "cell_type": "code",
   "execution_count": 121,
   "metadata": {
    "collapsed": false
   },
   "outputs": [
    {
     "data": {
      "text/plain": [
       "[\"chunky bacon\", \"chunky bacon\", \"chunky bacon\"]"
      ]
     },
     "execution_count": 121,
     "metadata": {},
     "output_type": "execute_result"
    }
   ],
   "source": [
    "breakfast = ['chunky bacon', 'chunky bacon', 'chunky bacon']"
   ]
  },
  {
   "cell_type": "code",
   "execution_count": 122,
   "metadata": {
    "collapsed": false
   },
   "outputs": [
    {
     "data": {
      "text/plain": [
       "[\"chunky bacon\", \"chunky bacon\", \"chunky bacon\"]"
      ]
     },
     "execution_count": 122,
     "metadata": {},
     "output_type": "execute_result"
    }
   ],
   "source": [
    "breakfast = Array.new(3, 'chunky bacon')"
   ]
  },
  {
   "cell_type": "code",
   "execution_count": 123,
   "metadata": {
    "collapsed": false
   },
   "outputs": [
    {
     "data": {
      "text/plain": [
       "[]"
      ]
     },
     "execution_count": 123,
     "metadata": {},
     "output_type": "execute_result"
    }
   ],
   "source": [
    "empty_array = []"
   ]
  },
  {
   "cell_type": "code",
   "execution_count": 124,
   "metadata": {
    "collapsed": false
   },
   "outputs": [
    {
     "data": {
      "text/plain": [
       "true"
      ]
     },
     "execution_count": 124,
     "metadata": {},
     "output_type": "execute_result"
    }
   ],
   "source": [
    "empty_array.empty?"
   ]
  },
  {
   "cell_type": "code",
   "execution_count": 125,
   "metadata": {
    "collapsed": false
   },
   "outputs": [
    {
     "data": {
      "text/plain": [
       "[1, 2, 3, 4, \"I declare a thumb war\"]"
      ]
     },
     "execution_count": 125,
     "metadata": {},
     "output_type": "execute_result"
    }
   ],
   "source": [
    "not_empty_array = [1, 2, 3, 4, 'I declare a thumb war']"
   ]
  },
  {
   "cell_type": "code",
   "execution_count": 126,
   "metadata": {
    "collapsed": false
   },
   "outputs": [
    {
     "data": {
      "text/plain": [
       "false"
      ]
     },
     "execution_count": 126,
     "metadata": {},
     "output_type": "execute_result"
    }
   ],
   "source": [
    "not_empty_array.empty?"
   ]
  },
  {
   "cell_type": "code",
   "execution_count": 127,
   "metadata": {
    "collapsed": false
   },
   "outputs": [
    {
     "data": {
      "text/plain": [
       "5"
      ]
     },
     "execution_count": 127,
     "metadata": {},
     "output_type": "execute_result"
    }
   ],
   "source": [
    "not_empty_array.length"
   ]
  },
  {
   "cell_type": "code",
   "execution_count": 128,
   "metadata": {
    "collapsed": false
   },
   "outputs": [
    {
     "data": {
      "text/plain": [
       "1"
      ]
     },
     "execution_count": 128,
     "metadata": {},
     "output_type": "execute_result"
    }
   ],
   "source": [
    "not_empty_array.first"
   ]
  },
  {
   "cell_type": "code",
   "execution_count": 130,
   "metadata": {
    "collapsed": false
   },
   "outputs": [
    {
     "data": {
      "text/plain": [
       "\"I declare a thumb war\""
      ]
     },
     "execution_count": 130,
     "metadata": {},
     "output_type": "execute_result"
    }
   ],
   "source": [
    "not_empty_array.last"
   ]
  },
  {
   "cell_type": "code",
   "execution_count": 131,
   "metadata": {
    "collapsed": false
   },
   "outputs": [
    {
     "data": {
      "text/plain": [
       "[1, 2, 3, 4, \"I declare a thumb war\"]"
      ]
     },
     "execution_count": 131,
     "metadata": {},
     "output_type": "execute_result"
    }
   ],
   "source": [
    "not_empty_array"
   ]
  },
  {
   "cell_type": "code",
   "execution_count": 134,
   "metadata": {
    "collapsed": false
   },
   "outputs": [
    {
     "data": {
      "text/plain": [
       "1"
      ]
     },
     "execution_count": 134,
     "metadata": {},
     "output_type": "execute_result"
    }
   ],
   "source": [
    "first_item = not_empty_array.shift"
   ]
  },
  {
   "cell_type": "code",
   "execution_count": 135,
   "metadata": {
    "collapsed": false
   },
   "outputs": [
    {
     "data": {
      "text/plain": [
       "[1, 2, 3, 4, \"I declare a thumb war\"]"
      ]
     },
     "execution_count": 135,
     "metadata": {},
     "output_type": "execute_result"
    }
   ],
   "source": [
    "not_empty_array.unshift(first_item)"
   ]
  },
  {
   "cell_type": "code",
   "execution_count": 136,
   "metadata": {
    "collapsed": false
   },
   "outputs": [
    {
     "data": {
      "text/plain": [
       "\"I declare a thumb war\""
      ]
     },
     "execution_count": 136,
     "metadata": {},
     "output_type": "execute_result"
    }
   ],
   "source": [
    "last_item = not_empty_array.pop"
   ]
  },
  {
   "cell_type": "code",
   "execution_count": 137,
   "metadata": {
    "collapsed": false
   },
   "outputs": [
    {
     "data": {
      "text/plain": [
       "[1, 2, 3, 4]"
      ]
     },
     "execution_count": 137,
     "metadata": {},
     "output_type": "execute_result"
    }
   ],
   "source": [
    "not_empty_array"
   ]
  },
  {
   "cell_type": "code",
   "execution_count": 138,
   "metadata": {
    "collapsed": false
   },
   "outputs": [
    {
     "data": {
      "text/plain": [
       "[1, 2, 3, 4, \"I declare a thumb war\"]"
      ]
     },
     "execution_count": 138,
     "metadata": {},
     "output_type": "execute_result"
    }
   ],
   "source": [
    "not_empty_array.push(last_item)"
   ]
  },
  {
   "cell_type": "code",
   "execution_count": 139,
   "metadata": {
    "collapsed": false
   },
   "outputs": [
    {
     "data": {
      "text/plain": [
       "[1, 2, 3, 4, 5, \"I declare a thumb war\"]"
      ]
     },
     "execution_count": 139,
     "metadata": {},
     "output_type": "execute_result"
    }
   ],
   "source": [
    "not_empty_array.insert(4, 5)"
   ]
  },
  {
   "cell_type": "code",
   "execution_count": 140,
   "metadata": {
    "collapsed": false
   },
   "outputs": [
    {
     "data": {
      "text/plain": [
       "[\"lightbulb\", \"dead battery\", \"some pens\", \"old penny\"]"
      ]
     },
     "execution_count": 140,
     "metadata": {},
     "output_type": "execute_result"
    }
   ],
   "source": [
    "junk_drawer = ['lightbulb', 'dead battery', 'some pens', 'old penny']"
   ]
  },
  {
   "cell_type": "code",
   "execution_count": 141,
   "metadata": {
    "collapsed": false
   },
   "outputs": [
    {
     "data": {
      "text/plain": [
       "\"some pens\""
      ]
     },
     "execution_count": 141,
     "metadata": {},
     "output_type": "execute_result"
    }
   ],
   "source": [
    "junk_drawer[2]"
   ]
  },
  {
   "cell_type": "code",
   "execution_count": 142,
   "metadata": {
    "collapsed": false
   },
   "outputs": [
    {
     "name": "stdout",
     "output_type": "stream",
     "text": [
      "lightbulb\n",
      "dead battery\n",
      "some pens\n",
      "old penny\n"
     ]
    },
    {
     "data": {
      "text/plain": [
       "[\"lightbulb\", \"dead battery\", \"some pens\", \"old penny\"]"
      ]
     },
     "execution_count": 142,
     "metadata": {},
     "output_type": "execute_result"
    }
   ],
   "source": [
    "junk_drawer.each do |thing|\n",
    "  puts thing\n",
    "end"
   ]
  },
  {
   "cell_type": "code",
   "execution_count": 143,
   "metadata": {
    "collapsed": false
   },
   "outputs": [
    {
     "name": "stdout",
     "output_type": "stream",
     "text": [
      "lightbulb\n",
      "dead battery\n",
      "some pens\n",
      "old penny\n"
     ]
    },
    {
     "data": {
      "text/plain": [
       "[\"lightbulb\", \"dead battery\", \"some pens\", \"old penny\"]"
      ]
     },
     "execution_count": 143,
     "metadata": {},
     "output_type": "execute_result"
    }
   ],
   "source": [
    "junk_drawer.each { |thing| puts thing}"
   ]
  },
  {
   "cell_type": "code",
   "execution_count": 144,
   "metadata": {
    "collapsed": false
   },
   "outputs": [
    {
     "data": {
      "text/plain": [
       "{}"
      ]
     },
     "execution_count": 144,
     "metadata": {},
     "output_type": "execute_result"
    }
   ],
   "source": [
    "hashery_menu = {}"
   ]
  },
  {
   "cell_type": "code",
   "execution_count": 145,
   "metadata": {
    "collapsed": false
   },
   "outputs": [
    {
     "data": {
      "text/plain": [
       "{}"
      ]
     },
     "execution_count": 145,
     "metadata": {},
     "output_type": "execute_result"
    }
   ],
   "source": [
    "hashery_menu = Hash.new"
   ]
  },
  {
   "cell_type": "code",
   "execution_count": 146,
   "metadata": {
    "collapsed": false
   },
   "outputs": [
    {
     "data": {
      "text/plain": [
       "{:eggs=>2, :hash=>3, :jam=>1, :sausage=>2, :biscuit=>1..3}"
      ]
     },
     "execution_count": 146,
     "metadata": {},
     "output_type": "execute_result"
    }
   ],
   "source": [
    "hashery_menu = {\n",
    "  eggs: 2,\n",
    "  hash: 3,\n",
    "  jam: 1,\n",
    "  sausage: 2,\n",
    "  biscuit: (1..3)\n",
    "  }"
   ]
  },
  {
   "cell_type": "code",
   "execution_count": 147,
   "metadata": {
    "collapsed": false
   },
   "outputs": [
    {
     "data": {
      "text/plain": [
       "1"
      ]
     },
     "execution_count": 147,
     "metadata": {},
     "output_type": "execute_result"
    }
   ],
   "source": [
    "hashery_menu[:jam]"
   ]
  },
  {
   "cell_type": "code",
   "execution_count": 148,
   "metadata": {
    "collapsed": false
   },
   "outputs": [
    {
     "data": {
      "text/plain": [
       "false"
      ]
     },
     "execution_count": 148,
     "metadata": {},
     "output_type": "execute_result"
    }
   ],
   "source": [
    "hashery_menu.empty?"
   ]
  },
  {
   "cell_type": "code",
   "execution_count": 149,
   "metadata": {
    "collapsed": false
   },
   "outputs": [
    {
     "data": {
      "text/plain": [
       "{}"
      ]
     },
     "execution_count": 149,
     "metadata": {},
     "output_type": "execute_result"
    }
   ],
   "source": [
    "empty_hash = {}"
   ]
  },
  {
   "cell_type": "code",
   "execution_count": 150,
   "metadata": {
    "collapsed": false
   },
   "outputs": [
    {
     "data": {
      "text/plain": [
       "true"
      ]
     },
     "execution_count": 150,
     "metadata": {},
     "output_type": "execute_result"
    }
   ],
   "source": [
    "empty_hash.empty?"
   ]
  },
  {
   "cell_type": "code",
   "execution_count": 151,
   "metadata": {
    "collapsed": false
   },
   "outputs": [
    {
     "data": {
      "text/plain": [
       "5"
      ]
     },
     "execution_count": 151,
     "metadata": {},
     "output_type": "execute_result"
    }
   ],
   "source": [
    "hashery_menu.length"
   ]
  },
  {
   "cell_type": "code",
   "execution_count": 152,
   "metadata": {
    "collapsed": false
   },
   "outputs": [
    {
     "data": {
      "text/plain": [
       "[:eggs, :hash, :jam, :sausage, :biscuit]"
      ]
     },
     "execution_count": 152,
     "metadata": {},
     "output_type": "execute_result"
    }
   ],
   "source": [
    "hashery_menu.keys"
   ]
  },
  {
   "cell_type": "code",
   "execution_count": 153,
   "metadata": {
    "collapsed": false
   },
   "outputs": [
    {
     "data": {
      "text/plain": [
       "true"
      ]
     },
     "execution_count": 153,
     "metadata": {},
     "output_type": "execute_result"
    }
   ],
   "source": [
    "hashery_menu.has_key?(:jam)"
   ]
  },
  {
   "cell_type": "code",
   "execution_count": 154,
   "metadata": {
    "collapsed": false
   },
   "outputs": [
    {
     "data": {
      "text/plain": [
       "false"
      ]
     },
     "execution_count": 154,
     "metadata": {},
     "output_type": "execute_result"
    }
   ],
   "source": [
    "hashery_menu.has_key?(:zebra)"
   ]
  },
  {
   "cell_type": "code",
   "execution_count": 155,
   "metadata": {
    "collapsed": false
   },
   "outputs": [
    {
     "data": {
      "text/plain": [
       "true"
      ]
     },
     "execution_count": 155,
     "metadata": {},
     "output_type": "execute_result"
    }
   ],
   "source": [
    "hashery_menu.has_value?(3)"
   ]
  },
  {
   "cell_type": "code",
   "execution_count": 156,
   "metadata": {
    "collapsed": false
   },
   "outputs": [
    {
     "data": {
      "text/plain": [
       "false"
      ]
     },
     "execution_count": 156,
     "metadata": {},
     "output_type": "execute_result"
    }
   ],
   "source": [
    "hashery_menu.has_value?(42)"
   ]
  },
  {
   "cell_type": "code",
   "execution_count": 157,
   "metadata": {
    "collapsed": false
   },
   "outputs": [
    {
     "name": "stdout",
     "output_type": "stream",
     "text": [
      "eggs costs 2\n",
      "hash costs 3\n",
      "jam costs 1\n",
      "sausage costs 2\n",
      "biscuit costs 1..3\n"
     ]
    },
    {
     "data": {
      "text/plain": [
       "{:eggs=>2, :hash=>3, :jam=>1, :sausage=>2, :biscuit=>1..3}"
      ]
     },
     "execution_count": 157,
     "metadata": {},
     "output_type": "execute_result"
    }
   ],
   "source": [
    "hashery_menu.each do |item, price|\n",
    "  puts \"#{item} costs #{price}\"\n",
    "end"
   ]
  },
  {
   "cell_type": "code",
   "execution_count": 158,
   "metadata": {
    "collapsed": false
   },
   "outputs": [
    {
     "data": {
      "text/plain": [
       "[1, 2, 3, 4, 5]"
      ]
     },
     "execution_count": 158,
     "metadata": {},
     "output_type": "execute_result"
    }
   ],
   "source": [
    "(1..5).to_a"
   ]
  },
  {
   "cell_type": "code",
   "execution_count": 159,
   "metadata": {
    "collapsed": false
   },
   "outputs": [
    {
     "data": {
      "text/plain": [
       "[1, 2, 3, 4]"
      ]
     },
     "execution_count": 159,
     "metadata": {},
     "output_type": "execute_result"
    }
   ],
   "source": [
    "(1...5).to_a"
   ]
  },
  {
   "cell_type": "code",
   "execution_count": 161,
   "metadata": {
    "collapsed": false
   },
   "outputs": [
    {
     "data": {
      "text/plain": [
       "[\"a\", \"b\", \"c\"]"
      ]
     },
     "execution_count": 161,
     "metadata": {},
     "output_type": "execute_result"
    }
   ],
   "source": [
    "('a'..'c').to_a"
   ]
  },
  {
   "cell_type": "code",
   "execution_count": 162,
   "metadata": {
    "collapsed": false
   },
   "outputs": [
    {
     "data": {
      "text/plain": [
       "\"a\""
      ]
     },
     "execution_count": 162,
     "metadata": {},
     "output_type": "execute_result"
    }
   ],
   "source": [
    "('a'..'c').first"
   ]
  },
  {
   "cell_type": "code",
   "execution_count": 164,
   "metadata": {
    "collapsed": false
   },
   "outputs": [
    {
     "data": {
      "text/plain": [
       "\"c\""
      ]
     },
     "execution_count": 164,
     "metadata": {},
     "output_type": "execute_result"
    }
   ],
   "source": [
    "('a'..'c').last"
   ]
  },
  {
   "cell_type": "code",
   "execution_count": 165,
   "metadata": {
    "collapsed": false
   },
   "outputs": [
    {
     "data": {
      "text/plain": [
       "{:eggs=>2, :hash=>3, :jam=>1, :sausage=>2, :biscuit=>1..3}"
      ]
     },
     "execution_count": 165,
     "metadata": {},
     "output_type": "execute_result"
    }
   ],
   "source": [
    "hashery_menu"
   ]
  },
  {
   "cell_type": "code",
   "execution_count": 166,
   "metadata": {
    "collapsed": false
   },
   "outputs": [
    {
     "data": {
      "text/plain": [
       "[\"coffee\", \"orange juice\", \"tea\"]"
      ]
     },
     "execution_count": 166,
     "metadata": {},
     "output_type": "execute_result"
    }
   ],
   "source": [
    "hashery_menu['drinks'] = ['coffee', 'orange juice', 'tea']"
   ]
  },
  {
   "cell_type": "code",
   "execution_count": 167,
   "metadata": {
    "collapsed": false
   },
   "outputs": [
    {
     "data": {
      "text/plain": [
       "{:eggs=>2, :hash=>3, :jam=>1, :sausage=>2, :biscuit=>1..3, \"drinks\"=>[\"coffee\", \"orange juice\", \"tea\"]}"
      ]
     },
     "execution_count": 167,
     "metadata": {},
     "output_type": "execute_result"
    }
   ],
   "source": [
    "hashery_menu"
   ]
  },
  {
   "cell_type": "code",
   "execution_count": 168,
   "metadata": {
    "collapsed": false
   },
   "outputs": [
    {
     "data": {
      "text/plain": [
       "\"The King\""
      ]
     },
     "execution_count": 168,
     "metadata": {},
     "output_type": "execute_result"
    }
   ],
   "source": [
    "string_one = 'The King'"
   ]
  },
  {
   "cell_type": "code",
   "execution_count": 169,
   "metadata": {
    "collapsed": false
   },
   "outputs": [
    {
     "data": {
      "text/plain": [
       "\"The King\""
      ]
     },
     "execution_count": 169,
     "metadata": {},
     "output_type": "execute_result"
    }
   ],
   "source": [
    "string_two = 'The King'"
   ]
  },
  {
   "cell_type": "code",
   "execution_count": 170,
   "metadata": {
    "collapsed": false
   },
   "outputs": [
    {
     "data": {
      "text/plain": [
       "70132298802180"
      ]
     },
     "execution_count": 170,
     "metadata": {},
     "output_type": "execute_result"
    }
   ],
   "source": [
    "string_one.object_id"
   ]
  },
  {
   "cell_type": "code",
   "execution_count": 171,
   "metadata": {
    "collapsed": false
   },
   "outputs": [
    {
     "data": {
      "text/plain": [
       "70132286502260"
      ]
     },
     "execution_count": 171,
     "metadata": {},
     "output_type": "execute_result"
    }
   ],
   "source": [
    "string_two.object_id"
   ]
  },
  {
   "cell_type": "code",
   "execution_count": 172,
   "metadata": {
    "collapsed": false
   },
   "outputs": [
    {
     "data": {
      "text/plain": [
       ":the_king"
      ]
     },
     "execution_count": 172,
     "metadata": {},
     "output_type": "execute_result"
    }
   ],
   "source": [
    "symbol_one = :the_king"
   ]
  },
  {
   "cell_type": "code",
   "execution_count": 173,
   "metadata": {
    "collapsed": false
   },
   "outputs": [
    {
     "data": {
      "text/plain": [
       ":the_king"
      ]
     },
     "execution_count": 173,
     "metadata": {},
     "output_type": "execute_result"
    }
   ],
   "source": [
    "symbol_two = :the_king"
   ]
  },
  {
   "cell_type": "code",
   "execution_count": 174,
   "metadata": {
    "collapsed": false
   },
   "outputs": [
    {
     "data": {
      "text/plain": [
       "1193128"
      ]
     },
     "execution_count": 174,
     "metadata": {},
     "output_type": "execute_result"
    }
   ],
   "source": [
    "symbol_one.object_id"
   ]
  },
  {
   "cell_type": "code",
   "execution_count": 175,
   "metadata": {
    "collapsed": false
   },
   "outputs": [
    {
     "data": {
      "text/plain": [
       "1193128"
      ]
     },
     "execution_count": 175,
     "metadata": {},
     "output_type": "execute_result"
    }
   ],
   "source": [
    "symbol_two.object_id"
   ]
  },
  {
   "cell_type": "code",
   "execution_count": 176,
   "metadata": {
    "collapsed": false
   },
   "outputs": [
    {
     "data": {
      "text/plain": [
       ":my_fancy_symbol"
      ]
     },
     "execution_count": 176,
     "metadata": {},
     "output_type": "execute_result"
    }
   ],
   "source": [
    "variable_name = :my_fancy_symbol"
   ]
  },
  {
   "cell_type": "code",
   "execution_count": 177,
   "metadata": {
    "collapsed": false
   },
   "outputs": [
    {
     "data": {
      "text/plain": [
       "{:bloviate=>\"To talk at length\"}"
      ]
     },
     "execution_count": 177,
     "metadata": {},
     "output_type": "execute_result"
    }
   ],
   "source": [
    "fancy_words = {bloviate: 'To talk at length'}"
   ]
  },
  {
   "cell_type": "code",
   "execution_count": 179,
   "metadata": {
    "collapsed": false
   },
   "outputs": [
    {
     "data": {
      "text/plain": [
       "{:bloviate=>\"To talk at length\"}"
      ]
     },
     "execution_count": 179,
     "metadata": {},
     "output_type": "execute_result"
    }
   ],
   "source": [
    "fancy_words = {:bloviate => 'To talk at length'}"
   ]
  },
  {
   "cell_type": "code",
   "execution_count": 180,
   "metadata": {
    "collapsed": false
   },
   "outputs": [
    {
     "data": {
      "text/plain": [
       "{:eggs=>2, :hash=>3, :jam=>1, :sausage=>2, :biscuit=>1..3, \"drinks\"=>[\"coffee\", \"orange juice\", \"tea\"]}"
      ]
     },
     "execution_count": 180,
     "metadata": {},
     "output_type": "execute_result"
    }
   ],
   "source": [
    "hashery_menu"
   ]
  },
  {
   "cell_type": "code",
   "execution_count": 181,
   "metadata": {
    "collapsed": false
   },
   "outputs": [
    {
     "data": {
      "text/plain": [
       ":drinks"
      ]
     },
     "execution_count": 181,
     "metadata": {},
     "output_type": "execute_result"
    }
   ],
   "source": [
    "hashery_menu.keys.last.to_sym"
   ]
  },
  {
   "cell_type": "code",
   "execution_count": 182,
   "metadata": {
    "collapsed": false
   },
   "outputs": [
    {
     "data": {
      "text/plain": [
       "{:eggs=>2, :hash=>3, :jam=>1, :sausage=>2, :biscuit=>1..3, \"drinks\"=>[\"coffee\", \"orange juice\", \"tea\"]}"
      ]
     },
     "execution_count": 182,
     "metadata": {},
     "output_type": "execute_result"
    }
   ],
   "source": [
    "hashery_menu"
   ]
  },
  {
   "cell_type": "code",
   "execution_count": 184,
   "metadata": {
    "collapsed": false
   },
   "outputs": [
    {
     "data": {
      "text/plain": [
       "[\"coffee\", \"orange juice\", \"tea\"]"
      ]
     },
     "execution_count": 184,
     "metadata": {},
     "output_type": "execute_result"
    }
   ],
   "source": [
    "hashery_menu.delete('drinks')"
   ]
  },
  {
   "cell_type": "code",
   "execution_count": 185,
   "metadata": {
    "collapsed": false
   },
   "outputs": [
    {
     "data": {
      "text/plain": [
       "{:eggs=>2, :hash=>3, :jam=>1, :sausage=>2, :biscuit=>1..3}"
      ]
     },
     "execution_count": 185,
     "metadata": {},
     "output_type": "execute_result"
    }
   ],
   "source": [
    "hashery_menu"
   ]
  },
  {
   "cell_type": "code",
   "execution_count": 186,
   "metadata": {
    "collapsed": false
   },
   "outputs": [
    {
     "data": {
      "text/plain": [
       "{:coffee=>1, :orange_juice=>2, :tea=>1}"
      ]
     },
     "execution_count": 186,
     "metadata": {},
     "output_type": "execute_result"
    }
   ],
   "source": [
    "hashery_menu[:drinks] = { :coffee => 1, :orange_juice => 2, :tea => 1}"
   ]
  },
  {
   "cell_type": "code",
   "execution_count": 187,
   "metadata": {
    "collapsed": false
   },
   "outputs": [
    {
     "data": {
      "text/plain": [
       "1"
      ]
     },
     "execution_count": 187,
     "metadata": {},
     "output_type": "execute_result"
    }
   ],
   "source": [
    "hashery_menu[:chunky_bacon] = 1"
   ]
  },
  {
   "cell_type": "code",
   "execution_count": 189,
   "metadata": {
    "collapsed": false
   },
   "outputs": [
    {
     "data": {
      "text/plain": [
       "{\"tater_tots\"=>2, \"fancy_toast\"=>3, \"omelette\"=>3, \"tiny_burger\"=>4, \"chunky_bacon\"=>1, \"root_beer_float\"=>2, \"egg_nog\"=>2}"
      ]
     },
     "execution_count": 189,
     "metadata": {},
     "output_type": "execute_result"
    }
   ],
   "source": [
    "my_own_menu = { 'tater_tots' => 2,\n",
    "  'fancy_toast' => 3,\n",
    "  'omelette' => 3,\n",
    "  'tiny_burger' => 4,\n",
    "  'chunky_bacon' => 1,\n",
    "  'root_beer_float' => 2,\n",
    "  'egg_nog' => 2\n",
    "  }"
   ]
  },
  {
   "cell_type": "code",
   "execution_count": 190,
   "metadata": {
    "collapsed": false
   },
   "outputs": [
    {
     "name": "stdout",
     "output_type": "stream",
     "text": [
      "Object ID before: 70132291305480\n"
     ]
    }
   ],
   "source": [
    "puts \"Object ID before: #{my_own_menu.object_id}\""
   ]
  },
  {
   "cell_type": "code",
   "execution_count": 191,
   "metadata": {
    "collapsed": false
   },
   "outputs": [
    {
     "data": {
      "text/plain": [
       "[\"tater_tots\", \"fancy_toast\", \"omelette\", \"tiny_burger\", \"chunky_bacon\", \"root_beer_float\", \"egg_nog\"]"
      ]
     },
     "execution_count": 191,
     "metadata": {},
     "output_type": "execute_result"
    }
   ],
   "source": [
    "my_own_menu.keys.each do |key|\n",
    "  my_own_menu[key.to_sym] = my_own_menu.delete(key)\n",
    "end"
   ]
  },
  {
   "cell_type": "code",
   "execution_count": 192,
   "metadata": {
    "collapsed": false
   },
   "outputs": [
    {
     "name": "stdout",
     "output_type": "stream",
     "text": [
      "Object ID after: 70132291305480\n"
     ]
    }
   ],
   "source": [
    "puts \"Object ID after: #{my_own_menu.object_id}\""
   ]
  },
  {
   "cell_type": "code",
   "execution_count": 193,
   "metadata": {
    "collapsed": false
   },
   "outputs": [
    {
     "name": "stdout",
     "output_type": "stream",
     "text": [
      "{:tater_tots=>2, :fancy_toast=>3, :omelette=>3, :tiny_burger=>4, :chunky_bacon=>1, :root_beer_float=>2, :egg_nog=>2}\n"
     ]
    }
   ],
   "source": [
    "puts my_own_menu"
   ]
  },
  {
   "cell_type": "code",
   "execution_count": 194,
   "metadata": {
    "collapsed": false
   },
   "outputs": [
    {
     "data": {
      "text/plain": [
       "{\"tater_tots\"=>2, \"fancy_toast\"=>3, \"omelette\"=>3, \"tiny_burger\"=>4, \"chunky_bacon\"=>1, \"root_beer_float\"=>2, \"egg_nog\"=>2}"
      ]
     },
     "execution_count": 194,
     "metadata": {},
     "output_type": "execute_result"
    }
   ],
   "source": [
    "my_own_menu = { 'tater_tots' => 2,\n",
    "  'fancy_toast' => 3,\n",
    "  'omelette' => 3,\n",
    "  'tiny_burger' => 4,\n",
    "  'chunky_bacon' => 1,\n",
    "  'root_beer_float' => 2,\n",
    "  'egg_nog' => 2\n",
    "  }"
   ]
  },
  {
   "cell_type": "code",
   "execution_count": 195,
   "metadata": {
    "collapsed": false
   },
   "outputs": [
    {
     "name": "stdout",
     "output_type": "stream",
     "text": [
      "Object ID before: 70132291100480\n"
     ]
    }
   ],
   "source": [
    "puts \"Object ID before: #{my_own_menu.object_id}\""
   ]
  },
  {
   "cell_type": "code",
   "execution_count": 196,
   "metadata": {
    "collapsed": false
   },
   "outputs": [
    {
     "data": {
      "text/plain": [
       "[\"tater_tots\", \"fancy_toast\", \"omelette\", \"tiny_burger\", \"chunky_bacon\", \"root_beer_float\", \"egg_nog\"]"
      ]
     },
     "execution_count": 196,
     "metadata": {},
     "output_type": "execute_result"
    }
   ],
   "source": [
    "my_own_menu.keys.each do |key|\n",
    "  my_own_menu[key.to_sym] = my_own_menu.delete(key)\n",
    "end"
   ]
  },
  {
   "cell_type": "code",
   "execution_count": 197,
   "metadata": {
    "collapsed": false
   },
   "outputs": [
    {
     "name": "stdout",
     "output_type": "stream",
     "text": [
      "Object ID after: 70132291100480\n"
     ]
    }
   ],
   "source": [
    "puts \"Object ID after: #{my_own_menu.object_id}\""
   ]
  },
  {
   "cell_type": "code",
   "execution_count": 198,
   "metadata": {
    "collapsed": false
   },
   "outputs": [
    {
     "name": "stdout",
     "output_type": "stream",
     "text": [
      "{:tater_tots=>2, :fancy_toast=>3, :omelette=>3, :tiny_burger=>4, :chunky_bacon=>1, :root_beer_float=>2, :egg_nog=>2}\n"
     ]
    }
   ],
   "source": [
    "puts my_own_menu"
   ]
  },
  {
   "cell_type": "code",
   "execution_count": 201,
   "metadata": {
    "collapsed": false
   },
   "outputs": [
    {
     "data": {
      "text/plain": [
       "{:eggs=>2, :hash=>3, :jam=>1, :sausage=>2, :biscuit=>1..3, :drinks=>{:coffee=>1, :orange_juice=>2, :tea=>1}, :chunky_bacon=>1}"
      ]
     },
     "execution_count": 201,
     "metadata": {},
     "output_type": "execute_result"
    }
   ],
   "source": [
    "hashery_menu"
   ]
  },
  {
   "cell_type": "code",
   "execution_count": 203,
   "metadata": {
    "collapsed": false
   },
   "outputs": [
    {
     "data": {
      "text/plain": [
       "{:ninjas=>\"awesone\", :wizards=>\"pretty rad\", :warrior_princesses=>\"super tough\"}"
      ]
     },
     "execution_count": 203,
     "metadata": {},
     "output_type": "execute_result"
    }
   ],
   "source": [
    "my_hash = {ninjas: 'awesone',\n",
    "  wizards: 'pretty rad', \n",
    "  warrior_princesses: 'super tough'}"
   ]
  },
  {
   "cell_type": "code",
   "execution_count": 204,
   "metadata": {
    "collapsed": false
   },
   "outputs": [
    {
     "data": {
      "text/plain": [
       ":the_king"
      ]
     },
     "execution_count": 204,
     "metadata": {},
     "output_type": "execute_result"
    }
   ],
   "source": [
    "symbol_one = :the_king"
   ]
  },
  {
   "cell_type": "code",
   "execution_count": 205,
   "metadata": {
    "collapsed": false
   },
   "outputs": [
    {
     "data": {
      "text/plain": [
       ":the_king"
      ]
     },
     "execution_count": 205,
     "metadata": {},
     "output_type": "execute_result"
    }
   ],
   "source": [
    "symbol_two = :the_king"
   ]
  },
  {
   "cell_type": "code",
   "execution_count": 206,
   "metadata": {
    "collapsed": false
   },
   "outputs": [
    {
     "data": {
      "text/plain": [
       "1193128"
      ]
     },
     "execution_count": 206,
     "metadata": {},
     "output_type": "execute_result"
    }
   ],
   "source": [
    "symbol_one.object_id"
   ]
  },
  {
   "cell_type": "code",
   "execution_count": 207,
   "metadata": {
    "collapsed": false
   },
   "outputs": [
    {
     "data": {
      "text/plain": [
       "1193128"
      ]
     },
     "execution_count": 207,
     "metadata": {},
     "output_type": "execute_result"
    }
   ],
   "source": [
    "symbol_two.object_id"
   ]
  },
  {
   "cell_type": "code",
   "execution_count": 208,
   "metadata": {
    "collapsed": false
   },
   "outputs": [
    {
     "data": {
      "text/plain": [
       "\"The King\""
      ]
     },
     "execution_count": 208,
     "metadata": {},
     "output_type": "execute_result"
    }
   ],
   "source": [
    "string_one = 'The King'"
   ]
  },
  {
   "cell_type": "code",
   "execution_count": 209,
   "metadata": {
    "collapsed": false
   },
   "outputs": [
    {
     "data": {
      "text/plain": [
       "\"The King\""
      ]
     },
     "execution_count": 209,
     "metadata": {},
     "output_type": "execute_result"
    }
   ],
   "source": [
    "string_two = 'The King'"
   ]
  },
  {
   "cell_type": "code",
   "execution_count": 210,
   "metadata": {
    "collapsed": false
   },
   "outputs": [
    {
     "data": {
      "text/plain": [
       "70132299176500"
      ]
     },
     "execution_count": 210,
     "metadata": {},
     "output_type": "execute_result"
    }
   ],
   "source": [
    "string_one.object_id"
   ]
  },
  {
   "cell_type": "code",
   "execution_count": 211,
   "metadata": {
    "collapsed": false
   },
   "outputs": [
    {
     "data": {
      "text/plain": [
       "70132299123260"
      ]
     },
     "execution_count": 211,
     "metadata": {},
     "output_type": "execute_result"
    }
   ],
   "source": [
    "string_two.object_id"
   ]
  },
  {
   "cell_type": "code",
   "execution_count": 212,
   "metadata": {
    "collapsed": false
   },
   "outputs": [
    {
     "data": {
      "text/plain": [
       "70132298949700"
      ]
     },
     "execution_count": 212,
     "metadata": {},
     "output_type": "execute_result"
    }
   ],
   "source": [
    "'The King'.object_id"
   ]
  },
  {
   "cell_type": "code",
   "execution_count": 213,
   "metadata": {
    "collapsed": false
   },
   "outputs": [
    {
     "data": {
      "text/plain": [
       "70132290794820"
      ]
     },
     "execution_count": 213,
     "metadata": {},
     "output_type": "execute_result"
    }
   ],
   "source": [
    "{:eggs => 2, :hash => 3}.object_id"
   ]
  },
  {
   "cell_type": "code",
   "execution_count": 214,
   "metadata": {
    "collapsed": false
   },
   "outputs": [
    {
     "data": {
      "text/plain": [
       "70132290743840"
      ]
     },
     "execution_count": 214,
     "metadata": {},
     "output_type": "execute_result"
    }
   ],
   "source": [
    "['eeny', 'meeny', 'miny', 'moe'].object_id"
   ]
  },
  {
   "cell_type": "code",
   "execution_count": 215,
   "metadata": {
    "collapsed": false
   },
   "outputs": [
    {
     "data": {
      "text/plain": [
       ":drinks"
      ]
     },
     "execution_count": 215,
     "metadata": {},
     "output_type": "execute_result"
    }
   ],
   "source": [
    "'drinks'.to_sym"
   ]
  },
  {
   "cell_type": "code",
   "execution_count": 216,
   "metadata": {
    "collapsed": false
   },
   "outputs": [
    {
     "data": {
      "text/plain": [
       "\"drinks\""
      ]
     },
     "execution_count": 216,
     "metadata": {},
     "output_type": "execute_result"
    }
   ],
   "source": [
    ":drinks.to_s"
   ]
  },
  {
   "cell_type": "code",
   "execution_count": 217,
   "metadata": {
    "collapsed": false
   },
   "outputs": [
    {
     "data": {
      "text/plain": [
       "{:one=>1, :two=>2}"
      ]
     },
     "execution_count": 217,
     "metadata": {},
     "output_type": "execute_result"
    }
   ],
   "source": [
    "simple_hash = { :one => 1, :two => 2}"
   ]
  },
  {
   "cell_type": "code",
   "execution_count": 219,
   "metadata": {
    "collapsed": false
   },
   "outputs": [
    {
     "data": {
      "text/plain": [
       "2"
      ]
     },
     "execution_count": 219,
     "metadata": {},
     "output_type": "execute_result"
    }
   ],
   "source": [
    "saved_value_from_hash = simple_hash.delete(:two)"
   ]
  },
  {
   "cell_type": "code",
   "execution_count": 220,
   "metadata": {
    "collapsed": false
   },
   "outputs": [
    {
     "data": {
      "text/plain": [
       "{:one=>1}"
      ]
     },
     "execution_count": 220,
     "metadata": {},
     "output_type": "execute_result"
    }
   ],
   "source": [
    "simple_hash"
   ]
  },
  {
   "cell_type": "code",
   "execution_count": 221,
   "metadata": {
    "collapsed": false
   },
   "outputs": [
    {
     "data": {
      "text/plain": [
       "2"
      ]
     },
     "execution_count": 221,
     "metadata": {},
     "output_type": "execute_result"
    }
   ],
   "source": [
    "saved_value_from_hash"
   ]
  },
  {
   "cell_type": "code",
   "execution_count": 222,
   "metadata": {
    "collapsed": false
   },
   "outputs": [
    {
     "data": {
      "text/plain": [
       "{:number_key=>42, :hash_key=>{:first_value=>1, :second_value=>2}}"
      ]
     },
     "execution_count": 222,
     "metadata": {},
     "output_type": "execute_result"
    }
   ],
   "source": [
    "fancy_hash = { :number_key => 42,\n",
    "  :hash_key => { :first_value => 1,\n",
    "    :second_value => 2\n",
    "    }\n",
    "  }"
   ]
  },
  {
   "cell_type": "code",
   "execution_count": 229,
   "metadata": {
    "collapsed": false
   },
   "outputs": [
    {
     "data": {
      "text/plain": [
       ":simon_says"
      ]
     },
     "execution_count": 229,
     "metadata": {},
     "output_type": "execute_result"
    }
   ],
   "source": [
    "def simon_says(phrase)\n",
    "  return phrase\n",
    "end"
   ]
  },
  {
   "cell_type": "code",
   "execution_count": 230,
   "metadata": {
    "collapsed": false
   },
   "outputs": [
    {
     "data": {
      "text/plain": [
       "\"Prepare for battle!\""
      ]
     },
     "execution_count": 230,
     "metadata": {},
     "output_type": "execute_result"
    }
   ],
   "source": [
    "simon_says('Prepare for battle!')"
   ]
  },
  {
   "cell_type": "code",
   "execution_count": 231,
   "metadata": {
    "collapsed": false
   },
   "outputs": [
    {
     "data": {
      "text/plain": [
       ":print_sum"
      ]
     },
     "execution_count": 231,
     "metadata": {},
     "output_type": "execute_result"
    }
   ],
   "source": [
    "def print_sum(a, b)\n",
    "  puts a + b\n",
    "end"
   ]
  },
  {
   "cell_type": "code",
   "execution_count": 232,
   "metadata": {
    "collapsed": false
   },
   "outputs": [
    {
     "name": "stdout",
     "output_type": "stream",
     "text": [
      "5\n"
     ]
    }
   ],
   "source": [
    "sum = print_sum(2, 3)"
   ]
  },
  {
   "cell_type": "code",
   "execution_count": 233,
   "metadata": {
    "collapsed": true
   },
   "outputs": [],
   "source": [
    "sum"
   ]
  },
  {
   "cell_type": "code",
   "execution_count": 235,
   "metadata": {
    "collapsed": false
   },
   "outputs": [
    {
     "data": {
      "text/plain": [
       ":return_sum"
      ]
     },
     "execution_count": 235,
     "metadata": {},
     "output_type": "execute_result"
    }
   ],
   "source": [
    "def return_sum(a, b)\n",
    "  return a + b\n",
    "end"
   ]
  },
  {
   "cell_type": "code",
   "execution_count": 236,
   "metadata": {
    "collapsed": false
   },
   "outputs": [
    {
     "data": {
      "text/plain": [
       "5"
      ]
     },
     "execution_count": 236,
     "metadata": {},
     "output_type": "execute_result"
    }
   ],
   "source": [
    "sum = return_sum(2, 3)"
   ]
  },
  {
   "cell_type": "code",
   "execution_count": 237,
   "metadata": {
    "collapsed": false
   },
   "outputs": [
    {
     "data": {
      "text/plain": [
       "5"
      ]
     },
     "execution_count": 237,
     "metadata": {},
     "output_type": "execute_result"
    }
   ],
   "source": [
    "sum"
   ]
  },
  {
   "cell_type": "code",
   "execution_count": 238,
   "metadata": {
    "collapsed": false
   },
   "outputs": [
    {
     "data": {
      "text/plain": [
       ":add_things"
      ]
     },
     "execution_count": 238,
     "metadata": {},
     "output_type": "execute_result"
    }
   ],
   "source": [
    "def add_things(thing_one, thing_two)\n",
    "  thing_one + thing_two\n",
    "end"
   ]
  },
  {
   "cell_type": "code",
   "execution_count": 239,
   "metadata": {
    "collapsed": false
   },
   "outputs": [
    {
     "data": {
      "text/plain": [
       "10"
      ]
     },
     "execution_count": 239,
     "metadata": {},
     "output_type": "execute_result"
    }
   ],
   "source": [
    "add_things(3, 7)"
   ]
  },
  {
   "cell_type": "code",
   "execution_count": 240,
   "metadata": {
    "collapsed": false
   },
   "outputs": [
    {
     "data": {
      "text/plain": [
       ":plus_one"
      ]
     },
     "execution_count": 240,
     "metadata": {},
     "output_type": "execute_result"
    }
   ],
   "source": [
    "def plus_one(number)\n",
    "  number + 1\n",
    "end"
   ]
  },
  {
   "cell_type": "code",
   "execution_count": 241,
   "metadata": {
    "collapsed": false
   },
   "outputs": [
    {
     "data": {
      "text/plain": [
       "3"
      ]
     },
     "execution_count": 241,
     "metadata": {},
     "output_type": "execute_result"
    }
   ],
   "source": [
    "plus_one(2)"
   ]
  },
  {
   "cell_type": "code",
   "execution_count": 242,
   "metadata": {
    "collapsed": false
   },
   "outputs": [
    {
     "data": {
      "text/plain": [
       "3"
      ]
     },
     "execution_count": 242,
     "metadata": {},
     "output_type": "execute_result"
    }
   ],
   "source": [
    "plus_one 2"
   ]
  },
  {
   "cell_type": "code",
   "execution_count": 243,
   "metadata": {
    "collapsed": false
   },
   "outputs": [
    {
     "data": {
      "text/plain": [
       ":declare_name"
      ]
     },
     "execution_count": 243,
     "metadata": {},
     "output_type": "execute_result"
    }
   ],
   "source": [
    "def declare_name(name = 'The Off-White Knight!')\n",
    "  puts name \n",
    "end"
   ]
  },
  {
   "cell_type": "code",
   "execution_count": 244,
   "metadata": {
    "collapsed": false
   },
   "outputs": [
    {
     "name": "stdout",
     "output_type": "stream",
     "text": [
      "The Off-White Knight!\n"
     ]
    }
   ],
   "source": [
    "declare_name()"
   ]
  },
  {
   "cell_type": "code",
   "execution_count": 245,
   "metadata": {
    "collapsed": false
   },
   "outputs": [
    {
     "name": "stdout",
     "output_type": "stream",
     "text": [
      "The Off-White Knight!\n"
     ]
    }
   ],
   "source": [
    "declare_name"
   ]
  },
  {
   "cell_type": "code",
   "execution_count": 246,
   "metadata": {
    "collapsed": false
   },
   "outputs": [
    {
     "name": "stdout",
     "output_type": "stream",
     "text": [
      "Lady Scarlet the Bold!\n"
     ]
    }
   ],
   "source": [
    "declare_name('Lady Scarlet the Bold!')"
   ]
  },
  {
   "cell_type": "code",
   "execution_count": 247,
   "metadata": {
    "collapsed": false
   },
   "outputs": [
    {
     "name": "stdout",
     "output_type": "stream",
     "text": [
      "Sir Ruben the Fearless!\n"
     ]
    }
   ],
   "source": [
    "declare_name 'Sir Ruben the Fearless!'"
   ]
  },
  {
   "cell_type": "code",
   "execution_count": 248,
   "metadata": {
    "collapsed": true
   },
   "outputs": [],
   "source": [
    "if nil\n",
    "  puts \"Thhis text won't be printed!\"\n",
    "end"
   ]
  },
  {
   "cell_type": "code",
   "execution_count": 249,
   "metadata": {
    "collapsed": false
   },
   "outputs": [
    {
     "name": "stdout",
     "output_type": "stream",
     "text": [
      "But I will get printed!\n"
     ]
    }
   ],
   "source": [
    "if !nil\n",
    "  puts \"But I will get printed!\"\n",
    "end"
   ]
  },
  {
   "cell_type": "code",
   "execution_count": 250,
   "metadata": {
    "collapsed": false
   },
   "outputs": [
    {
     "name": "stdout",
     "output_type": "stream",
     "text": [
      "But I will get printed!\n"
     ]
    }
   ],
   "source": [
    "unless nil\n",
    "  puts \"But I will get printed!\"\n",
    "end"
   ]
  },
  {
   "cell_type": "code",
   "execution_count": 251,
   "metadata": {
    "collapsed": false
   },
   "outputs": [
    {
     "data": {
      "text/plain": [
       "false"
      ]
     },
     "execution_count": 251,
     "metadata": {},
     "output_type": "execute_result"
    }
   ],
   "source": [
    "nil == false"
   ]
  },
  {
   "cell_type": "code",
   "execution_count": 252,
   "metadata": {
    "collapsed": false
   },
   "outputs": [
    {
     "name": "stdout",
     "output_type": "stream",
     "text": [
      "Prepare for nil!\n"
     ]
    }
   ],
   "source": [
    "puts 'Prepare for nil!'"
   ]
  },
  {
   "cell_type": "code",
   "execution_count": 253,
   "metadata": {
    "collapsed": false
   },
   "outputs": [
    {
     "data": {
      "text/plain": [
       ":declare_knights"
      ]
     },
     "execution_count": 253,
     "metadata": {},
     "output_type": "execute_result"
    }
   ],
   "source": [
    "def declare_knights(*knights)\n",
    "  puts knights\n",
    "end"
   ]
  },
  {
   "cell_type": "code",
   "execution_count": 254,
   "metadata": {
    "collapsed": false
   },
   "outputs": [
    {
     "name": "stdout",
     "output_type": "stream",
     "text": [
      "[\"Lady Scarlet\", \"Sir Ruben\", \"The Off-White Knight\"]\n"
     ]
    }
   ],
   "source": [
    "declare_knights('Lady Scarlet', 'Sir Ruben', 'The Off-White Knight')"
   ]
  },
  {
   "cell_type": "code",
   "execution_count": 255,
   "metadata": {
    "collapsed": false
   },
   "outputs": [
    {
     "data": {
      "text/plain": [
       ":add"
      ]
     },
     "execution_count": 255,
     "metadata": {},
     "output_type": "execute_result"
    }
   ],
   "source": [
    "def add(a, b)\n",
    "  return a + b\n",
    "end"
   ]
  },
  {
   "cell_type": "code",
   "execution_count": 256,
   "metadata": {
    "collapsed": false
   },
   "outputs": [
    {
     "data": {
      "text/plain": [
       "4"
      ]
     },
     "execution_count": 256,
     "metadata": {},
     "output_type": "execute_result"
    }
   ],
   "source": [
    "add(1, 3)"
   ]
  },
  {
   "cell_type": "code",
   "execution_count": 257,
   "metadata": {
    "collapsed": false
   },
   "outputs": [
    {
     "data": {
      "text/plain": [
       ":add"
      ]
     },
     "execution_count": 257,
     "metadata": {},
     "output_type": "execute_result"
    }
   ],
   "source": [
    "def add(a, b)\n",
    "  a + b\n",
    "end"
   ]
  },
  {
   "cell_type": "code",
   "execution_count": 258,
   "metadata": {
    "collapsed": false
   },
   "outputs": [
    {
     "data": {
      "text/plain": [
       "4"
      ]
     },
     "execution_count": 258,
     "metadata": {},
     "output_type": "execute_result"
    }
   ],
   "source": [
    "add(1, 3)"
   ]
  },
  {
   "cell_type": "code",
   "execution_count": 259,
   "metadata": {
    "collapsed": false
   },
   "outputs": [
    {
     "data": {
      "text/plain": [
       ":my_block_method"
      ]
     },
     "execution_count": 259,
     "metadata": {},
     "output_type": "execute_result"
    }
   ],
   "source": [
    "def my_block_method\n",
    "  yield \n",
    "end"
   ]
  },
  {
   "cell_type": "code",
   "execution_count": 260,
   "metadata": {
    "collapsed": false
   },
   "outputs": [
    {
     "data": {
      "text/plain": [
       "2"
      ]
     },
     "execution_count": 260,
     "metadata": {},
     "output_type": "execute_result"
    }
   ],
   "source": [
    "my_block_method{ 1 + 1}"
   ]
  },
  {
   "cell_type": "code",
   "execution_count": 261,
   "metadata": {
    "collapsed": false
   },
   "outputs": [
    {
     "name": "stdout",
     "output_type": "stream",
     "text": [
      "Hello from the block!\n"
     ]
    }
   ],
   "source": [
    "my_block_method {puts 'Hello from the block!'}"
   ]
  },
  {
   "cell_type": "code",
   "execution_count": 1,
   "metadata": {
    "collapsed": false
   },
   "outputs": [
    {
     "data": {
      "text/plain": [
       ":all_about_me"
      ]
     },
     "execution_count": 1,
     "metadata": {},
     "output_type": "execute_result"
    }
   ],
   "source": [
    "def all_about_me(name, age = 100, *pets)\n",
    "  puts \"My name is #{name}\"\n",
    "  puts  \" I'm #{age} years old\"\n",
    "  if block_given?\n",
    "    yield pets\n",
    "  else\n",
    "    puts pets\n",
    "  end\n",
    "end"
   ]
  },
  {
   "cell_type": "code",
   "execution_count": 2,
   "metadata": {
    "collapsed": false
   },
   "outputs": [
    {
     "name": "stdout",
     "output_type": "stream",
     "text": [
      "My name is Ruben\n",
      " I'm 12 years old\n",
      "[\"Smalls\", \"Chucky Jim\"]\n"
     ]
    }
   ],
   "source": [
    "all_about_me('Ruben', 12, 'Smalls', 'Chucky Jim')"
   ]
  },
  {
   "cell_type": "code",
   "execution_count": 3,
   "metadata": {
    "collapsed": false
   },
   "outputs": [
    {
     "name": "stdout",
     "output_type": "stream",
     "text": [
      "My name is Ruben\n",
      " I'm 12 years old\n",
      "\n"
     ]
    },
    {
     "data": {
      "text/plain": [
       "\"Smalls and Chucky Jim\""
      ]
     },
     "execution_count": 3,
     "metadata": {},
     "output_type": "execute_result"
    }
   ],
   "source": [
    "all_about_me('Ruben', 12, 'Smalls', 'Chucky Jim') { |pets| puts\n",
    "  pets.join(' and ')}"
   ]
  },
  {
   "cell_type": "code",
   "execution_count": 4,
   "metadata": {
    "collapsed": false
   },
   "outputs": [
    {
     "data": {
      "text/plain": [
       "\"1 plus 2 plus 3\""
      ]
     },
     "execution_count": 4,
     "metadata": {},
     "output_type": "execute_result"
    }
   ],
   "source": [
    "[1, 2, 3].join(' plus ')"
   ]
  },
  {
   "cell_type": "code",
   "execution_count": 5,
   "metadata": {
    "collapsed": false
   },
   "outputs": [
    {
     "data": {
      "text/plain": [
       ":multiply_by_three"
      ]
     },
     "execution_count": 5,
     "metadata": {},
     "output_type": "execute_result"
    }
   ],
   "source": [
    "def multiply_by_three(number)\n",
    "  number * 3\n",
    "end"
   ]
  },
  {
   "cell_type": "code",
   "execution_count": 7,
   "metadata": {
    "collapsed": false
   },
   "outputs": [
    {
     "data": {
      "text/plain": [
       "6"
      ]
     },
     "execution_count": 7,
     "metadata": {},
     "output_type": "execute_result"
    }
   ],
   "source": [
    "multiply_by_three(2)"
   ]
  },
  {
   "cell_type": "code",
   "execution_count": 9,
   "metadata": {
    "collapsed": false
   },
   "outputs": [
    {
     "data": {
      "text/plain": [
       ":multiply_by_three"
      ]
     },
     "execution_count": 9,
     "metadata": {},
     "output_type": "execute_result"
    }
   ],
   "source": [
    "def multiply_by_three(number = 2)\n",
    "  number * 3\n",
    "end"
   ]
  },
  {
   "cell_type": "code",
   "execution_count": 10,
   "metadata": {
    "collapsed": false
   },
   "outputs": [
    {
     "data": {
      "text/plain": [
       "6"
      ]
     },
     "execution_count": 10,
     "metadata": {},
     "output_type": "execute_result"
    }
   ],
   "source": [
    "multiply_by_three"
   ]
  },
  {
   "cell_type": "code",
   "execution_count": 11,
   "metadata": {
    "collapsed": false
   },
   "outputs": [
    {
     "data": {
      "text/plain": [
       "9"
      ]
     },
     "execution_count": 11,
     "metadata": {},
     "output_type": "execute_result"
    }
   ],
   "source": [
    "multiply_by_three 3"
   ]
  },
  {
   "cell_type": "code",
   "execution_count": 12,
   "metadata": {
    "collapsed": false
   },
   "outputs": [
    {
     "data": {
      "text/plain": [
       ":print_all_the_names"
      ]
     },
     "execution_count": 12,
     "metadata": {},
     "output_type": "execute_result"
    }
   ],
   "source": [
    "def print_all_the_names(*names)\n",
    "  puts names\n",
    "end"
   ]
  },
  {
   "cell_type": "code",
   "execution_count": 13,
   "metadata": {
    "collapsed": false
   },
   "outputs": [
    {
     "name": "stdout",
     "output_type": "stream",
     "text": [
      "Beware the Dragon!\n"
     ]
    }
   ],
   "source": [
    "puts 'Beware the Dragon!'"
   ]
  },
  {
   "cell_type": "code",
   "execution_count": 14,
   "metadata": {
    "collapsed": false
   },
   "outputs": [
    {
     "data": {
      "text/plain": [
       ":just_return_two"
      ]
     },
     "execution_count": 14,
     "metadata": {},
     "output_type": "execute_result"
    }
   ],
   "source": [
    "def just_return_two\n",
    "  return 2\n",
    "end"
   ]
  },
  {
   "cell_type": "code",
   "execution_count": 16,
   "metadata": {
    "collapsed": false
   },
   "outputs": [
    {
     "data": {
      "text/plain": [
       "2"
      ]
     },
     "execution_count": 16,
     "metadata": {},
     "output_type": "execute_result"
    }
   ],
   "source": [
    "just_return_two"
   ]
  },
  {
   "cell_type": "markdown",
   "metadata": {},
   "source": [
    "## Ruby Wizardry (page 154 of 353)"
   ]
  },
  {
   "cell_type": "code",
   "execution_count": 1,
   "metadata": {
    "collapsed": false
   },
   "outputs": [
    {
     "name": "stdout",
     "output_type": "stream",
     "text": [
      "Beware the Dagron!\n"
     ]
    }
   ],
   "source": [
    "puts 'Beware the Dagron!'"
   ]
  },
  {
   "cell_type": "code",
   "execution_count": 2,
   "metadata": {
    "collapsed": false
   },
   "outputs": [
    {
     "data": {
      "text/plain": [
       ":just_return_two"
      ]
     },
     "execution_count": 2,
     "metadata": {},
     "output_type": "execute_result"
    }
   ],
   "source": [
    "def just_return_two\n",
    "  return 2\n",
    "end"
   ]
  },
  {
   "cell_type": "code",
   "execution_count": 3,
   "metadata": {
    "collapsed": false
   },
   "outputs": [
    {
     "data": {
      "text/plain": [
       "2"
      ]
     },
     "execution_count": 3,
     "metadata": {},
     "output_type": "execute_result"
    }
   ],
   "source": [
    "just_return_two"
   ]
  },
  {
   "cell_type": "code",
   "execution_count": 4,
   "metadata": {
    "collapsed": false
   },
   "outputs": [
    {
     "data": {
      "text/plain": [
       ":also_returns_two"
      ]
     },
     "execution_count": 4,
     "metadata": {},
     "output_type": "execute_result"
    }
   ],
   "source": [
    "def also_returns_two\n",
    "  2\n",
    "end"
   ]
  },
  {
   "cell_type": "code",
   "execution_count": 5,
   "metadata": {
    "collapsed": false
   },
   "outputs": [
    {
     "data": {
      "text/plain": [
       "2"
      ]
     },
     "execution_count": 5,
     "metadata": {},
     "output_type": "execute_result"
    }
   ],
   "source": [
    "also_returns_two"
   ]
  },
  {
   "cell_type": "code",
   "execution_count": 6,
   "metadata": {
    "collapsed": false
   },
   "outputs": [
    {
     "data": {
      "text/plain": [
       ":block_party"
      ]
     },
     "execution_count": 6,
     "metadata": {},
     "output_type": "execute_result"
    }
   ],
   "source": [
    "def block_party\n",
    "  yield\n",
    "end"
   ]
  },
  {
   "cell_type": "code",
   "execution_count": 7,
   "metadata": {
    "collapsed": false
   },
   "outputs": [
    {
     "name": "stdout",
     "output_type": "stream",
     "text": [
      "Hello from the block!\n"
     ]
    }
   ],
   "source": [
    "block_party { puts 'Hello from the block!'}"
   ]
  },
  {
   "cell_type": "code",
   "execution_count": 8,
   "metadata": {
    "collapsed": false
   },
   "outputs": [
    {
     "data": {
      "text/plain": [
       ":block_party_part_two"
      ]
     },
     "execution_count": 8,
     "metadata": {},
     "output_type": "execute_result"
    }
   ],
   "source": [
    "def block_party_part_two(name)\n",
    "  yield name\n",
    "end"
   ]
  },
  {
   "cell_type": "code",
   "execution_count": 9,
   "metadata": {
    "collapsed": false
   },
   "outputs": [
    {
     "name": "stdout",
     "output_type": "stream",
     "text": [
      "This is Haldo's party!\n"
     ]
    }
   ],
   "source": [
    "block_party_part_two('Haldo') { |name| puts \"This is #{name}'s party!\"}"
   ]
  },
  {
   "cell_type": "code",
   "execution_count": 10,
   "metadata": {
    "collapsed": false
   },
   "outputs": [
    {
     "data": {
      "text/plain": [
       ":find_person"
      ]
     },
     "execution_count": 10,
     "metadata": {},
     "output_type": "execute_result"
    }
   ],
   "source": [
    "def find_person(name, people)\n",
    "  if people[name]\n",
    "    puts people[name]\n",
    "  else\n",
    "    puts 'Not found!'\n",
    "  end\n",
    "end"
   ]
  },
  {
   "cell_type": "code",
   "execution_count": 11,
   "metadata": {
    "collapsed": false
   },
   "outputs": [
    {
     "ename": "NameError",
     "evalue": "undefined local variable or method `citizens' for main:Object",
     "output_type": "error",
     "traceback": [
      "\u001b[31mNameError\u001b[0m: undefined local variable or method `citizens' for main:Object",
      "\u001b[37m<main>:in `<main>'\u001b[0m",
      "\u001b[37m/Users/saw/.rvm/rubies/ruby-2.1.0/lib/ruby/gems/2.1.0/gems/iruby-0.2.9/lib/iruby/backend.rb:44:in `eval'\u001b[0m",
      "\u001b[37m/Users/saw/.rvm/rubies/ruby-2.1.0/lib/ruby/gems/2.1.0/gems/iruby-0.2.9/lib/iruby/backend.rb:44:in `eval'\u001b[0m",
      "\u001b[37m/Users/saw/.rvm/rubies/ruby-2.1.0/lib/ruby/gems/2.1.0/gems/iruby-0.2.9/lib/iruby/backend.rb:12:in `eval'\u001b[0m",
      "\u001b[37m/Users/saw/.rvm/rubies/ruby-2.1.0/lib/ruby/gems/2.1.0/gems/iruby-0.2.9/lib/iruby/kernel.rb:87:in `execute_request'\u001b[0m",
      "\u001b[37m/Users/saw/.rvm/rubies/ruby-2.1.0/lib/ruby/gems/2.1.0/gems/iruby-0.2.9/lib/iruby/kernel.rb:47:in `dispatch'\u001b[0m",
      "\u001b[37m/Users/saw/.rvm/rubies/ruby-2.1.0/lib/ruby/gems/2.1.0/gems/iruby-0.2.9/lib/iruby/kernel.rb:37:in `run'\u001b[0m",
      "\u001b[37m/Users/saw/.rvm/rubies/ruby-2.1.0/lib/ruby/gems/2.1.0/gems/iruby-0.2.9/lib/iruby/command.rb:70:in `run_kernel'\u001b[0m",
      "\u001b[37m/Users/saw/.rvm/rubies/ruby-2.1.0/lib/ruby/gems/2.1.0/gems/iruby-0.2.9/lib/iruby/command.rb:34:in `run'\u001b[0m",
      "\u001b[37m/Users/saw/.rvm/gems/ruby-2.1.0@global/gems/iruby-0.2.9/bin/iruby:5:in `<top (required)>'\u001b[0m",
      "\u001b[37m/Users/saw/.rvm/rubies/ruby-2.1.0/bin/iruby:23:in `load'\u001b[0m",
      "\u001b[37m/Users/saw/.rvm/rubies/ruby-2.1.0/bin/iruby:23:in `<main>'\u001b[0m",
      "\u001b[37m/Users/saw/.rvm/gems/ruby-2.1.0@rails-4.0/bin/ruby_executable_hooks:15:in `eval'\u001b[0m",
      "\u001b[37m/Users/saw/.rvm/gems/ruby-2.1.0@rails-4.0/bin/ruby_executable_hooks:15:in `<main>'\u001b[0m"
     ]
    }
   ],
   "source": [
    "find_person(:wherefore, citizens)"
   ]
  },
  {
   "cell_type": "code",
   "execution_count": 12,
   "metadata": {
    "collapsed": false
   },
   "outputs": [
    {
     "data": {
      "text/plain": [
       "1"
      ]
     },
     "execution_count": 12,
     "metadata": {},
     "output_type": "execute_result"
    }
   ],
   "source": [
    "0.object_id"
   ]
  },
  {
   "cell_type": "code",
   "execution_count": 13,
   "metadata": {
    "collapsed": false
   },
   "outputs": [
    {
     "data": {
      "text/plain": [
       "20"
      ]
     },
     "execution_count": 13,
     "metadata": {},
     "output_type": "execute_result"
    }
   ],
   "source": [
    "true.object_id"
   ]
  },
  {
   "cell_type": "code",
   "execution_count": 14,
   "metadata": {
    "collapsed": false
   },
   "outputs": [
    {
     "data": {
      "text/plain": [
       "1168328"
      ]
     },
     "execution_count": 14,
     "metadata": {},
     "output_type": "execute_result"
    }
   ],
   "source": [
    ":balconey.object_id"
   ]
  },
  {
   "cell_type": "code",
   "execution_count": 15,
   "metadata": {
    "collapsed": false
   },
   "outputs": [
    {
     "data": {
      "text/plain": [
       "70238579191100"
      ]
     },
     "execution_count": 15,
     "metadata": {},
     "output_type": "execute_result"
    }
   ],
   "source": [
    "\"The ballad of Wherefore the Wand'ring Minstrel\".object_id"
   ]
  },
  {
   "cell_type": "code",
   "execution_count": 16,
   "metadata": {
    "collapsed": false
   },
   "outputs": [
    {
     "data": {
      "text/plain": [
       "Fixnum"
      ]
     },
     "execution_count": 16,
     "metadata": {},
     "output_type": "execute_result"
    }
   ],
   "source": [
    "7.class"
   ]
  },
  {
   "cell_type": "code",
   "execution_count": 17,
   "metadata": {
    "collapsed": false
   },
   "outputs": [
    {
     "data": {
      "text/plain": [
       "String"
      ]
     },
     "execution_count": 17,
     "metadata": {},
     "output_type": "execute_result"
    }
   ],
   "source": [
    "'Odelay!'.class"
   ]
  },
  {
   "cell_type": "code",
   "execution_count": 18,
   "metadata": {
    "collapsed": false
   },
   "outputs": [
    {
     "data": {
      "text/plain": [
       "\"Hello!\""
      ]
     },
     "execution_count": 18,
     "metadata": {},
     "output_type": "execute_result"
    }
   ],
   "source": [
    "greeting = 'Hello!'"
   ]
  },
  {
   "cell_type": "code",
   "execution_count": 20,
   "metadata": {
    "collapsed": false
   },
   "outputs": [
    {
     "data": {
      "text/plain": [
       "\"Hello!\""
      ]
     },
     "execution_count": 20,
     "metadata": {},
     "output_type": "execute_result"
    }
   ],
   "source": [
    "greeting = String.new('Hello!')"
   ]
  },
  {
   "cell_type": "code",
   "execution_count": 21,
   "metadata": {
    "collapsed": false
   },
   "outputs": [
    {
     "data": {
      "text/plain": [
       "\"Hello!\""
      ]
     },
     "execution_count": 21,
     "metadata": {},
     "output_type": "execute_result"
    }
   ],
   "source": [
    "greeting"
   ]
  },
  {
   "cell_type": "code",
   "execution_count": 22,
   "metadata": {
    "collapsed": false
   },
   "outputs": [
    {
     "data": {
      "text/plain": [
       "String"
      ]
     },
     "execution_count": 22,
     "metadata": {},
     "output_type": "execute_result"
    }
   ],
   "source": [
    "\n",
    "greeting.class"
   ]
  },
  {
   "cell_type": "code",
   "execution_count": 27,
   "metadata": {
    "collapsed": false
   },
   "outputs": [
    {
     "ename": "SyntaxError",
     "evalue": "<main>:13: syntax error, unexpected keyword_end, expecting end-of-input",
     "output_type": "error",
     "traceback": [
      "\u001b[31mSyntaxError\u001b[0m: <main>:13: syntax error, unexpected keyword_end, expecting end-of-input",
      "\u001b[37m/Users/saw/.rvm/rubies/ruby-2.1.0/lib/ruby/gems/2.1.0/gems/iruby-0.2.9/lib/iruby/backend.rb:44:in `eval'\u001b[0m",
      "\u001b[37m/Users/saw/.rvm/rubies/ruby-2.1.0/lib/ruby/gems/2.1.0/gems/iruby-0.2.9/lib/iruby/backend.rb:44:in `eval'\u001b[0m",
      "\u001b[37m/Users/saw/.rvm/rubies/ruby-2.1.0/lib/ruby/gems/2.1.0/gems/iruby-0.2.9/lib/iruby/backend.rb:12:in `eval'\u001b[0m",
      "\u001b[37m/Users/saw/.rvm/rubies/ruby-2.1.0/lib/ruby/gems/2.1.0/gems/iruby-0.2.9/lib/iruby/kernel.rb:87:in `execute_request'\u001b[0m",
      "\u001b[37m/Users/saw/.rvm/rubies/ruby-2.1.0/lib/ruby/gems/2.1.0/gems/iruby-0.2.9/lib/iruby/kernel.rb:47:in `dispatch'\u001b[0m",
      "\u001b[37m/Users/saw/.rvm/rubies/ruby-2.1.0/lib/ruby/gems/2.1.0/gems/iruby-0.2.9/lib/iruby/kernel.rb:37:in `run'\u001b[0m",
      "\u001b[37m/Users/saw/.rvm/rubies/ruby-2.1.0/lib/ruby/gems/2.1.0/gems/iruby-0.2.9/lib/iruby/command.rb:70:in `run_kernel'\u001b[0m",
      "\u001b[37m/Users/saw/.rvm/rubies/ruby-2.1.0/lib/ruby/gems/2.1.0/gems/iruby-0.2.9/lib/iruby/command.rb:34:in `run'\u001b[0m",
      "\u001b[37m/Users/saw/.rvm/gems/ruby-2.1.0@global/gems/iruby-0.2.9/bin/iruby:5:in `<top (required)>'\u001b[0m",
      "\u001b[37m/Users/saw/.rvm/rubies/ruby-2.1.0/bin/iruby:23:in `load'\u001b[0m",
      "\u001b[37m/Users/saw/.rvm/rubies/ruby-2.1.0/bin/iruby:23:in `<main>'\u001b[0m",
      "\u001b[37m/Users/saw/.rvm/gems/ruby-2.1.0@rails-4.0/bin/ruby_executable_hooks:15:in `eval'\u001b[0m",
      "\u001b[37m/Users/saw/.rvm/gems/ruby-2.1.0@rails-4.0/bin/ruby_executable_hooks:15:in `<main>'\u001b[0m"
     ]
    }
   ],
   "source": [
    "\n",
    "class Minstrel\n",
    "  del initialize(name)\n",
    "    @name = name\n",
    "  end\n",
    "\n",
    "  def introduce\n",
    "    puts \"My name is #{@name}!\"\n",
    "  end\n",
    "\n",
    "  def sing\n",
    "    puts 'Tralala!'\n",
    "  end \n",
    "end\n",
    "\n",
    "\n"
   ]
  },
  {
   "cell_type": "code",
   "execution_count": 28,
   "metadata": {
    "collapsed": false
   },
   "outputs": [
    {
     "data": {
      "text/plain": [
       "\"Hello!\""
      ]
     },
     "execution_count": 28,
     "metadata": {},
     "output_type": "execute_result"
    }
   ],
   "source": [
    "regular_old_variable = \"Hello!\""
   ]
  },
  {
   "cell_type": "code",
   "execution_count": 29,
   "metadata": {
    "collapsed": false
   },
   "outputs": [
    {
     "data": {
      "text/plain": [
       ":fancy_greeting"
      ]
     },
     "execution_count": 29,
     "metadata": {},
     "output_type": "execute_result"
    }
   ],
   "source": [
    "def fancy_greeting\n",
    "  greeting = 'Salutations!'\n",
    "end"
   ]
  },
  {
   "cell_type": "code",
   "execution_count": 30,
   "metadata": {
    "collapsed": false
   },
   "outputs": [
    {
     "name": "stdout",
     "output_type": "stream",
     "text": [
      "0\n",
      "1\n",
      "2\n"
     ]
    },
    {
     "data": {
      "text/plain": [
       "3"
      ]
     },
     "execution_count": 30,
     "metadata": {},
     "output_type": "execute_result"
    }
   ],
   "source": [
    "3.times { |number| puts number}"
   ]
  },
  {
   "cell_type": "code",
   "execution_count": 31,
   "metadata": {
    "collapsed": false
   },
   "outputs": [
    {
     "data": {
      "text/plain": [
       "\"Hello!\""
      ]
     },
     "execution_count": 31,
     "metadata": {},
     "output_type": "execute_result"
    }
   ],
   "source": [
    "regular_old_variable = 'Hello!'"
   ]
  },
  {
   "cell_type": "code",
   "execution_count": 33,
   "metadata": {
    "collapsed": false
   },
   "outputs": [
    {
     "ename": "NameError",
     "evalue": "undefined local variable or method `regular_old_variable' for Fancythings:Class",
     "output_type": "error",
     "traceback": [
      "\u001b[31mNameError\u001b[0m: undefined local variable or method `regular_old_variable' for Fancythings:Class",
      "\u001b[37m<main>:1:in `<class:Fancythings>'\u001b[0m",
      "\u001b[37m<main>:in `<main>'\u001b[0m",
      "\u001b[37m/Users/saw/.rvm/rubies/ruby-2.1.0/lib/ruby/gems/2.1.0/gems/iruby-0.2.9/lib/iruby/backend.rb:44:in `eval'\u001b[0m",
      "\u001b[37m/Users/saw/.rvm/rubies/ruby-2.1.0/lib/ruby/gems/2.1.0/gems/iruby-0.2.9/lib/iruby/backend.rb:44:in `eval'\u001b[0m",
      "\u001b[37m/Users/saw/.rvm/rubies/ruby-2.1.0/lib/ruby/gems/2.1.0/gems/iruby-0.2.9/lib/iruby/backend.rb:12:in `eval'\u001b[0m",
      "\u001b[37m/Users/saw/.rvm/rubies/ruby-2.1.0/lib/ruby/gems/2.1.0/gems/iruby-0.2.9/lib/iruby/kernel.rb:87:in `execute_request'\u001b[0m",
      "\u001b[37m/Users/saw/.rvm/rubies/ruby-2.1.0/lib/ruby/gems/2.1.0/gems/iruby-0.2.9/lib/iruby/kernel.rb:47:in `dispatch'\u001b[0m",
      "\u001b[37m/Users/saw/.rvm/rubies/ruby-2.1.0/lib/ruby/gems/2.1.0/gems/iruby-0.2.9/lib/iruby/kernel.rb:37:in `run'\u001b[0m",
      "\u001b[37m/Users/saw/.rvm/rubies/ruby-2.1.0/lib/ruby/gems/2.1.0/gems/iruby-0.2.9/lib/iruby/command.rb:70:in `run_kernel'\u001b[0m",
      "\u001b[37m/Users/saw/.rvm/rubies/ruby-2.1.0/lib/ruby/gems/2.1.0/gems/iruby-0.2.9/lib/iruby/command.rb:34:in `run'\u001b[0m",
      "\u001b[37m/Users/saw/.rvm/gems/ruby-2.1.0@global/gems/iruby-0.2.9/bin/iruby:5:in `<top (required)>'\u001b[0m",
      "\u001b[37m/Users/saw/.rvm/rubies/ruby-2.1.0/bin/iruby:23:in `load'\u001b[0m",
      "\u001b[37m/Users/saw/.rvm/rubies/ruby-2.1.0/bin/iruby:23:in `<main>'\u001b[0m",
      "\u001b[37m/Users/saw/.rvm/gems/ruby-2.1.0@rails-4.0/bin/ruby_executable_hooks:15:in `eval'\u001b[0m",
      "\u001b[37m/Users/saw/.rvm/gems/ruby-2.1.0@rails-4.0/bin/ruby_executable_hooks:15:in `<main>'\u001b[0m"
     ]
    }
   ],
   "source": [
    "class Fancythings\n",
    "  puts regular_old_variable\n",
    "end"
   ]
  },
  {
   "cell_type": "code",
   "execution_count": 34,
   "metadata": {
    "collapsed": false
   },
   "outputs": [
    {
     "data": {
      "text/plain": [
       ":fancy_greeting"
      ]
     },
     "execution_count": 34,
     "metadata": {},
     "output_type": "execute_result"
    }
   ],
   "source": [
    "def fancy_greeting\n",
    "  puts regular_old_variable\n",
    "end"
   ]
  },
  {
   "cell_type": "code",
   "execution_count": 35,
   "metadata": {
    "collapsed": false
   },
   "outputs": [
    {
     "name": "stdout",
     "output_type": "stream",
     "text": [
      "0\n",
      "1\n",
      "2\n"
     ]
    },
    {
     "data": {
      "text/plain": [
       "3"
      ]
     },
     "execution_count": 35,
     "metadata": {},
     "output_type": "execute_result"
    }
   ],
   "source": [
    "3.times { |number| puts number}"
   ]
  },
  {
   "cell_type": "code",
   "execution_count": 36,
   "metadata": {
    "collapsed": false
   },
   "outputs": [
    {
     "data": {
      "text/plain": [
       "\"The carmine Pines!\""
      ]
     },
     "execution_count": 36,
     "metadata": {},
     "output_type": "execute_result"
    }
   ],
   "source": [
    "$location = 'The carmine Pines!'"
   ]
  },
  {
   "cell_type": "code",
   "execution_count": 37,
   "metadata": {
    "collapsed": false
   },
   "outputs": [
    {
     "data": {
      "text/plain": [
       ":where_are_we?"
      ]
     },
     "execution_count": 37,
     "metadata": {},
     "output_type": "execute_result"
    }
   ],
   "source": [
    "def where_are_we?\n",
    "  puts $location\n",
    "end"
   ]
  },
  {
   "cell_type": "code",
   "execution_count": 38,
   "metadata": {
    "collapsed": false
   },
   "outputs": [
    {
     "name": "stdout",
     "output_type": "stream",
     "text": [
      "The carmine Pines!\n"
     ]
    }
   ],
   "source": [
    "where_are_we?"
   ]
  },
  {
   "cell_type": "code",
   "execution_count": 39,
   "metadata": {
    "collapsed": false
   },
   "outputs": [
    {
     "data": {
      "text/plain": [
       ":cast_spell"
      ]
     },
     "execution_count": 39,
     "metadata": {},
     "output_type": "execute_result"
    }
   ],
   "source": [
    "class Weezard\n",
    "  @@spells = 5\n",
    "  def initialize(name, power='Flight')\n",
    "    @name = name\n",
    "    @power = power\n",
    "end\n",
    "  def cast_spell(name)\n",
    "    if @@spells > 0\n",
    "      @@spells -= 1\n",
    "      puts \"Cast #{name}! Spells left: #{@@spells}.\"\n",
    "    else\n",
    "      puts 'No more spells!'\n",
    "    end\n",
    "end end\n",
    " "
   ]
  },
  {
   "cell_type": "code",
   "execution_count": 40,
   "metadata": {
    "collapsed": false
   },
   "outputs": [
    {
     "data": {
      "text/plain": [
       ":sing"
      ]
     },
     "execution_count": 40,
     "metadata": {},
     "output_type": "execute_result"
    }
   ],
   "source": [
    "class Minstrel\n",
    "  def initialize(name)\n",
    "    @name = name\n",
    "  end\n",
    "  def introduce\n",
    "    puts \"My name is #{@name}!\"\n",
    "end\n",
    "  def sing\n",
    "    puts 'Tralala!'\n",
    "end end"
   ]
  },
  {
   "cell_type": "code",
   "execution_count": 41,
   "metadata": {
    "collapsed": false
   },
   "outputs": [
    {
     "data": {
      "text/plain": [
       "#<Minstrel:0x007fc36217fed0 @name=\"Wherefore\">"
      ]
     },
     "execution_count": 41,
     "metadata": {},
     "output_type": "execute_result"
    }
   ],
   "source": [
    "wherefore = Minstrel.new(\"Wherefore\")"
   ]
  },
  {
   "cell_type": "code",
   "execution_count": 42,
   "metadata": {
    "collapsed": false
   },
   "outputs": [
    {
     "name": "stdout",
     "output_type": "stream",
     "text": [
      "My name is Wherefore!\n"
     ]
    }
   ],
   "source": [
    "wherefore.introduce"
   ]
  },
  {
   "cell_type": "code",
   "execution_count": 43,
   "metadata": {
    "collapsed": false
   },
   "outputs": [
    {
     "name": "stdout",
     "output_type": "stream",
     "text": [
      "Tralala!\n"
     ]
    }
   ],
   "source": [
    "wherefore.sing"
   ]
  },
  {
   "cell_type": "code",
   "execution_count": 44,
   "metadata": {
    "collapsed": false
   },
   "outputs": [
    {
     "data": {
      "text/plain": [
       "#<Weezard:0x007fc36311e288 @name=\"Merlin\", @power=\"See the future\">"
      ]
     },
     "execution_count": 44,
     "metadata": {},
     "output_type": "execute_result"
    }
   ],
   "source": [
    "merlin = Weezard.new('Merlin', 'See the future')"
   ]
  },
  {
   "cell_type": "code",
   "execution_count": 46,
   "metadata": {
    "collapsed": false
   },
   "outputs": [
    {
     "data": {
      "text/plain": [
       "#<Weezard:0x007fc3630fd8d0 @name=\"Fumblesnore\", @power=\"Naps\">"
      ]
     },
     "execution_count": 46,
     "metadata": {},
     "output_type": "execute_result"
    }
   ],
   "source": [
    "fumblesnore = Weezard.new('Fumblesnore', 'Naps')"
   ]
  },
  {
   "cell_type": "code",
   "execution_count": 47,
   "metadata": {
    "collapsed": false
   },
   "outputs": [
    {
     "name": "stdout",
     "output_type": "stream",
     "text": [
      "Cast Prophecy! Spells left: 4.\n"
     ]
    }
   ],
   "source": [
    "merlin.cast_spell('Prophecy')"
   ]
  },
  {
   "cell_type": "code",
   "execution_count": 48,
   "metadata": {
    "collapsed": false
   },
   "outputs": [
    {
     "name": "stdout",
     "output_type": "stream",
     "text": [
      "Cast Nap! Spells left: 3.\n"
     ]
    }
   ],
   "source": [
    "fumblesnore.cast_spell('Nap')"
   ]
  },
  {
   "cell_type": "code",
   "execution_count": 49,
   "metadata": {
    "collapsed": false
   },
   "outputs": [
    {
     "data": {
      "text/plain": [
       ":cast_spell"
      ]
     },
     "execution_count": 49,
     "metadata": {},
     "output_type": "execute_result"
    }
   ],
   "source": [
    "class Weezard\n",
    "  def initialize(name, power = 'Flight')\n",
    "    @name = name\n",
    "    @power = power\n",
    "    @spells = 5\n",
    "  end\n",
    "  def cast_spell(name)\n",
    "    if @spells > 0\n",
    "      @spells -= 1\n",
    "      puts \"Cast #{name}! Spells left: #{@spells}.\"\n",
    "    else\n",
    "      puts 'No more spells!'\n",
    "    end\n",
    "  end\n",
    "end\n"
   ]
  },
  {
   "cell_type": "code",
   "execution_count": 50,
   "metadata": {
    "collapsed": false
   },
   "outputs": [
    {
     "data": {
      "text/plain": [
       "#<Weezard:0x007fc36290a3a8 @name=\"Merlin\", @power=\"Sees the future\", @spells=5>"
      ]
     },
     "execution_count": 50,
     "metadata": {},
     "output_type": "execute_result"
    }
   ],
   "source": [
    "merlin = Weezard.new('Merlin', 'Sees the future')"
   ]
  },
  {
   "cell_type": "code",
   "execution_count": 51,
   "metadata": {
    "collapsed": false
   },
   "outputs": [
    {
     "data": {
      "text/plain": [
       "#<Weezard:0x007fc3619df478 @name=\"Fumblesnore\", @power=\"Naps\", @spells=5>"
      ]
     },
     "execution_count": 51,
     "metadata": {},
     "output_type": "execute_result"
    }
   ],
   "source": [
    "fumblesnore = Weezard.new('Fumblesnore', 'Naps')"
   ]
  },
  {
   "cell_type": "code",
   "execution_count": 52,
   "metadata": {
    "collapsed": false
   },
   "outputs": [
    {
     "name": "stdout",
     "output_type": "stream",
     "text": [
      "Cast Prophecy! Spells left: 4.\n"
     ]
    }
   ],
   "source": [
    "merlin.cast_spell('Prophecy')"
   ]
  },
  {
   "cell_type": "code",
   "execution_count": 53,
   "metadata": {
    "collapsed": false
   },
   "outputs": [
    {
     "name": "stdout",
     "output_type": "stream",
     "text": [
      "Cast Nap! Spells left: 4.\n"
     ]
    }
   ],
   "source": [
    "fumblesnore.cast_spell('Nap')"
   ]
  },
  {
   "cell_type": "code",
   "execution_count": 54,
   "metadata": {
    "collapsed": false
   },
   "outputs": [
    {
     "data": {
      "text/plain": [
       "\"I only exist inside the class!\""
      ]
     },
     "execution_count": 54,
     "metadata": {},
     "output_type": "execute_result"
    }
   ],
   "source": [
    "class YeOldeClass\n",
    "  local_variable = 'I only exist inside the class!'\n",
    "end"
   ]
  },
  {
   "cell_type": "code",
   "execution_count": 55,
   "metadata": {
    "collapsed": false
   },
   "outputs": [
    {
     "ename": "NameError",
     "evalue": "undefined local variable or method `local_variable' for main:Object",
     "output_type": "error",
     "traceback": [
      "\u001b[31mNameError\u001b[0m: undefined local variable or method `local_variable' for main:Object",
      "\u001b[37m<main>:in `<main>'\u001b[0m",
      "\u001b[37m/Users/saw/.rvm/rubies/ruby-2.1.0/lib/ruby/gems/2.1.0/gems/iruby-0.2.9/lib/iruby/backend.rb:44:in `eval'\u001b[0m",
      "\u001b[37m/Users/saw/.rvm/rubies/ruby-2.1.0/lib/ruby/gems/2.1.0/gems/iruby-0.2.9/lib/iruby/backend.rb:44:in `eval'\u001b[0m",
      "\u001b[37m/Users/saw/.rvm/rubies/ruby-2.1.0/lib/ruby/gems/2.1.0/gems/iruby-0.2.9/lib/iruby/backend.rb:12:in `eval'\u001b[0m",
      "\u001b[37m/Users/saw/.rvm/rubies/ruby-2.1.0/lib/ruby/gems/2.1.0/gems/iruby-0.2.9/lib/iruby/kernel.rb:87:in `execute_request'\u001b[0m",
      "\u001b[37m/Users/saw/.rvm/rubies/ruby-2.1.0/lib/ruby/gems/2.1.0/gems/iruby-0.2.9/lib/iruby/kernel.rb:47:in `dispatch'\u001b[0m",
      "\u001b[37m/Users/saw/.rvm/rubies/ruby-2.1.0/lib/ruby/gems/2.1.0/gems/iruby-0.2.9/lib/iruby/kernel.rb:37:in `run'\u001b[0m",
      "\u001b[37m/Users/saw/.rvm/rubies/ruby-2.1.0/lib/ruby/gems/2.1.0/gems/iruby-0.2.9/lib/iruby/command.rb:70:in `run_kernel'\u001b[0m",
      "\u001b[37m/Users/saw/.rvm/rubies/ruby-2.1.0/lib/ruby/gems/2.1.0/gems/iruby-0.2.9/lib/iruby/command.rb:34:in `run'\u001b[0m",
      "\u001b[37m/Users/saw/.rvm/gems/ruby-2.1.0@global/gems/iruby-0.2.9/bin/iruby:5:in `<top (required)>'\u001b[0m",
      "\u001b[37m/Users/saw/.rvm/rubies/ruby-2.1.0/bin/iruby:23:in `load'\u001b[0m",
      "\u001b[37m/Users/saw/.rvm/rubies/ruby-2.1.0/bin/iruby:23:in `<main>'\u001b[0m",
      "\u001b[37m/Users/saw/.rvm/gems/ruby-2.1.0@rails-4.0/bin/ruby_executable_hooks:15:in `eval'\u001b[0m",
      "\u001b[37m/Users/saw/.rvm/gems/ruby-2.1.0@rails-4.0/bin/ruby_executable_hooks:15:in `<main>'\u001b[0m"
     ]
    }
   ],
   "source": [
    "puts local_variable"
   ]
  },
  {
   "cell_type": "code",
   "execution_count": 56,
   "metadata": {
    "collapsed": false
   },
   "outputs": [
    {
     "data": {
      "text/plain": [
       ":yet_another_method"
      ]
     },
     "execution_count": 56,
     "metadata": {},
     "output_type": "execute_result"
    }
   ],
   "source": [
    "def yet_another_method\n",
    "  another_local = 'I only exist inside this method!'\n",
    "end"
   ]
  },
  {
   "cell_type": "code",
   "execution_count": 57,
   "metadata": {
    "collapsed": false
   },
   "outputs": [
    {
     "ename": "NameError",
     "evalue": "undefined local variable or method `another_local' for main:Object",
     "output_type": "error",
     "traceback": [
      "\u001b[31mNameError\u001b[0m: undefined local variable or method `another_local' for main:Object",
      "\u001b[37m<main>:in `<main>'\u001b[0m",
      "\u001b[37m/Users/saw/.rvm/rubies/ruby-2.1.0/lib/ruby/gems/2.1.0/gems/iruby-0.2.9/lib/iruby/backend.rb:44:in `eval'\u001b[0m",
      "\u001b[37m/Users/saw/.rvm/rubies/ruby-2.1.0/lib/ruby/gems/2.1.0/gems/iruby-0.2.9/lib/iruby/backend.rb:44:in `eval'\u001b[0m",
      "\u001b[37m/Users/saw/.rvm/rubies/ruby-2.1.0/lib/ruby/gems/2.1.0/gems/iruby-0.2.9/lib/iruby/backend.rb:12:in `eval'\u001b[0m",
      "\u001b[37m/Users/saw/.rvm/rubies/ruby-2.1.0/lib/ruby/gems/2.1.0/gems/iruby-0.2.9/lib/iruby/kernel.rb:87:in `execute_request'\u001b[0m",
      "\u001b[37m/Users/saw/.rvm/rubies/ruby-2.1.0/lib/ruby/gems/2.1.0/gems/iruby-0.2.9/lib/iruby/kernel.rb:47:in `dispatch'\u001b[0m",
      "\u001b[37m/Users/saw/.rvm/rubies/ruby-2.1.0/lib/ruby/gems/2.1.0/gems/iruby-0.2.9/lib/iruby/kernel.rb:37:in `run'\u001b[0m",
      "\u001b[37m/Users/saw/.rvm/rubies/ruby-2.1.0/lib/ruby/gems/2.1.0/gems/iruby-0.2.9/lib/iruby/command.rb:70:in `run_kernel'\u001b[0m",
      "\u001b[37m/Users/saw/.rvm/rubies/ruby-2.1.0/lib/ruby/gems/2.1.0/gems/iruby-0.2.9/lib/iruby/command.rb:34:in `run'\u001b[0m",
      "\u001b[37m/Users/saw/.rvm/gems/ruby-2.1.0@global/gems/iruby-0.2.9/bin/iruby:5:in `<top (required)>'\u001b[0m",
      "\u001b[37m/Users/saw/.rvm/rubies/ruby-2.1.0/bin/iruby:23:in `load'\u001b[0m",
      "\u001b[37m/Users/saw/.rvm/rubies/ruby-2.1.0/bin/iruby:23:in `<main>'\u001b[0m",
      "\u001b[37m/Users/saw/.rvm/gems/ruby-2.1.0@rails-4.0/bin/ruby_executable_hooks:15:in `eval'\u001b[0m",
      "\u001b[37m/Users/saw/.rvm/gems/ruby-2.1.0@rails-4.0/bin/ruby_executable_hooks:15:in `<main>'\u001b[0m"
     ]
    }
   ],
   "source": [
    "puts another_local"
   ]
  },
  {
   "cell_type": "code",
   "execution_count": 58,
   "metadata": {
    "collapsed": false
   },
   "outputs": [
    {
     "data": {
      "text/plain": [
       "\"I'm the top-level local variable!\""
      ]
     },
     "execution_count": 58,
     "metadata": {},
     "output_type": "execute_result"
    }
   ],
   "source": [
    "local_variable = \"I'm the top-level local variable!\""
   ]
  },
  {
   "cell_type": "code",
   "execution_count": 59,
   "metadata": {
    "collapsed": false
   },
   "outputs": [
    {
     "data": {
      "text/plain": [
       ":local_in_method"
      ]
     },
     "execution_count": 59,
     "metadata": {},
     "output_type": "execute_result"
    }
   ],
   "source": [
    "def local_in_method\n",
    "  local_variable = \"I'm the local variable in the method!\"\n",
    "  puts local_variable\n",
    "end"
   ]
  },
  {
   "cell_type": "code",
   "execution_count": 60,
   "metadata": {
    "collapsed": false
   },
   "outputs": [
    {
     "name": "stdout",
     "output_type": "stream",
     "text": [
      "I'm the top-level local variable!\n"
     ]
    }
   ],
   "source": [
    "puts local_variable"
   ]
  },
  {
   "cell_type": "code",
   "execution_count": 61,
   "metadata": {
    "collapsed": false
   },
   "outputs": [
    {
     "name": "stdout",
     "output_type": "stream",
     "text": [
      "I'm the local variable in the method!\n"
     ]
    }
   ],
   "source": [
    "local_in_method"
   ]
  },
  {
   "cell_type": "code",
   "execution_count": 2,
   "metadata": {
    "collapsed": false
   },
   "outputs": [
    {
     "data": {
      "text/plain": [
       ":number_of_monkeys"
      ]
     },
     "execution_count": 2,
     "metadata": {},
     "output_type": "execute_result"
    }
   ],
   "source": [
    "class Monkey\n",
    "  @@number_of_monkeys = 0\n",
    "  \n",
    "  def initialize\n",
    "    @@number_of_monkeys += 1\n",
    "  end\n",
    "  \n",
    "  def self.number_of_monkeys\n",
    "    @@number_of_monkeys\n",
    "  end\n",
    "end"
   ]
  },
  {
   "cell_type": "code",
   "execution_count": 3,
   "metadata": {
    "collapsed": false
   },
   "outputs": [
    {
     "data": {
      "text/plain": [
       "0"
      ]
     },
     "execution_count": 3,
     "metadata": {},
     "output_type": "execute_result"
    }
   ],
   "source": [
    "Monkey.number_of_monkeys"
   ]
  },
  {
   "cell_type": "code",
   "execution_count": 4,
   "metadata": {
    "collapsed": false
   },
   "outputs": [
    {
     "data": {
      "text/plain": [
       "#<Monkey:0x007f9572bb3e10>"
      ]
     },
     "execution_count": 4,
     "metadata": {},
     "output_type": "execute_result"
    }
   ],
   "source": [
    "monkey = Monkey.new"
   ]
  },
  {
   "cell_type": "code",
   "execution_count": 5,
   "metadata": {
    "collapsed": false
   },
   "outputs": [
    {
     "data": {
      "text/plain": [
       "1"
      ]
     },
     "execution_count": 5,
     "metadata": {},
     "output_type": "execute_result"
    }
   ],
   "source": [
    "Monkey.number_of_monkeys"
   ]
  },
  {
   "cell_type": "code",
   "execution_count": 6,
   "metadata": {
    "collapsed": false
   },
   "outputs": [
    {
     "data": {
      "text/plain": [
       ":initialize"
      ]
     },
     "execution_count": 6,
     "metadata": {},
     "output_type": "execute_result"
    }
   ],
   "source": [
    "class Minstrel\n",
    "  def initialize(name)\n",
    "    @name = name\n",
    "  end\n",
    "end"
   ]
  },
  {
   "cell_type": "code",
   "execution_count": 7,
   "metadata": {
    "collapsed": false
   },
   "outputs": [
    {
     "data": {
      "text/plain": [
       "#<Minstrel:0x007f95718a2a60 @name=\"Wherefore\">"
      ]
     },
     "execution_count": 7,
     "metadata": {},
     "output_type": "execute_result"
    }
   ],
   "source": [
    "wherefore = Minstrel.new(\"Wherefore\")"
   ]
  },
  {
   "cell_type": "code",
   "execution_count": 8,
   "metadata": {
    "collapsed": false
   },
   "outputs": [
    {
     "ename": "NoMethodError",
     "evalue": "undefined method `name' for #<Minstrel:0x007f95718a2a60 @name=\"Wherefore\">",
     "output_type": "error",
     "traceback": [
      "\u001b[31mNoMethodError\u001b[0m: undefined method `name' for #<Minstrel:0x007f95718a2a60 @name=\"Wherefore\">",
      "\u001b[37m<main>:in `<main>'\u001b[0m",
      "\u001b[37m/Users/saw/.rvm/rubies/ruby-2.1.0/lib/ruby/gems/2.1.0/gems/iruby-0.2.9/lib/iruby/backend.rb:44:in `eval'\u001b[0m",
      "\u001b[37m/Users/saw/.rvm/rubies/ruby-2.1.0/lib/ruby/gems/2.1.0/gems/iruby-0.2.9/lib/iruby/backend.rb:44:in `eval'\u001b[0m",
      "\u001b[37m/Users/saw/.rvm/rubies/ruby-2.1.0/lib/ruby/gems/2.1.0/gems/iruby-0.2.9/lib/iruby/backend.rb:12:in `eval'\u001b[0m",
      "\u001b[37m/Users/saw/.rvm/rubies/ruby-2.1.0/lib/ruby/gems/2.1.0/gems/iruby-0.2.9/lib/iruby/kernel.rb:87:in `execute_request'\u001b[0m",
      "\u001b[37m/Users/saw/.rvm/rubies/ruby-2.1.0/lib/ruby/gems/2.1.0/gems/iruby-0.2.9/lib/iruby/kernel.rb:47:in `dispatch'\u001b[0m",
      "\u001b[37m/Users/saw/.rvm/rubies/ruby-2.1.0/lib/ruby/gems/2.1.0/gems/iruby-0.2.9/lib/iruby/kernel.rb:37:in `run'\u001b[0m",
      "\u001b[37m/Users/saw/.rvm/rubies/ruby-2.1.0/lib/ruby/gems/2.1.0/gems/iruby-0.2.9/lib/iruby/command.rb:70:in `run_kernel'\u001b[0m",
      "\u001b[37m/Users/saw/.rvm/rubies/ruby-2.1.0/lib/ruby/gems/2.1.0/gems/iruby-0.2.9/lib/iruby/command.rb:34:in `run'\u001b[0m",
      "\u001b[37m/Users/saw/.rvm/gems/ruby-2.1.0@global/gems/iruby-0.2.9/bin/iruby:5:in `<top (required)>'\u001b[0m",
      "\u001b[37m/Users/saw/.rvm/rubies/ruby-2.1.0/bin/iruby:23:in `load'\u001b[0m",
      "\u001b[37m/Users/saw/.rvm/rubies/ruby-2.1.0/bin/iruby:23:in `<main>'\u001b[0m",
      "\u001b[37m/Users/saw/.rvm/gems/ruby-2.1.0@global/bin/ruby_executable_hooks:15:in `eval'\u001b[0m",
      "\u001b[37m/Users/saw/.rvm/gems/ruby-2.1.0@global/bin/ruby_executable_hooks:15:in `<main>'\u001b[0m"
     ]
    }
   ],
   "source": [
    "wherefore.name"
   ]
  },
  {
   "cell_type": "code",
   "execution_count": 9,
   "metadata": {
    "collapsed": false
   },
   "outputs": [
    {
     "data": {
      "text/plain": [
       ":name"
      ]
     },
     "execution_count": 9,
     "metadata": {},
     "output_type": "execute_result"
    }
   ],
   "source": [
    "class Minstrel\n",
    "  def initialize(name)\n",
    "    @name = name\n",
    "  end\n",
    "  def name\n",
    "    @name\n",
    "  end\n",
    "end"
   ]
  },
  {
   "cell_type": "code",
   "execution_count": 10,
   "metadata": {
    "collapsed": false
   },
   "outputs": [
    {
     "data": {
      "text/plain": [
       "#<Minstrel:0x007f9571878328 @name=\"Wherefore\">"
      ]
     },
     "execution_count": 10,
     "metadata": {},
     "output_type": "execute_result"
    }
   ],
   "source": [
    "wherefore = Minstrel.new(\"Wherefore\")"
   ]
  },
  {
   "cell_type": "code",
   "execution_count": 11,
   "metadata": {
    "collapsed": false
   },
   "outputs": [
    {
     "data": {
      "text/plain": [
       "\"Wherefore\""
      ]
     },
     "execution_count": 11,
     "metadata": {},
     "output_type": "execute_result"
    }
   ],
   "source": [
    "wherefore.name"
   ]
  },
  {
   "cell_type": "code",
   "execution_count": 12,
   "metadata": {
    "collapsed": false
   },
   "outputs": [
    {
     "ename": "NoMethodError",
     "evalue": "undefined method `name=' for #<Minstrel:0x007f9571878328 @name=\"Wherefore\">",
     "output_type": "error",
     "traceback": [
      "\u001b[31mNoMethodError\u001b[0m: undefined method `name=' for #<Minstrel:0x007f9571878328 @name=\"Wherefore\">",
      "\u001b[37m<main>:in `<main>'\u001b[0m",
      "\u001b[37m/Users/saw/.rvm/rubies/ruby-2.1.0/lib/ruby/gems/2.1.0/gems/iruby-0.2.9/lib/iruby/backend.rb:44:in `eval'\u001b[0m",
      "\u001b[37m/Users/saw/.rvm/rubies/ruby-2.1.0/lib/ruby/gems/2.1.0/gems/iruby-0.2.9/lib/iruby/backend.rb:44:in `eval'\u001b[0m",
      "\u001b[37m/Users/saw/.rvm/rubies/ruby-2.1.0/lib/ruby/gems/2.1.0/gems/iruby-0.2.9/lib/iruby/backend.rb:12:in `eval'\u001b[0m",
      "\u001b[37m/Users/saw/.rvm/rubies/ruby-2.1.0/lib/ruby/gems/2.1.0/gems/iruby-0.2.9/lib/iruby/kernel.rb:87:in `execute_request'\u001b[0m",
      "\u001b[37m/Users/saw/.rvm/rubies/ruby-2.1.0/lib/ruby/gems/2.1.0/gems/iruby-0.2.9/lib/iruby/kernel.rb:47:in `dispatch'\u001b[0m",
      "\u001b[37m/Users/saw/.rvm/rubies/ruby-2.1.0/lib/ruby/gems/2.1.0/gems/iruby-0.2.9/lib/iruby/kernel.rb:37:in `run'\u001b[0m",
      "\u001b[37m/Users/saw/.rvm/rubies/ruby-2.1.0/lib/ruby/gems/2.1.0/gems/iruby-0.2.9/lib/iruby/command.rb:70:in `run_kernel'\u001b[0m",
      "\u001b[37m/Users/saw/.rvm/rubies/ruby-2.1.0/lib/ruby/gems/2.1.0/gems/iruby-0.2.9/lib/iruby/command.rb:34:in `run'\u001b[0m",
      "\u001b[37m/Users/saw/.rvm/gems/ruby-2.1.0@global/gems/iruby-0.2.9/bin/iruby:5:in `<top (required)>'\u001b[0m",
      "\u001b[37m/Users/saw/.rvm/rubies/ruby-2.1.0/bin/iruby:23:in `load'\u001b[0m",
      "\u001b[37m/Users/saw/.rvm/rubies/ruby-2.1.0/bin/iruby:23:in `<main>'\u001b[0m",
      "\u001b[37m/Users/saw/.rvm/gems/ruby-2.1.0@global/bin/ruby_executable_hooks:15:in `eval'\u001b[0m",
      "\u001b[37m/Users/saw/.rvm/gems/ruby-2.1.0@global/bin/ruby_executable_hooks:15:in `<main>'\u001b[0m"
     ]
    }
   ],
   "source": [
    "wherefore.name = 'Stinky Pete'"
   ]
  },
  {
   "cell_type": "code",
   "execution_count": 15,
   "metadata": {
    "collapsed": false
   },
   "outputs": [
    {
     "ename": "SyntaxError",
     "evalue": "<main>:9: syntax error, unexpected '=', expecting ';' or '\\n'\n  def name = (new_name)\n            ^\n<main>:12: syntax error, unexpected keyword_end, expecting end-of-input",
     "output_type": "error",
     "traceback": [
      "\u001b[31mSyntaxError\u001b[0m: <main>:9: syntax error, unexpected '=', expecting ';' or '\\n'\n  def name = (new_name)\n            ^\n<main>:12: syntax error, unexpected keyword_end, expecting end-of-input",
      "\u001b[37m/Users/saw/.rvm/rubies/ruby-2.1.0/lib/ruby/gems/2.1.0/gems/iruby-0.2.9/lib/iruby/backend.rb:44:in `eval'\u001b[0m",
      "\u001b[37m/Users/saw/.rvm/rubies/ruby-2.1.0/lib/ruby/gems/2.1.0/gems/iruby-0.2.9/lib/iruby/backend.rb:44:in `eval'\u001b[0m",
      "\u001b[37m/Users/saw/.rvm/rubies/ruby-2.1.0/lib/ruby/gems/2.1.0/gems/iruby-0.2.9/lib/iruby/backend.rb:12:in `eval'\u001b[0m",
      "\u001b[37m/Users/saw/.rvm/rubies/ruby-2.1.0/lib/ruby/gems/2.1.0/gems/iruby-0.2.9/lib/iruby/kernel.rb:87:in `execute_request'\u001b[0m",
      "\u001b[37m/Users/saw/.rvm/rubies/ruby-2.1.0/lib/ruby/gems/2.1.0/gems/iruby-0.2.9/lib/iruby/kernel.rb:47:in `dispatch'\u001b[0m",
      "\u001b[37m/Users/saw/.rvm/rubies/ruby-2.1.0/lib/ruby/gems/2.1.0/gems/iruby-0.2.9/lib/iruby/kernel.rb:37:in `run'\u001b[0m",
      "\u001b[37m/Users/saw/.rvm/rubies/ruby-2.1.0/lib/ruby/gems/2.1.0/gems/iruby-0.2.9/lib/iruby/command.rb:70:in `run_kernel'\u001b[0m",
      "\u001b[37m/Users/saw/.rvm/rubies/ruby-2.1.0/lib/ruby/gems/2.1.0/gems/iruby-0.2.9/lib/iruby/command.rb:34:in `run'\u001b[0m",
      "\u001b[37m/Users/saw/.rvm/gems/ruby-2.1.0@global/gems/iruby-0.2.9/bin/iruby:5:in `<top (required)>'\u001b[0m",
      "\u001b[37m/Users/saw/.rvm/rubies/ruby-2.1.0/bin/iruby:23:in `load'\u001b[0m",
      "\u001b[37m/Users/saw/.rvm/rubies/ruby-2.1.0/bin/iruby:23:in `<main>'\u001b[0m",
      "\u001b[37m/Users/saw/.rvm/gems/ruby-2.1.0@global/bin/ruby_executable_hooks:15:in `eval'\u001b[0m",
      "\u001b[37m/Users/saw/.rvm/gems/ruby-2.1.0@global/bin/ruby_executable_hooks:15:in `<main>'\u001b[0m"
     ]
    }
   ],
   "source": [
    "class Minstrel\n",
    "  def initialize(name)\n",
    "    @name = name\n",
    "  end\n",
    "  \n",
    "  def name\n",
    "    @name\n",
    "  end\n",
    "  \n",
    "  def name = (new_name)\n",
    "    @name = new_name\n",
    "  end\n",
    "end"
   ]
  },
  {
   "cell_type": "code",
   "execution_count": 16,
   "metadata": {
    "collapsed": false
   },
   "outputs": [
    {
     "data": {
      "text/plain": [
       ":name="
      ]
     },
     "execution_count": 16,
     "metadata": {},
     "output_type": "execute_result"
    }
   ],
   "source": [
    "class Minstrel\n",
    "  def initialize(name)\n",
    "    @name = name\n",
    "  end\n",
    "  def name\n",
    "    @name\n",
    "end\n",
    "  def name=(new_name)\n",
    "    @name = new_name\n",
    "end end"
   ]
  },
  {
   "cell_type": "code",
   "execution_count": 19,
   "metadata": {
    "collapsed": false
   },
   "outputs": [
    {
     "data": {
      "text/plain": [
       "#<Minstrel:0x007f9573867d28 @name=\"Wherefore\">"
      ]
     },
     "execution_count": 19,
     "metadata": {},
     "output_type": "execute_result"
    }
   ],
   "source": [
    "wherefore = Minstrel.new('Wherefore')"
   ]
  },
  {
   "cell_type": "code",
   "execution_count": 20,
   "metadata": {
    "collapsed": false
   },
   "outputs": [
    {
     "data": {
      "text/plain": [
       "\"Wherefore\""
      ]
     },
     "execution_count": 20,
     "metadata": {},
     "output_type": "execute_result"
    }
   ],
   "source": [
    "wherefore.name"
   ]
  },
  {
   "cell_type": "code",
   "execution_count": 21,
   "metadata": {
    "collapsed": false
   },
   "outputs": [
    {
     "data": {
      "text/plain": [
       "\"Stinky Pete\""
      ]
     },
     "execution_count": 21,
     "metadata": {},
     "output_type": "execute_result"
    }
   ],
   "source": [
    "wherefore.name = 'Stinky Pete'"
   ]
  },
  {
   "cell_type": "code",
   "execution_count": 22,
   "metadata": {
    "collapsed": false
   },
   "outputs": [
    {
     "data": {
      "text/plain": [
       "\"Stinky Pete\""
      ]
     },
     "execution_count": 22,
     "metadata": {},
     "output_type": "execute_result"
    }
   ],
   "source": [
    "wherefore.name"
   ]
  },
  {
   "cell_type": "code",
   "execution_count": 23,
   "metadata": {
    "collapsed": false
   },
   "outputs": [
    {
     "data": {
      "text/plain": [
       ":initialize"
      ]
     },
     "execution_count": 23,
     "metadata": {},
     "output_type": "execute_result"
    }
   ],
   "source": [
    "class Minstrel\n",
    "  attr_accessor:name\n",
    "  attr_reader:ballad\n",
    "  def initialize(name)\n",
    "    @name = name\n",
    "    @ballad = 'The Ballad of Chucky Jim'\n",
    "  end\n",
    "end"
   ]
  },
  {
   "cell_type": "code",
   "execution_count": 24,
   "metadata": {
    "collapsed": false
   },
   "outputs": [
    {
     "data": {
      "text/plain": [
       "#<Minstrel:0x007f95720f5438 @name=\"Wherefore\", @ballad=\"The Ballad of Chucky Jim\">"
      ]
     },
     "execution_count": 24,
     "metadata": {},
     "output_type": "execute_result"
    }
   ],
   "source": [
    "wherefore = Minstrel.new('Wherefore')"
   ]
  },
  {
   "cell_type": "code",
   "execution_count": 25,
   "metadata": {
    "collapsed": false
   },
   "outputs": [
    {
     "data": {
      "text/plain": [
       "\"Wherefore\""
      ]
     },
     "execution_count": 25,
     "metadata": {},
     "output_type": "execute_result"
    }
   ],
   "source": [
    "wherefore.name"
   ]
  },
  {
   "cell_type": "code",
   "execution_count": 26,
   "metadata": {
    "collapsed": false
   },
   "outputs": [
    {
     "data": {
      "text/plain": [
       "\"Wherefive\""
      ]
     },
     "execution_count": 26,
     "metadata": {},
     "output_type": "execute_result"
    }
   ],
   "source": [
    "wherefore.name = 'Wherefive'"
   ]
  },
  {
   "cell_type": "code",
   "execution_count": 27,
   "metadata": {
    "collapsed": false
   },
   "outputs": [
    {
     "data": {
      "text/plain": [
       "#<Minstrel:0x007f95720f5438 @name=\"Wherefive\", @ballad=\"The Ballad of Chucky Jim\">"
      ]
     },
     "execution_count": 27,
     "metadata": {},
     "output_type": "execute_result"
    }
   ],
   "source": [
    "wherefore"
   ]
  },
  {
   "cell_type": "code",
   "execution_count": 28,
   "metadata": {
    "collapsed": false
   },
   "outputs": [
    {
     "data": {
      "text/plain": [
       "\"The Ballad of Chucky Jim\""
      ]
     },
     "execution_count": 28,
     "metadata": {},
     "output_type": "execute_result"
    }
   ],
   "source": [
    "wherefore.ballad"
   ]
  },
  {
   "cell_type": "code",
   "execution_count": 29,
   "metadata": {
    "collapsed": false
   },
   "outputs": [
    {
     "ename": "NoMethodError",
     "evalue": "undefined method `ballad=' for #<Minstrel:0x007f95720f5438>",
     "output_type": "error",
     "traceback": [
      "\u001b[31mNoMethodError\u001b[0m: undefined method `ballad=' for #<Minstrel:0x007f95720f5438>",
      "\u001b[37m<main>:in `<main>'\u001b[0m",
      "\u001b[37m/Users/saw/.rvm/rubies/ruby-2.1.0/lib/ruby/gems/2.1.0/gems/iruby-0.2.9/lib/iruby/backend.rb:44:in `eval'\u001b[0m",
      "\u001b[37m/Users/saw/.rvm/rubies/ruby-2.1.0/lib/ruby/gems/2.1.0/gems/iruby-0.2.9/lib/iruby/backend.rb:44:in `eval'\u001b[0m",
      "\u001b[37m/Users/saw/.rvm/rubies/ruby-2.1.0/lib/ruby/gems/2.1.0/gems/iruby-0.2.9/lib/iruby/backend.rb:12:in `eval'\u001b[0m",
      "\u001b[37m/Users/saw/.rvm/rubies/ruby-2.1.0/lib/ruby/gems/2.1.0/gems/iruby-0.2.9/lib/iruby/kernel.rb:87:in `execute_request'\u001b[0m",
      "\u001b[37m/Users/saw/.rvm/rubies/ruby-2.1.0/lib/ruby/gems/2.1.0/gems/iruby-0.2.9/lib/iruby/kernel.rb:47:in `dispatch'\u001b[0m",
      "\u001b[37m/Users/saw/.rvm/rubies/ruby-2.1.0/lib/ruby/gems/2.1.0/gems/iruby-0.2.9/lib/iruby/kernel.rb:37:in `run'\u001b[0m",
      "\u001b[37m/Users/saw/.rvm/rubies/ruby-2.1.0/lib/ruby/gems/2.1.0/gems/iruby-0.2.9/lib/iruby/command.rb:70:in `run_kernel'\u001b[0m",
      "\u001b[37m/Users/saw/.rvm/rubies/ruby-2.1.0/lib/ruby/gems/2.1.0/gems/iruby-0.2.9/lib/iruby/command.rb:34:in `run'\u001b[0m",
      "\u001b[37m/Users/saw/.rvm/gems/ruby-2.1.0@global/gems/iruby-0.2.9/bin/iruby:5:in `<top (required)>'\u001b[0m",
      "\u001b[37m/Users/saw/.rvm/rubies/ruby-2.1.0/bin/iruby:23:in `load'\u001b[0m",
      "\u001b[37m/Users/saw/.rvm/rubies/ruby-2.1.0/bin/iruby:23:in `<main>'\u001b[0m",
      "\u001b[37m/Users/saw/.rvm/gems/ruby-2.1.0@global/bin/ruby_executable_hooks:15:in `eval'\u001b[0m",
      "\u001b[37m/Users/saw/.rvm/gems/ruby-2.1.0@global/bin/ruby_executable_hooks:15:in `<main>'\u001b[0m"
     ]
    }
   ],
   "source": [
    "wherefore.ballad = 'A song of Mice and Friars'"
   ]
  },
  {
   "cell_type": "code",
   "execution_count": 31,
   "metadata": {
    "collapsed": false
   },
   "outputs": [
    {
     "data": {
      "text/plain": [
       "#<Ballad:0x007f9572a7f990 @title=\"The Ballad of Chuncky Jim\", @lyrics=\"tralala!\">"
      ]
     },
     "execution_count": 31,
     "metadata": {},
     "output_type": "execute_result"
    }
   ],
   "source": [
    "class Ballad\n",
    "  attr_accessor :title\n",
    "  attr_accessor :lyrics\n",
    "  \n",
    "  @@number_of_ballads = 0\n",
    "  \n",
    "  def initialize(title, lyrics = 'tralala!')\n",
    "    @title = title\n",
    "    @lyrics = lyrics\n",
    "    @@number_of_ballads += 1\n",
    "  end\n",
    "  def self.number_of_ballads\n",
    "    @@number_of_ballads\n",
    "  end\n",
    "end\n",
    "\n",
    "ballad = Ballad.new('The Ballad of Chuncky Jim')\n"
   ]
  },
  {
   "cell_type": "code",
   "execution_count": 32,
   "metadata": {
    "collapsed": false
   },
   "outputs": [
    {
     "name": "stdout",
     "output_type": "stream",
     "text": [
      "number of ballads: 1\n"
     ]
    }
   ],
   "source": [
    "puts \"number of ballads: #{Ballad.number_of_ballads}\""
   ]
  },
  {
   "cell_type": "code",
   "execution_count": 33,
   "metadata": {
    "collapsed": false
   },
   "outputs": [
    {
     "name": "stdout",
     "output_type": "stream",
     "text": [
      "Ballad object ID: 70139925232840\n"
     ]
    }
   ],
   "source": [
    "puts \"Ballad object ID: #{ballad.object_id}\""
   ]
  },
  {
   "cell_type": "code",
   "execution_count": 34,
   "metadata": {
    "collapsed": false
   },
   "outputs": [
    {
     "name": "stdout",
     "output_type": "stream",
     "text": [
      "Ballad title: The Ballad of Chuncky Jim\n"
     ]
    }
   ],
   "source": [
    "puts \"Ballad title: #{ballad.title}\""
   ]
  },
  {
   "cell_type": "code",
   "execution_count": 35,
   "metadata": {
    "collapsed": false
   },
   "outputs": [
    {
     "name": "stdout",
     "output_type": "stream",
     "text": [
      "Ballad object ID again!: 70139925232840\n"
     ]
    }
   ],
   "source": [
    "puts \"Ballad object ID again!: #{ballad.object_id}\""
   ]
  },
  {
   "cell_type": "code",
   "execution_count": 36,
   "metadata": {
    "collapsed": false
   },
   "outputs": [
    {
     "name": "stdout",
     "output_type": "stream",
     "text": [
      "Ballad lyrics: tralala!\n"
     ]
    }
   ],
   "source": [
    "puts \"Ballad lyrics: #{ballad.lyrics}\""
   ]
  },
  {
   "cell_type": "code",
   "execution_count": 37,
   "metadata": {
    "collapsed": false
   },
   "outputs": [
    {
     "data": {
      "text/plain": [
       "1"
      ]
     },
     "execution_count": 37,
     "metadata": {},
     "output_type": "execute_result"
    }
   ],
   "source": [
    "0.object_id"
   ]
  },
  {
   "cell_type": "code",
   "execution_count": 38,
   "metadata": {
    "collapsed": false
   },
   "outputs": [
    {
     "data": {
      "text/plain": [
       "845768"
      ]
     },
     "execution_count": 38,
     "metadata": {},
     "output_type": "execute_result"
    }
   ],
   "source": [
    ":minstrel.object_id"
   ]
  },
  {
   "cell_type": "code",
   "execution_count": 39,
   "metadata": {
    "collapsed": true
   },
   "outputs": [],
   "source": [
    "class Monkey \n",
    "  # Class magics go here!\n",
    "end"
   ]
  },
  {
   "cell_type": "code",
   "execution_count": 40,
   "metadata": {
    "collapsed": false
   },
   "outputs": [
    {
     "data": {
      "text/plain": [
       ":eat_banana"
      ]
     },
     "execution_count": 40,
     "metadata": {},
     "output_type": "execute_result"
    }
   ],
   "source": [
    "class Monkey\n",
    "  @@bananas = 5\n",
    "  def initialize(name)\n",
    "    @name = name\n",
    "  end\n",
    "  def eat_banana \n",
    "    @@bananas -= 1\n",
    "    puts \"Ate a banana! #{@@bananas} left.\"\n",
    "  end\n",
    "end\n",
    "  "
   ]
  },
  {
   "cell_type": "code",
   "execution_count": 41,
   "metadata": {
    "collapsed": false
   },
   "outputs": [
    {
     "data": {
      "text/plain": [
       "#<Monkey:0x007f95729d6e80 @name=\"Socks\">"
      ]
     },
     "execution_count": 41,
     "metadata": {},
     "output_type": "execute_result"
    }
   ],
   "source": [
    "socks = Monkey.new('Socks')"
   ]
  },
  {
   "cell_type": "code",
   "execution_count": 43,
   "metadata": {
    "collapsed": false
   },
   "outputs": [
    {
     "data": {
      "text/plain": [
       "#<Monkey:0x007f95729b7198 @name=\"Stevie\">"
      ]
     },
     "execution_count": 43,
     "metadata": {},
     "output_type": "execute_result"
    }
   ],
   "source": [
    "stevie = Monkey.new('Stevie')"
   ]
  },
  {
   "cell_type": "code",
   "execution_count": 44,
   "metadata": {
    "collapsed": false
   },
   "outputs": [
    {
     "name": "stdout",
     "output_type": "stream",
     "text": [
      "Ate a banana! 4 left.\n"
     ]
    }
   ],
   "source": [
    "socks.eat_banana"
   ]
  },
  {
   "cell_type": "code",
   "execution_count": 45,
   "metadata": {
    "collapsed": false
   },
   "outputs": [
    {
     "name": "stdout",
     "output_type": "stream",
     "text": [
      "Ate a banana! 3 left.\n"
     ]
    }
   ],
   "source": [
    "stevie.eat_banana"
   ]
  },
  {
   "cell_type": "code",
   "execution_count": 46,
   "metadata": {
    "collapsed": false
   },
   "outputs": [
    {
     "data": {
      "text/plain": [
       ":initialize"
      ]
     },
     "execution_count": 46,
     "metadata": {},
     "output_type": "execute_result"
    }
   ],
   "source": [
    "class MOnkey\n",
    "  $home = 'the jungle'\n",
    "  @@number_of_monkeys = 0\n",
    "  def initialize(type)\n",
    "    @tyep = type\n",
    "    @@number_of_monkeys += 1\n",
    "    puts \"Made a new monkey! Now there's #{@@number_of_monkeys}.\"\n",
    "  end\n",
    "end"
   ]
  },
  {
   "cell_type": "code",
   "execution_count": 47,
   "metadata": {
    "collapsed": false
   },
   "outputs": [
    {
     "data": {
      "text/plain": [
       "#<Monkey:0x007f957297f2c0 @name=\"blue monkey\">"
      ]
     },
     "execution_count": 47,
     "metadata": {},
     "output_type": "execute_result"
    }
   ],
   "source": [
    "blue = Monkey.new('blue monkey')"
   ]
  },
  {
   "cell_type": "code",
   "execution_count": 48,
   "metadata": {
    "collapsed": false
   },
   "outputs": [
    {
     "data": {
      "text/plain": [
       "#<Monkey:0x007f957296faf0 @name=\"silver monkey\">"
      ]
     },
     "execution_count": 48,
     "metadata": {},
     "output_type": "execute_result"
    }
   ],
   "source": [
    "sliver = Monkey.new('silver monkey')"
   ]
  },
  {
   "cell_type": "code",
   "execution_count": 49,
   "metadata": {
    "collapsed": false
   },
   "outputs": [
    {
     "data": {
      "text/plain": [
       "#<Monkey:0x007f957287fe10 @name=\"golden monkey\">"
      ]
     },
     "execution_count": 49,
     "metadata": {},
     "output_type": "execute_result"
    }
   ],
   "source": [
    "gold = Monkey.new('golden monkey')"
   ]
  },
  {
   "cell_type": "code",
   "execution_count": 50,
   "metadata": {
    "collapsed": false
   },
   "outputs": [
    {
     "name": "stdout",
     "output_type": "stream",
     "text": [
      "Your monkeys live in the jungle\n"
     ]
    }
   ],
   "source": [
    "puts \"Your monkeys live in #{$home}\""
   ]
  },
  {
   "cell_type": "code",
   "execution_count": 51,
   "metadata": {
    "collapsed": false
   },
   "outputs": [
    {
     "data": {
      "text/plain": [
       "\"Local here!\""
      ]
     },
     "execution_count": 51,
     "metadata": {},
     "output_type": "execute_result"
    }
   ],
   "source": [
    "local_variable = 'Local here!'"
   ]
  },
  {
   "cell_type": "code",
   "execution_count": 52,
   "metadata": {
    "collapsed": false
   },
   "outputs": [
    {
     "ename": "NameError",
     "evalue": "undefined local variable or method `local_variable' for OutOfTowner:Class",
     "output_type": "error",
     "traceback": [
      "\u001b[31mNameError\u001b[0m: undefined local variable or method `local_variable' for OutOfTowner:Class",
      "\u001b[37m<main>:1:in `<class:OutOfTowner>'\u001b[0m",
      "\u001b[37m<main>:in `<main>'\u001b[0m",
      "\u001b[37m/Users/saw/.rvm/rubies/ruby-2.1.0/lib/ruby/gems/2.1.0/gems/iruby-0.2.9/lib/iruby/backend.rb:44:in `eval'\u001b[0m",
      "\u001b[37m/Users/saw/.rvm/rubies/ruby-2.1.0/lib/ruby/gems/2.1.0/gems/iruby-0.2.9/lib/iruby/backend.rb:44:in `eval'\u001b[0m",
      "\u001b[37m/Users/saw/.rvm/rubies/ruby-2.1.0/lib/ruby/gems/2.1.0/gems/iruby-0.2.9/lib/iruby/backend.rb:12:in `eval'\u001b[0m",
      "\u001b[37m/Users/saw/.rvm/rubies/ruby-2.1.0/lib/ruby/gems/2.1.0/gems/iruby-0.2.9/lib/iruby/kernel.rb:87:in `execute_request'\u001b[0m",
      "\u001b[37m/Users/saw/.rvm/rubies/ruby-2.1.0/lib/ruby/gems/2.1.0/gems/iruby-0.2.9/lib/iruby/kernel.rb:47:in `dispatch'\u001b[0m",
      "\u001b[37m/Users/saw/.rvm/rubies/ruby-2.1.0/lib/ruby/gems/2.1.0/gems/iruby-0.2.9/lib/iruby/kernel.rb:37:in `run'\u001b[0m",
      "\u001b[37m/Users/saw/.rvm/rubies/ruby-2.1.0/lib/ruby/gems/2.1.0/gems/iruby-0.2.9/lib/iruby/command.rb:70:in `run_kernel'\u001b[0m",
      "\u001b[37m/Users/saw/.rvm/rubies/ruby-2.1.0/lib/ruby/gems/2.1.0/gems/iruby-0.2.9/lib/iruby/command.rb:34:in `run'\u001b[0m",
      "\u001b[37m/Users/saw/.rvm/gems/ruby-2.1.0@global/gems/iruby-0.2.9/bin/iruby:5:in `<top (required)>'\u001b[0m",
      "\u001b[37m/Users/saw/.rvm/rubies/ruby-2.1.0/bin/iruby:23:in `load'\u001b[0m",
      "\u001b[37m/Users/saw/.rvm/rubies/ruby-2.1.0/bin/iruby:23:in `<main>'\u001b[0m",
      "\u001b[37m/Users/saw/.rvm/gems/ruby-2.1.0@global/bin/ruby_executable_hooks:15:in `eval'\u001b[0m",
      "\u001b[37m/Users/saw/.rvm/gems/ruby-2.1.0@global/bin/ruby_executable_hooks:15:in `<main>'\u001b[0m"
     ]
    }
   ],
   "source": [
    "class OutOfTowner\n",
    "  puts local_variable\n",
    "end"
   ]
  },
  {
   "cell_type": "code",
   "execution_count": 54,
   "metadata": {
    "collapsed": false
   },
   "outputs": [
    {
     "data": {
      "text/plain": [
       ":tourist"
      ]
     },
     "execution_count": 54,
     "metadata": {},
     "output_type": "execute_result"
    }
   ],
   "source": [
    "def tourist\n",
    "  puts \"Can you take our picture, #{local_variable}?\"\n",
    "end"
   ]
  },
  {
   "cell_type": "code",
   "execution_count": 55,
   "metadata": {
    "collapsed": false
   },
   "outputs": [
    {
     "ename": "NameError",
     "evalue": "undefined local variable or method `local_variable' for main:Object",
     "output_type": "error",
     "traceback": [
      "\u001b[31mNameError\u001b[0m: undefined local variable or method `local_variable' for main:Object",
      "\u001b[37m<main>:1:in `tourist'\u001b[0m",
      "\u001b[37m<main>:in `<main>'\u001b[0m",
      "\u001b[37m/Users/saw/.rvm/rubies/ruby-2.1.0/lib/ruby/gems/2.1.0/gems/iruby-0.2.9/lib/iruby/backend.rb:44:in `eval'\u001b[0m",
      "\u001b[37m/Users/saw/.rvm/rubies/ruby-2.1.0/lib/ruby/gems/2.1.0/gems/iruby-0.2.9/lib/iruby/backend.rb:44:in `eval'\u001b[0m",
      "\u001b[37m/Users/saw/.rvm/rubies/ruby-2.1.0/lib/ruby/gems/2.1.0/gems/iruby-0.2.9/lib/iruby/backend.rb:12:in `eval'\u001b[0m",
      "\u001b[37m/Users/saw/.rvm/rubies/ruby-2.1.0/lib/ruby/gems/2.1.0/gems/iruby-0.2.9/lib/iruby/kernel.rb:87:in `execute_request'\u001b[0m",
      "\u001b[37m/Users/saw/.rvm/rubies/ruby-2.1.0/lib/ruby/gems/2.1.0/gems/iruby-0.2.9/lib/iruby/kernel.rb:47:in `dispatch'\u001b[0m",
      "\u001b[37m/Users/saw/.rvm/rubies/ruby-2.1.0/lib/ruby/gems/2.1.0/gems/iruby-0.2.9/lib/iruby/kernel.rb:37:in `run'\u001b[0m",
      "\u001b[37m/Users/saw/.rvm/rubies/ruby-2.1.0/lib/ruby/gems/2.1.0/gems/iruby-0.2.9/lib/iruby/command.rb:70:in `run_kernel'\u001b[0m",
      "\u001b[37m/Users/saw/.rvm/rubies/ruby-2.1.0/lib/ruby/gems/2.1.0/gems/iruby-0.2.9/lib/iruby/command.rb:34:in `run'\u001b[0m",
      "\u001b[37m/Users/saw/.rvm/gems/ruby-2.1.0@global/gems/iruby-0.2.9/bin/iruby:5:in `<top (required)>'\u001b[0m",
      "\u001b[37m/Users/saw/.rvm/rubies/ruby-2.1.0/bin/iruby:23:in `load'\u001b[0m",
      "\u001b[37m/Users/saw/.rvm/rubies/ruby-2.1.0/bin/iruby:23:in `<main>'\u001b[0m",
      "\u001b[37m/Users/saw/.rvm/gems/ruby-2.1.0@global/bin/ruby_executable_hooks:15:in `eval'\u001b[0m",
      "\u001b[37m/Users/saw/.rvm/gems/ruby-2.1.0@global/bin/ruby_executable_hooks:15:in `<main>'\u001b[0m"
     ]
    }
   ],
   "source": [
    "tourist"
   ]
  },
  {
   "cell_type": "code",
   "execution_count": 57,
   "metadata": {
    "collapsed": false
   },
   "outputs": [
    {
     "name": "stdout",
     "output_type": "stream",
     "text": [
      "0\n",
      "1\n",
      "2\n"
     ]
    },
    {
     "data": {
      "text/plain": [
       "3"
      ]
     },
     "execution_count": 57,
     "metadata": {},
     "output_type": "execute_result"
    }
   ],
   "source": [
    "3.times { |number| puts number}"
   ]
  },
  {
   "cell_type": "code",
   "execution_count": 58,
   "metadata": {
    "collapsed": false
   },
   "outputs": [
    {
     "ename": "NameError",
     "evalue": "undefined local variable or method `number' for main:Object",
     "output_type": "error",
     "traceback": [
      "\u001b[31mNameError\u001b[0m: undefined local variable or method `number' for main:Object",
      "\u001b[37m<main>:in `<main>'\u001b[0m",
      "\u001b[37m/Users/saw/.rvm/rubies/ruby-2.1.0/lib/ruby/gems/2.1.0/gems/iruby-0.2.9/lib/iruby/backend.rb:44:in `eval'\u001b[0m",
      "\u001b[37m/Users/saw/.rvm/rubies/ruby-2.1.0/lib/ruby/gems/2.1.0/gems/iruby-0.2.9/lib/iruby/backend.rb:44:in `eval'\u001b[0m",
      "\u001b[37m/Users/saw/.rvm/rubies/ruby-2.1.0/lib/ruby/gems/2.1.0/gems/iruby-0.2.9/lib/iruby/backend.rb:12:in `eval'\u001b[0m",
      "\u001b[37m/Users/saw/.rvm/rubies/ruby-2.1.0/lib/ruby/gems/2.1.0/gems/iruby-0.2.9/lib/iruby/kernel.rb:87:in `execute_request'\u001b[0m",
      "\u001b[37m/Users/saw/.rvm/rubies/ruby-2.1.0/lib/ruby/gems/2.1.0/gems/iruby-0.2.9/lib/iruby/kernel.rb:47:in `dispatch'\u001b[0m",
      "\u001b[37m/Users/saw/.rvm/rubies/ruby-2.1.0/lib/ruby/gems/2.1.0/gems/iruby-0.2.9/lib/iruby/kernel.rb:37:in `run'\u001b[0m",
      "\u001b[37m/Users/saw/.rvm/rubies/ruby-2.1.0/lib/ruby/gems/2.1.0/gems/iruby-0.2.9/lib/iruby/command.rb:70:in `run_kernel'\u001b[0m",
      "\u001b[37m/Users/saw/.rvm/rubies/ruby-2.1.0/lib/ruby/gems/2.1.0/gems/iruby-0.2.9/lib/iruby/command.rb:34:in `run'\u001b[0m",
      "\u001b[37m/Users/saw/.rvm/gems/ruby-2.1.0@global/gems/iruby-0.2.9/bin/iruby:5:in `<top (required)>'\u001b[0m",
      "\u001b[37m/Users/saw/.rvm/rubies/ruby-2.1.0/bin/iruby:23:in `load'\u001b[0m",
      "\u001b[37m/Users/saw/.rvm/rubies/ruby-2.1.0/bin/iruby:23:in `<main>'\u001b[0m",
      "\u001b[37m/Users/saw/.rvm/gems/ruby-2.1.0@global/bin/ruby_executable_hooks:15:in `eval'\u001b[0m",
      "\u001b[37m/Users/saw/.rvm/gems/ruby-2.1.0@global/bin/ruby_executable_hooks:15:in `<main>'\u001b[0m"
     ]
    }
   ],
   "source": [
    "puts number"
   ]
  },
  {
   "cell_type": "code",
   "execution_count": 59,
   "metadata": {
    "collapsed": false
   },
   "outputs": [
    {
     "data": {
      "text/plain": [
       ":number_of_monkeys"
      ]
     },
     "execution_count": 59,
     "metadata": {},
     "output_type": "execute_result"
    }
   ],
   "source": [
    "class Monkey\n",
    "  @@number_of_monkeys = 0\n",
    "  def initialize\n",
    "    @@number_of_monkeys += 1\n",
    "  end\n",
    "  def self.number_of_monkeys\n",
    "    @@number_of_monkeys\n",
    "  end\n",
    "end"
   ]
  },
  {
   "cell_type": "code",
   "execution_count": 61,
   "metadata": {
    "collapsed": false
   },
   "outputs": [
    {
     "data": {
      "text/plain": [
       "0"
      ]
     },
     "execution_count": 61,
     "metadata": {},
     "output_type": "execute_result"
    }
   ],
   "source": [
    "Monkey.number_of_monkeys"
   ]
  },
  {
   "cell_type": "code",
   "execution_count": 62,
   "metadata": {
    "collapsed": false
   },
   "outputs": [
    {
     "data": {
      "text/plain": [
       "#<Monkey:0x007f95728c16f8>"
      ]
     },
     "execution_count": 62,
     "metadata": {},
     "output_type": "execute_result"
    }
   ],
   "source": [
    "monkey = Monkey.new"
   ]
  },
  {
   "cell_type": "code",
   "execution_count": 63,
   "metadata": {
    "collapsed": false
   },
   "outputs": [
    {
     "data": {
      "text/plain": [
       "1"
      ]
     },
     "execution_count": 63,
     "metadata": {},
     "output_type": "execute_result"
    }
   ],
   "source": [
    "Monkey.number_of_monkeys"
   ]
  },
  {
   "cell_type": "code",
   "execution_count": 64,
   "metadata": {
    "collapsed": false
   },
   "outputs": [
    {
     "data": {
      "text/plain": [
       ":name="
      ]
     },
     "execution_count": 64,
     "metadata": {},
     "output_type": "execute_result"
    }
   ],
   "source": [
    "class Minstrel\n",
    "  def initialize(name)\n",
    "    @name = name\n",
    "  end\n",
    "  def name\n",
    "    @name\n",
    "  end\n",
    "  def name=(new_name)\n",
    "    @name = new_name\n",
    "  end\n",
    "end"
   ]
  },
  {
   "cell_type": "code",
   "execution_count": 65,
   "metadata": {
    "collapsed": false
   },
   "outputs": [
    {
     "data": {
      "text/plain": [
       ":initialize"
      ]
     },
     "execution_count": 65,
     "metadata": {},
     "output_type": "execute_result"
    }
   ],
   "source": [
    "class Minstrel\n",
    "  attr_accessor :name\n",
    "  attr_reader :ballad\n",
    "  \n",
    "  def initialize(name)\n",
    "    @name = name\n",
    "    @ballad = 'The Ballad of Chuncky Jim'\n",
    "  end\n",
    "end"
   ]
  },
  {
   "cell_type": "code",
   "execution_count": 66,
   "metadata": {
    "collapsed": false
   },
   "outputs": [
    {
     "data": {
      "text/plain": [
       "\"The Ballad of Chucky Jim\""
      ]
     },
     "execution_count": 66,
     "metadata": {},
     "output_type": "execute_result"
    }
   ],
   "source": [
    "wherefore.ballad"
   ]
  },
  {
   "cell_type": "code",
   "execution_count": 67,
   "metadata": {
    "collapsed": false
   },
   "outputs": [
    {
     "data": {
      "text/plain": [
       "\"Wherefive\""
      ]
     },
     "execution_count": 67,
     "metadata": {},
     "output_type": "execute_result"
    }
   ],
   "source": [
    "wherefore.name"
   ]
  },
  {
   "cell_type": "code",
   "execution_count": 68,
   "metadata": {
    "collapsed": false
   },
   "outputs": [
    {
     "data": {
      "text/plain": [
       "\"Wherefive\""
      ]
     },
     "execution_count": 68,
     "metadata": {},
     "output_type": "execute_result"
    }
   ],
   "source": [
    "wherefore.name = 'Wherefive'"
   ]
  },
  {
   "cell_type": "code",
   "execution_count": 69,
   "metadata": {
    "collapsed": false
   },
   "outputs": [
    {
     "ename": "NoMethodError",
     "evalue": "undefined method `ballad=' for #<Minstrel:0x007f95720f5438>",
     "output_type": "error",
     "traceback": [
      "\u001b[31mNoMethodError\u001b[0m: undefined method `ballad=' for #<Minstrel:0x007f95720f5438>",
      "\u001b[37m<main>:in `<main>'\u001b[0m",
      "\u001b[37m/Users/saw/.rvm/rubies/ruby-2.1.0/lib/ruby/gems/2.1.0/gems/iruby-0.2.9/lib/iruby/backend.rb:44:in `eval'\u001b[0m",
      "\u001b[37m/Users/saw/.rvm/rubies/ruby-2.1.0/lib/ruby/gems/2.1.0/gems/iruby-0.2.9/lib/iruby/backend.rb:44:in `eval'\u001b[0m",
      "\u001b[37m/Users/saw/.rvm/rubies/ruby-2.1.0/lib/ruby/gems/2.1.0/gems/iruby-0.2.9/lib/iruby/backend.rb:12:in `eval'\u001b[0m",
      "\u001b[37m/Users/saw/.rvm/rubies/ruby-2.1.0/lib/ruby/gems/2.1.0/gems/iruby-0.2.9/lib/iruby/kernel.rb:87:in `execute_request'\u001b[0m",
      "\u001b[37m/Users/saw/.rvm/rubies/ruby-2.1.0/lib/ruby/gems/2.1.0/gems/iruby-0.2.9/lib/iruby/kernel.rb:47:in `dispatch'\u001b[0m",
      "\u001b[37m/Users/saw/.rvm/rubies/ruby-2.1.0/lib/ruby/gems/2.1.0/gems/iruby-0.2.9/lib/iruby/kernel.rb:37:in `run'\u001b[0m",
      "\u001b[37m/Users/saw/.rvm/rubies/ruby-2.1.0/lib/ruby/gems/2.1.0/gems/iruby-0.2.9/lib/iruby/command.rb:70:in `run_kernel'\u001b[0m",
      "\u001b[37m/Users/saw/.rvm/rubies/ruby-2.1.0/lib/ruby/gems/2.1.0/gems/iruby-0.2.9/lib/iruby/command.rb:34:in `run'\u001b[0m",
      "\u001b[37m/Users/saw/.rvm/gems/ruby-2.1.0@global/gems/iruby-0.2.9/bin/iruby:5:in `<top (required)>'\u001b[0m",
      "\u001b[37m/Users/saw/.rvm/rubies/ruby-2.1.0/bin/iruby:23:in `load'\u001b[0m",
      "\u001b[37m/Users/saw/.rvm/rubies/ruby-2.1.0/bin/iruby:23:in `<main>'\u001b[0m",
      "\u001b[37m/Users/saw/.rvm/gems/ruby-2.1.0@global/bin/ruby_executable_hooks:15:in `eval'\u001b[0m",
      "\u001b[37m/Users/saw/.rvm/gems/ruby-2.1.0@global/bin/ruby_executable_hooks:15:in `<main>'\u001b[0m"
     ]
    }
   ],
   "source": [
    "wherefore.ballad = 'A Song of Mice and Friars'"
   ]
  },
  {
   "cell_type": "code",
   "execution_count": 73,
   "metadata": {
    "collapsed": false
   },
   "outputs": [
    {
     "data": {
      "text/plain": [
       ":number_of_minstrels"
      ]
     },
     "execution_count": 73,
     "metadata": {},
     "output_type": "execute_result"
    }
   ],
   "source": [
    "class Minstrel\n",
    "  attr_reader :name\n",
    "  @@number_of_minstrels = 0\n",
    "  def initialize(name)\n",
    "    @name = name\n",
    "    @@number_of_minstrels += 1\n",
    "end\n",
    "  def sing(song_name)\n",
    "    puts \"Time to sing a song called: #{song_name}!\"\n",
    "    puts 'Tralala!'\n",
    "end\n",
    "  def self.number_of_minstrels\n",
    "    @@number_of_minstrels\n",
    "end end"
   ]
  },
  {
   "cell_type": "code",
   "execution_count": 74,
   "metadata": {
    "collapsed": false
   },
   "outputs": [
    {
     "data": {
      "text/plain": [
       "#<Minstrel:0x007f9572c525d8 @name=\"Wherefore\">"
      ]
     },
     "execution_count": 74,
     "metadata": {},
     "output_type": "execute_result"
    }
   ],
   "source": [
    "wherefore = Minstrel.new('Wherefore')"
   ]
  },
  {
   "cell_type": "code",
   "execution_count": 75,
   "metadata": {
    "collapsed": false
   },
   "outputs": [
    {
     "data": {
      "text/plain": [
       "1"
      ]
     },
     "execution_count": 75,
     "metadata": {},
     "output_type": "execute_result"
    }
   ],
   "source": [
    "Minstrel.number_of_minstrels"
   ]
  },
  {
   "cell_type": "code",
   "execution_count": 76,
   "metadata": {
    "collapsed": false
   },
   "outputs": [
    {
     "data": {
      "text/plain": [
       "false"
      ]
     },
     "execution_count": 76,
     "metadata": {},
     "output_type": "execute_result"
    }
   ],
   "source": [
    "flowmatic_on = false"
   ]
  },
  {
   "cell_type": "code",
   "execution_count": 77,
   "metadata": {
    "collapsed": false
   },
   "outputs": [
    {
     "data": {
      "text/plain": [
       "true"
      ]
     },
     "execution_count": 77,
     "metadata": {},
     "output_type": "execute_result"
    }
   ],
   "source": [
    "flowmatic_on = true"
   ]
  },
  {
   "cell_type": "code",
   "execution_count": 78,
   "metadata": {
    "collapsed": false
   },
   "outputs": [
    {
     "data": {
      "text/plain": [
       ":initialize"
      ]
     },
     "execution_count": 78,
     "metadata": {},
     "output_type": "execute_result"
    }
   ],
   "source": [
    "class Animal\n",
    "  attr_accessor :name\n",
    "  def initialize(name, legs = 4)\n",
    "    @name = name\n",
    "    @legs = legs\n",
    "  end\n",
    "end"
   ]
  },
  {
   "cell_type": "code",
   "execution_count": 79,
   "metadata": {
    "collapsed": false
   },
   "outputs": [
    {
     "data": {
      "text/plain": [
       "#<Animal:0x007f95718cb000 @name=\"George\", @legs=2>"
      ]
     },
     "execution_count": 79,
     "metadata": {},
     "output_type": "execute_result"
    }
   ],
   "source": [
    "monkey = Animal.new('George', 2)"
   ]
  },
  {
   "cell_type": "code",
   "execution_count": 80,
   "metadata": {
    "collapsed": false
   },
   "outputs": [
    {
     "data": {
      "text/plain": [
       "\"Kong\""
      ]
     },
     "execution_count": 80,
     "metadata": {},
     "output_type": "execute_result"
    }
   ],
   "source": [
    "monkey.name = 'Kong'"
   ]
  },
  {
   "cell_type": "code",
   "execution_count": 81,
   "metadata": {
    "collapsed": false
   },
   "outputs": [
    {
     "data": {
      "text/plain": [
       "#<Animal:0x007f9572c1bb28 @name=\"Bigelow\", @legs=4>"
      ]
     },
     "execution_count": 81,
     "metadata": {},
     "output_type": "execute_result"
    }
   ],
   "source": [
    "dog = Animal.new('Bigelow')"
   ]
  },
  {
   "cell_type": "code",
   "execution_count": 82,
   "metadata": {
    "collapsed": false
   },
   "outputs": [
    {
     "data": {
      "text/plain": [
       ":initialize"
      ]
     },
     "execution_count": 82,
     "metadata": {},
     "output_type": "execute_result"
    }
   ],
   "source": [
    "class Monkey\n",
    "  attr_accessor :name\n",
    "  def initialize(name)\n",
    "    @name = name\n",
    "    @legs = 2\n",
    "  end\n",
    "end"
   ]
  },
  {
   "cell_type": "code",
   "execution_count": 83,
   "metadata": {
    "collapsed": false
   },
   "outputs": [
    {
     "data": {
      "text/plain": [
       "#<Monkey:0x007f957216e478 @name=\"George\", @legs=2>"
      ]
     },
     "execution_count": 83,
     "metadata": {},
     "output_type": "execute_result"
    }
   ],
   "source": [
    "monkey = Monkey.new('George')"
   ]
  },
  {
   "cell_type": "code",
   "execution_count": 84,
   "metadata": {
    "collapsed": false
   },
   "outputs": [
    {
     "data": {
      "text/plain": [
       "\"George\""
      ]
     },
     "execution_count": 84,
     "metadata": {},
     "output_type": "execute_result"
    }
   ],
   "source": [
    "monkey.name"
   ]
  },
  {
   "cell_type": "code",
   "execution_count": 85,
   "metadata": {
    "collapsed": false
   },
   "outputs": [
    {
     "data": {
      "text/plain": [
       ":initialize"
      ]
     },
     "execution_count": 85,
     "metadata": {},
     "output_type": "execute_result"
    }
   ],
   "source": [
    "class Dog\n",
    "  attr_accessor :name\n",
    "  def initialize(name)\n",
    "    @name = name\n",
    "    @legs = 4\n",
    "  end\n",
    "end"
   ]
  },
  {
   "cell_type": "code",
   "execution_count": 86,
   "metadata": {
    "collapsed": false
   },
   "outputs": [
    {
     "data": {
      "text/plain": [
       "#<Dog:0x007f9572146608 @name=\"Bigelow\", @legs=4>"
      ]
     },
     "execution_count": 86,
     "metadata": {},
     "output_type": "execute_result"
    }
   ],
   "source": [
    "dog = Dog.new('Bigelow')"
   ]
  },
  {
   "cell_type": "code",
   "execution_count": 87,
   "metadata": {
    "collapsed": false
   },
   "outputs": [
    {
     "data": {
      "text/plain": [
       "\"Bigelow\""
      ]
     },
     "execution_count": 87,
     "metadata": {},
     "output_type": "execute_result"
    }
   ],
   "source": [
    "dog.name"
   ]
  },
  {
   "cell_type": "code",
   "execution_count": 88,
   "metadata": {
    "collapsed": false
   },
   "outputs": [
    {
     "ename": "TypeError",
     "evalue": "superclass mismatch for class Dog",
     "output_type": "error",
     "traceback": [
      "\u001b[31mTypeError\u001b[0m: superclass mismatch for class Dog",
      "\u001b[37m<main>:in `<main>'\u001b[0m",
      "\u001b[37m/Users/saw/.rvm/rubies/ruby-2.1.0/lib/ruby/gems/2.1.0/gems/iruby-0.2.9/lib/iruby/backend.rb:44:in `eval'\u001b[0m",
      "\u001b[37m/Users/saw/.rvm/rubies/ruby-2.1.0/lib/ruby/gems/2.1.0/gems/iruby-0.2.9/lib/iruby/backend.rb:44:in `eval'\u001b[0m",
      "\u001b[37m/Users/saw/.rvm/rubies/ruby-2.1.0/lib/ruby/gems/2.1.0/gems/iruby-0.2.9/lib/iruby/backend.rb:12:in `eval'\u001b[0m",
      "\u001b[37m/Users/saw/.rvm/rubies/ruby-2.1.0/lib/ruby/gems/2.1.0/gems/iruby-0.2.9/lib/iruby/kernel.rb:87:in `execute_request'\u001b[0m",
      "\u001b[37m/Users/saw/.rvm/rubies/ruby-2.1.0/lib/ruby/gems/2.1.0/gems/iruby-0.2.9/lib/iruby/kernel.rb:47:in `dispatch'\u001b[0m",
      "\u001b[37m/Users/saw/.rvm/rubies/ruby-2.1.0/lib/ruby/gems/2.1.0/gems/iruby-0.2.9/lib/iruby/kernel.rb:37:in `run'\u001b[0m",
      "\u001b[37m/Users/saw/.rvm/rubies/ruby-2.1.0/lib/ruby/gems/2.1.0/gems/iruby-0.2.9/lib/iruby/command.rb:70:in `run_kernel'\u001b[0m",
      "\u001b[37m/Users/saw/.rvm/rubies/ruby-2.1.0/lib/ruby/gems/2.1.0/gems/iruby-0.2.9/lib/iruby/command.rb:34:in `run'\u001b[0m",
      "\u001b[37m/Users/saw/.rvm/gems/ruby-2.1.0@global/gems/iruby-0.2.9/bin/iruby:5:in `<top (required)>'\u001b[0m",
      "\u001b[37m/Users/saw/.rvm/rubies/ruby-2.1.0/bin/iruby:23:in `load'\u001b[0m",
      "\u001b[37m/Users/saw/.rvm/rubies/ruby-2.1.0/bin/iruby:23:in `<main>'\u001b[0m",
      "\u001b[37m/Users/saw/.rvm/gems/ruby-2.1.0@global/bin/ruby_executable_hooks:15:in `eval'\u001b[0m",
      "\u001b[37m/Users/saw/.rvm/gems/ruby-2.1.0@global/bin/ruby_executable_hooks:15:in `<main>'\u001b[0m"
     ]
    }
   ],
   "source": [
    "class Dog < Animal\n",
    "  def bark\n",
    "    puts 'Arf!'\n",
    "  end\n",
    "end"
   ]
  },
  {
   "cell_type": "code",
   "execution_count": 89,
   "metadata": {
    "collapsed": false
   },
   "outputs": [
    {
     "ename": "TypeError",
     "evalue": "superclass mismatch for class Monkey",
     "output_type": "error",
     "traceback": [
      "\u001b[31mTypeError\u001b[0m: superclass mismatch for class Monkey",
      "\u001b[37m<main>:in `<main>'\u001b[0m",
      "\u001b[37m/Users/saw/.rvm/rubies/ruby-2.1.0/lib/ruby/gems/2.1.0/gems/iruby-0.2.9/lib/iruby/backend.rb:44:in `eval'\u001b[0m",
      "\u001b[37m/Users/saw/.rvm/rubies/ruby-2.1.0/lib/ruby/gems/2.1.0/gems/iruby-0.2.9/lib/iruby/backend.rb:44:in `eval'\u001b[0m",
      "\u001b[37m/Users/saw/.rvm/rubies/ruby-2.1.0/lib/ruby/gems/2.1.0/gems/iruby-0.2.9/lib/iruby/backend.rb:12:in `eval'\u001b[0m",
      "\u001b[37m/Users/saw/.rvm/rubies/ruby-2.1.0/lib/ruby/gems/2.1.0/gems/iruby-0.2.9/lib/iruby/kernel.rb:87:in `execute_request'\u001b[0m",
      "\u001b[37m/Users/saw/.rvm/rubies/ruby-2.1.0/lib/ruby/gems/2.1.0/gems/iruby-0.2.9/lib/iruby/kernel.rb:47:in `dispatch'\u001b[0m",
      "\u001b[37m/Users/saw/.rvm/rubies/ruby-2.1.0/lib/ruby/gems/2.1.0/gems/iruby-0.2.9/lib/iruby/kernel.rb:37:in `run'\u001b[0m",
      "\u001b[37m/Users/saw/.rvm/rubies/ruby-2.1.0/lib/ruby/gems/2.1.0/gems/iruby-0.2.9/lib/iruby/command.rb:70:in `run_kernel'\u001b[0m",
      "\u001b[37m/Users/saw/.rvm/rubies/ruby-2.1.0/lib/ruby/gems/2.1.0/gems/iruby-0.2.9/lib/iruby/command.rb:34:in `run'\u001b[0m",
      "\u001b[37m/Users/saw/.rvm/gems/ruby-2.1.0@global/gems/iruby-0.2.9/bin/iruby:5:in `<top (required)>'\u001b[0m",
      "\u001b[37m/Users/saw/.rvm/rubies/ruby-2.1.0/bin/iruby:23:in `load'\u001b[0m",
      "\u001b[37m/Users/saw/.rvm/rubies/ruby-2.1.0/bin/iruby:23:in `<main>'\u001b[0m",
      "\u001b[37m/Users/saw/.rvm/gems/ruby-2.1.0@global/bin/ruby_executable_hooks:15:in `eval'\u001b[0m",
      "\u001b[37m/Users/saw/.rvm/gems/ruby-2.1.0@global/bin/ruby_executable_hooks:15:in `<main>'\u001b[0m"
     ]
    }
   ],
   "source": [
    "class Monkey < Animal\n",
    "  def make_sounds\n",
    "    puts 'Eeh ooh ooh!'\n",
    "  end\n",
    "end"
   ]
  },
  {
   "cell_type": "code",
   "execution_count": 91,
   "metadata": {
    "collapsed": false
   },
   "outputs": [
    {
     "data": {
      "text/plain": [
       ":say_goodbye"
      ]
     },
     "execution_count": 91,
     "metadata": {},
     "output_type": "execute_result"
    }
   ],
   "source": [
    "class MySuperclass\n",
    "  def say_hello\n",
    "    puts 'Hello1'\n",
    "  end\n",
    "end\n",
    "\n",
    "class MySubclass < MySuperclass\n",
    "  def say_goodbye\n",
    "    puts 'Goodbye!'\n",
    "  end\n",
    "end"
   ]
  },
  {
   "cell_type": "code",
   "execution_count": 92,
   "metadata": {
    "collapsed": false
   },
   "outputs": [
    {
     "data": {
      "text/plain": [
       "#<MySubclass:0x007f9572bb10c0>"
      ]
     },
     "execution_count": 92,
     "metadata": {},
     "output_type": "execute_result"
    }
   ],
   "source": [
    "subby = MySubclass.new"
   ]
  },
  {
   "cell_type": "code",
   "execution_count": 93,
   "metadata": {
    "collapsed": false
   },
   "outputs": [
    {
     "name": "stdout",
     "output_type": "stream",
     "text": [
      "Hello1\n"
     ]
    }
   ],
   "source": [
    "subby.say_hello"
   ]
  },
  {
   "cell_type": "code",
   "execution_count": 94,
   "metadata": {
    "collapsed": false
   },
   "outputs": [
    {
     "name": "stdout",
     "output_type": "stream",
     "text": [
      "Goodbye!\n"
     ]
    }
   ],
   "source": [
    "subby.say_goodbye"
   ]
  },
  {
   "cell_type": "code",
   "execution_count": 95,
   "metadata": {
    "collapsed": false
   },
   "outputs": [
    {
     "data": {
      "text/plain": [
       ":speak"
      ]
     },
     "execution_count": 95,
     "metadata": {},
     "output_type": "execute_result"
    }
   ],
   "source": [
    "class Person\n",
    "  attr_reader :name\n",
    "  def initialize(name)\n",
    "    @name = name\n",
    "  end\n",
    "  def speak\n",
    "    puts 'Hello!'\n",
    "  end\n",
    "end\n",
    "class Pirate < Person\n",
    "  def speak\n",
    "    puts 'Arr!'\n",
    "  end\n",
    "end"
   ]
  },
  {
   "cell_type": "code",
   "execution_count": 96,
   "metadata": {
    "collapsed": false
   },
   "outputs": [
    {
     "data": {
      "text/plain": [
       "#<Pirate:0x007f957188a3e8 @name=\"RubyBeard\">"
      ]
     },
     "execution_count": 96,
     "metadata": {},
     "output_type": "execute_result"
    }
   ],
   "source": [
    "esmerlda = Person.new('Esmeralda')\n",
    "rubybread = Pirate.new('RubyBeard')"
   ]
  },
  {
   "cell_type": "code",
   "execution_count": 98,
   "metadata": {
    "collapsed": false
   },
   "outputs": [
    {
     "data": {
      "text/plain": [
       "\"Esmeralda\""
      ]
     },
     "execution_count": 98,
     "metadata": {},
     "output_type": "execute_result"
    }
   ],
   "source": [
    "esmerlda.name"
   ]
  },
  {
   "cell_type": "code",
   "execution_count": 99,
   "metadata": {
    "collapsed": false
   },
   "outputs": [
    {
     "data": {
      "text/plain": [
       "\"RubyBeard\""
      ]
     },
     "execution_count": 99,
     "metadata": {},
     "output_type": "execute_result"
    }
   ],
   "source": [
    "rubybread.name"
   ]
  },
  {
   "cell_type": "code",
   "execution_count": 100,
   "metadata": {
    "collapsed": false
   },
   "outputs": [
    {
     "name": "stdout",
     "output_type": "stream",
     "text": [
      "Hello!\n"
     ]
    }
   ],
   "source": [
    "esmerlda.speak"
   ]
  },
  {
   "cell_type": "code",
   "execution_count": 101,
   "metadata": {
    "collapsed": false
   },
   "outputs": [
    {
     "name": "stdout",
     "output_type": "stream",
     "text": [
      "Arr!\n"
     ]
    }
   ],
   "source": [
    "rubybread.speak"
   ]
  },
  {
   "cell_type": "code",
   "execution_count": 107,
   "metadata": {
    "collapsed": false
   },
   "outputs": [
    {
     "ename": "TypeError",
     "evalue": "superclass mismatch for class Dog",
     "output_type": "error",
     "traceback": [
      "\u001b[31mTypeError\u001b[0m: superclass mismatch for class Dog",
      "\u001b[37m<main>:in `<main>'\u001b[0m",
      "\u001b[37m/Users/saw/.rvm/rubies/ruby-2.1.0/lib/ruby/gems/2.1.0/gems/iruby-0.2.9/lib/iruby/backend.rb:44:in `eval'\u001b[0m",
      "\u001b[37m/Users/saw/.rvm/rubies/ruby-2.1.0/lib/ruby/gems/2.1.0/gems/iruby-0.2.9/lib/iruby/backend.rb:44:in `eval'\u001b[0m",
      "\u001b[37m/Users/saw/.rvm/rubies/ruby-2.1.0/lib/ruby/gems/2.1.0/gems/iruby-0.2.9/lib/iruby/backend.rb:12:in `eval'\u001b[0m",
      "\u001b[37m/Users/saw/.rvm/rubies/ruby-2.1.0/lib/ruby/gems/2.1.0/gems/iruby-0.2.9/lib/iruby/kernel.rb:87:in `execute_request'\u001b[0m",
      "\u001b[37m/Users/saw/.rvm/rubies/ruby-2.1.0/lib/ruby/gems/2.1.0/gems/iruby-0.2.9/lib/iruby/kernel.rb:47:in `dispatch'\u001b[0m",
      "\u001b[37m/Users/saw/.rvm/rubies/ruby-2.1.0/lib/ruby/gems/2.1.0/gems/iruby-0.2.9/lib/iruby/kernel.rb:37:in `run'\u001b[0m",
      "\u001b[37m/Users/saw/.rvm/rubies/ruby-2.1.0/lib/ruby/gems/2.1.0/gems/iruby-0.2.9/lib/iruby/command.rb:70:in `run_kernel'\u001b[0m",
      "\u001b[37m/Users/saw/.rvm/rubies/ruby-2.1.0/lib/ruby/gems/2.1.0/gems/iruby-0.2.9/lib/iruby/command.rb:34:in `run'\u001b[0m",
      "\u001b[37m/Users/saw/.rvm/gems/ruby-2.1.0@global/gems/iruby-0.2.9/bin/iruby:5:in `<top (required)>'\u001b[0m",
      "\u001b[37m/Users/saw/.rvm/rubies/ruby-2.1.0/bin/iruby:23:in `load'\u001b[0m",
      "\u001b[37m/Users/saw/.rvm/rubies/ruby-2.1.0/bin/iruby:23:in `<main>'\u001b[0m",
      "\u001b[37m/Users/saw/.rvm/gems/ruby-2.1.0@global/bin/ruby_executable_hooks:15:in `eval'\u001b[0m",
      "\u001b[37m/Users/saw/.rvm/gems/ruby-2.1.0@global/bin/ruby_executable_hooks:15:in `<main>'\u001b[0m"
     ]
    }
   ],
   "source": [
    "class Dog < Animal\n",
    "  def initialize(name)\n",
    "    puts 'Just made  a new dog!'\n",
    "    super\n",
    "  end\n",
    "end"
   ]
  },
  {
   "cell_type": "code",
   "execution_count": 104,
   "metadata": {
    "collapsed": false
   },
   "outputs": [
    {
     "ename": "TypeError",
     "evalue": "superclass mismatch for class Dog",
     "output_type": "error",
     "traceback": [
      "\u001b[31mTypeError\u001b[0m: superclass mismatch for class Dog",
      "\u001b[37m<main>:in `<main>'\u001b[0m",
      "\u001b[37m/Users/saw/.rvm/rubies/ruby-2.1.0/lib/ruby/gems/2.1.0/gems/iruby-0.2.9/lib/iruby/backend.rb:44:in `eval'\u001b[0m",
      "\u001b[37m/Users/saw/.rvm/rubies/ruby-2.1.0/lib/ruby/gems/2.1.0/gems/iruby-0.2.9/lib/iruby/backend.rb:44:in `eval'\u001b[0m",
      "\u001b[37m/Users/saw/.rvm/rubies/ruby-2.1.0/lib/ruby/gems/2.1.0/gems/iruby-0.2.9/lib/iruby/backend.rb:12:in `eval'\u001b[0m",
      "\u001b[37m/Users/saw/.rvm/rubies/ruby-2.1.0/lib/ruby/gems/2.1.0/gems/iruby-0.2.9/lib/iruby/kernel.rb:87:in `execute_request'\u001b[0m",
      "\u001b[37m/Users/saw/.rvm/rubies/ruby-2.1.0/lib/ruby/gems/2.1.0/gems/iruby-0.2.9/lib/iruby/kernel.rb:47:in `dispatch'\u001b[0m",
      "\u001b[37m/Users/saw/.rvm/rubies/ruby-2.1.0/lib/ruby/gems/2.1.0/gems/iruby-0.2.9/lib/iruby/kernel.rb:37:in `run'\u001b[0m",
      "\u001b[37m/Users/saw/.rvm/rubies/ruby-2.1.0/lib/ruby/gems/2.1.0/gems/iruby-0.2.9/lib/iruby/command.rb:70:in `run_kernel'\u001b[0m",
      "\u001b[37m/Users/saw/.rvm/rubies/ruby-2.1.0/lib/ruby/gems/2.1.0/gems/iruby-0.2.9/lib/iruby/command.rb:34:in `run'\u001b[0m",
      "\u001b[37m/Users/saw/.rvm/gems/ruby-2.1.0@global/gems/iruby-0.2.9/bin/iruby:5:in `<top (required)>'\u001b[0m",
      "\u001b[37m/Users/saw/.rvm/rubies/ruby-2.1.0/bin/iruby:23:in `load'\u001b[0m",
      "\u001b[37m/Users/saw/.rvm/rubies/ruby-2.1.0/bin/iruby:23:in `<main>'\u001b[0m",
      "\u001b[37m/Users/saw/.rvm/gems/ruby-2.1.0@global/bin/ruby_executable_hooks:15:in `eval'\u001b[0m",
      "\u001b[37m/Users/saw/.rvm/gems/ruby-2.1.0@global/bin/ruby_executable_hooks:15:in `<main>'\u001b[0m"
     ]
    }
   ],
   "source": [
    "class Dog < Animal\n",
    "  attr_accessor :name\n",
    "  def initialize(name)\n",
    "    @name = name\n",
    "end\n",
    "  def bark\n",
    "    puts 'Arf!'\n",
    "end end"
   ]
  },
  {
   "cell_type": "code",
   "execution_count": 106,
   "metadata": {
    "collapsed": false
   },
   "outputs": [
    {
     "data": {
      "text/plain": [
       ":attack"
      ]
     },
     "execution_count": 106,
     "metadata": {},
     "output_type": "execute_result"
    }
   ],
   "source": [
    "class GuardDog < Dog\n",
    "  attr_accessor :strength\n",
    "  def initialize(name, strength)\n",
    "    @strength = strength\n",
    "    super(name)\n",
    "  end\n",
    "  def bark\n",
    "    puts 'Stop, in the name of the law!'\n",
    "  end\n",
    "  def attack\n",
    "    puts \"Did #{rand(strength)} damage!\"\n",
    "  end\n",
    "end"
   ]
  },
  {
   "cell_type": "code",
   "execution_count": 108,
   "metadata": {
    "collapsed": false
   },
   "outputs": [
    {
     "data": {
      "text/plain": [
       "#<GuardDog:0x007f9572b21128 @strength=7, @name=\"Rex\", @legs=4>"
      ]
     },
     "execution_count": 108,
     "metadata": {},
     "output_type": "execute_result"
    }
   ],
   "source": [
    "rex = GuardDog.new('Rex', 7)"
   ]
  },
  {
   "cell_type": "code",
   "execution_count": 109,
   "metadata": {
    "collapsed": false
   },
   "outputs": [
    {
     "data": {
      "text/plain": [
       "7"
      ]
     },
     "execution_count": 109,
     "metadata": {},
     "output_type": "execute_result"
    }
   ],
   "source": [
    "rex.strength"
   ]
  },
  {
   "cell_type": "code",
   "execution_count": 110,
   "metadata": {
    "collapsed": false
   },
   "outputs": [
    {
     "name": "stdout",
     "output_type": "stream",
     "text": [
      "Stop, in the name of the law!\n"
     ]
    }
   ],
   "source": [
    "rex.bark"
   ]
  },
  {
   "cell_type": "code",
   "execution_count": 111,
   "metadata": {
    "collapsed": false
   },
   "outputs": [
    {
     "name": "stdout",
     "output_type": "stream",
     "text": [
      "Did 3 damage!\n"
     ]
    }
   ],
   "source": [
    "rex.attack"
   ]
  },
  {
   "cell_type": "code",
   "execution_count": 112,
   "metadata": {
    "collapsed": false
   },
   "outputs": [
    {
     "name": "stdout",
     "output_type": "stream",
     "text": [
      "Did 6 damage!\n"
     ]
    }
   ],
   "source": [
    "rex.attack"
   ]
  },
  {
   "cell_type": "code",
   "execution_count": 113,
   "metadata": {
    "collapsed": false
   },
   "outputs": [
    {
     "ename": "TypeError",
     "evalue": "superclass mismatch for class Monkey",
     "output_type": "error",
     "traceback": [
      "\u001b[31mTypeError\u001b[0m: superclass mismatch for class Monkey",
      "\u001b[37m<main>:in `<main>'\u001b[0m",
      "\u001b[37m/Users/saw/.rvm/rubies/ruby-2.1.0/lib/ruby/gems/2.1.0/gems/iruby-0.2.9/lib/iruby/backend.rb:44:in `eval'\u001b[0m",
      "\u001b[37m/Users/saw/.rvm/rubies/ruby-2.1.0/lib/ruby/gems/2.1.0/gems/iruby-0.2.9/lib/iruby/backend.rb:44:in `eval'\u001b[0m",
      "\u001b[37m/Users/saw/.rvm/rubies/ruby-2.1.0/lib/ruby/gems/2.1.0/gems/iruby-0.2.9/lib/iruby/backend.rb:12:in `eval'\u001b[0m",
      "\u001b[37m/Users/saw/.rvm/rubies/ruby-2.1.0/lib/ruby/gems/2.1.0/gems/iruby-0.2.9/lib/iruby/kernel.rb:87:in `execute_request'\u001b[0m",
      "\u001b[37m/Users/saw/.rvm/rubies/ruby-2.1.0/lib/ruby/gems/2.1.0/gems/iruby-0.2.9/lib/iruby/kernel.rb:47:in `dispatch'\u001b[0m",
      "\u001b[37m/Users/saw/.rvm/rubies/ruby-2.1.0/lib/ruby/gems/2.1.0/gems/iruby-0.2.9/lib/iruby/kernel.rb:37:in `run'\u001b[0m",
      "\u001b[37m/Users/saw/.rvm/rubies/ruby-2.1.0/lib/ruby/gems/2.1.0/gems/iruby-0.2.9/lib/iruby/command.rb:70:in `run_kernel'\u001b[0m",
      "\u001b[37m/Users/saw/.rvm/rubies/ruby-2.1.0/lib/ruby/gems/2.1.0/gems/iruby-0.2.9/lib/iruby/command.rb:34:in `run'\u001b[0m",
      "\u001b[37m/Users/saw/.rvm/gems/ruby-2.1.0@global/gems/iruby-0.2.9/bin/iruby:5:in `<top (required)>'\u001b[0m",
      "\u001b[37m/Users/saw/.rvm/rubies/ruby-2.1.0/bin/iruby:23:in `load'\u001b[0m",
      "\u001b[37m/Users/saw/.rvm/rubies/ruby-2.1.0/bin/iruby:23:in `<main>'\u001b[0m",
      "\u001b[37m/Users/saw/.rvm/gems/ruby-2.1.0@global/bin/ruby_executable_hooks:15:in `eval'\u001b[0m",
      "\u001b[37m/Users/saw/.rvm/gems/ruby-2.1.0@global/bin/ruby_executable_hooks:15:in `<main>'\u001b[0m"
     ]
    }
   ],
   "source": [
    "class Monkey < Animal\n",
    "  attr_reader :name, :arms\n",
    "  def initialize(name, arms = 2)\n",
    "    @name = name\n",
    "    @arms = arms\n",
    "  end\n",
    "  def make_sounds\n",
    "    puts \"Eeh ooh ooh!\"\n",
    "  end \n",
    "end"
   ]
  },
  {
   "cell_type": "code",
   "execution_count": 114,
   "metadata": {
    "collapsed": false
   },
   "outputs": [
    {
     "data": {
      "text/plain": [
       ":throw_coconuts"
      ]
     },
     "execution_count": 114,
     "metadata": {},
     "output_type": "execute_result"
    }
   ],
   "source": [
    "class FlyingMonkey < Monkey\n",
    "  attr_reader :wings\n",
    "  def initialize(name, wings, arms = 2)\n",
    "    @wings = wings\n",
    "    super(name, arms)\n",
    "  end\n",
    "  def throw_coconuts\n",
    "    coconuts =rand(arms)\n",
    "    damage = coconuts * wings\n",
    "    puts \"Threw #{coconuts} coconuts! It did #{damge} damage.\"\n",
    "  end\n",
    "end"
   ]
  },
  {
   "cell_type": "code",
   "execution_count": 117,
   "metadata": {
    "collapsed": false
   },
   "outputs": [
    {
     "ename": "ArgumentError",
     "evalue": "wrong number of arguments (2 for 1)",
     "output_type": "error",
     "traceback": [
      "\u001b[31mArgumentError\u001b[0m: wrong number of arguments (2 for 1)",
      "\u001b[37m<main>:2:in `initialize'\u001b[0m",
      "\u001b[37m<main>:4:in `initialize'\u001b[0m",
      "\u001b[37m<main>:in `new'\u001b[0m",
      "\u001b[37m<main>:in `<main>'\u001b[0m",
      "\u001b[37m/Users/saw/.rvm/rubies/ruby-2.1.0/lib/ruby/gems/2.1.0/gems/iruby-0.2.9/lib/iruby/backend.rb:44:in `eval'\u001b[0m",
      "\u001b[37m/Users/saw/.rvm/rubies/ruby-2.1.0/lib/ruby/gems/2.1.0/gems/iruby-0.2.9/lib/iruby/backend.rb:44:in `eval'\u001b[0m",
      "\u001b[37m/Users/saw/.rvm/rubies/ruby-2.1.0/lib/ruby/gems/2.1.0/gems/iruby-0.2.9/lib/iruby/backend.rb:12:in `eval'\u001b[0m",
      "\u001b[37m/Users/saw/.rvm/rubies/ruby-2.1.0/lib/ruby/gems/2.1.0/gems/iruby-0.2.9/lib/iruby/kernel.rb:87:in `execute_request'\u001b[0m",
      "\u001b[37m/Users/saw/.rvm/rubies/ruby-2.1.0/lib/ruby/gems/2.1.0/gems/iruby-0.2.9/lib/iruby/kernel.rb:47:in `dispatch'\u001b[0m",
      "\u001b[37m/Users/saw/.rvm/rubies/ruby-2.1.0/lib/ruby/gems/2.1.0/gems/iruby-0.2.9/lib/iruby/kernel.rb:37:in `run'\u001b[0m",
      "\u001b[37m/Users/saw/.rvm/rubies/ruby-2.1.0/lib/ruby/gems/2.1.0/gems/iruby-0.2.9/lib/iruby/command.rb:70:in `run_kernel'\u001b[0m",
      "\u001b[37m/Users/saw/.rvm/rubies/ruby-2.1.0/lib/ruby/gems/2.1.0/gems/iruby-0.2.9/lib/iruby/command.rb:34:in `run'\u001b[0m",
      "\u001b[37m/Users/saw/.rvm/gems/ruby-2.1.0@global/gems/iruby-0.2.9/bin/iruby:5:in `<top (required)>'\u001b[0m",
      "\u001b[37m/Users/saw/.rvm/rubies/ruby-2.1.0/bin/iruby:23:in `load'\u001b[0m",
      "\u001b[37m/Users/saw/.rvm/rubies/ruby-2.1.0/bin/iruby:23:in `<main>'\u001b[0m",
      "\u001b[37m/Users/saw/.rvm/gems/ruby-2.1.0@global/bin/ruby_executable_hooks:15:in `eval'\u001b[0m",
      "\u001b[37m/Users/saw/.rvm/gems/ruby-2.1.0@global/bin/ruby_executable_hooks:15:in `<main>'\u001b[0m"
     ]
    }
   ],
   "source": [
    "oswald = FlyingMonkey.new('Oswald', 6, 4)"
   ]
  },
  {
   "cell_type": "markdown",
   "metadata": {},
   "source": [
    "## Ruby Wizardry (page 223 of 353)"
   ]
  },
  {
   "cell_type": "code",
   "execution_count": null,
   "metadata": {
    "collapsed": true
   },
   "outputs": [],
   "source": []
  }
 ],
 "metadata": {
  "kernelspec": {
   "display_name": "Ruby 2.1.0",
   "language": "ruby",
   "name": "ruby"
  },
  "language_info": {
   "file_extension": ".rb",
   "mimetype": "application/x-ruby",
   "name": "ruby",
   "version": "2.1.0"
  }
 },
 "nbformat": 4,
 "nbformat_minor": 0
}
